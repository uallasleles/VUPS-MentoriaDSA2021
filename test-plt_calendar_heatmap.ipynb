{
 "cells": [
  {
   "cell_type": "code",
   "execution_count": 50,
   "source": [
    "from lib import vups"
   ],
   "outputs": [],
   "metadata": {}
  },
  {
   "cell_type": "code",
   "execution_count": 52,
   "source": [
    "import pandas as pd"
   ],
   "outputs": [],
   "metadata": {}
  },
  {
   "cell_type": "code",
   "execution_count": 53,
   "source": [
    "cidade='VITORIA'\r\n",
    "tipo= 'NOVOS CASOS'\r\n",
    "mes_analise= 1\r\n",
    "ano_analise= 2021"
   ],
   "outputs": [],
   "metadata": {}
  },
  {
   "cell_type": "code",
   "execution_count": 54,
   "source": [
    "# --------- BUSCANDO DF ---------\r\n",
    "df = vups.datasets.microdados(nrows=100000)"
   ],
   "outputs": [],
   "metadata": {}
  },
  {
   "cell_type": "code",
   "execution_count": 55,
   "source": [
    "\r\n",
    "# --------- FILTRANDO DF PARA CIDADES DO ES ---------\r\n",
    "filtro_es = ['AGUIA BRANCA', 'ALTO RIO NOVO', 'ARACRUZ', 'BAIXO GUANDU',\r\n",
    "    'COLATINA', 'GOVERNADOR LINDENBERG', 'IBIRACU', 'JOAO NEIVA',\r\n",
    "    'LINHARES', 'MANTENOPOLIS', 'MARILANDIA', 'PANCAS', 'RIO BANANAL',\r\n",
    "    'SAO DOMINGOS DO NORTE', 'SAO GABRIEL DA PALHA',\r\n",
    "    'SAO ROQUE DO CANAA', 'SOORETAMA', 'VILA VALERIO',\r\n",
    "    'AFONSO CLAUDIO', 'BREJETUBA', 'CARIACICA', 'CONCEICAO DO CASTELO',\r\n",
    "    'DOMINGOS MARTINS', 'FUNDAO', 'GUARAPARI', 'IBATIBA', 'ITAGUACU',\r\n",
    "    'ITARANA', 'LARANJA DA TERRA', 'MARECHAL FLORIANO',\r\n",
    "    'SANTA LEOPOLDINA', 'SANTA MARIA DE JETIBA', 'SANTA TERESA',\r\n",
    "    'SERRA', 'VENDA NOVA DO IMIGRANTE', 'VIANA', 'VILA VELHA',\r\n",
    "    'VITORIA', 'AGUA DOCE DO NORTE', 'BARRA DE SAO FRANCISCO',\r\n",
    "    'BOA ESPERANCA', 'CONCEICAO DA BARRA', 'ECOPORANGA', 'JAGUARE',\r\n",
    "    'MONTANHA', 'MUCURICI', 'NOVA VENECIA', 'PEDRO CANARIO',\r\n",
    "    'PINHEIROS', 'PONTO BELO', 'SAO MATEUS', 'VILA PAVAO', 'ALEGRE',\r\n",
    "    'ALFREDO CHAVES', 'ANCHIETA', 'APIACA', 'ATILIO VIVACQUA',\r\n",
    "    'BOM JESUS DO NORTE', 'CACHOEIRO DE ITAPEMIRIM', 'CASTELO',\r\n",
    "    'DIVINO DE SAO LOURENCO', 'DORES DO RIO PRETO', 'GUACUI',\r\n",
    "    'IBITIRAMA', 'ICONHA', 'IRUPI', 'ITAPEMIRIM', 'IUNA',\r\n",
    "    'JERONIMO MONTEIRO', 'MARATAIZES', 'MIMOSO DO SUL', 'MUNIZ FREIRE',\r\n",
    "    'MUQUI', 'PIUMA', 'PRESIDENTE KENNEDY', 'RIO NOVO DO SUL',\r\n",
    "    'SAO JOSE DO CALCADO', 'VARGEM ALTA']\r\n",
    "df = df[df.Municipio.isin(filtro_es)]"
   ],
   "outputs": [],
   "metadata": {}
  },
  {
   "cell_type": "code",
   "execution_count": 56,
   "source": [
    "\r\n",
    "# --------- CRIANDO DF_CALENDAR_NEW (CASOS NOVOS) E DF_CALENDAR_CLOSED (CASOS FECHADOS) ---------\r\n",
    "#df_calendar_new -> filtrar pacientes com covid confirmados; groupby(Municipio, DataDiagnostico); contar ocorrencias\r\n",
    "\r\n",
    "df_calendar_new = df[df['Classificacao']=='Confirmados'].groupby(['Municipio','DataDiagnostico'])['DataCadastro'].size().reset_index(name='count_new')\r\n",
    "df_calendar_new.head()"
   ],
   "outputs": [
    {
     "output_type": "execute_result",
     "data": {
      "text/plain": [
       "         Municipio DataDiagnostico  count_new\n",
       "0  ABADIA DE GOIAS      2019-12-25          0\n",
       "1  ABADIA DE GOIAS      2020-05-21          0\n",
       "2  ABADIA DE GOIAS      2020-06-05          0\n",
       "3  ABADIA DE GOIAS      2020-06-24          0\n",
       "4  ABADIA DE GOIAS      2020-06-26          0"
      ],
      "text/html": [
       "<div>\n",
       "<style scoped>\n",
       "    .dataframe tbody tr th:only-of-type {\n",
       "        vertical-align: middle;\n",
       "    }\n",
       "\n",
       "    .dataframe tbody tr th {\n",
       "        vertical-align: top;\n",
       "    }\n",
       "\n",
       "    .dataframe thead th {\n",
       "        text-align: right;\n",
       "    }\n",
       "</style>\n",
       "<table border=\"1\" class=\"dataframe\">\n",
       "  <thead>\n",
       "    <tr style=\"text-align: right;\">\n",
       "      <th></th>\n",
       "      <th>Municipio</th>\n",
       "      <th>DataDiagnostico</th>\n",
       "      <th>count_new</th>\n",
       "    </tr>\n",
       "  </thead>\n",
       "  <tbody>\n",
       "    <tr>\n",
       "      <th>0</th>\n",
       "      <td>ABADIA DE GOIAS</td>\n",
       "      <td>2019-12-25</td>\n",
       "      <td>0</td>\n",
       "    </tr>\n",
       "    <tr>\n",
       "      <th>1</th>\n",
       "      <td>ABADIA DE GOIAS</td>\n",
       "      <td>2020-05-21</td>\n",
       "      <td>0</td>\n",
       "    </tr>\n",
       "    <tr>\n",
       "      <th>2</th>\n",
       "      <td>ABADIA DE GOIAS</td>\n",
       "      <td>2020-06-05</td>\n",
       "      <td>0</td>\n",
       "    </tr>\n",
       "    <tr>\n",
       "      <th>3</th>\n",
       "      <td>ABADIA DE GOIAS</td>\n",
       "      <td>2020-06-24</td>\n",
       "      <td>0</td>\n",
       "    </tr>\n",
       "    <tr>\n",
       "      <th>4</th>\n",
       "      <td>ABADIA DE GOIAS</td>\n",
       "      <td>2020-06-26</td>\n",
       "      <td>0</td>\n",
       "    </tr>\n",
       "  </tbody>\n",
       "</table>\n",
       "</div>"
      ]
     },
     "metadata": {},
     "execution_count": 56
    }
   ],
   "metadata": {}
  },
  {
   "cell_type": "code",
   "execution_count": 57,
   "source": [
    "#renomeando coluna DataDiagnostico\r\n",
    "df_calendar_new.rename(columns={'DataDiagnostico': 'date'}, inplace=True)\r\n",
    "df_calendar_new.head()"
   ],
   "outputs": [
    {
     "output_type": "execute_result",
     "data": {
      "text/plain": [
       "         Municipio       date  count_new\n",
       "0  ABADIA DE GOIAS 2019-12-25          0\n",
       "1  ABADIA DE GOIAS 2020-05-21          0\n",
       "2  ABADIA DE GOIAS 2020-06-05          0\n",
       "3  ABADIA DE GOIAS 2020-06-24          0\n",
       "4  ABADIA DE GOIAS 2020-06-26          0"
      ],
      "text/html": [
       "<div>\n",
       "<style scoped>\n",
       "    .dataframe tbody tr th:only-of-type {\n",
       "        vertical-align: middle;\n",
       "    }\n",
       "\n",
       "    .dataframe tbody tr th {\n",
       "        vertical-align: top;\n",
       "    }\n",
       "\n",
       "    .dataframe thead th {\n",
       "        text-align: right;\n",
       "    }\n",
       "</style>\n",
       "<table border=\"1\" class=\"dataframe\">\n",
       "  <thead>\n",
       "    <tr style=\"text-align: right;\">\n",
       "      <th></th>\n",
       "      <th>Municipio</th>\n",
       "      <th>date</th>\n",
       "      <th>count_new</th>\n",
       "    </tr>\n",
       "  </thead>\n",
       "  <tbody>\n",
       "    <tr>\n",
       "      <th>0</th>\n",
       "      <td>ABADIA DE GOIAS</td>\n",
       "      <td>2019-12-25</td>\n",
       "      <td>0</td>\n",
       "    </tr>\n",
       "    <tr>\n",
       "      <th>1</th>\n",
       "      <td>ABADIA DE GOIAS</td>\n",
       "      <td>2020-05-21</td>\n",
       "      <td>0</td>\n",
       "    </tr>\n",
       "    <tr>\n",
       "      <th>2</th>\n",
       "      <td>ABADIA DE GOIAS</td>\n",
       "      <td>2020-06-05</td>\n",
       "      <td>0</td>\n",
       "    </tr>\n",
       "    <tr>\n",
       "      <th>3</th>\n",
       "      <td>ABADIA DE GOIAS</td>\n",
       "      <td>2020-06-24</td>\n",
       "      <td>0</td>\n",
       "    </tr>\n",
       "    <tr>\n",
       "      <th>4</th>\n",
       "      <td>ABADIA DE GOIAS</td>\n",
       "      <td>2020-06-26</td>\n",
       "      <td>0</td>\n",
       "    </tr>\n",
       "  </tbody>\n",
       "</table>\n",
       "</div>"
      ]
     },
     "metadata": {},
     "execution_count": 57
    }
   ],
   "metadata": {}
  },
  {
   "cell_type": "code",
   "execution_count": 58,
   "source": [
    "#df_calendar_closed -> filtrar pacientes com covid confirmados; groupby(Municipio, DataEncerramento); contar ocorrencias\r\n",
    "df_calendar_closed = df[df['Classificacao']=='Confirmados'].groupby(['Municipio','DataEncerramento'])['DataCadastro'].size().reset_index(name='count_closed')\r\n",
    "df_calendar_closed.head()"
   ],
   "outputs": [
    {
     "output_type": "execute_result",
     "data": {
      "text/plain": [
       "         Municipio DataEncerramento  count_closed\n",
       "0  ABADIA DE GOIAS       0202-11-23             0\n",
       "1  ABADIA DE GOIAS       2020-06-08             0\n",
       "2  ABADIA DE GOIAS       2020-06-15             0\n",
       "3  ABADIA DE GOIAS       2020-06-22             0\n",
       "4  ABADIA DE GOIAS       2020-07-02             0"
      ],
      "text/html": [
       "<div>\n",
       "<style scoped>\n",
       "    .dataframe tbody tr th:only-of-type {\n",
       "        vertical-align: middle;\n",
       "    }\n",
       "\n",
       "    .dataframe tbody tr th {\n",
       "        vertical-align: top;\n",
       "    }\n",
       "\n",
       "    .dataframe thead th {\n",
       "        text-align: right;\n",
       "    }\n",
       "</style>\n",
       "<table border=\"1\" class=\"dataframe\">\n",
       "  <thead>\n",
       "    <tr style=\"text-align: right;\">\n",
       "      <th></th>\n",
       "      <th>Municipio</th>\n",
       "      <th>DataEncerramento</th>\n",
       "      <th>count_closed</th>\n",
       "    </tr>\n",
       "  </thead>\n",
       "  <tbody>\n",
       "    <tr>\n",
       "      <th>0</th>\n",
       "      <td>ABADIA DE GOIAS</td>\n",
       "      <td>0202-11-23</td>\n",
       "      <td>0</td>\n",
       "    </tr>\n",
       "    <tr>\n",
       "      <th>1</th>\n",
       "      <td>ABADIA DE GOIAS</td>\n",
       "      <td>2020-06-08</td>\n",
       "      <td>0</td>\n",
       "    </tr>\n",
       "    <tr>\n",
       "      <th>2</th>\n",
       "      <td>ABADIA DE GOIAS</td>\n",
       "      <td>2020-06-15</td>\n",
       "      <td>0</td>\n",
       "    </tr>\n",
       "    <tr>\n",
       "      <th>3</th>\n",
       "      <td>ABADIA DE GOIAS</td>\n",
       "      <td>2020-06-22</td>\n",
       "      <td>0</td>\n",
       "    </tr>\n",
       "    <tr>\n",
       "      <th>4</th>\n",
       "      <td>ABADIA DE GOIAS</td>\n",
       "      <td>2020-07-02</td>\n",
       "      <td>0</td>\n",
       "    </tr>\n",
       "  </tbody>\n",
       "</table>\n",
       "</div>"
      ]
     },
     "metadata": {},
     "execution_count": 58
    }
   ],
   "metadata": {}
  },
  {
   "cell_type": "code",
   "execution_count": 59,
   "source": [
    "\r\n",
    "#--- ATENCAO!!! --- DataEncerramento NAO esta sendo transformada automaticamente, por isso vamos forçar essa transformação aqui\r\n",
    "#após corrigido, retirar esse pedaço de código\r\n",
    "#transformando DataEncerramento em datatype\r\n",
    "#df_calendar_closed['DataEncerramento'] = pd.to_datetime(df_calendar_closed['DataEncerramento'], format='%Y-%m-%d')\r\n"
   ],
   "outputs": [],
   "metadata": {}
  },
  {
   "cell_type": "code",
   "execution_count": 60,
   "source": [
    "#transformando valores de casos fechados em negativo\r\n",
    "df_calendar_closed['count_closed'] = df_calendar_closed['count_closed']*-1\r\n"
   ],
   "outputs": [],
   "metadata": {}
  },
  {
   "cell_type": "code",
   "execution_count": 61,
   "source": [
    "df_calendar_closed.head()"
   ],
   "outputs": [
    {
     "output_type": "execute_result",
     "data": {
      "text/plain": [
       "         Municipio DataEncerramento  count_closed\n",
       "0  ABADIA DE GOIAS       0202-11-23             0\n",
       "1  ABADIA DE GOIAS       2020-06-08             0\n",
       "2  ABADIA DE GOIAS       2020-06-15             0\n",
       "3  ABADIA DE GOIAS       2020-06-22             0\n",
       "4  ABADIA DE GOIAS       2020-07-02             0"
      ],
      "text/html": [
       "<div>\n",
       "<style scoped>\n",
       "    .dataframe tbody tr th:only-of-type {\n",
       "        vertical-align: middle;\n",
       "    }\n",
       "\n",
       "    .dataframe tbody tr th {\n",
       "        vertical-align: top;\n",
       "    }\n",
       "\n",
       "    .dataframe thead th {\n",
       "        text-align: right;\n",
       "    }\n",
       "</style>\n",
       "<table border=\"1\" class=\"dataframe\">\n",
       "  <thead>\n",
       "    <tr style=\"text-align: right;\">\n",
       "      <th></th>\n",
       "      <th>Municipio</th>\n",
       "      <th>DataEncerramento</th>\n",
       "      <th>count_closed</th>\n",
       "    </tr>\n",
       "  </thead>\n",
       "  <tbody>\n",
       "    <tr>\n",
       "      <th>0</th>\n",
       "      <td>ABADIA DE GOIAS</td>\n",
       "      <td>0202-11-23</td>\n",
       "      <td>0</td>\n",
       "    </tr>\n",
       "    <tr>\n",
       "      <th>1</th>\n",
       "      <td>ABADIA DE GOIAS</td>\n",
       "      <td>2020-06-08</td>\n",
       "      <td>0</td>\n",
       "    </tr>\n",
       "    <tr>\n",
       "      <th>2</th>\n",
       "      <td>ABADIA DE GOIAS</td>\n",
       "      <td>2020-06-15</td>\n",
       "      <td>0</td>\n",
       "    </tr>\n",
       "    <tr>\n",
       "      <th>3</th>\n",
       "      <td>ABADIA DE GOIAS</td>\n",
       "      <td>2020-06-22</td>\n",
       "      <td>0</td>\n",
       "    </tr>\n",
       "    <tr>\n",
       "      <th>4</th>\n",
       "      <td>ABADIA DE GOIAS</td>\n",
       "      <td>2020-07-02</td>\n",
       "      <td>0</td>\n",
       "    </tr>\n",
       "  </tbody>\n",
       "</table>\n",
       "</div>"
      ]
     },
     "metadata": {},
     "execution_count": 61
    }
   ],
   "metadata": {}
  },
  {
   "cell_type": "code",
   "execution_count": 62,
   "source": [
    "#renomendo coluna DataEncerramento\r\n",
    "df_calendar_closed.rename(columns={'DataEncerramento': 'date'}, inplace=True)\r\n"
   ],
   "outputs": [],
   "metadata": {}
  },
  {
   "cell_type": "code",
   "execution_count": 63,
   "source": [
    "df_calendar_closed.head()"
   ],
   "outputs": [
    {
     "output_type": "execute_result",
     "data": {
      "text/plain": [
       "         Municipio        date  count_closed\n",
       "0  ABADIA DE GOIAS  0202-11-23             0\n",
       "1  ABADIA DE GOIAS  2020-06-08             0\n",
       "2  ABADIA DE GOIAS  2020-06-15             0\n",
       "3  ABADIA DE GOIAS  2020-06-22             0\n",
       "4  ABADIA DE GOIAS  2020-07-02             0"
      ],
      "text/html": [
       "<div>\n",
       "<style scoped>\n",
       "    .dataframe tbody tr th:only-of-type {\n",
       "        vertical-align: middle;\n",
       "    }\n",
       "\n",
       "    .dataframe tbody tr th {\n",
       "        vertical-align: top;\n",
       "    }\n",
       "\n",
       "    .dataframe thead th {\n",
       "        text-align: right;\n",
       "    }\n",
       "</style>\n",
       "<table border=\"1\" class=\"dataframe\">\n",
       "  <thead>\n",
       "    <tr style=\"text-align: right;\">\n",
       "      <th></th>\n",
       "      <th>Municipio</th>\n",
       "      <th>date</th>\n",
       "      <th>count_closed</th>\n",
       "    </tr>\n",
       "  </thead>\n",
       "  <tbody>\n",
       "    <tr>\n",
       "      <th>0</th>\n",
       "      <td>ABADIA DE GOIAS</td>\n",
       "      <td>0202-11-23</td>\n",
       "      <td>0</td>\n",
       "    </tr>\n",
       "    <tr>\n",
       "      <th>1</th>\n",
       "      <td>ABADIA DE GOIAS</td>\n",
       "      <td>2020-06-08</td>\n",
       "      <td>0</td>\n",
       "    </tr>\n",
       "    <tr>\n",
       "      <th>2</th>\n",
       "      <td>ABADIA DE GOIAS</td>\n",
       "      <td>2020-06-15</td>\n",
       "      <td>0</td>\n",
       "    </tr>\n",
       "    <tr>\n",
       "      <th>3</th>\n",
       "      <td>ABADIA DE GOIAS</td>\n",
       "      <td>2020-06-22</td>\n",
       "      <td>0</td>\n",
       "    </tr>\n",
       "    <tr>\n",
       "      <th>4</th>\n",
       "      <td>ABADIA DE GOIAS</td>\n",
       "      <td>2020-07-02</td>\n",
       "      <td>0</td>\n",
       "    </tr>\n",
       "  </tbody>\n",
       "</table>\n",
       "</div>"
      ]
     },
     "metadata": {},
     "execution_count": 63
    }
   ],
   "metadata": {}
  },
  {
   "cell_type": "code",
   "execution_count": 64,
   "source": [
    "df_calendar_new.info()"
   ],
   "outputs": [
    {
     "output_type": "stream",
     "name": "stdout",
     "text": [
      "<class 'pandas.core.frame.DataFrame'>\n",
      "RangeIndex: 64014 entries, 0 to 64013\n",
      "Data columns (total 3 columns):\n",
      " #   Column     Non-Null Count  Dtype         \n",
      "---  ------     --------------  -----         \n",
      " 0   Municipio  64014 non-null  category      \n",
      " 1   date       64014 non-null  datetime64[ns]\n",
      " 2   count_new  64014 non-null  int64         \n",
      "dtypes: category(1), datetime64[ns](1), int64(1)\n",
      "memory usage: 1.1 MB\n"
     ]
    }
   ],
   "metadata": {}
  },
  {
   "cell_type": "code",
   "execution_count": 65,
   "source": [
    "df_calendar_closed.info()"
   ],
   "outputs": [
    {
     "output_type": "stream",
     "name": "stdout",
     "text": [
      "<class 'pandas.core.frame.DataFrame'>\n",
      "RangeIndex: 67192 entries, 0 to 67191\n",
      "Data columns (total 3 columns):\n",
      " #   Column        Non-Null Count  Dtype   \n",
      "---  ------        --------------  -----   \n",
      " 0   Municipio     67192 non-null  category\n",
      " 1   date          67192 non-null  category\n",
      " 2   count_closed  67192 non-null  int64   \n",
      "dtypes: category(2), int64(1)\n",
      "memory usage: 812.5 KB\n"
     ]
    }
   ],
   "metadata": {}
  },
  {
   "cell_type": "code",
   "execution_count": 66,
   "source": [
    "df_calendar_closed['date'] = df_calendar_closed['date'].astype('datetime64[ns]')"
   ],
   "outputs": [],
   "metadata": {}
  },
  {
   "cell_type": "code",
   "execution_count": 67,
   "source": [
    "# --------- MERGE ENTRE OS DOIS DFs CRIADOS ---------\r\n",
    "df_calendar = pd.merge(\r\n",
    "    df_calendar_new, \r\n",
    "    df_calendar_closed, \r\n",
    "    how ='outer', \r\n",
    "    left_on  = ['Municipio', 'date'], \r\n",
    "    right_on = ['Municipio', 'date'])"
   ],
   "outputs": [],
   "metadata": {}
  },
  {
   "cell_type": "code",
   "execution_count": 68,
   "source": [
    "\r\n",
    "# --------- TRABLHANDO O NOVO DF ---------\r\n",
    "#organizando por cidade/data\r\n",
    "df_calendar = df_calendar.sort_values([\"Municipio\", \"date\"]).reset_index()"
   ],
   "outputs": [],
   "metadata": {}
  },
  {
   "cell_type": "code",
   "execution_count": 69,
   "source": [
    "df_calendar.head()"
   ],
   "outputs": [
    {
     "output_type": "execute_result",
     "data": {
      "text/plain": [
       "   index        Municipio                          date  count_new  \\\n",
       "0  64014  ABADIA DE GOIAS 1956-07-21 22:43:41.128654848        NaN   \n",
       "1      0  ABADIA DE GOIAS 2019-12-25 00:00:00.000000000       0.00   \n",
       "2      1  ABADIA DE GOIAS 2020-05-21 00:00:00.000000000       0.00   \n",
       "3      2  ABADIA DE GOIAS 2020-06-05 00:00:00.000000000       0.00   \n",
       "4  64015  ABADIA DE GOIAS 2020-06-08 00:00:00.000000000        NaN   \n",
       "\n",
       "   count_closed  \n",
       "0          0.00  \n",
       "1           NaN  \n",
       "2           NaN  \n",
       "3           NaN  \n",
       "4          0.00  "
      ],
      "text/html": [
       "<div>\n",
       "<style scoped>\n",
       "    .dataframe tbody tr th:only-of-type {\n",
       "        vertical-align: middle;\n",
       "    }\n",
       "\n",
       "    .dataframe tbody tr th {\n",
       "        vertical-align: top;\n",
       "    }\n",
       "\n",
       "    .dataframe thead th {\n",
       "        text-align: right;\n",
       "    }\n",
       "</style>\n",
       "<table border=\"1\" class=\"dataframe\">\n",
       "  <thead>\n",
       "    <tr style=\"text-align: right;\">\n",
       "      <th></th>\n",
       "      <th>index</th>\n",
       "      <th>Municipio</th>\n",
       "      <th>date</th>\n",
       "      <th>count_new</th>\n",
       "      <th>count_closed</th>\n",
       "    </tr>\n",
       "  </thead>\n",
       "  <tbody>\n",
       "    <tr>\n",
       "      <th>0</th>\n",
       "      <td>64014</td>\n",
       "      <td>ABADIA DE GOIAS</td>\n",
       "      <td>1956-07-21 22:43:41.128654848</td>\n",
       "      <td>NaN</td>\n",
       "      <td>0.00</td>\n",
       "    </tr>\n",
       "    <tr>\n",
       "      <th>1</th>\n",
       "      <td>0</td>\n",
       "      <td>ABADIA DE GOIAS</td>\n",
       "      <td>2019-12-25 00:00:00.000000000</td>\n",
       "      <td>0.00</td>\n",
       "      <td>NaN</td>\n",
       "    </tr>\n",
       "    <tr>\n",
       "      <th>2</th>\n",
       "      <td>1</td>\n",
       "      <td>ABADIA DE GOIAS</td>\n",
       "      <td>2020-05-21 00:00:00.000000000</td>\n",
       "      <td>0.00</td>\n",
       "      <td>NaN</td>\n",
       "    </tr>\n",
       "    <tr>\n",
       "      <th>3</th>\n",
       "      <td>2</td>\n",
       "      <td>ABADIA DE GOIAS</td>\n",
       "      <td>2020-06-05 00:00:00.000000000</td>\n",
       "      <td>0.00</td>\n",
       "      <td>NaN</td>\n",
       "    </tr>\n",
       "    <tr>\n",
       "      <th>4</th>\n",
       "      <td>64015</td>\n",
       "      <td>ABADIA DE GOIAS</td>\n",
       "      <td>2020-06-08 00:00:00.000000000</td>\n",
       "      <td>NaN</td>\n",
       "      <td>0.00</td>\n",
       "    </tr>\n",
       "  </tbody>\n",
       "</table>\n",
       "</div>"
      ]
     },
     "metadata": {},
     "execution_count": 69
    }
   ],
   "metadata": {}
  },
  {
   "cell_type": "code",
   "execution_count": 70,
   "source": [
    "#preenchendo Nan com zero(0)\r\n",
    "for i in ['count_new', 'count_closed']:\r\n",
    "    df_calendar[i] = df_calendar[i].fillna(0)"
   ],
   "outputs": [],
   "metadata": {}
  },
  {
   "cell_type": "code",
   "execution_count": 71,
   "source": [
    "df_calendar.head()"
   ],
   "outputs": [
    {
     "output_type": "execute_result",
     "data": {
      "text/plain": [
       "   index        Municipio                          date  count_new  \\\n",
       "0  64014  ABADIA DE GOIAS 1956-07-21 22:43:41.128654848       0.00   \n",
       "1      0  ABADIA DE GOIAS 2019-12-25 00:00:00.000000000       0.00   \n",
       "2      1  ABADIA DE GOIAS 2020-05-21 00:00:00.000000000       0.00   \n",
       "3      2  ABADIA DE GOIAS 2020-06-05 00:00:00.000000000       0.00   \n",
       "4  64015  ABADIA DE GOIAS 2020-06-08 00:00:00.000000000       0.00   \n",
       "\n",
       "   count_closed  \n",
       "0          0.00  \n",
       "1          0.00  \n",
       "2          0.00  \n",
       "3          0.00  \n",
       "4          0.00  "
      ],
      "text/html": [
       "<div>\n",
       "<style scoped>\n",
       "    .dataframe tbody tr th:only-of-type {\n",
       "        vertical-align: middle;\n",
       "    }\n",
       "\n",
       "    .dataframe tbody tr th {\n",
       "        vertical-align: top;\n",
       "    }\n",
       "\n",
       "    .dataframe thead th {\n",
       "        text-align: right;\n",
       "    }\n",
       "</style>\n",
       "<table border=\"1\" class=\"dataframe\">\n",
       "  <thead>\n",
       "    <tr style=\"text-align: right;\">\n",
       "      <th></th>\n",
       "      <th>index</th>\n",
       "      <th>Municipio</th>\n",
       "      <th>date</th>\n",
       "      <th>count_new</th>\n",
       "      <th>count_closed</th>\n",
       "    </tr>\n",
       "  </thead>\n",
       "  <tbody>\n",
       "    <tr>\n",
       "      <th>0</th>\n",
       "      <td>64014</td>\n",
       "      <td>ABADIA DE GOIAS</td>\n",
       "      <td>1956-07-21 22:43:41.128654848</td>\n",
       "      <td>0.00</td>\n",
       "      <td>0.00</td>\n",
       "    </tr>\n",
       "    <tr>\n",
       "      <th>1</th>\n",
       "      <td>0</td>\n",
       "      <td>ABADIA DE GOIAS</td>\n",
       "      <td>2019-12-25 00:00:00.000000000</td>\n",
       "      <td>0.00</td>\n",
       "      <td>0.00</td>\n",
       "    </tr>\n",
       "    <tr>\n",
       "      <th>2</th>\n",
       "      <td>1</td>\n",
       "      <td>ABADIA DE GOIAS</td>\n",
       "      <td>2020-05-21 00:00:00.000000000</td>\n",
       "      <td>0.00</td>\n",
       "      <td>0.00</td>\n",
       "    </tr>\n",
       "    <tr>\n",
       "      <th>3</th>\n",
       "      <td>2</td>\n",
       "      <td>ABADIA DE GOIAS</td>\n",
       "      <td>2020-06-05 00:00:00.000000000</td>\n",
       "      <td>0.00</td>\n",
       "      <td>0.00</td>\n",
       "    </tr>\n",
       "    <tr>\n",
       "      <th>4</th>\n",
       "      <td>64015</td>\n",
       "      <td>ABADIA DE GOIAS</td>\n",
       "      <td>2020-06-08 00:00:00.000000000</td>\n",
       "      <td>0.00</td>\n",
       "      <td>0.00</td>\n",
       "    </tr>\n",
       "  </tbody>\n",
       "</table>\n",
       "</div>"
      ]
     },
     "metadata": {},
     "execution_count": 71
    }
   ],
   "metadata": {}
  },
  {
   "cell_type": "code",
   "execution_count": 72,
   "source": [
    "#criando coluna acumulado por cidade\r\n",
    "municipios = df_calendar['Municipio'].unique()\r\n",
    "acum = []\r\n",
    "for idx, i in enumerate(df_calendar['date']):\r\n",
    "    if df_calendar['Municipio'].iloc[idx] == df_calendar['Municipio'].iloc[idx-1]:\r\n",
    "        try:\r\n",
    "            acum.append(acum[idx-1] + df_calendar['count_new'].iloc[idx] + df_calendar['count_closed'].iloc[idx])\r\n",
    "        except:\r\n",
    "            acum.append(df_calendar['count_new'].iloc[idx] + df_calendar['count_closed'].iloc[idx])\r\n",
    "    else:\r\n",
    "        acum.append(0 + df_calendar['count_new'].iloc[idx] + df_calendar['count_closed'].iloc[idx])\r\n",
    "\r\n",
    "df_calendar['acum'] = acum"
   ],
   "outputs": [],
   "metadata": {}
  },
  {
   "cell_type": "code",
   "execution_count": 73,
   "source": [
    "df_calendar.head()"
   ],
   "outputs": [
    {
     "output_type": "execute_result",
     "data": {
      "text/plain": [
       "   index        Municipio                          date  count_new  \\\n",
       "0  64014  ABADIA DE GOIAS 1956-07-21 22:43:41.128654848       0.00   \n",
       "1      0  ABADIA DE GOIAS 2019-12-25 00:00:00.000000000       0.00   \n",
       "2      1  ABADIA DE GOIAS 2020-05-21 00:00:00.000000000       0.00   \n",
       "3      2  ABADIA DE GOIAS 2020-06-05 00:00:00.000000000       0.00   \n",
       "4  64015  ABADIA DE GOIAS 2020-06-08 00:00:00.000000000       0.00   \n",
       "\n",
       "   count_closed  acum  \n",
       "0          0.00  0.00  \n",
       "1          0.00  0.00  \n",
       "2          0.00  0.00  \n",
       "3          0.00  0.00  \n",
       "4          0.00  0.00  "
      ],
      "text/html": [
       "<div>\n",
       "<style scoped>\n",
       "    .dataframe tbody tr th:only-of-type {\n",
       "        vertical-align: middle;\n",
       "    }\n",
       "\n",
       "    .dataframe tbody tr th {\n",
       "        vertical-align: top;\n",
       "    }\n",
       "\n",
       "    .dataframe thead th {\n",
       "        text-align: right;\n",
       "    }\n",
       "</style>\n",
       "<table border=\"1\" class=\"dataframe\">\n",
       "  <thead>\n",
       "    <tr style=\"text-align: right;\">\n",
       "      <th></th>\n",
       "      <th>index</th>\n",
       "      <th>Municipio</th>\n",
       "      <th>date</th>\n",
       "      <th>count_new</th>\n",
       "      <th>count_closed</th>\n",
       "      <th>acum</th>\n",
       "    </tr>\n",
       "  </thead>\n",
       "  <tbody>\n",
       "    <tr>\n",
       "      <th>0</th>\n",
       "      <td>64014</td>\n",
       "      <td>ABADIA DE GOIAS</td>\n",
       "      <td>1956-07-21 22:43:41.128654848</td>\n",
       "      <td>0.00</td>\n",
       "      <td>0.00</td>\n",
       "      <td>0.00</td>\n",
       "    </tr>\n",
       "    <tr>\n",
       "      <th>1</th>\n",
       "      <td>0</td>\n",
       "      <td>ABADIA DE GOIAS</td>\n",
       "      <td>2019-12-25 00:00:00.000000000</td>\n",
       "      <td>0.00</td>\n",
       "      <td>0.00</td>\n",
       "      <td>0.00</td>\n",
       "    </tr>\n",
       "    <tr>\n",
       "      <th>2</th>\n",
       "      <td>1</td>\n",
       "      <td>ABADIA DE GOIAS</td>\n",
       "      <td>2020-05-21 00:00:00.000000000</td>\n",
       "      <td>0.00</td>\n",
       "      <td>0.00</td>\n",
       "      <td>0.00</td>\n",
       "    </tr>\n",
       "    <tr>\n",
       "      <th>3</th>\n",
       "      <td>2</td>\n",
       "      <td>ABADIA DE GOIAS</td>\n",
       "      <td>2020-06-05 00:00:00.000000000</td>\n",
       "      <td>0.00</td>\n",
       "      <td>0.00</td>\n",
       "      <td>0.00</td>\n",
       "    </tr>\n",
       "    <tr>\n",
       "      <th>4</th>\n",
       "      <td>64015</td>\n",
       "      <td>ABADIA DE GOIAS</td>\n",
       "      <td>2020-06-08 00:00:00.000000000</td>\n",
       "      <td>0.00</td>\n",
       "      <td>0.00</td>\n",
       "      <td>0.00</td>\n",
       "    </tr>\n",
       "  </tbody>\n",
       "</table>\n",
       "</div>"
      ]
     },
     "metadata": {},
     "execution_count": 73
    }
   ],
   "metadata": {}
  },
  {
   "cell_type": "code",
   "execution_count": 74,
   "source": [
    "#criando colunas de dia/semana/dia_da_semana/mes/ano\r\n",
    "df_calendar['day'] = [i.day for i in df_calendar['date']]\r\n",
    "df_calendar['week'] = [i.week for i in df_calendar['date']]\r\n",
    "df_calendar['weekday'] = [i.weekday() for i in df_calendar['date']]\r\n",
    "df_calendar['month'] = [i.month for i in df_calendar['date']]\r\n",
    "df_calendar['year'] = [i.year for i in df_calendar['date']]"
   ],
   "outputs": [],
   "metadata": {}
  },
  {
   "cell_type": "code",
   "execution_count": 75,
   "source": [
    "df_calendar[df_calendar['month']==2]"
   ],
   "outputs": [
    {
     "output_type": "execute_result",
     "data": {
      "text/plain": [
       "       index        Municipio       date  count_new  count_closed  acum  day  \\\n",
       "96     64050  ABADIA DE GOIAS 2021-02-03       0.00          0.00  0.00    3   \n",
       "97     64051  ABADIA DE GOIAS 2021-02-04       0.00          0.00  0.00    4   \n",
       "98     64052  ABADIA DE GOIAS 2021-02-07       0.00          0.00  0.00    7   \n",
       "99     64053  ABADIA DE GOIAS 2021-02-10       0.00          0.00  0.00   10   \n",
       "100    64054  ABADIA DE GOIAS 2021-02-11       0.00          0.00  0.00   11   \n",
       "...      ...              ...        ...        ...           ...   ...  ...   \n",
       "91156  91236     WANDERLANDIA 2021-02-18       0.00          0.00  0.00   18   \n",
       "91157  91237     WANDERLANDIA 2021-02-20       0.00          0.00  0.00   20   \n",
       "91158  91238     WANDERLANDIA 2021-02-22       0.00          0.00  0.00   22   \n",
       "91159  63934     WANDERLANDIA 2021-02-23       0.00          0.00  0.00   23   \n",
       "91160  91239     WANDERLANDIA 2021-02-25       0.00          0.00  0.00   25   \n",
       "\n",
       "       week  weekday  month  year  \n",
       "96        5        2      2  2021  \n",
       "97        5        3      2  2021  \n",
       "98        5        6      2  2021  \n",
       "99        6        2      2  2021  \n",
       "100       6        3      2  2021  \n",
       "...     ...      ...    ...   ...  \n",
       "91156     7        3      2  2021  \n",
       "91157     7        5      2  2021  \n",
       "91158     8        0      2  2021  \n",
       "91159     8        1      2  2021  \n",
       "91160     8        3      2  2021  \n",
       "\n",
       "[5448 rows x 11 columns]"
      ],
      "text/html": [
       "<div>\n",
       "<style scoped>\n",
       "    .dataframe tbody tr th:only-of-type {\n",
       "        vertical-align: middle;\n",
       "    }\n",
       "\n",
       "    .dataframe tbody tr th {\n",
       "        vertical-align: top;\n",
       "    }\n",
       "\n",
       "    .dataframe thead th {\n",
       "        text-align: right;\n",
       "    }\n",
       "</style>\n",
       "<table border=\"1\" class=\"dataframe\">\n",
       "  <thead>\n",
       "    <tr style=\"text-align: right;\">\n",
       "      <th></th>\n",
       "      <th>index</th>\n",
       "      <th>Municipio</th>\n",
       "      <th>date</th>\n",
       "      <th>count_new</th>\n",
       "      <th>count_closed</th>\n",
       "      <th>acum</th>\n",
       "      <th>day</th>\n",
       "      <th>week</th>\n",
       "      <th>weekday</th>\n",
       "      <th>month</th>\n",
       "      <th>year</th>\n",
       "    </tr>\n",
       "  </thead>\n",
       "  <tbody>\n",
       "    <tr>\n",
       "      <th>96</th>\n",
       "      <td>64050</td>\n",
       "      <td>ABADIA DE GOIAS</td>\n",
       "      <td>2021-02-03</td>\n",
       "      <td>0.00</td>\n",
       "      <td>0.00</td>\n",
       "      <td>0.00</td>\n",
       "      <td>3</td>\n",
       "      <td>5</td>\n",
       "      <td>2</td>\n",
       "      <td>2</td>\n",
       "      <td>2021</td>\n",
       "    </tr>\n",
       "    <tr>\n",
       "      <th>97</th>\n",
       "      <td>64051</td>\n",
       "      <td>ABADIA DE GOIAS</td>\n",
       "      <td>2021-02-04</td>\n",
       "      <td>0.00</td>\n",
       "      <td>0.00</td>\n",
       "      <td>0.00</td>\n",
       "      <td>4</td>\n",
       "      <td>5</td>\n",
       "      <td>3</td>\n",
       "      <td>2</td>\n",
       "      <td>2021</td>\n",
       "    </tr>\n",
       "    <tr>\n",
       "      <th>98</th>\n",
       "      <td>64052</td>\n",
       "      <td>ABADIA DE GOIAS</td>\n",
       "      <td>2021-02-07</td>\n",
       "      <td>0.00</td>\n",
       "      <td>0.00</td>\n",
       "      <td>0.00</td>\n",
       "      <td>7</td>\n",
       "      <td>5</td>\n",
       "      <td>6</td>\n",
       "      <td>2</td>\n",
       "      <td>2021</td>\n",
       "    </tr>\n",
       "    <tr>\n",
       "      <th>99</th>\n",
       "      <td>64053</td>\n",
       "      <td>ABADIA DE GOIAS</td>\n",
       "      <td>2021-02-10</td>\n",
       "      <td>0.00</td>\n",
       "      <td>0.00</td>\n",
       "      <td>0.00</td>\n",
       "      <td>10</td>\n",
       "      <td>6</td>\n",
       "      <td>2</td>\n",
       "      <td>2</td>\n",
       "      <td>2021</td>\n",
       "    </tr>\n",
       "    <tr>\n",
       "      <th>100</th>\n",
       "      <td>64054</td>\n",
       "      <td>ABADIA DE GOIAS</td>\n",
       "      <td>2021-02-11</td>\n",
       "      <td>0.00</td>\n",
       "      <td>0.00</td>\n",
       "      <td>0.00</td>\n",
       "      <td>11</td>\n",
       "      <td>6</td>\n",
       "      <td>3</td>\n",
       "      <td>2</td>\n",
       "      <td>2021</td>\n",
       "    </tr>\n",
       "    <tr>\n",
       "      <th>...</th>\n",
       "      <td>...</td>\n",
       "      <td>...</td>\n",
       "      <td>...</td>\n",
       "      <td>...</td>\n",
       "      <td>...</td>\n",
       "      <td>...</td>\n",
       "      <td>...</td>\n",
       "      <td>...</td>\n",
       "      <td>...</td>\n",
       "      <td>...</td>\n",
       "      <td>...</td>\n",
       "    </tr>\n",
       "    <tr>\n",
       "      <th>91156</th>\n",
       "      <td>91236</td>\n",
       "      <td>WANDERLANDIA</td>\n",
       "      <td>2021-02-18</td>\n",
       "      <td>0.00</td>\n",
       "      <td>0.00</td>\n",
       "      <td>0.00</td>\n",
       "      <td>18</td>\n",
       "      <td>7</td>\n",
       "      <td>3</td>\n",
       "      <td>2</td>\n",
       "      <td>2021</td>\n",
       "    </tr>\n",
       "    <tr>\n",
       "      <th>91157</th>\n",
       "      <td>91237</td>\n",
       "      <td>WANDERLANDIA</td>\n",
       "      <td>2021-02-20</td>\n",
       "      <td>0.00</td>\n",
       "      <td>0.00</td>\n",
       "      <td>0.00</td>\n",
       "      <td>20</td>\n",
       "      <td>7</td>\n",
       "      <td>5</td>\n",
       "      <td>2</td>\n",
       "      <td>2021</td>\n",
       "    </tr>\n",
       "    <tr>\n",
       "      <th>91158</th>\n",
       "      <td>91238</td>\n",
       "      <td>WANDERLANDIA</td>\n",
       "      <td>2021-02-22</td>\n",
       "      <td>0.00</td>\n",
       "      <td>0.00</td>\n",
       "      <td>0.00</td>\n",
       "      <td>22</td>\n",
       "      <td>8</td>\n",
       "      <td>0</td>\n",
       "      <td>2</td>\n",
       "      <td>2021</td>\n",
       "    </tr>\n",
       "    <tr>\n",
       "      <th>91159</th>\n",
       "      <td>63934</td>\n",
       "      <td>WANDERLANDIA</td>\n",
       "      <td>2021-02-23</td>\n",
       "      <td>0.00</td>\n",
       "      <td>0.00</td>\n",
       "      <td>0.00</td>\n",
       "      <td>23</td>\n",
       "      <td>8</td>\n",
       "      <td>1</td>\n",
       "      <td>2</td>\n",
       "      <td>2021</td>\n",
       "    </tr>\n",
       "    <tr>\n",
       "      <th>91160</th>\n",
       "      <td>91239</td>\n",
       "      <td>WANDERLANDIA</td>\n",
       "      <td>2021-02-25</td>\n",
       "      <td>0.00</td>\n",
       "      <td>0.00</td>\n",
       "      <td>0.00</td>\n",
       "      <td>25</td>\n",
       "      <td>8</td>\n",
       "      <td>3</td>\n",
       "      <td>2</td>\n",
       "      <td>2021</td>\n",
       "    </tr>\n",
       "  </tbody>\n",
       "</table>\n",
       "<p>5448 rows × 11 columns</p>\n",
       "</div>"
      ]
     },
     "metadata": {},
     "execution_count": 75
    }
   ],
   "metadata": {}
  },
  {
   "cell_type": "code",
   "execution_count": 245,
   "source": [
    "# --------- CRIANDO LISTAS PARA PLOTAGEM DO CALENDÁRIO ---------\r\n",
    "# variaveis para ajudar na manipulacao dos dados\r\n",
    "# quantidade de dias no mes de análise\r\n",
    "dias_28 = [2]\r\n",
    "dias_31 = [1, 3, 5, 7, 8, 10, 12]\r\n",
    "dias_30 = [4, 6, 9, 11]\r\n",
    "\r\n",
    "if mes_analise in dias_28 and ano_analise != 2020:\r\n",
    "    n_dias = 28\r\n",
    "elif mes_analise in dias_30:\r\n",
    "    n_dias = 30\r\n",
    "elif mes_analise in dias_31:\r\n",
    "    n_dias = 31\r\n",
    "else:\r\n",
    "    n_dias = 29\r\n",
    "\r\n",
    "# NameError: name 'mes_analise' is not defined"
   ],
   "outputs": [],
   "metadata": {}
  },
  {
   "cell_type": "code",
   "execution_count": 76,
   "source": [
    "# cidade='VITORIA'\r\n",
    "# tipo= 'NOVOS CASOS'\r\n",
    "# mes_analise= 2\r\n",
    "# ano_analise= 2021"
   ],
   "outputs": [],
   "metadata": {}
  },
  {
   "cell_type": "code",
   "execution_count": 77,
   "source": [
    "#aplicando filtros\r\n",
    "if tipo == 'NOVOS CASOS':\r\n",
    "    df_calendar_display = df_calendar[\r\n",
    "        (df_calendar['Municipio'] == cidade) &\r\n",
    "        (df_calendar['month'] == mes_analise) &\r\n",
    "        (df_calendar['year'] == ano_analise)][['Municipio', 'date', 'day', 'week', 'weekday', 'month', 'year', 'count_new']].sort_values(by=['day']).reset_index().drop(columns=['index'])\r\n",
    "else:\r\n",
    "    df_calendar_display = df_calendar[\r\n",
    "        (df_calendar['Municipio'] == cidade) &\r\n",
    "        (df_calendar['month'] == mes_analise) &\r\n",
    "        (df_calendar['year'] == ano_analise)][['Municipio', 'date', 'day', 'week', 'weekday', 'month', 'year', 'acum']].sort_values(by=['day']).reset_index().drop(columns=['index'])"
   ],
   "outputs": [],
   "metadata": {}
  },
  {
   "cell_type": "code",
   "execution_count": 78,
   "source": [
    "df_calendar_display"
   ],
   "outputs": [
    {
     "output_type": "execute_result",
     "data": {
      "text/plain": [
       "   Municipio       date  day  week  weekday  month  year  count_new\n",
       "0    VITORIA 2021-01-01    1    53        4      1  2021       0.00\n",
       "1    VITORIA 2021-01-02    2    53        5      1  2021       0.00\n",
       "2    VITORIA 2021-01-03    3    53        6      1  2021       1.00\n",
       "3    VITORIA 2021-01-04    4     1        0      1  2021       0.00\n",
       "4    VITORIA 2021-01-06    6     1        2      1  2021       1.00\n",
       "5    VITORIA 2021-01-07    7     1        3      1  2021       0.00\n",
       "6    VITORIA 2021-01-14   14     2        3      1  2021       0.00\n",
       "7    VITORIA 2021-01-15   15     2        4      1  2021       0.00\n",
       "8    VITORIA 2021-01-16   16     2        5      1  2021       0.00\n",
       "9    VITORIA 2021-01-17   17     2        6      1  2021       0.00\n",
       "10   VITORIA 2021-01-18   18     3        0      1  2021       0.00\n",
       "11   VITORIA 2021-01-20   20     3        2      1  2021       0.00\n",
       "12   VITORIA 2021-01-22   22     3        4      1  2021       0.00\n",
       "13   VITORIA 2021-01-25   25     4        0      1  2021       0.00\n",
       "14   VITORIA 2021-01-28   28     4        3      1  2021       0.00"
      ],
      "text/html": [
       "<div>\n",
       "<style scoped>\n",
       "    .dataframe tbody tr th:only-of-type {\n",
       "        vertical-align: middle;\n",
       "    }\n",
       "\n",
       "    .dataframe tbody tr th {\n",
       "        vertical-align: top;\n",
       "    }\n",
       "\n",
       "    .dataframe thead th {\n",
       "        text-align: right;\n",
       "    }\n",
       "</style>\n",
       "<table border=\"1\" class=\"dataframe\">\n",
       "  <thead>\n",
       "    <tr style=\"text-align: right;\">\n",
       "      <th></th>\n",
       "      <th>Municipio</th>\n",
       "      <th>date</th>\n",
       "      <th>day</th>\n",
       "      <th>week</th>\n",
       "      <th>weekday</th>\n",
       "      <th>month</th>\n",
       "      <th>year</th>\n",
       "      <th>count_new</th>\n",
       "    </tr>\n",
       "  </thead>\n",
       "  <tbody>\n",
       "    <tr>\n",
       "      <th>0</th>\n",
       "      <td>VITORIA</td>\n",
       "      <td>2021-01-01</td>\n",
       "      <td>1</td>\n",
       "      <td>53</td>\n",
       "      <td>4</td>\n",
       "      <td>1</td>\n",
       "      <td>2021</td>\n",
       "      <td>0.00</td>\n",
       "    </tr>\n",
       "    <tr>\n",
       "      <th>1</th>\n",
       "      <td>VITORIA</td>\n",
       "      <td>2021-01-02</td>\n",
       "      <td>2</td>\n",
       "      <td>53</td>\n",
       "      <td>5</td>\n",
       "      <td>1</td>\n",
       "      <td>2021</td>\n",
       "      <td>0.00</td>\n",
       "    </tr>\n",
       "    <tr>\n",
       "      <th>2</th>\n",
       "      <td>VITORIA</td>\n",
       "      <td>2021-01-03</td>\n",
       "      <td>3</td>\n",
       "      <td>53</td>\n",
       "      <td>6</td>\n",
       "      <td>1</td>\n",
       "      <td>2021</td>\n",
       "      <td>1.00</td>\n",
       "    </tr>\n",
       "    <tr>\n",
       "      <th>3</th>\n",
       "      <td>VITORIA</td>\n",
       "      <td>2021-01-04</td>\n",
       "      <td>4</td>\n",
       "      <td>1</td>\n",
       "      <td>0</td>\n",
       "      <td>1</td>\n",
       "      <td>2021</td>\n",
       "      <td>0.00</td>\n",
       "    </tr>\n",
       "    <tr>\n",
       "      <th>4</th>\n",
       "      <td>VITORIA</td>\n",
       "      <td>2021-01-06</td>\n",
       "      <td>6</td>\n",
       "      <td>1</td>\n",
       "      <td>2</td>\n",
       "      <td>1</td>\n",
       "      <td>2021</td>\n",
       "      <td>1.00</td>\n",
       "    </tr>\n",
       "    <tr>\n",
       "      <th>5</th>\n",
       "      <td>VITORIA</td>\n",
       "      <td>2021-01-07</td>\n",
       "      <td>7</td>\n",
       "      <td>1</td>\n",
       "      <td>3</td>\n",
       "      <td>1</td>\n",
       "      <td>2021</td>\n",
       "      <td>0.00</td>\n",
       "    </tr>\n",
       "    <tr>\n",
       "      <th>6</th>\n",
       "      <td>VITORIA</td>\n",
       "      <td>2021-01-14</td>\n",
       "      <td>14</td>\n",
       "      <td>2</td>\n",
       "      <td>3</td>\n",
       "      <td>1</td>\n",
       "      <td>2021</td>\n",
       "      <td>0.00</td>\n",
       "    </tr>\n",
       "    <tr>\n",
       "      <th>7</th>\n",
       "      <td>VITORIA</td>\n",
       "      <td>2021-01-15</td>\n",
       "      <td>15</td>\n",
       "      <td>2</td>\n",
       "      <td>4</td>\n",
       "      <td>1</td>\n",
       "      <td>2021</td>\n",
       "      <td>0.00</td>\n",
       "    </tr>\n",
       "    <tr>\n",
       "      <th>8</th>\n",
       "      <td>VITORIA</td>\n",
       "      <td>2021-01-16</td>\n",
       "      <td>16</td>\n",
       "      <td>2</td>\n",
       "      <td>5</td>\n",
       "      <td>1</td>\n",
       "      <td>2021</td>\n",
       "      <td>0.00</td>\n",
       "    </tr>\n",
       "    <tr>\n",
       "      <th>9</th>\n",
       "      <td>VITORIA</td>\n",
       "      <td>2021-01-17</td>\n",
       "      <td>17</td>\n",
       "      <td>2</td>\n",
       "      <td>6</td>\n",
       "      <td>1</td>\n",
       "      <td>2021</td>\n",
       "      <td>0.00</td>\n",
       "    </tr>\n",
       "    <tr>\n",
       "      <th>10</th>\n",
       "      <td>VITORIA</td>\n",
       "      <td>2021-01-18</td>\n",
       "      <td>18</td>\n",
       "      <td>3</td>\n",
       "      <td>0</td>\n",
       "      <td>1</td>\n",
       "      <td>2021</td>\n",
       "      <td>0.00</td>\n",
       "    </tr>\n",
       "    <tr>\n",
       "      <th>11</th>\n",
       "      <td>VITORIA</td>\n",
       "      <td>2021-01-20</td>\n",
       "      <td>20</td>\n",
       "      <td>3</td>\n",
       "      <td>2</td>\n",
       "      <td>1</td>\n",
       "      <td>2021</td>\n",
       "      <td>0.00</td>\n",
       "    </tr>\n",
       "    <tr>\n",
       "      <th>12</th>\n",
       "      <td>VITORIA</td>\n",
       "      <td>2021-01-22</td>\n",
       "      <td>22</td>\n",
       "      <td>3</td>\n",
       "      <td>4</td>\n",
       "      <td>1</td>\n",
       "      <td>2021</td>\n",
       "      <td>0.00</td>\n",
       "    </tr>\n",
       "    <tr>\n",
       "      <th>13</th>\n",
       "      <td>VITORIA</td>\n",
       "      <td>2021-01-25</td>\n",
       "      <td>25</td>\n",
       "      <td>4</td>\n",
       "      <td>0</td>\n",
       "      <td>1</td>\n",
       "      <td>2021</td>\n",
       "      <td>0.00</td>\n",
       "    </tr>\n",
       "    <tr>\n",
       "      <th>14</th>\n",
       "      <td>VITORIA</td>\n",
       "      <td>2021-01-28</td>\n",
       "      <td>28</td>\n",
       "      <td>4</td>\n",
       "      <td>3</td>\n",
       "      <td>1</td>\n",
       "      <td>2021</td>\n",
       "      <td>0.00</td>\n",
       "    </tr>\n",
       "  </tbody>\n",
       "</table>\n",
       "</div>"
      ]
     },
     "metadata": {},
     "execution_count": 78
    }
   ],
   "metadata": {}
  },
  {
   "cell_type": "code",
   "execution_count": 79,
   "source": [
    "from datetime import datetime"
   ],
   "outputs": [],
   "metadata": {}
  },
  {
   "cell_type": "code",
   "execution_count": 80,
   "source": [
    "#TESTE MUDANCA CODIGO\r\n",
    "\r\n",
    "#criando listagem com a contagem de casos para cada dia do mes e as informações da semana do ano e dia da semana\r\n",
    "#preenchendo com zero os dias em que nao tiveram registros\r\n",
    "info_dia = []\r\n",
    "contador = 0\r\n",
    "for i in range(1, n_dias + 1):\r\n",
    "    if i == df_calendar_display['day'].iloc[contador]:\r\n",
    "        dia = i\r\n",
    "        numero_casos = int(df_calendar_display.iloc[contador,-1])\r\n",
    "        semana_do_ano = df_calendar_display['week'].iloc[contador]\r\n",
    "        dia_da_semana = df_calendar_display['weekday'].iloc[contador]\r\n",
    "        if contador < len(df_calendar_display)-1:\r\n",
    "            contador = contador + 1\r\n",
    "    else:\r\n",
    "        dia = i\r\n",
    "        numero_casos = 0\r\n",
    "        semana_do_ano = int(datetime(ano_analise, mes_analise, i).strftime('%W')) #essa função faz uma conta diferente da que usamos para calcular a semana no dataframe (por isso o + 1)\r\n",
    "        dia_da_semana = datetime(ano_analise, mes_analise, i).weekday()\r\n",
    "\r\n",
    "    info_dia.append([dia, numero_casos, semana_do_ano, dia_da_semana])\r\n",
    "\r\n",
    "    # IndexError: single positional indexer is out-of-bounds\r\n",
    "\r\n",
    "    ### PIMPÃO, DÁ UMA AJUDA NESSA CÉLULA."
   ],
   "outputs": [],
   "metadata": {
    "scrolled": false
   }
  },
  {
   "cell_type": "code",
   "execution_count": 81,
   "source": [
    "info_dia"
   ],
   "outputs": [
    {
     "output_type": "execute_result",
     "data": {
      "text/plain": [
       "[[1, 0, 53, 4],\n",
       " [2, 0, 53, 5],\n",
       " [3, 1, 53, 6],\n",
       " [4, 0, 1, 0],\n",
       " [5, 0, 1, 1],\n",
       " [6, 1, 1, 2],\n",
       " [7, 0, 1, 3],\n",
       " [8, 0, 1, 4],\n",
       " [9, 0, 1, 5],\n",
       " [10, 0, 1, 6],\n",
       " [11, 0, 2, 0],\n",
       " [12, 0, 2, 1],\n",
       " [13, 0, 2, 2],\n",
       " [14, 0, 2, 3],\n",
       " [15, 0, 2, 4],\n",
       " [16, 0, 2, 5],\n",
       " [17, 0, 2, 6],\n",
       " [18, 0, 3, 0],\n",
       " [19, 0, 3, 1],\n",
       " [20, 0, 3, 2],\n",
       " [21, 0, 3, 3],\n",
       " [22, 0, 3, 4],\n",
       " [23, 0, 3, 5],\n",
       " [24, 0, 3, 6],\n",
       " [25, 0, 4, 0],\n",
       " [26, 0, 4, 1],\n",
       " [27, 0, 4, 2],\n",
       " [28, 0, 4, 3]]"
      ]
     },
     "metadata": {},
     "execution_count": 81
    }
   ],
   "metadata": {}
  },
  {
   "cell_type": "code",
   "execution_count": 82,
   "source": [
    "# #criando listagem com a contagem de casos para cada dia do mes e as informações da semana do ano e dia da semana\r\n",
    "# #preenchendo com zero os dias em que nao tiveram registros\r\n",
    "# info_dia = []\r\n",
    "# for i in range(1, n_dias + 1):\r\n",
    "#     if i == df_calendar_display['day'].iloc[i - 1]:\r\n",
    "#         dia = i\r\n",
    "#         numero_casos = int(df_calendar_display.iloc[i-1,-1])\r\n",
    "#         semana_do_ano = df_calendar_display['week'].iloc[i-1]\r\n",
    "#         dia_da_semana = df_calendar_display['weekday'].iloc[i-1]\r\n",
    "#     else:\r\n",
    "#         dia = i\r\n",
    "#         numero_casos = 0\r\n",
    "#         semana_do_ano = int(datetime(ano_analise, mes_analise, i).strftime('%W')) + 1 #essa função faz uma conta diferente da que usamos para calcular a semana no dataframe (por isso o + 1)\r\n",
    "#         dia_da_semana = datetime(ano_analise, mes_analise, i).weekday()\r\n",
    "\r\n",
    "#     info_dia.append([dia, numero_casos, semana_do_ano, dia_da_semana])\r\n",
    "\r\n",
    "#     # IndexError: single positional indexer is out-of-bounds\r\n",
    "\r\n",
    "#     ### PIMPÃO, DÁ UMA AJUDA NESSA CÉLULA."
   ],
   "outputs": [],
   "metadata": {}
  },
  {
   "cell_type": "code",
   "execution_count": 83,
   "source": [
    "#separando essa lista em outras 4\r\n",
    "dias, n_casos, semana, dia_semana = zip(*info_dia)\r\n",
    "\r\n"
   ],
   "outputs": [],
   "metadata": {}
  },
  {
   "cell_type": "code",
   "execution_count": 84,
   "source": [
    "#criando lista com o numero de casos de cada dia do mes e separado em lista por semana\r\n",
    "final_casos = []\r\n",
    "parcial_casos = []\r\n",
    "for i, week in enumerate(semana):\r\n",
    "    if i == 0:\r\n",
    "        parcial_casos.append(n_casos[i])\r\n",
    "    elif i == n_dias - 1:\r\n",
    "        parcial_casos.append(n_casos[i])\r\n",
    "        final_casos.append(parcial_casos)\r\n",
    "    else:\r\n",
    "        if week == semana[i-1]:\r\n",
    "            parcial_casos.append(n_casos[i])\r\n",
    "        else:\r\n",
    "            final_casos.append(parcial_casos)\r\n",
    "            parcial_casos = []\r\n",
    "            parcial_casos.append(n_casos[i])"
   ],
   "outputs": [],
   "metadata": {}
  },
  {
   "cell_type": "code",
   "execution_count": 85,
   "source": [
    "final_casos"
   ],
   "outputs": [
    {
     "output_type": "execute_result",
     "data": {
      "text/plain": [
       "[[0, 0, 1],\n",
       " [0, 0, 1, 0, 0, 0, 0],\n",
       " [0, 0, 0, 0, 0, 0, 0],\n",
       " [0, 0, 0, 0, 0, 0, 0],\n",
       " [0, 0, 0, 0]]"
      ]
     },
     "metadata": {},
     "execution_count": 85
    }
   ],
   "metadata": {}
  },
  {
   "cell_type": "code",
   "execution_count": 86,
   "source": [
    "#calculando o valor maximo da quantidade de casos para servir como ponto maximo da escala de cores\r\n",
    "max_value = []\r\n",
    "for i in range(len(final_casos)):\r\n",
    "    max_value.append(max(final_casos[i]))\r\n",
    "\r\n",
    "max_value = max(max_value)"
   ],
   "outputs": [],
   "metadata": {}
  },
  {
   "cell_type": "code",
   "execution_count": 87,
   "source": [
    "#preenchendo valores relativos aos dias que completam as semanas com menos de 7 dias (inicio/final)\r\n",
    "#o max_value serve para ajustar a cor (branco) que vai ser printado no heatmap para esses valores de preenchimento\r\n",
    "while len(final_casos[0]) < 7:\r\n",
    "    final_casos[0].insert(0, 0.001*max_value)\r\n",
    "\r\n",
    "while len(final_casos[-1]) < 7:\r\n",
    "    final_casos[-1].append(0.001*max_value)"
   ],
   "outputs": [],
   "metadata": {}
  },
  {
   "cell_type": "code",
   "execution_count": 88,
   "source": [
    "for i in range(len(final_casos)):\r\n",
    "    for j in range(len(final_casos[i])):\r\n",
    "        if final_casos[i][j]>0 and final_casos[i][j]<1:\r\n",
    "            final_casos[i][j] = final_casos[i][j]*-1\r\n",
    "final_casos"
   ],
   "outputs": [
    {
     "output_type": "execute_result",
     "data": {
      "text/plain": [
       "[[-0.001, -0.001, -0.001, -0.001, 0, 0, 1],\n",
       " [0, 0, 1, 0, 0, 0, 0],\n",
       " [0, 0, 0, 0, 0, 0, 0],\n",
       " [0, 0, 0, 0, 0, 0, 0],\n",
       " [0, 0, 0, 0, -0.001, -0.001, -0.001]]"
      ]
     },
     "metadata": {},
     "execution_count": 88
    }
   ],
   "metadata": {}
  },
  {
   "cell_type": "code",
   "execution_count": 89,
   "source": [
    "#tranformando dias de int para str\r\n",
    "dias = list(map(str, dias))"
   ],
   "outputs": [],
   "metadata": {}
  },
  {
   "cell_type": "code",
   "execution_count": 90,
   "source": [
    "#preenchendo lista de acordo com o exigido para o plot (lista de listas para cada semana do mes)\r\n",
    "final_dias = []\r\n",
    "parcial_dias = []\r\n",
    "contador = dia_semana[0] + 1\r\n",
    "\r\n",
    "for i, dia in enumerate(dias):\r\n",
    "    if i == len(dias) - 1:\r\n",
    "        parcial_dias.append(dia)\r\n",
    "        final_dias.append(parcial_dias)\r\n",
    "    elif contador < 8:\r\n",
    "        parcial_dias.append(dia)\r\n",
    "        contador += 1\r\n",
    "    else:\r\n",
    "        final_dias.append(parcial_dias)\r\n",
    "        parcial_dias = []\r\n",
    "        parcial_dias.append(dia)\r\n",
    "        contador = 2"
   ],
   "outputs": [],
   "metadata": {}
  },
  {
   "cell_type": "code",
   "execution_count": 91,
   "source": [
    "#preenchendo as semanas que ficaram com menos de 7 dias com os dias do mes anterior e subsequente\r\n",
    "if mes_analise in [1, 2, 4, 6, 8, 9, 11]:\r\n",
    "    contador = 0\r\n",
    "    while len(final_dias[0]) < 7:\r\n",
    "        final_dias[0].insert(0, str(31-contador))\r\n",
    "        contador += 1\r\n",
    "    contador = 0\r\n",
    "    while len(final_dias[-1]) < 7:\r\n",
    "        final_dias[-1].append(str(contador+1))\r\n",
    "        contador += 1\r\n",
    "elif mes_analise == 3 and ano_analise != 2020:\r\n",
    "    contador = 0\r\n",
    "    while len(final_dias[0]) < 7:\r\n",
    "        final_dias[0].insert(0, str(28-contador))\r\n",
    "        contador += 1\r\n",
    "    contador = 0\r\n",
    "    while len(final_dias[-1]) < 7:\r\n",
    "        final_dias[-1].append(str(contador+1))\r\n",
    "        contador += 1\r\n",
    "elif mes_analise == 3 and ano_analise == 2020:\r\n",
    "    contador = 0\r\n",
    "    while len(final_dias[0]) < 7:\r\n",
    "        final_dias[0].insert(0, str(29-contador))\r\n",
    "        contador += 1\r\n",
    "    contador = 0\r\n",
    "    while len(final_dias[-1]) < 7:\r\n",
    "        final_dias[-1].append(str(contador+1))\r\n",
    "        contador += 1\r\n",
    "elif mes_analise in [5, 7, 10, 12]:\r\n",
    "    contador = 0\r\n",
    "    while len(final_dias[0]) < 7:\r\n",
    "        final_dias[0].insert(0, str(30-contador))\r\n",
    "        contador += 1\r\n",
    "    contador = 0\r\n",
    "    while len(final_dias[-1]) < 7:\r\n",
    "        final_dias[-1].append(str(contador+1))\r\n",
    "        contador += 1"
   ],
   "outputs": [],
   "metadata": {}
  },
  {
   "cell_type": "code",
   "execution_count": 92,
   "source": [
    "#criando os labels das semanas\r\n",
    "y_label = []\r\n",
    "for i in range(len(final_dias)):\r\n",
    "    y_label.append('Semana ' + str(i+1))"
   ],
   "outputs": [],
   "metadata": {}
  },
  {
   "cell_type": "code",
   "execution_count": 93,
   "source": [
    "lst_min = []\r\n",
    "for i in final_casos:\r\n",
    "    lst_min.append(min(i))\r\n",
    "\r\n",
    "min_value = min(lst_min)"
   ],
   "outputs": [],
   "metadata": {}
  },
  {
   "cell_type": "code",
   "execution_count": 94,
   "source": [
    "# --------- CALENDAR HEATMAP PLOT ---------\r\n",
    "\r\n",
    "#plot do heatmap estilo calendario (com a quantidade de casos por dia)\r\n",
    "\r\n",
    "import plotly.figure_factory as ff\r\n",
    "\r\n",
    "z = final_casos[::-1]\r\n",
    "\r\n",
    "x = ['Segunda', 'Terça', 'Quarta', 'Quinta', 'Sexta', 'Sabado', 'Domingo']\r\n",
    "y = y_label[::-1]\r\n",
    "\r\n",
    "z_text = final_dias[::-1]\r\n",
    "\r\n",
    "fig1 = ff.create_annotated_heatmap(z,\r\n",
    "                                    x=x,\r\n",
    "                                    y=y,\r\n",
    "                                    annotation_text=z_text,\r\n",
    "                                    colorscale=[[0.0, 'rgb(235, 236, 240)'], #troquei as cors das linhas 1 e 2\r\n",
    "                                                [0.00001, 'rgb(255,255,255)'],\r\n",
    "                                                [0.1, 'rgb(255,245,240)'],\r\n",
    "                                                [0.2, 'rgb(252,201,180)'],\r\n",
    "                                                [0.4, 'rgb(251,136,104)'],\r\n",
    "                                                [0.6, 'rgb(242,67,49)'],\r\n",
    "                                                [0.8, 'rgb(187,19,25)'],\r\n",
    "                                                [1.0, 'rgb(115,2,23)']],\r\n",
    "                                    showscale=True)\r\n",
    "\r\n",
    "#titulo plot\r\n",
    "meses = ['Janeiro', 'Feveireiro', 'Março', 'Abril', 'Maio', 'Junho', 'Julho', 'Agosto', 'Setembro', 'Outubro', 'Novembro', 'Dezembro']\r\n",
    "mes_plot = meses[mes_analise - 1]\r\n",
    "if tipo == 'NOVOS CASOS':\r\n",
    "    fig1.update_layout(title_text= 'Casos Novos por dia - ' +\r\n",
    "                        cidade.title() + ' - ' +\r\n",
    "                        mes_plot + ' ' +\r\n",
    "                        str(ano_analise), title_x=0.5)\r\n",
    "else:\r\n",
    "    fig1.update_layout(title_text= 'Casos Acumulados - ' +\r\n",
    "                        cidade.title() + ' - ' +\r\n",
    "                        mes_plot + ' ' +\r\n",
    "                        str(ano_analise), title_x=0.5)\r\n",
    "\r\n",
    "fig1.show()\r\n"
   ],
   "outputs": [
    {
     "output_type": "display_data",
     "data": {
      "application/vnd.plotly.v1+json": {
       "config": {
        "plotlyServerURL": "https://plot.ly"
       },
       "data": [
        {
         "colorscale": [
          [
           0,
           "rgb(235, 236, 240)"
          ],
          [
           0.00001,
           "rgb(255,255,255)"
          ],
          [
           0.1,
           "rgb(255,245,240)"
          ],
          [
           0.2,
           "rgb(252,201,180)"
          ],
          [
           0.4,
           "rgb(251,136,104)"
          ],
          [
           0.6,
           "rgb(242,67,49)"
          ],
          [
           0.8,
           "rgb(187,19,25)"
          ],
          [
           1,
           "rgb(115,2,23)"
          ]
         ],
         "reversescale": false,
         "showscale": true,
         "type": "heatmap",
         "x": [
          "Segunda",
          "Terça",
          "Quarta",
          "Quinta",
          "Sexta",
          "Sabado",
          "Domingo"
         ],
         "y": [
          "Semana 5",
          "Semana 4",
          "Semana 3",
          "Semana 2",
          "Semana 1"
         ],
         "z": [
          [
           0,
           0,
           0,
           0,
           -0.001,
           -0.001,
           -0.001
          ],
          [
           0,
           0,
           0,
           0,
           0,
           0,
           0
          ],
          [
           0,
           0,
           0,
           0,
           0,
           0,
           0
          ],
          [
           0,
           0,
           1,
           0,
           0,
           0,
           0
          ],
          [
           -0.001,
           -0.001,
           -0.001,
           -0.001,
           0,
           0,
           1
          ]
         ]
        }
       ],
       "layout": {
        "annotations": [
         {
          "font": {
           "color": "#000000"
          },
          "showarrow": false,
          "text": "25",
          "x": "Segunda",
          "xref": "x",
          "y": "Semana 5",
          "yref": "y"
         },
         {
          "font": {
           "color": "#000000"
          },
          "showarrow": false,
          "text": "26",
          "x": "Terça",
          "xref": "x",
          "y": "Semana 5",
          "yref": "y"
         },
         {
          "font": {
           "color": "#000000"
          },
          "showarrow": false,
          "text": "27",
          "x": "Quarta",
          "xref": "x",
          "y": "Semana 5",
          "yref": "y"
         },
         {
          "font": {
           "color": "#000000"
          },
          "showarrow": false,
          "text": "28",
          "x": "Quinta",
          "xref": "x",
          "y": "Semana 5",
          "yref": "y"
         },
         {
          "font": {
           "color": "#000000"
          },
          "showarrow": false,
          "text": "1",
          "x": "Sexta",
          "xref": "x",
          "y": "Semana 5",
          "yref": "y"
         },
         {
          "font": {
           "color": "#000000"
          },
          "showarrow": false,
          "text": "2",
          "x": "Sabado",
          "xref": "x",
          "y": "Semana 5",
          "yref": "y"
         },
         {
          "font": {
           "color": "#000000"
          },
          "showarrow": false,
          "text": "3",
          "x": "Domingo",
          "xref": "x",
          "y": "Semana 5",
          "yref": "y"
         },
         {
          "font": {
           "color": "#000000"
          },
          "showarrow": false,
          "text": "18",
          "x": "Segunda",
          "xref": "x",
          "y": "Semana 4",
          "yref": "y"
         },
         {
          "font": {
           "color": "#000000"
          },
          "showarrow": false,
          "text": "19",
          "x": "Terça",
          "xref": "x",
          "y": "Semana 4",
          "yref": "y"
         },
         {
          "font": {
           "color": "#000000"
          },
          "showarrow": false,
          "text": "20",
          "x": "Quarta",
          "xref": "x",
          "y": "Semana 4",
          "yref": "y"
         },
         {
          "font": {
           "color": "#000000"
          },
          "showarrow": false,
          "text": "21",
          "x": "Quinta",
          "xref": "x",
          "y": "Semana 4",
          "yref": "y"
         },
         {
          "font": {
           "color": "#000000"
          },
          "showarrow": false,
          "text": "22",
          "x": "Sexta",
          "xref": "x",
          "y": "Semana 4",
          "yref": "y"
         },
         {
          "font": {
           "color": "#000000"
          },
          "showarrow": false,
          "text": "23",
          "x": "Sabado",
          "xref": "x",
          "y": "Semana 4",
          "yref": "y"
         },
         {
          "font": {
           "color": "#000000"
          },
          "showarrow": false,
          "text": "24",
          "x": "Domingo",
          "xref": "x",
          "y": "Semana 4",
          "yref": "y"
         },
         {
          "font": {
           "color": "#000000"
          },
          "showarrow": false,
          "text": "11",
          "x": "Segunda",
          "xref": "x",
          "y": "Semana 3",
          "yref": "y"
         },
         {
          "font": {
           "color": "#000000"
          },
          "showarrow": false,
          "text": "12",
          "x": "Terça",
          "xref": "x",
          "y": "Semana 3",
          "yref": "y"
         },
         {
          "font": {
           "color": "#000000"
          },
          "showarrow": false,
          "text": "13",
          "x": "Quarta",
          "xref": "x",
          "y": "Semana 3",
          "yref": "y"
         },
         {
          "font": {
           "color": "#000000"
          },
          "showarrow": false,
          "text": "14",
          "x": "Quinta",
          "xref": "x",
          "y": "Semana 3",
          "yref": "y"
         },
         {
          "font": {
           "color": "#000000"
          },
          "showarrow": false,
          "text": "15",
          "x": "Sexta",
          "xref": "x",
          "y": "Semana 3",
          "yref": "y"
         },
         {
          "font": {
           "color": "#000000"
          },
          "showarrow": false,
          "text": "16",
          "x": "Sabado",
          "xref": "x",
          "y": "Semana 3",
          "yref": "y"
         },
         {
          "font": {
           "color": "#000000"
          },
          "showarrow": false,
          "text": "17",
          "x": "Domingo",
          "xref": "x",
          "y": "Semana 3",
          "yref": "y"
         },
         {
          "font": {
           "color": "#000000"
          },
          "showarrow": false,
          "text": "4",
          "x": "Segunda",
          "xref": "x",
          "y": "Semana 2",
          "yref": "y"
         },
         {
          "font": {
           "color": "#000000"
          },
          "showarrow": false,
          "text": "5",
          "x": "Terça",
          "xref": "x",
          "y": "Semana 2",
          "yref": "y"
         },
         {
          "font": {
           "color": "#FFFFFF"
          },
          "showarrow": false,
          "text": "6",
          "x": "Quarta",
          "xref": "x",
          "y": "Semana 2",
          "yref": "y"
         },
         {
          "font": {
           "color": "#000000"
          },
          "showarrow": false,
          "text": "7",
          "x": "Quinta",
          "xref": "x",
          "y": "Semana 2",
          "yref": "y"
         },
         {
          "font": {
           "color": "#000000"
          },
          "showarrow": false,
          "text": "8",
          "x": "Sexta",
          "xref": "x",
          "y": "Semana 2",
          "yref": "y"
         },
         {
          "font": {
           "color": "#000000"
          },
          "showarrow": false,
          "text": "9",
          "x": "Sabado",
          "xref": "x",
          "y": "Semana 2",
          "yref": "y"
         },
         {
          "font": {
           "color": "#000000"
          },
          "showarrow": false,
          "text": "10",
          "x": "Domingo",
          "xref": "x",
          "y": "Semana 2",
          "yref": "y"
         },
         {
          "font": {
           "color": "#000000"
          },
          "showarrow": false,
          "text": "28",
          "x": "Segunda",
          "xref": "x",
          "y": "Semana 1",
          "yref": "y"
         },
         {
          "font": {
           "color": "#000000"
          },
          "showarrow": false,
          "text": "29",
          "x": "Terça",
          "xref": "x",
          "y": "Semana 1",
          "yref": "y"
         },
         {
          "font": {
           "color": "#000000"
          },
          "showarrow": false,
          "text": "30",
          "x": "Quarta",
          "xref": "x",
          "y": "Semana 1",
          "yref": "y"
         },
         {
          "font": {
           "color": "#000000"
          },
          "showarrow": false,
          "text": "31",
          "x": "Quinta",
          "xref": "x",
          "y": "Semana 1",
          "yref": "y"
         },
         {
          "font": {
           "color": "#000000"
          },
          "showarrow": false,
          "text": "1",
          "x": "Sexta",
          "xref": "x",
          "y": "Semana 1",
          "yref": "y"
         },
         {
          "font": {
           "color": "#000000"
          },
          "showarrow": false,
          "text": "2",
          "x": "Sabado",
          "xref": "x",
          "y": "Semana 1",
          "yref": "y"
         },
         {
          "font": {
           "color": "#FFFFFF"
          },
          "showarrow": false,
          "text": "3",
          "x": "Domingo",
          "xref": "x",
          "y": "Semana 1",
          "yref": "y"
         }
        ],
        "template": {
         "data": {
          "bar": [
           {
            "error_x": {
             "color": "#2a3f5f"
            },
            "error_y": {
             "color": "#2a3f5f"
            },
            "marker": {
             "line": {
              "color": "#E5ECF6",
              "width": 0.5
             }
            },
            "type": "bar"
           }
          ],
          "barpolar": [
           {
            "marker": {
             "line": {
              "color": "#E5ECF6",
              "width": 0.5
             }
            },
            "type": "barpolar"
           }
          ],
          "carpet": [
           {
            "aaxis": {
             "endlinecolor": "#2a3f5f",
             "gridcolor": "white",
             "linecolor": "white",
             "minorgridcolor": "white",
             "startlinecolor": "#2a3f5f"
            },
            "baxis": {
             "endlinecolor": "#2a3f5f",
             "gridcolor": "white",
             "linecolor": "white",
             "minorgridcolor": "white",
             "startlinecolor": "#2a3f5f"
            },
            "type": "carpet"
           }
          ],
          "choropleth": [
           {
            "colorbar": {
             "outlinewidth": 0,
             "ticks": ""
            },
            "type": "choropleth"
           }
          ],
          "contour": [
           {
            "colorbar": {
             "outlinewidth": 0,
             "ticks": ""
            },
            "colorscale": [
             [
              0,
              "#0d0887"
             ],
             [
              0.1111111111111111,
              "#46039f"
             ],
             [
              0.2222222222222222,
              "#7201a8"
             ],
             [
              0.3333333333333333,
              "#9c179e"
             ],
             [
              0.4444444444444444,
              "#bd3786"
             ],
             [
              0.5555555555555556,
              "#d8576b"
             ],
             [
              0.6666666666666666,
              "#ed7953"
             ],
             [
              0.7777777777777778,
              "#fb9f3a"
             ],
             [
              0.8888888888888888,
              "#fdca26"
             ],
             [
              1,
              "#f0f921"
             ]
            ],
            "type": "contour"
           }
          ],
          "contourcarpet": [
           {
            "colorbar": {
             "outlinewidth": 0,
             "ticks": ""
            },
            "type": "contourcarpet"
           }
          ],
          "heatmap": [
           {
            "colorbar": {
             "outlinewidth": 0,
             "ticks": ""
            },
            "colorscale": [
             [
              0,
              "#0d0887"
             ],
             [
              0.1111111111111111,
              "#46039f"
             ],
             [
              0.2222222222222222,
              "#7201a8"
             ],
             [
              0.3333333333333333,
              "#9c179e"
             ],
             [
              0.4444444444444444,
              "#bd3786"
             ],
             [
              0.5555555555555556,
              "#d8576b"
             ],
             [
              0.6666666666666666,
              "#ed7953"
             ],
             [
              0.7777777777777778,
              "#fb9f3a"
             ],
             [
              0.8888888888888888,
              "#fdca26"
             ],
             [
              1,
              "#f0f921"
             ]
            ],
            "type": "heatmap"
           }
          ],
          "heatmapgl": [
           {
            "colorbar": {
             "outlinewidth": 0,
             "ticks": ""
            },
            "colorscale": [
             [
              0,
              "#0d0887"
             ],
             [
              0.1111111111111111,
              "#46039f"
             ],
             [
              0.2222222222222222,
              "#7201a8"
             ],
             [
              0.3333333333333333,
              "#9c179e"
             ],
             [
              0.4444444444444444,
              "#bd3786"
             ],
             [
              0.5555555555555556,
              "#d8576b"
             ],
             [
              0.6666666666666666,
              "#ed7953"
             ],
             [
              0.7777777777777778,
              "#fb9f3a"
             ],
             [
              0.8888888888888888,
              "#fdca26"
             ],
             [
              1,
              "#f0f921"
             ]
            ],
            "type": "heatmapgl"
           }
          ],
          "histogram": [
           {
            "marker": {
             "colorbar": {
              "outlinewidth": 0,
              "ticks": ""
             }
            },
            "type": "histogram"
           }
          ],
          "histogram2d": [
           {
            "colorbar": {
             "outlinewidth": 0,
             "ticks": ""
            },
            "colorscale": [
             [
              0,
              "#0d0887"
             ],
             [
              0.1111111111111111,
              "#46039f"
             ],
             [
              0.2222222222222222,
              "#7201a8"
             ],
             [
              0.3333333333333333,
              "#9c179e"
             ],
             [
              0.4444444444444444,
              "#bd3786"
             ],
             [
              0.5555555555555556,
              "#d8576b"
             ],
             [
              0.6666666666666666,
              "#ed7953"
             ],
             [
              0.7777777777777778,
              "#fb9f3a"
             ],
             [
              0.8888888888888888,
              "#fdca26"
             ],
             [
              1,
              "#f0f921"
             ]
            ],
            "type": "histogram2d"
           }
          ],
          "histogram2dcontour": [
           {
            "colorbar": {
             "outlinewidth": 0,
             "ticks": ""
            },
            "colorscale": [
             [
              0,
              "#0d0887"
             ],
             [
              0.1111111111111111,
              "#46039f"
             ],
             [
              0.2222222222222222,
              "#7201a8"
             ],
             [
              0.3333333333333333,
              "#9c179e"
             ],
             [
              0.4444444444444444,
              "#bd3786"
             ],
             [
              0.5555555555555556,
              "#d8576b"
             ],
             [
              0.6666666666666666,
              "#ed7953"
             ],
             [
              0.7777777777777778,
              "#fb9f3a"
             ],
             [
              0.8888888888888888,
              "#fdca26"
             ],
             [
              1,
              "#f0f921"
             ]
            ],
            "type": "histogram2dcontour"
           }
          ],
          "mesh3d": [
           {
            "colorbar": {
             "outlinewidth": 0,
             "ticks": ""
            },
            "type": "mesh3d"
           }
          ],
          "parcoords": [
           {
            "line": {
             "colorbar": {
              "outlinewidth": 0,
              "ticks": ""
             }
            },
            "type": "parcoords"
           }
          ],
          "pie": [
           {
            "automargin": true,
            "type": "pie"
           }
          ],
          "scatter": [
           {
            "marker": {
             "colorbar": {
              "outlinewidth": 0,
              "ticks": ""
             }
            },
            "type": "scatter"
           }
          ],
          "scatter3d": [
           {
            "line": {
             "colorbar": {
              "outlinewidth": 0,
              "ticks": ""
             }
            },
            "marker": {
             "colorbar": {
              "outlinewidth": 0,
              "ticks": ""
             }
            },
            "type": "scatter3d"
           }
          ],
          "scattercarpet": [
           {
            "marker": {
             "colorbar": {
              "outlinewidth": 0,
              "ticks": ""
             }
            },
            "type": "scattercarpet"
           }
          ],
          "scattergeo": [
           {
            "marker": {
             "colorbar": {
              "outlinewidth": 0,
              "ticks": ""
             }
            },
            "type": "scattergeo"
           }
          ],
          "scattergl": [
           {
            "marker": {
             "colorbar": {
              "outlinewidth": 0,
              "ticks": ""
             }
            },
            "type": "scattergl"
           }
          ],
          "scattermapbox": [
           {
            "marker": {
             "colorbar": {
              "outlinewidth": 0,
              "ticks": ""
             }
            },
            "type": "scattermapbox"
           }
          ],
          "scatterpolar": [
           {
            "marker": {
             "colorbar": {
              "outlinewidth": 0,
              "ticks": ""
             }
            },
            "type": "scatterpolar"
           }
          ],
          "scatterpolargl": [
           {
            "marker": {
             "colorbar": {
              "outlinewidth": 0,
              "ticks": ""
             }
            },
            "type": "scatterpolargl"
           }
          ],
          "scatterternary": [
           {
            "marker": {
             "colorbar": {
              "outlinewidth": 0,
              "ticks": ""
             }
            },
            "type": "scatterternary"
           }
          ],
          "surface": [
           {
            "colorbar": {
             "outlinewidth": 0,
             "ticks": ""
            },
            "colorscale": [
             [
              0,
              "#0d0887"
             ],
             [
              0.1111111111111111,
              "#46039f"
             ],
             [
              0.2222222222222222,
              "#7201a8"
             ],
             [
              0.3333333333333333,
              "#9c179e"
             ],
             [
              0.4444444444444444,
              "#bd3786"
             ],
             [
              0.5555555555555556,
              "#d8576b"
             ],
             [
              0.6666666666666666,
              "#ed7953"
             ],
             [
              0.7777777777777778,
              "#fb9f3a"
             ],
             [
              0.8888888888888888,
              "#fdca26"
             ],
             [
              1,
              "#f0f921"
             ]
            ],
            "type": "surface"
           }
          ],
          "table": [
           {
            "cells": {
             "fill": {
              "color": "#EBF0F8"
             },
             "line": {
              "color": "white"
             }
            },
            "header": {
             "fill": {
              "color": "#C8D4E3"
             },
             "line": {
              "color": "white"
             }
            },
            "type": "table"
           }
          ]
         },
         "layout": {
          "annotationdefaults": {
           "arrowcolor": "#2a3f5f",
           "arrowhead": 0,
           "arrowwidth": 1
          },
          "autotypenumbers": "strict",
          "coloraxis": {
           "colorbar": {
            "outlinewidth": 0,
            "ticks": ""
           }
          },
          "colorscale": {
           "diverging": [
            [
             0,
             "#8e0152"
            ],
            [
             0.1,
             "#c51b7d"
            ],
            [
             0.2,
             "#de77ae"
            ],
            [
             0.3,
             "#f1b6da"
            ],
            [
             0.4,
             "#fde0ef"
            ],
            [
             0.5,
             "#f7f7f7"
            ],
            [
             0.6,
             "#e6f5d0"
            ],
            [
             0.7,
             "#b8e186"
            ],
            [
             0.8,
             "#7fbc41"
            ],
            [
             0.9,
             "#4d9221"
            ],
            [
             1,
             "#276419"
            ]
           ],
           "sequential": [
            [
             0,
             "#0d0887"
            ],
            [
             0.1111111111111111,
             "#46039f"
            ],
            [
             0.2222222222222222,
             "#7201a8"
            ],
            [
             0.3333333333333333,
             "#9c179e"
            ],
            [
             0.4444444444444444,
             "#bd3786"
            ],
            [
             0.5555555555555556,
             "#d8576b"
            ],
            [
             0.6666666666666666,
             "#ed7953"
            ],
            [
             0.7777777777777778,
             "#fb9f3a"
            ],
            [
             0.8888888888888888,
             "#fdca26"
            ],
            [
             1,
             "#f0f921"
            ]
           ],
           "sequentialminus": [
            [
             0,
             "#0d0887"
            ],
            [
             0.1111111111111111,
             "#46039f"
            ],
            [
             0.2222222222222222,
             "#7201a8"
            ],
            [
             0.3333333333333333,
             "#9c179e"
            ],
            [
             0.4444444444444444,
             "#bd3786"
            ],
            [
             0.5555555555555556,
             "#d8576b"
            ],
            [
             0.6666666666666666,
             "#ed7953"
            ],
            [
             0.7777777777777778,
             "#fb9f3a"
            ],
            [
             0.8888888888888888,
             "#fdca26"
            ],
            [
             1,
             "#f0f921"
            ]
           ]
          },
          "colorway": [
           "#636efa",
           "#EF553B",
           "#00cc96",
           "#ab63fa",
           "#FFA15A",
           "#19d3f3",
           "#FF6692",
           "#B6E880",
           "#FF97FF",
           "#FECB52"
          ],
          "font": {
           "color": "#2a3f5f"
          },
          "geo": {
           "bgcolor": "white",
           "lakecolor": "white",
           "landcolor": "#E5ECF6",
           "showlakes": true,
           "showland": true,
           "subunitcolor": "white"
          },
          "hoverlabel": {
           "align": "left"
          },
          "hovermode": "closest",
          "mapbox": {
           "style": "light"
          },
          "paper_bgcolor": "white",
          "plot_bgcolor": "#E5ECF6",
          "polar": {
           "angularaxis": {
            "gridcolor": "white",
            "linecolor": "white",
            "ticks": ""
           },
           "bgcolor": "#E5ECF6",
           "radialaxis": {
            "gridcolor": "white",
            "linecolor": "white",
            "ticks": ""
           }
          },
          "scene": {
           "xaxis": {
            "backgroundcolor": "#E5ECF6",
            "gridcolor": "white",
            "gridwidth": 2,
            "linecolor": "white",
            "showbackground": true,
            "ticks": "",
            "zerolinecolor": "white"
           },
           "yaxis": {
            "backgroundcolor": "#E5ECF6",
            "gridcolor": "white",
            "gridwidth": 2,
            "linecolor": "white",
            "showbackground": true,
            "ticks": "",
            "zerolinecolor": "white"
           },
           "zaxis": {
            "backgroundcolor": "#E5ECF6",
            "gridcolor": "white",
            "gridwidth": 2,
            "linecolor": "white",
            "showbackground": true,
            "ticks": "",
            "zerolinecolor": "white"
           }
          },
          "shapedefaults": {
           "line": {
            "color": "#2a3f5f"
           }
          },
          "ternary": {
           "aaxis": {
            "gridcolor": "white",
            "linecolor": "white",
            "ticks": ""
           },
           "baxis": {
            "gridcolor": "white",
            "linecolor": "white",
            "ticks": ""
           },
           "bgcolor": "#E5ECF6",
           "caxis": {
            "gridcolor": "white",
            "linecolor": "white",
            "ticks": ""
           }
          },
          "title": {
           "x": 0.05
          },
          "xaxis": {
           "automargin": true,
           "gridcolor": "white",
           "linecolor": "white",
           "ticks": "",
           "title": {
            "standoff": 15
           },
           "zerolinecolor": "white",
           "zerolinewidth": 2
          },
          "yaxis": {
           "automargin": true,
           "gridcolor": "white",
           "linecolor": "white",
           "ticks": "",
           "title": {
            "standoff": 15
           },
           "zerolinecolor": "white",
           "zerolinewidth": 2
          }
         }
        },
        "title": {
         "text": "Casos Novos por dia - Vitoria - Janeiro 2021",
         "x": 0.5
        },
        "xaxis": {
         "dtick": 1,
         "gridcolor": "rgb(0, 0, 0)",
         "side": "top",
         "ticks": ""
        },
        "yaxis": {
         "dtick": 1,
         "ticks": "",
         "ticksuffix": "  "
        }
       }
      }
     },
     "metadata": {}
    }
   ],
   "metadata": {}
  },
  {
   "cell_type": "code",
   "execution_count": null,
   "source": [],
   "outputs": [],
   "metadata": {}
  }
 ],
 "metadata": {
  "interpreter": {
   "hash": "e9aa689edf4e3253ce592293dcc69d32d3ef370148852f3558b2d441f5963c91"
  },
  "kernelspec": {
   "display_name": "Python 3",
   "language": "python",
   "name": "python3"
  },
  "language_info": {
   "codemirror_mode": {
    "name": "ipython",
    "version": 3
   },
   "file_extension": ".py",
   "mimetype": "text/x-python",
   "name": "python",
   "nbconvert_exporter": "python",
   "pygments_lexer": "ipython3",
   "version": "3.6.8"
  }
 },
 "nbformat": 4,
 "nbformat_minor": 2
}