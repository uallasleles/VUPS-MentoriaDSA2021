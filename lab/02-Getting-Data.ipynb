{
 "cells": [
  {
   "cell_type": "markdown",
   "source": [
    "# Getting Data"
   ],
   "metadata": {}
  },
  {
   "cell_type": "markdown",
   "source": [
    "> COVID-19 - ESTADO DO ESPÍRITO SANTO\r\n",
    "\r\n",
    "Fonte: Sistema eSUS/VS – Secretaria de Saúde do Estado do Espírito Santo"
   ],
   "metadata": {}
  },
  {
   "cell_type": "code",
   "execution_count": 1,
   "source": [
    "import os\r\n",
    "import pandas as pd\r\n",
    "import warnings\r\n",
    "import matplotlib.pyplot as plt\r\n",
    "plt.style.use('seaborn-talk')\r\n",
    "\r\n",
    "warnings.filterwarnings('ignore')\r\n",
    "%matplotlib inline"
   ],
   "outputs": [],
   "metadata": {}
  },
  {
   "cell_type": "code",
   "execution_count": null,
   "source": [],
   "outputs": [],
   "metadata": {}
  },
  {
   "cell_type": "code",
   "execution_count": 10,
   "source": [
    "BASEDIR = os.path.abspath('..\\\\')\r\n",
    "DATADIR = os.path.join(BASEDIR + 'data\\\\')\r\n",
    "DATASET = 'MICRODADOS.csv'\r\n",
    "SEP = \";\"\r\n",
    "DATADIC = 'dictionary.md'"
   ],
   "outputs": [],
   "metadata": {}
  },
  {
   "cell_type": "code",
   "execution_count": 11,
   "source": [
    "PATH = os.path.join(DATADIR + DATASET)\r\n",
    "\r\n",
    "df = pd.read_csv(\r\n",
    "    PATH, \r\n",
    "    sep=SEP, \r\n",
    "    error_bad_lines=False, \r\n",
    "    encoding='latin1')\r\n",
    "\r\n",
    "# Preview para identificar a variável alvo\r\n",
    "df.head(1)"
   ],
   "outputs": [
    {
     "output_type": "execute_result",
     "data": {
      "text/plain": [
       "  DataNotificacao DataCadastro DataDiagnostico DataColeta_RT_PCR  \\\n",
       "0      2021-07-05   2021-06-30      2021-06-30        2021-06-30   \n",
       "\n",
       "  DataColetaTesteRapido DataColetaSorologia DataColetaSorologiaIGG  \\\n",
       "0                   NaN                 NaN                    NaN   \n",
       "\n",
       "  DataEncerramento DataObito Classificacao  ... ViagemBrasil  \\\n",
       "0              NaN       NaN      Suspeito  ...          Não   \n",
       "\n",
       "  ViagemInternacional ProfissionalSaude PossuiDeficiencia MoradorDeRua  \\\n",
       "0       Não Informado               Não               Não          Não   \n",
       "\n",
       "  ResultadoRT_PCR ResultadoTesteRapido ResultadoSorologia  \\\n",
       "0   Não Informado        Não Informado      Não Informado   \n",
       "\n",
       "  ResultadoSorologia_IGG TipoTesteRapido  \n",
       "0          Não Informado   Não Informado  \n",
       "\n",
       "[1 rows x 45 columns]"
      ],
      "text/html": [
       "<div>\n",
       "<style scoped>\n",
       "    .dataframe tbody tr th:only-of-type {\n",
       "        vertical-align: middle;\n",
       "    }\n",
       "\n",
       "    .dataframe tbody tr th {\n",
       "        vertical-align: top;\n",
       "    }\n",
       "\n",
       "    .dataframe thead th {\n",
       "        text-align: right;\n",
       "    }\n",
       "</style>\n",
       "<table border=\"1\" class=\"dataframe\">\n",
       "  <thead>\n",
       "    <tr style=\"text-align: right;\">\n",
       "      <th></th>\n",
       "      <th>DataNotificacao</th>\n",
       "      <th>DataCadastro</th>\n",
       "      <th>DataDiagnostico</th>\n",
       "      <th>DataColeta_RT_PCR</th>\n",
       "      <th>DataColetaTesteRapido</th>\n",
       "      <th>DataColetaSorologia</th>\n",
       "      <th>DataColetaSorologiaIGG</th>\n",
       "      <th>DataEncerramento</th>\n",
       "      <th>DataObito</th>\n",
       "      <th>Classificacao</th>\n",
       "      <th>...</th>\n",
       "      <th>ViagemBrasil</th>\n",
       "      <th>ViagemInternacional</th>\n",
       "      <th>ProfissionalSaude</th>\n",
       "      <th>PossuiDeficiencia</th>\n",
       "      <th>MoradorDeRua</th>\n",
       "      <th>ResultadoRT_PCR</th>\n",
       "      <th>ResultadoTesteRapido</th>\n",
       "      <th>ResultadoSorologia</th>\n",
       "      <th>ResultadoSorologia_IGG</th>\n",
       "      <th>TipoTesteRapido</th>\n",
       "    </tr>\n",
       "  </thead>\n",
       "  <tbody>\n",
       "    <tr>\n",
       "      <th>0</th>\n",
       "      <td>2021-07-05</td>\n",
       "      <td>2021-06-30</td>\n",
       "      <td>2021-06-30</td>\n",
       "      <td>2021-06-30</td>\n",
       "      <td>NaN</td>\n",
       "      <td>NaN</td>\n",
       "      <td>NaN</td>\n",
       "      <td>NaN</td>\n",
       "      <td>NaN</td>\n",
       "      <td>Suspeito</td>\n",
       "      <td>...</td>\n",
       "      <td>Não</td>\n",
       "      <td>Não Informado</td>\n",
       "      <td>Não</td>\n",
       "      <td>Não</td>\n",
       "      <td>Não</td>\n",
       "      <td>Não Informado</td>\n",
       "      <td>Não Informado</td>\n",
       "      <td>Não Informado</td>\n",
       "      <td>Não Informado</td>\n",
       "      <td>Não Informado</td>\n",
       "    </tr>\n",
       "  </tbody>\n",
       "</table>\n",
       "<p>1 rows × 45 columns</p>\n",
       "</div>"
      ]
     },
     "metadata": {},
     "execution_count": 11
    }
   ],
   "metadata": {}
  },
  {
   "cell_type": "code",
   "execution_count": 13,
   "source": [
    "df.info()"
   ],
   "outputs": [
    {
     "output_type": "stream",
     "name": "stdout",
     "text": [
      "<class 'pandas.core.frame.DataFrame'>\n",
      "RangeIndex: 1651537 entries, 0 to 1651536\n",
      "Data columns (total 45 columns):\n",
      " #   Column                   Non-Null Count    Dtype \n",
      "---  ------                   --------------    ----- \n",
      " 0   DataNotificacao          1651537 non-null  object\n",
      " 1   DataCadastro             1651537 non-null  object\n",
      " 2   DataDiagnostico          1651537 non-null  object\n",
      " 3   DataColeta_RT_PCR        810766 non-null   object\n",
      " 4   DataColetaTesteRapido    600675 non-null   object\n",
      " 5   DataColetaSorologia      87834 non-null    object\n",
      " 6   DataColetaSorologiaIGG   134953 non-null   object\n",
      " 7   DataEncerramento         1414956 non-null  object\n",
      " 8   DataObito                14830 non-null    object\n",
      " 9   Classificacao            1651537 non-null  object\n",
      " 10  Evolucao                 1651537 non-null  object\n",
      " 11  CriterioConfirmacao      1651537 non-null  object\n",
      " 12  StatusNotificacao        1651537 non-null  object\n",
      " 13  Municipio                1651537 non-null  object\n",
      " 14  Bairro                   1634771 non-null  object\n",
      " 15  FaixaEtaria              1651537 non-null  object\n",
      " 16  IdadeNaDataNotificacao   1651537 non-null  object\n",
      " 17  Sexo                     1651537 non-null  object\n",
      " 18  RacaCor                  1651537 non-null  object\n",
      " 19  Escolaridade             1651537 non-null  object\n",
      " 20  Gestante                 1651537 non-null  object\n",
      " 21  Febre                    1651537 non-null  object\n",
      " 22  DificuldadeRespiratoria  1651537 non-null  object\n",
      " 23  Tosse                    1651537 non-null  object\n",
      " 24  Coriza                   1651537 non-null  object\n",
      " 25  DorGarganta              1651537 non-null  object\n",
      " 26  Diarreia                 1651537 non-null  object\n",
      " 27  Cefaleia                 1651537 non-null  object\n",
      " 28  ComorbidadePulmao        1651537 non-null  object\n",
      " 29  ComorbidadeCardio        1651537 non-null  object\n",
      " 30  ComorbidadeRenal         1651537 non-null  object\n",
      " 31  ComorbidadeDiabetes      1651537 non-null  object\n",
      " 32  ComorbidadeTabagismo     1651537 non-null  object\n",
      " 33  ComorbidadeObesidade     1651537 non-null  object\n",
      " 34  FicouInternado           1651537 non-null  object\n",
      " 35  ViagemBrasil             1651537 non-null  object\n",
      " 36  ViagemInternacional      1651537 non-null  object\n",
      " 37  ProfissionalSaude        1651537 non-null  object\n",
      " 38  PossuiDeficiencia        1651537 non-null  object\n",
      " 39  MoradorDeRua             1651537 non-null  object\n",
      " 40  ResultadoRT_PCR          1651537 non-null  object\n",
      " 41  ResultadoTesteRapido     1651537 non-null  object\n",
      " 42  ResultadoSorologia       1651537 non-null  object\n",
      " 43  ResultadoSorologia_IGG   1651537 non-null  object\n",
      " 44  TipoTesteRapido          1651537 non-null  object\n",
      "dtypes: object(45)\n",
      "memory usage: 567.0+ MB\n"
     ]
    }
   ],
   "metadata": {}
  },
  {
   "cell_type": "markdown",
   "source": [
    "> Dicionário de Dados"
   ],
   "metadata": {}
  },
  {
   "cell_type": "code",
   "execution_count": null,
   "source": [
    "# from IPython.display import Markdown, display\r\n",
    "\"\"\" \r\n",
    "display(\r\n",
    "    Markdown(\r\n",
    "        open(os.path.join(DATADIR + DATADIC), \r\n",
    "             encoding=\"utf-8\").read())) \r\n",
    "\"\"\""
   ],
   "outputs": [],
   "metadata": {}
  },
  {
   "cell_type": "code",
   "execution_count": 16,
   "source": [
    "df.isna().sum()"
   ],
   "outputs": [
    {
     "output_type": "execute_result",
     "data": {
      "text/plain": [
       "DataNotificacao                  0\n",
       "DataCadastro                     0\n",
       "DataDiagnostico                  0\n",
       "DataColeta_RT_PCR           840771\n",
       "DataColetaTesteRapido      1050862\n",
       "DataColetaSorologia        1563703\n",
       "DataColetaSorologiaIGG     1516584\n",
       "DataEncerramento            236581\n",
       "DataObito                  1636707\n",
       "Classificacao                    0\n",
       "Evolucao                         0\n",
       "CriterioConfirmacao              0\n",
       "StatusNotificacao                0\n",
       "Municipio                        0\n",
       "Bairro                       16766\n",
       "FaixaEtaria                      0\n",
       "IdadeNaDataNotificacao           0\n",
       "Sexo                             0\n",
       "RacaCor                          0\n",
       "Escolaridade                     0\n",
       "Gestante                         0\n",
       "Febre                            0\n",
       "DificuldadeRespiratoria          0\n",
       "Tosse                            0\n",
       "Coriza                           0\n",
       "DorGarganta                      0\n",
       "Diarreia                         0\n",
       "Cefaleia                         0\n",
       "ComorbidadePulmao                0\n",
       "ComorbidadeCardio                0\n",
       "ComorbidadeRenal                 0\n",
       "ComorbidadeDiabetes              0\n",
       "ComorbidadeTabagismo             0\n",
       "ComorbidadeObesidade             0\n",
       "FicouInternado                   0\n",
       "ViagemBrasil                     0\n",
       "ViagemInternacional              0\n",
       "ProfissionalSaude                0\n",
       "PossuiDeficiencia                0\n",
       "MoradorDeRua                     0\n",
       "ResultadoRT_PCR                  0\n",
       "ResultadoTesteRapido             0\n",
       "ResultadoSorologia               0\n",
       "ResultadoSorologia_IGG           0\n",
       "TipoTesteRapido                  0\n",
       "dtype: int64"
      ]
     },
     "metadata": {},
     "execution_count": 16
    }
   ],
   "metadata": {}
  },
  {
   "cell_type": "code",
   "execution_count": null,
   "source": [
    "df.to_pickle(DATADIR + 'df.pkl')"
   ],
   "outputs": [],
   "metadata": {}
  }
 ],
 "metadata": {
  "interpreter": {
   "hash": "e9aa689edf4e3253ce592293dcc69d32d3ef370148852f3558b2d441f5963c91"
  },
  "kernelspec": {
   "display_name": "Python 3.8.8 64-bit ('base': conda)",
   "name": "python3"
  },
  "language_info": {
   "name": "python",
   "version": ""
  }
 },
 "nbformat": 4,
 "nbformat_minor": 5
}