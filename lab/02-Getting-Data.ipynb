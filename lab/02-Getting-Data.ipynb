{
 "cells": [
  {
   "cell_type": "markdown",
   "id": "68a58a03-2d83-4da4-acf5-2401b8914795",
   "metadata": {},
   "source": [
    "# Getting Data"
   ]
  },
  {
   "cell_type": "markdown",
   "id": "1078e6dd-9d03-427d-adc1-95199c7a4699",
   "metadata": {},
   "source": [
    "> Used Cars Dataset"
   ]
  },
  {
   "cell_type": "code",
   "execution_count": 2,
   "id": "ae267bc6-26f2-440d-b917-9a4fea6ee57c",
   "metadata": {},
   "outputs": [],
   "source": [
    "import pandas as pd\n",
    "import os"
   ]
  },
  {
   "cell_type": "code",
   "execution_count": 6,
   "id": "948c539a-14b0-455b-8e32-2d1867f15cf3",
   "metadata": {},
   "outputs": [],
   "source": [
    "BASEDIR = os.path.abspath('../')\n",
    "DATADIR = os.path.join(BASEDIR + '/data/')\n",
    "DATASET = 'MICRODADOS.csv'\n",
    "SEP = ';'\n",
    "# ENCODING: || 'utf-8' # || 'latin1' # || 'iso-8859-1' # || 'cp1252'\n",
    "DATADIC = 'dictionary.md'"
   ]
  },
  {
   "cell_type": "code",
   "execution_count": 7,
   "id": "6abd4a54-898e-4669-8189-0679fa7adac9",
   "metadata": {},
   "outputs": [
    {
     "output_type": "execute_result",
     "data": {
      "text/plain": [
       "  DataNotificacao DataCadastro DataDiagnostico DataColeta_RT_PCR  \\\n",
       "0      2021-07-05   2021-06-30      2021-06-30        2021-06-30   \n",
       "\n",
       "  DataColetaTesteRapido DataColetaSorologia DataColetaSorologiaIGG  \\\n",
       "0                   NaN                 NaN                    NaN   \n",
       "\n",
       "  DataEncerramento DataObito Classificacao  ... ViagemBrasil  \\\n",
       "0              NaN       NaN      Suspeito  ...          Não   \n",
       "\n",
       "  ViagemInternacional ProfissionalSaude PossuiDeficiencia MoradorDeRua  \\\n",
       "0       Não Informado               Não               Não          Não   \n",
       "\n",
       "  ResultadoRT_PCR ResultadoTesteRapido ResultadoSorologia  \\\n",
       "0   Não Informado        Não Informado      Não Informado   \n",
       "\n",
       "  ResultadoSorologia_IGG TipoTesteRapido  \n",
       "0          Não Informado   Não Informado  \n",
       "\n",
       "[1 rows x 45 columns]"
      ],
      "text/html": "<div>\n<style scoped>\n    .dataframe tbody tr th:only-of-type {\n        vertical-align: middle;\n    }\n\n    .dataframe tbody tr th {\n        vertical-align: top;\n    }\n\n    .dataframe thead th {\n        text-align: right;\n    }\n</style>\n<table border=\"1\" class=\"dataframe\">\n  <thead>\n    <tr style=\"text-align: right;\">\n      <th></th>\n      <th>DataNotificacao</th>\n      <th>DataCadastro</th>\n      <th>DataDiagnostico</th>\n      <th>DataColeta_RT_PCR</th>\n      <th>DataColetaTesteRapido</th>\n      <th>DataColetaSorologia</th>\n      <th>DataColetaSorologiaIGG</th>\n      <th>DataEncerramento</th>\n      <th>DataObito</th>\n      <th>Classificacao</th>\n      <th>...</th>\n      <th>ViagemBrasil</th>\n      <th>ViagemInternacional</th>\n      <th>ProfissionalSaude</th>\n      <th>PossuiDeficiencia</th>\n      <th>MoradorDeRua</th>\n      <th>ResultadoRT_PCR</th>\n      <th>ResultadoTesteRapido</th>\n      <th>ResultadoSorologia</th>\n      <th>ResultadoSorologia_IGG</th>\n      <th>TipoTesteRapido</th>\n    </tr>\n  </thead>\n  <tbody>\n    <tr>\n      <th>0</th>\n      <td>2021-07-05</td>\n      <td>2021-06-30</td>\n      <td>2021-06-30</td>\n      <td>2021-06-30</td>\n      <td>NaN</td>\n      <td>NaN</td>\n      <td>NaN</td>\n      <td>NaN</td>\n      <td>NaN</td>\n      <td>Suspeito</td>\n      <td>...</td>\n      <td>Não</td>\n      <td>Não Informado</td>\n      <td>Não</td>\n      <td>Não</td>\n      <td>Não</td>\n      <td>Não Informado</td>\n      <td>Não Informado</td>\n      <td>Não Informado</td>\n      <td>Não Informado</td>\n      <td>Não Informado</td>\n    </tr>\n  </tbody>\n</table>\n<p>1 rows × 45 columns</p>\n</div>"
     },
     "metadata": {},
     "execution_count": 7
    }
   ],
   "source": [
    "PATH = os.path.join(DATADIR + DATASET)\n",
    "df = pd.read_csv(PATH, sep=SEP, error_bad_lines=False, encoding='latin1')\n",
    "# Preview para identificar a variável alvo\n",
    "df.head(1)"
   ]
  },
  {
   "cell_type": "code",
   "execution_count": 8,
   "id": "8664bb47-809f-44f7-add3-15ed2f3311fd",
   "metadata": {},
   "outputs": [
    {
     "output_type": "stream",
     "name": "stdout",
     "text": [
      "\nDataset Summary and Data Types\n=======================================================================\nShape: (1651537, 45)\n\nFeature names:\n DataNotificacao            object\nDataCadastro               object\nDataDiagnostico            object\nDataColeta_RT_PCR          object\nDataColetaTesteRapido      object\nDataColetaSorologia        object\nDataColetaSorologiaIGG     object\nDataEncerramento           object\nDataObito                  object\nClassificacao              object\nEvolucao                   object\nCriterioConfirmacao        object\nStatusNotificacao          object\nMunicipio                  object\nBairro                     object\nFaixaEtaria                object\nIdadeNaDataNotificacao     object\nSexo                       object\nRacaCor                    object\nEscolaridade               object\nGestante                   object\nFebre                      object\nDificuldadeRespiratoria    object\nTosse                      object\nCoriza                     object\nDorGarganta                object\nDiarreia                   object\nCefaleia                   object\nComorbidadePulmao          object\nComorbidadeCardio          object\nComorbidadeRenal           object\nComorbidadeDiabetes        object\nComorbidadeTabagismo       object\nComorbidadeObesidade       object\nFicouInternado             object\nViagemBrasil               object\nViagemInternacional        object\nProfissionalSaude          object\nPossuiDeficiencia          object\nMoradorDeRua               object\nResultadoRT_PCR            object\nResultadoTesteRapido       object\nResultadoSorologia         object\nResultadoSorologia_IGG     object\nTipoTesteRapido            object\ndtype: object\n\n=======================================================================\n\n"
     ]
    }
   ],
   "source": [
    "#target_names = df[\"price\"].name\n",
    "#feature_names = df.drop(columns=[target_names]).columns.values\n",
    "#X, y = df.drop([target_names], axis=1).values, df[target_names].values\n",
    "\n",
    "print(\"\\nDataset Summary and Data Types\")\n",
    "print(\"=======================================================================\")\n",
    "print(\"Shape:\", df.shape)\n",
    "print(\"\\nFeature names:\\n\", df.dtypes)\n",
    "#print(\"\\nTarget names:\\n\", target_names)\n",
    "print(\"\\n=======================================================================\\n\")"
   ]
  },
  {
   "cell_type": "markdown",
   "id": "56449411-ede8-4116-b0ad-0bac25b0cbc4",
   "metadata": {},
   "source": [
    "> Dicionário de Dados"
   ]
  },
  {
   "cell_type": "code",
   "execution_count": 9,
   "id": "d0ace1c4-e93b-4cec-a1e3-711a72acc726",
   "metadata": {},
   "outputs": [],
   "source": [
    "from IPython.display import Markdown, display"
   ]
  },
  {
   "cell_type": "code",
   "execution_count": 10,
   "id": "7cd9333b-1649-4e81-b275-1d1da1681d69",
   "metadata": {},
   "outputs": [
    {
     "output_type": "error",
     "ename": "FileNotFoundError",
     "evalue": "[Errno 2] No such file or directory: 'c:\\\\Users\\\\ulp\\\\Documents\\\\GitHub\\\\VUPS-MentoriaDSA2021/data/dictionary.md'",
     "traceback": [
      "\u001b[1;31m---------------------------------------------------------------------------\u001b[0m",
      "\u001b[1;31mFileNotFoundError\u001b[0m                         Traceback (most recent call last)",
      "\u001b[1;32m<ipython-input-10-57e602e0b9db>\u001b[0m in \u001b[0;36m<module>\u001b[1;34m\u001b[0m\n\u001b[0;32m      1\u001b[0m display(\n\u001b[0;32m      2\u001b[0m     Markdown(\n\u001b[1;32m----> 3\u001b[1;33m         open(os.path.join(DATADIR + DATADIC), \n\u001b[0m\u001b[0;32m      4\u001b[0m              encoding=\"utf-8\").read()))\n",
      "\u001b[1;31mFileNotFoundError\u001b[0m: [Errno 2] No such file or directory: 'c:\\\\Users\\\\ulp\\\\Documents\\\\GitHub\\\\VUPS-MentoriaDSA2021/data/dictionary.md'"
     ]
    }
   ],
   "source": [
    "display(\n",
    "    Markdown(\n",
    "        open(os.path.join(DATADIR + DATADIC), \n",
    "             encoding=\"utf-8\").read()))"
   ]
  },
  {
   "cell_type": "markdown",
   "id": "67dcf16c-2551-434a-93fc-b69fba2c159b",
   "metadata": {},
   "source": [
    "## Data Cleaning"
   ]
  },
  {
   "cell_type": "markdown",
   "id": "a046ff9b-39bf-40b3-9c71-e95419cac54e",
   "metadata": {},
   "source": [
    "### Removing Missing Values"
   ]
  },
  {
   "cell_type": "code",
   "execution_count": 11,
   "id": "8f6b9ca9-026f-4ca9-9112-27fc7db8adc4",
   "metadata": {},
   "outputs": [
    {
     "output_type": "execute_result",
     "data": {
      "text/plain": [
       "DataNotificacao                  0\n",
       "DataCadastro                     0\n",
       "DataDiagnostico                  0\n",
       "DataColeta_RT_PCR           840771\n",
       "DataColetaTesteRapido      1050862\n",
       "DataColetaSorologia        1563703\n",
       "DataColetaSorologiaIGG     1516584\n",
       "DataEncerramento            236581\n",
       "DataObito                  1636707\n",
       "Classificacao                    0\n",
       "Evolucao                         0\n",
       "CriterioConfirmacao              0\n",
       "StatusNotificacao                0\n",
       "Municipio                        0\n",
       "Bairro                       16766\n",
       "FaixaEtaria                      0\n",
       "IdadeNaDataNotificacao           0\n",
       "Sexo                             0\n",
       "RacaCor                          0\n",
       "Escolaridade                     0\n",
       "Gestante                         0\n",
       "Febre                            0\n",
       "DificuldadeRespiratoria          0\n",
       "Tosse                            0\n",
       "Coriza                           0\n",
       "DorGarganta                      0\n",
       "Diarreia                         0\n",
       "Cefaleia                         0\n",
       "ComorbidadePulmao                0\n",
       "ComorbidadeCardio                0\n",
       "ComorbidadeRenal                 0\n",
       "ComorbidadeDiabetes              0\n",
       "ComorbidadeTabagismo             0\n",
       "ComorbidadeObesidade             0\n",
       "FicouInternado                   0\n",
       "ViagemBrasil                     0\n",
       "ViagemInternacional              0\n",
       "ProfissionalSaude                0\n",
       "PossuiDeficiencia                0\n",
       "MoradorDeRua                     0\n",
       "ResultadoRT_PCR                  0\n",
       "ResultadoTesteRapido             0\n",
       "ResultadoSorologia               0\n",
       "ResultadoSorologia_IGG           0\n",
       "TipoTesteRapido                  0\n",
       "dtype: int64"
      ]
     },
     "metadata": {},
     "execution_count": 11
    }
   ],
   "source": [
    "df.isna().sum()"
   ]
  },
  {
   "cell_type": "markdown",
   "id": "b71fb9ff-7acf-4d92-8f5a-8ff8ca402ba9",
   "metadata": {},
   "source": [
    "### Removing Variables"
   ]
  },
  {
   "cell_type": "code",
   "execution_count": null,
   "id": "73ea3124-be85-408e-82c7-27b3683dc19a",
   "metadata": {},
   "outputs": [],
   "source": [
    "# del data.frame['feature_name']"
   ]
  },
  {
   "cell_type": "markdown",
   "id": "3af7597b-2dcf-402e-bee8-9371f64597e2",
   "metadata": {},
   "source": [
    "## Data Transformation"
   ]
  },
  {
   "cell_type": "code",
   "execution_count": null,
   "id": "253c9c60-c4d4-42fa-9fb2-bb3103414836",
   "metadata": {},
   "outputs": [],
   "source": [
    "import datetime"
   ]
  },
  {
   "cell_type": "code",
   "execution_count": null,
   "id": "ffd419ec-2fd4-4157-941f-82296a5defc9",
   "metadata": {},
   "outputs": [],
   "source": [
    "# Cria função - Nome do Mês para Número do Mês\n",
    "#def month_name_to_month_number(df, month_attribute_name):\n",
    "#    df['monthOfCreation_num'] = df[month_attribute_name].apply(lambda month_name: datetime.datetime.strptime(month_name, \"%B\").month)"
   ]
  },
  {
   "cell_type": "code",
   "execution_count": null,
   "id": "dcc0fba3-15ef-4bad-ac8f-64661de5a963",
   "metadata": {},
   "outputs": [],
   "source": [
    "# Executa função\n",
    "#month_name_to_month_number(df, 'monthOfCreation')"
   ]
  }
 ],
 "metadata": {
  "kernelspec": {
   "name": "python3",
   "display_name": "Python 3.8.8 64-bit ('ulp': virtualenv)"
  },
  "language_info": {
   "codemirror_mode": {
    "name": "ipython",
    "version": 3
   },
   "file_extension": ".py",
   "mimetype": "text/x-python",
   "name": "python",
   "nbconvert_exporter": "python",
   "pygments_lexer": "ipython3",
   "version": "3.8.8"
  },
  "interpreter": {
   "hash": "e9aa689edf4e3253ce592293dcc69d32d3ef370148852f3558b2d441f5963c91"
  }
 },
 "nbformat": 4,
 "nbformat_minor": 5
}