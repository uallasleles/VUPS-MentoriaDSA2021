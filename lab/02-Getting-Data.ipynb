{
 "cells": [
  {
   "cell_type": "markdown",
   "metadata": {},
   "source": [
    "# Getting Data"
   ]
  },
  {
   "cell_type": "markdown",
   "metadata": {},
   "source": [
    "> COVID-19 - ESTADO DO ESPÍRITO SANTO\r\n",
    "\r\n",
    "Fonte: Sistema eSUS/VS – Secretaria de Saúde do Estado do Espírito Santo"
   ]
  },
  {
   "cell_type": "code",
   "execution_count": 1,
   "metadata": {},
   "outputs": [],
   "source": [
    "import os\r\n",
    "import pandas as pd"
   ]
  },
  {
   "cell_type": "code",
   "execution_count": 2,
   "metadata": {},
   "outputs": [],
   "source": [
    "BASEDIR = os.path.abspath('../')\r\n",
    "# comentário qualquer\r\n",
    "DATADIR = os.path.join(BASEDIR + '/data/')\r\n",
    "DATASET = 'MICRODADOS.csv'\r\n",
    "SEP = ';'\r\n",
    "# ENCODING: || 'utf-8' # || 'latin1' # || 'iso-8859-1' # || 'cp1252'\r\n",
    "DATADIC = 'dictionary.md'"
   ]
  },
  {
   "cell_type": "code",
   "execution_count": 3,
   "metadata": {},
   "outputs": [
    {
     "data": {
      "text/html": [
       "<div>\n",
       "<style scoped>\n",
       "    .dataframe tbody tr th:only-of-type {\n",
       "        vertical-align: middle;\n",
       "    }\n",
       "\n",
       "    .dataframe tbody tr th {\n",
       "        vertical-align: top;\n",
       "    }\n",
       "\n",
       "    .dataframe thead th {\n",
       "        text-align: right;\n",
       "    }\n",
       "</style>\n",
       "<table border=\"1\" class=\"dataframe\">\n",
       "  <thead>\n",
       "    <tr style=\"text-align: right;\">\n",
       "      <th></th>\n",
       "      <th>DataNotificacao</th>\n",
       "      <th>DataCadastro</th>\n",
       "      <th>DataDiagnostico</th>\n",
       "      <th>DataColeta_RT_PCR</th>\n",
       "      <th>DataColetaTesteRapido</th>\n",
       "      <th>DataColetaSorologia</th>\n",
       "      <th>DataColetaSorologiaIGG</th>\n",
       "      <th>DataEncerramento</th>\n",
       "      <th>DataObito</th>\n",
       "      <th>Classificacao</th>\n",
       "      <th>...</th>\n",
       "      <th>ViagemBrasil</th>\n",
       "      <th>ViagemInternacional</th>\n",
       "      <th>ProfissionalSaude</th>\n",
       "      <th>PossuiDeficiencia</th>\n",
       "      <th>MoradorDeRua</th>\n",
       "      <th>ResultadoRT_PCR</th>\n",
       "      <th>ResultadoTesteRapido</th>\n",
       "      <th>ResultadoSorologia</th>\n",
       "      <th>ResultadoSorologia_IGG</th>\n",
       "      <th>TipoTesteRapido</th>\n",
       "    </tr>\n",
       "  </thead>\n",
       "  <tbody>\n",
       "    <tr>\n",
       "      <th>0</th>\n",
       "      <td>2021-07-05</td>\n",
       "      <td>2021-06-30</td>\n",
       "      <td>2021-06-30</td>\n",
       "      <td>2021-06-30</td>\n",
       "      <td>NaN</td>\n",
       "      <td>NaN</td>\n",
       "      <td>NaN</td>\n",
       "      <td>NaN</td>\n",
       "      <td>NaN</td>\n",
       "      <td>Suspeito</td>\n",
       "      <td>...</td>\n",
       "      <td>Não</td>\n",
       "      <td>Não Informado</td>\n",
       "      <td>Não</td>\n",
       "      <td>Não</td>\n",
       "      <td>Não</td>\n",
       "      <td>Não Informado</td>\n",
       "      <td>Não Informado</td>\n",
       "      <td>Não Informado</td>\n",
       "      <td>Não Informado</td>\n",
       "      <td>Não Informado</td>\n",
       "    </tr>\n",
       "  </tbody>\n",
       "</table>\n",
       "<p>1 rows × 45 columns</p>\n",
       "</div>"
      ],
      "text/plain": [
       "  DataNotificacao DataCadastro DataDiagnostico DataColeta_RT_PCR  \\\n",
       "0      2021-07-05   2021-06-30      2021-06-30        2021-06-30   \n",
       "\n",
       "  DataColetaTesteRapido DataColetaSorologia DataColetaSorologiaIGG  \\\n",
       "0                   NaN                 NaN                    NaN   \n",
       "\n",
       "  DataEncerramento DataObito Classificacao  ... ViagemBrasil  \\\n",
       "0              NaN       NaN      Suspeito  ...          Não   \n",
       "\n",
       "  ViagemInternacional ProfissionalSaude PossuiDeficiencia MoradorDeRua  \\\n",
       "0       Não Informado               Não               Não          Não   \n",
       "\n",
       "  ResultadoRT_PCR ResultadoTesteRapido ResultadoSorologia  \\\n",
       "0   Não Informado        Não Informado      Não Informado   \n",
       "\n",
       "  ResultadoSorologia_IGG TipoTesteRapido  \n",
       "0          Não Informado   Não Informado  \n",
       "\n",
       "[1 rows x 45 columns]"
      ]
     },
     "execution_count": 3,
     "metadata": {},
     "output_type": "execute_result"
    }
   ],
   "source": [
    "PATH = os.path.join(DATADIR + DATASET)\n",
    "df = pd.read_csv(PATH, sep=SEP, error_bad_lines=False, encoding='latin1')\n",
    "# Preview para identificar a variável alvo\n",
    "df.head(1)"
   ]
  },
  {
   "cell_type": "code",
   "execution_count": 8,
   "metadata": {},
   "outputs": [
    {
     "name": "stdout",
     "output_type": "stream",
     "text": [
      "\n",
      "Dataset Summary and Data Types\n",
      "=======================================================================\n",
      "Shape: (1651537, 45)\n",
      "\n",
      "Feature names:\n",
      " DataNotificacao            object\n",
      "DataCadastro               object\n",
      "DataDiagnostico            object\n",
      "DataColeta_RT_PCR          object\n",
      "DataColetaTesteRapido      object\n",
      "DataColetaSorologia        object\n",
      "DataColetaSorologiaIGG     object\n",
      "DataEncerramento           object\n",
      "DataObito                  object\n",
      "Classificacao              object\n",
      "Evolucao                   object\n",
      "CriterioConfirmacao        object\n",
      "StatusNotificacao          object\n",
      "Municipio                  object\n",
      "Bairro                     object\n",
      "FaixaEtaria                object\n",
      "IdadeNaDataNotificacao     object\n",
      "Sexo                       object\n",
      "RacaCor                    object\n",
      "Escolaridade               object\n",
      "Gestante                   object\n",
      "Febre                      object\n",
      "DificuldadeRespiratoria    object\n",
      "Tosse                      object\n",
      "Coriza                     object\n",
      "DorGarganta                object\n",
      "Diarreia                   object\n",
      "Cefaleia                   object\n",
      "ComorbidadePulmao          object\n",
      "ComorbidadeCardio          object\n",
      "ComorbidadeRenal           object\n",
      "ComorbidadeDiabetes        object\n",
      "ComorbidadeTabagismo       object\n",
      "ComorbidadeObesidade       object\n",
      "FicouInternado             object\n",
      "ViagemBrasil               object\n",
      "ViagemInternacional        object\n",
      "ProfissionalSaude          object\n",
      "PossuiDeficiencia          object\n",
      "MoradorDeRua               object\n",
      "ResultadoRT_PCR            object\n",
      "ResultadoTesteRapido       object\n",
      "ResultadoSorologia         object\n",
      "ResultadoSorologia_IGG     object\n",
      "TipoTesteRapido            object\n",
      "dtype: object\n",
      "\n",
      "=======================================================================\n",
      "\n"
     ]
    }
   ],
   "source": [
    "#target_names = df[\"price\"].name\n",
    "#feature_names = df.drop(columns=[target_names]).columns.values\n",
    "#X, y = df.drop([target_names], axis=1).values, df[target_names].values\n",
    "\n",
    "print(\"\\nDataset Summary and Data Types\")\n",
    "print(\"=======================================================================\")\n",
    "print(\"Shape:\", df.shape)\n",
    "print(\"\\nFeature names:\\n\", df.dtypes)\n",
    "#print(\"\\nTarget names:\\n\", target_names)\n",
    "print(\"\\n=======================================================================\\n\")"
   ]
  },
  {
   "cell_type": "markdown",
   "metadata": {},
   "source": [
    "> Dicionário de Dados"
   ]
  },
  {
   "cell_type": "code",
   "execution_count": 9,
   "metadata": {},
   "outputs": [],
   "source": [
    "from IPython.display import Markdown, display"
   ]
  },
  {
   "cell_type": "code",
   "execution_count": 10,
   "metadata": {},
   "outputs": [
    {
     "ename": "FileNotFoundError",
     "evalue": "[Errno 2] No such file or directory: 'c:\\\\Users\\\\ulp\\\\Documents\\\\GitHub\\\\VUPS-MentoriaDSA2021/data/dictionary.md'",
     "output_type": "error",
     "traceback": [
      "\u001b[1;31m---------------------------------------------------------------------------\u001b[0m",
      "\u001b[1;31mFileNotFoundError\u001b[0m                         Traceback (most recent call last)",
      "\u001b[1;32m<ipython-input-10-57e602e0b9db>\u001b[0m in \u001b[0;36m<module>\u001b[1;34m\u001b[0m\n\u001b[0;32m      1\u001b[0m display(\n\u001b[0;32m      2\u001b[0m     Markdown(\n\u001b[1;32m----> 3\u001b[1;33m         open(os.path.join(DATADIR + DATADIC), \n\u001b[0m\u001b[0;32m      4\u001b[0m              encoding=\"utf-8\").read()))\n",
      "\u001b[1;31mFileNotFoundError\u001b[0m: [Errno 2] No such file or directory: 'c:\\\\Users\\\\ulp\\\\Documents\\\\GitHub\\\\VUPS-MentoriaDSA2021/data/dictionary.md'"
     ]
    }
   ],
   "source": [
    "display(\n",
    "    Markdown(\n",
    "        open(os.path.join(DATADIR + DATADIC), \n",
    "             encoding=\"utf-8\").read()))"
   ]
  },
  {
   "cell_type": "markdown",
   "metadata": {},
   "source": [
    "## Data Cleaning"
   ]
  },
  {
   "cell_type": "markdown",
   "metadata": {},
   "source": [
    "### Removing Missing Values"
   ]
  },
  {
   "cell_type": "code",
   "execution_count": 11,
   "metadata": {},
   "outputs": [
    {
     "data": {
      "text/plain": [
       "DataNotificacao                  0\n",
       "DataCadastro                     0\n",
       "DataDiagnostico                  0\n",
       "DataColeta_RT_PCR           840771\n",
       "DataColetaTesteRapido      1050862\n",
       "DataColetaSorologia        1563703\n",
       "DataColetaSorologiaIGG     1516584\n",
       "DataEncerramento            236581\n",
       "DataObito                  1636707\n",
       "Classificacao                    0\n",
       "Evolucao                         0\n",
       "CriterioConfirmacao              0\n",
       "StatusNotificacao                0\n",
       "Municipio                        0\n",
       "Bairro                       16766\n",
       "FaixaEtaria                      0\n",
       "IdadeNaDataNotificacao           0\n",
       "Sexo                             0\n",
       "RacaCor                          0\n",
       "Escolaridade                     0\n",
       "Gestante                         0\n",
       "Febre                            0\n",
       "DificuldadeRespiratoria          0\n",
       "Tosse                            0\n",
       "Coriza                           0\n",
       "DorGarganta                      0\n",
       "Diarreia                         0\n",
       "Cefaleia                         0\n",
       "ComorbidadePulmao                0\n",
       "ComorbidadeCardio                0\n",
       "ComorbidadeRenal                 0\n",
       "ComorbidadeDiabetes              0\n",
       "ComorbidadeTabagismo             0\n",
       "ComorbidadeObesidade             0\n",
       "FicouInternado                   0\n",
       "ViagemBrasil                     0\n",
       "ViagemInternacional              0\n",
       "ProfissionalSaude                0\n",
       "PossuiDeficiencia                0\n",
       "MoradorDeRua                     0\n",
       "ResultadoRT_PCR                  0\n",
       "ResultadoTesteRapido             0\n",
       "ResultadoSorologia               0\n",
       "ResultadoSorologia_IGG           0\n",
       "TipoTesteRapido                  0\n",
       "dtype: int64"
      ]
     },
     "execution_count": 11,
     "metadata": {},
     "output_type": "execute_result"
    }
   ],
   "source": [
    "df.isna().sum()"
   ]
  },
  {
   "cell_type": "markdown",
   "metadata": {},
   "source": [
    "### Removing Variables"
   ]
  },
  {
   "cell_type": "code",
   "execution_count": null,
   "metadata": {},
   "outputs": [],
   "source": [
    "# del data.frame['feature_name']"
   ]
  },
  {
   "cell_type": "markdown",
   "metadata": {},
   "source": [
    "## Data Transformation"
   ]
  },
  {
   "cell_type": "code",
   "execution_count": null,
   "metadata": {},
   "outputs": [],
   "source": [
    "import datetime"
   ]
  },
  {
   "cell_type": "code",
   "execution_count": null,
   "metadata": {},
   "outputs": [],
   "source": [
    "# Cria função - Nome do Mês para Número do Mês\n",
    "#def month_name_to_month_number(df, month_attribute_name):\n",
    "#    df['monthOfCreation_num'] = df[month_attribute_name].apply(lambda month_name: datetime.datetime.strptime(month_name, \"%B\").month)"
   ]
  },
  {
   "cell_type": "code",
   "execution_count": null,
   "metadata": {},
   "outputs": [],
   "source": [
    "# Executa função\n",
    "#month_name_to_month_number(df, 'monthOfCreation')"
   ]
  }
 ],
 "metadata": {
  "interpreter": {
   "hash": "e9aa689edf4e3253ce592293dcc69d32d3ef370148852f3558b2d441f5963c91"
  },
  "kernelspec": {
   "display_name": "Python 3.8.8 64-bit ('ulp': virtualenv)",
   "name": "python3"
  },
  "language_info": {
   "name": "python",
   "version": ""
  }
 },
 "nbformat": 4,
 "nbformat_minor": 5
}