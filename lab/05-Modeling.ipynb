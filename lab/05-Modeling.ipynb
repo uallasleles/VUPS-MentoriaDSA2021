{
 "cells": [
  {
   "cell_type": "markdown",
   "id": "107ac597-9bcf-4931-862c-c7760b600c73",
   "metadata": {},
   "source": [
    "# MODELAGEM"
   ]
  },
  {
   "cell_type": "markdown",
   "id": "f39f2af7-6c9f-4c8f-8330-9b183c152a34",
   "metadata": {},
   "source": [
    "## Seleção do Modelo Preditivo"
   ]
  },
  {
   "cell_type": "code",
   "execution_count": 78,
   "id": "8a9d0965-9319-4db4-9a92-024ccd34c830",
   "metadata": {},
   "outputs": [
    {
     "name": "stdout",
     "output_type": "stream",
     "text": [
      "LR: 0.988562 (0.022887)\n",
      "LDA: 0.994444 (0.016667)\n",
      "NB: 0.971569 (0.038751)\n",
      "KNN: 0.943791 (0.043913)\n",
      "CART: 0.904248 (0.061522)\n",
      "SVM: 0.994118 (0.017647)\n"
     ]
    },
    {
     "data": {
      "image/png": "[encoded data removed]",
      "text/plain": [
       "<Figure size 432x288 with 1 Axes>"
      ]
     },
     "metadata": {
      "needs_background": "light"
     },
     "output_type": "display_data"
    }
   ],
   "source": [
    "#from sklearn.model_selection import KFold\n",
    "#from sklearn.model_selection import cross_val_score\n",
    "#from sklearn.linear_model import LogisticRegression\n",
    "#from sklearn.tree import DecisionTreeClassifier\n",
    "#from sklearn.neighbors import KNeighborsClassifier\n",
    "#from sklearn.discriminant_analysis import LinearDiscriminantAnalysis\n",
    "#from sklearn.naive_bayes import GaussianNB\n",
    "#from sklearn.svm import SVC\n",
    "\n",
    "# Definindo número de folds\n",
    "# n_folds = 10\n",
    "\n",
    "# Lista de Modelos\n",
    "modelos = []\n",
    "modelos.append(('LR',   LogisticRegression()))\n",
    "modelos.append(('LDA',  LinearDiscriminantAnalysis()))\n",
    "modelos.append(('NB',   GaussianNB()))\n",
    "modelos.append(('KNN',  KNeighborsClassifier()))\n",
    "modelos.append(('CART', DecisionTreeClassifier()))\n",
    "modelos.append(('SVM',  SVC()))\n",
    "\n",
    "# Avaliando cada modelo em um loop\n",
    "rs = []\n",
    "nm = []\n",
    "\n",
    "for nome, modelo in modelos:\n",
    "    cv_rs = cross_val_score(estimator = modelo,\n",
    "                            X = X_escalado,\n",
    "                            y = y,\n",
    "                            scoring = 'accuracy',\n",
    "                            cv = kf)\n",
    "    rs.append(cv_rs)\n",
    "    nm.append(nome)\n",
    "    \n",
    "    msg = \"%s: %f (%f)\" % (nome, cv_rs.mean(), cv_rs.std())\n",
    "    print(msg)\n",
    "    \n",
    "# Boxplot para comparar os algoritmos\n",
    "fig = plt.figure()\n",
    "fig.suptitle('Comparação de Algoritmos de Classificação')\n",
    "ax = fig.add_subplot(111)\n",
    "plt.boxplot(rs)\n",
    "ax.set_xticklabels(nm)\n",
    "plt.show()"
   ]
  }
 ],
 "metadata": {
  "kernelspec": {
   "display_name": "Python 3",
   "language": "python",
   "name": "python3"
  },
  "language_info": {
   "codemirror_mode": {
    "name": "ipython",
    "version": 3
   },
   "file_extension": ".py",
   "mimetype": "text/x-python",
   "name": "python",
   "nbconvert_exporter": "python",
   "pygments_lexer": "ipython3",
   "version": "3.8.8"
  }
 },
 "nbformat": 4,
 "nbformat_minor": 5
}
