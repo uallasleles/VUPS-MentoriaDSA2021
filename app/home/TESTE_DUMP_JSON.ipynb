{
 "cells": [
  {
   "cell_type": "code",
   "execution_count": 1,
   "metadata": {},
   "outputs": [],
   "source": [
    "import pandas as pd\n",
    "import vups\n",
    "from vups import const\n",
    "import json\n",
    "import os"
   ]
  },
  {
   "cell_type": "markdown",
   "metadata": {},
   "source": [
    "___"
   ]
  },
  {
   "cell_type": "code",
   "execution_count": 4,
   "metadata": {},
   "outputs": [
    {
     "name": "stdout",
     "output_type": "stream",
     "text": [
      "Importando o dataset MICRODADOS_BAIRROS...\n",
      "Realizando importação de arquivo PARQUET.\n"
     ]
    }
   ],
   "source": [
    "df = vups.datasets.microdados_bairros()"
   ]
  },
  {
   "cell_type": "code",
   "execution_count": 3,
   "metadata": {},
   "outputs": [],
   "source": [
    "def field_map(df, name):\n",
    "\n",
    "    MAP = {}\n",
    "    MAP[\"DTypeMap\"] = {}\n",
    "\n",
    "    # NOMES DOS CAMPOS\n",
    "    FIELD_NAME = df.columns.to_list()\n",
    "\n",
    "    # TIPO DE DADO PARA CADA CAMPO\n",
    "    FIELD_DTYPE = []\n",
    "    for i in iter(df.dtypes.iat):\n",
    "        FIELD_DTYPE.append(i.name)\n",
    "    \n",
    "    # CRIA UM DICT KEY-VALUE COM NOME E TIPO\n",
    "    z = dict(zip(FIELD_NAME, FIELD_DTYPE))\n",
    "    MAP[\"DTypeMap\"] = z\n",
    "    MAP = json.dumps(MAP, indent=4)\n",
    "    j = json.loads(MAP)\n",
    "\n",
    "    # FORMATA O NOME DO ARQUIVO PARA GRAVAÇÃO\n",
    "    filename = \"{}{}\".format(name, \"_DTYPEMAP.json\")\n",
    "\n",
    "    # GRAVA O DICIONÁRIO EM UM ARQUIVO\n",
    "    with open(os.path.join(const.DATADIR, filename), \"w\") as f:\n",
    "        json.dump(j, f, indent=4)"
   ]
  },
  {
   "cell_type": "code",
   "execution_count": 5,
   "metadata": {},
   "outputs": [],
   "source": [
    "field_map(df, \"MICRODADOS_BAIRROS\")"
   ]
  }
 ],
 "metadata": {
  "interpreter": {
   "hash": "e9aa689edf4e3253ce592293dcc69d32d3ef370148852f3558b2d441f5963c91"
  },
  "kernelspec": {
   "display_name": "Python 3.8.8 64-bit ('base': conda)",
   "name": "python3"
  },
  "language_info": {
   "codemirror_mode": {
    "name": "ipython",
    "version": 3
   },
   "file_extension": ".py",
   "mimetype": "text/x-python",
   "name": "python",
   "nbconvert_exporter": "python",
   "pygments_lexer": "ipython3",
   "version": "3.8.8"
  },
  "orig_nbformat": 4
 },
 "nbformat": 4,
 "nbformat_minor": 2
}
