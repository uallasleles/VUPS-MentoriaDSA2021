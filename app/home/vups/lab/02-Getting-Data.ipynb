{
 "cells": [
  {
   "cell_type": "markdown",
   "metadata": {},
   "source": [
    "# Getting Data"
   ]
  },
  {
   "cell_type": "markdown",
   "metadata": {},
   "source": [
    "> COVID-19 - ESTADO DO ESPÍRITO SANTO\n",
    "\n",
    "Fonte: Sistema eSUS/VS – Secretaria de Saúde do Estado do Espírito Santo"
   ]
  },
  {
   "cell_type": "code",
   "execution_count": null,
   "metadata": {},
   "outputs": [],
   "source": [
    "from home.vups import const"
   ]
  },
  {
   "cell_type": "code",
   "execution_count": null,
   "metadata": {},
   "outputs": [],
   "source": [
    "import sys"
   ]
  },
  {
   "cell_type": "code",
   "execution_count": null,
   "metadata": {},
   "outputs": [],
   "source": [
    "import string"
   ]
  },
  {
   "cell_type": "code",
   "execution_count": null,
   "metadata": {},
   "outputs": [],
   "source": [
    "name = \"MICRODADOS\""
   ]
  },
  {
   "cell_type": "code",
   "execution_count": null,
   "metadata": {},
   "outputs": [],
   "source": [
    "getattr(const, name).get(\"URLS\").items()"
   ]
  },
  {
   "cell_type": "code",
   "execution_count": null,
   "metadata": {},
   "outputs": [],
   "source": [
    "getattr(const, name).get(\"MAP\")"
   ]
  },
  {
   "cell_type": "code",
   "execution_count": null,
   "metadata": {},
   "outputs": [],
   "source": [
    "const.mapa_microdados"
   ]
  },
  {
   "cell_type": "code",
   "execution_count": null,
   "metadata": {},
   "outputs": [],
   "source": [
    "def foo():\n",
    "    name = sys._getframe(  ).f_code.co_name.upper()\n",
    "    print(name)"
   ]
  },
  {
   "cell_type": "code",
   "execution_count": null,
   "metadata": {},
   "outputs": [],
   "source": [
    "foo()"
   ]
  },
  {
   "cell_type": "code",
   "execution_count": null,
   "metadata": {},
   "outputs": [],
   "source": [
    "import pandas as pd\n",
    "import warnings\n",
    "import matplotlib.pyplot as plt\n",
    "plt.style.use('seaborn-talk')\n",
    "\n",
    "warnings.filterwarnings('ignore')\n",
    "%matplotlib inline"
   ]
  },
  {
   "cell_type": "code",
   "execution_count": null,
   "metadata": {},
   "outputs": [],
   "source": [
    "import os"
   ]
  },
  {
   "cell_type": "code",
   "execution_count": null,
   "metadata": {},
   "outputs": [],
   "source": [
    "BASEDIR = 'C:\\\\Users\\\\ulp\\\\Documents\\\\GitHub\\\\VUPS-MentoriaDSA2021\\\\app\\\\home'\n",
    "DATADIR = os.path.join(BASEDIR + \"\\\\data\")\n",
    "DATASET = 'MICRODADOS.csv'\n",
    "SEP = \";\"\n",
    "DATADIC = 'dictionary.md'"
   ]
  },
  {
   "cell_type": "code",
   "execution_count": null,
   "metadata": {},
   "outputs": [],
   "source": [
    "os.path.join(BASEDIR, DATADIR, DATASET)"
   ]
  },
  {
   "cell_type": "code",
   "execution_count": null,
   "metadata": {},
   "outputs": [],
   "source": [
    "PATH = os.path.join(DATADIR + DATASET)\n",
    "\n",
    "df = pd.read_csv(\n",
    "    PATH, \n",
    "    sep=SEP, \n",
    "    error_bad_lines=False, \n",
    "    encoding='latin1')\n",
    "\n",
    "# Preview para identificar a variável alvo\n",
    "df.head(1)"
   ]
  },
  {
   "cell_type": "markdown",
   "metadata": {},
   "source": [
    "___"
   ]
  },
  {
   "cell_type": "code",
   "execution_count": null,
   "metadata": {},
   "outputs": [],
   "source": [
    "import io\n",
    "import pandas as pd\n",
    "import requests\n",
    "from vups import const\n",
    "import validators"
   ]
  },
  {
   "cell_type": "code",
   "execution_count": null,
   "metadata": {},
   "outputs": [],
   "source": [
    "# url = \"https://bi.s3.es.gov.br/covid19/MICRODADOS.csv\"\n",
    "url = \"https://drive.economia.gov.br/owncloud/index.php/s/TD34YJTxalj4X3G/download\"\n",
    "encoding = 'UTF-8'\n",
    "sep = ','\n",
    "warn_bad_lines = True\n",
    "error_bad_lines = True\n",
    "\n",
    "path = const.DATADIR\n",
    "parquet_extension = '.parquet'\n",
    "\n",
    "# filename, file_extension = os.path.splitext(os.path.basename(url))\n",
    "# filepath_or_buffer = os.path.join(path, filename.upper() + file_extension)"
   ]
  },
  {
   "cell_type": "code",
   "execution_count": null,
   "metadata": {},
   "outputs": [],
   "source": [
    "filepath_or_buffer = url\n",
    "if validators.url(filepath_or_buffer):\n",
    "    r = requests.get(filepath_or_buffer, stream=True)\n",
    "    c = pd.read_csv(io.StringIO(r.decode(encoding)))\n",
    "    # dataset = pd.concat(iter, ignore_index=True)\n",
    "    c\n",
    "#     filepath_or_buffer = os.path.join(const.DATADIR, \"{}.{}\".format(filename.upper(), file_extension))\n",
    "#     with open(filepath_or_buffer, 'wb') as fd:\n",
    "#         for chunk in c(chunk_size=128):\n",
    "#             fd.write(chunk)\n",
    "\n",
    "# _PARAMS = {\n",
    "#     \"filepath_or_buffer\": filepath_or_buffer,\n",
    "#     \"iterator\": True,\n",
    "#     \"chunksize\": 128,\n",
    "#     \"sep\": sep,\n",
    "#     \"encoding\": encoding,\n",
    "#     \"warn_bad_lines\": warn_bad_lines,\n",
    "#     \"error_bad_lines\": error_bad_lines,\n",
    "#     \"parse_dates\": True,\n",
    "#     \"dtype\": None\n",
    "# }\n",
    "\n",
    "# iter = pd.read_csv(**_PARAMS)\n",
    "# dataset = pd.concat(iter, ignore_index=True)\n",
    "# dataset"
   ]
  },
  {
   "cell_type": "code",
   "execution_count": null,
   "metadata": {},
   "outputs": [],
   "source": [
    "from vups import const"
   ]
  },
  {
   "cell_type": "code",
   "execution_count": null,
   "metadata": {},
   "outputs": [],
   "source": [
    "NAME = const.ARRECADACAO.get(\"NAME\")\n",
    "NAME"
   ]
  },
  {
   "cell_type": "code",
   "execution_count": null,
   "metadata": {},
   "outputs": [],
   "source": [
    "values = list(const.ARRECADACAO[\"URLS\"].values())\n",
    "values"
   ]
  },
  {
   "cell_type": "code",
   "execution_count": null,
   "metadata": {},
   "outputs": [],
   "source": [
    "items = list(const.ARRECADACAO.get(\"URLS\").items())\n",
    "items"
   ]
  },
  {
   "cell_type": "code",
   "execution_count": null,
   "metadata": {},
   "outputs": [],
   "source": [
    "for i in items:\n",
    "    print(i[0], i[1])\n"
   ]
  },
  {
   "cell_type": "code",
   "execution_count": null,
   "metadata": {},
   "outputs": [],
   "source": [
    "items[0][1]"
   ]
  },
  {
   "cell_type": "code",
   "execution_count": null,
   "metadata": {},
   "outputs": [],
   "source": []
  },
  {
   "cell_type": "code",
   "execution_count": null,
   "metadata": {},
   "outputs": [],
   "source": [
    "import validators"
   ]
  },
  {
   "cell_type": "code",
   "execution_count": null,
   "metadata": {},
   "outputs": [],
   "source": [
    "filepath_or_buffer = \"https://bi.s3.es.gov.br/covid19/MICRODADOS.csv\""
   ]
  },
  {
   "cell_type": "code",
   "execution_count": null,
   "metadata": {},
   "outputs": [],
   "source": [
    "if validators.url(items[0][1]):\n",
    "    print(items[0][0])"
   ]
  },
  {
   "cell_type": "code",
   "execution_count": null,
   "metadata": {},
   "outputs": [],
   "source": [
    "if validators.url(filepath_or_buffer):\n",
    "    print(filepath_or_buffer)"
   ]
  },
  {
   "cell_type": "code",
   "execution_count": null,
   "metadata": {},
   "outputs": [],
   "source": [
    "filepath_or_buffer"
   ]
  },
  {
   "cell_type": "code",
   "execution_count": null,
   "metadata": {},
   "outputs": [],
   "source": [
    "_PARAMS = {\n",
    "    \"filepath_or_buffer\": filepath_or_buffer,\n",
    "    \"usecols\": None,\n",
    "    \"sep\": ';',\n",
    "    \"nrows\": None,\n",
    "    \"encoding\": 'utf-8',\n",
    "    \"warn_bad_lines\": True,\n",
    "    \"error_bad_lines\": True,\n",
    "    \"parse_dates\": True,\n",
    "    \"dtype\": None,\n",
    "}\n",
    "dataset = pd.read_csv(**_PARAMS)"
   ]
  },
  {
   "cell_type": "code",
   "execution_count": null,
   "metadata": {},
   "outputs": [],
   "source": [
    "dataset"
   ]
  },
  {
   "cell_type": "markdown",
   "metadata": {},
   "source": [
    "> Dicionário de Dados"
   ]
  },
  {
   "cell_type": "code",
   "execution_count": null,
   "metadata": {},
   "outputs": [],
   "source": [
    "# from IPython.display import Markdown, display\n",
    "\"\"\" \n",
    "display(\n",
    "    Markdown(\n",
    "        open(os.path.join(DATADIR + DATADIC), \n",
    "             encoding=\"utf-8\").read())) \n",
    "\"\"\""
   ]
  },
  {
   "cell_type": "code",
   "execution_count": null,
   "metadata": {},
   "outputs": [],
   "source": [
    "df.isna().sum()"
   ]
  },
  {
   "cell_type": "code",
   "execution_count": null,
   "metadata": {},
   "outputs": [],
   "source": [
    "df.to_pickle(DATADIR + 'df.pkl')"
   ]
  },
  {
   "cell_type": "code",
   "execution_count": null,
   "metadata": {},
   "outputs": [],
   "source": [
    "import vups"
   ]
  },
  {
   "cell_type": "code",
   "execution_count": null,
   "metadata": {},
   "outputs": [],
   "source": [
    "arrecadacao = vups.datasets.arrecadacao()"
   ]
  },
  {
   "cell_type": "code",
   "execution_count": null,
   "metadata": {},
   "outputs": [],
   "source": [
    "import vups"
   ]
  },
  {
   "cell_type": "code",
   "execution_count": null,
   "metadata": {},
   "outputs": [],
   "source": [
    "df = vups.datasets.microdados(columns=[\"DataObito\"])"
   ]
  },
  {
   "cell_type": "code",
   "execution_count": null,
   "metadata": {},
   "outputs": [],
   "source": [
    "df.dropna()"
   ]
  },
  {
   "cell_type": "code",
   "execution_count": null,
   "metadata": {},
   "outputs": [],
   "source": [
    "name = const.ARRECADACAO.get(\"NAME\")\n",
    "\n",
    "partial_path    = os.path.join(const.DATADIR, name)\n",
    "filepath_pqt    = {\"filepath\": {\"ext\": \"{}.parquet\".format(partial_path)}}\n",
    "teste = list(filepath_pqt.get(\"filepath\").items());"
   ]
  },
  {
   "cell_type": "code",
   "execution_count": null,
   "metadata": {},
   "outputs": [],
   "source": [
    "teste[0][1]"
   ]
  },
  {
   "cell_type": "code",
   "execution_count": null,
   "metadata": {},
   "outputs": [],
   "source": [
    "filepath_csv    = {\"filepath\": {\"ext\": \"{}.csv\".format(partial_path)}}\n",
    "# filepath_csv    = \"{}.csv\".format(partial_path)\n",
    "filelist_url    = list(const.ARRECADACAO.get(\"URLS\").items())"
   ]
  },
  {
   "cell_type": "code",
   "execution_count": null,
   "metadata": {},
   "outputs": [],
   "source": [
    "microdados = vups.datasets.microdados()"
   ]
  },
  {
   "cell_type": "code",
   "execution_count": null,
   "metadata": {},
   "outputs": [],
   "source": [
    "filepath_or_buffer = data.which_file_exists('MICRODADOS')"
   ]
  },
  {
   "cell_type": "code",
   "execution_count": null,
   "metadata": {},
   "outputs": [],
   "source": [
    "filepath_or_buffer[0][1]"
   ]
  },
  {
   "cell_type": "code",
   "execution_count": null,
   "metadata": {},
   "outputs": [],
   "source": [
    "file_extension = os.path.splitext(os.path.basename(filepath_or_buffer[0][1]))[1]"
   ]
  },
  {
   "cell_type": "code",
   "execution_count": null,
   "metadata": {},
   "outputs": [],
   "source": [
    "file_extension"
   ]
  },
  {
   "cell_type": "code",
   "execution_count": null,
   "metadata": {},
   "outputs": [],
   "source": [
    "DS_NAME = 'MICRODADOS'"
   ]
  },
  {
   "cell_type": "code",
   "execution_count": null,
   "metadata": {},
   "outputs": [],
   "source": [
    "DS_NAME = datasets.Datasets.microdados()"
   ]
  },
  {
   "cell_type": "code",
   "execution_count": null,
   "metadata": {},
   "outputs": [],
   "source": [
    "str(type(DS_NAME))"
   ]
  },
  {
   "cell_type": "code",
   "execution_count": null,
   "metadata": {},
   "outputs": [],
   "source": [
    "for i, j in DS_NAME.dtypes.items():\n",
    "    print(i, j)"
   ]
  },
  {
   "cell_type": "code",
   "execution_count": null,
   "metadata": {},
   "outputs": [],
   "source": [
    "DS_NAME.dtypes"
   ]
  },
  {
   "cell_type": "code",
   "execution_count": null,
   "metadata": {},
   "outputs": [],
   "source": [
    "DTYPE_DICT = {\n",
    "    \"date_cols\": [],\n",
    "    \"cat_cols\": [],\n",
    "    \"float_cols\": [],\n",
    "    \"int_cols\": [],\n",
    "    }\n",
    "\n",
    "with open(os.path.join(DATADIR, DS_NAME)) as f:\n",
    "    DTYPE_MAP = json.load(f)\n",
    "    for key, value in DTYPE_MAP[\"DTypeMap\"].items():\n",
    "        if value == 'datetime64[ns]': DTYPE_DICT[\"date_cols\"].append(key)\n",
    "        if value == 'float64': DTYPE_DICT[\"float_cols\"].append(key)\n",
    "        if value == 'int64': DTYPE_DICT[\"int_cols\"].append(key)\n",
    "        if value == 'category': DTYPE_DICT[\"cat_cols\"].append(key)"
   ]
  },
  {
   "cell_type": "code",
   "execution_count": 10,
   "metadata": {},
   "outputs": [],
   "source": [
    "import pandas as pd"
   ]
  },
  {
   "cell_type": "code",
   "execution_count": null,
   "metadata": {},
   "outputs": [],
   "source": [
    "from vups import data, datasets"
   ]
  },
  {
   "cell_type": "code",
   "execution_count": 7,
   "metadata": {},
   "outputs": [
    {
     "name": "stdout",
     "output_type": "stream",
     "text": [
      "Collecting clint\n",
      "  Using cached clint-0.5.1-py3-none-any.whl\n",
      "Collecting args\n",
      "  Using cached args-0.1.0-py3-none-any.whl\n",
      "Installing collected packages: args, clint\n",
      "Successfully installed args-0.1.0 clint-0.5.1\n"
     ]
    },
    {
     "name": "stderr",
     "output_type": "stream",
     "text": [
      "WARNING: You are using pip version 21.2.4; however, version 21.3 is available.\n",
      "You should consider upgrading via the 'c:\\users\\ulp\\anaconda3\\python.exe -m pip install --upgrade pip' command.\n"
     ]
    }
   ],
   "source": [
    "! pip install clint"
   ]
  },
  {
   "cell_type": "code",
   "execution_count": 15,
   "metadata": {},
   "outputs": [],
   "source": [
    "from app.home.vups import const, datasets"
   ]
  },
  {
   "cell_type": "code",
   "execution_count": 11,
   "metadata": {},
   "outputs": [
    {
     "name": "stdout",
     "output_type": "stream",
     "text": [
      "\n",
      "Programa de Mentoria DSA 2021\n",
      "\n",
      "Importando MICRODADOS de PARQUET...\n",
      "MAPAS DIFERENTES! REPROCESSANDO O TRATAMENTO DE DADOS ...\n",
      "ATUALIZANDO O ARQUIVO PARQUET ...\n",
      "Salvando em disco o arquivo convertido para PARQUET.\n"
     ]
    }
   ],
   "source": [
    "md = datasets.Datasets.microdados()\n",
    "df_classificacao = pd.DataFrame(md.Classificacao.value_counts()).T"
   ]
  },
  {
   "cell_type": "code",
   "execution_count": 23,
   "metadata": {},
   "outputs": [
    {
     "name": "stdout",
     "output_type": "stream",
     "text": [
      "\n",
      "Programa de Mentoria DSA 2021\n",
      "\n",
      "Importando MICRODADOS de PARQUET...\n",
      "MAPAS DIFERENTES! REPROCESSANDO O TRATAMENTO DE DADOS ...\n",
      "ATUALIZANDO O ARQUIVO PARQUET ...\n",
      "Salvando em disco o arquivo convertido para PARQUET.\n"
     ]
    }
   ],
   "source": [
    "microdados = datasets.Datasets.microdados()"
   ]
  },
  {
   "cell_type": "code",
   "execution_count": 26,
   "metadata": {},
   "outputs": [
    {
     "name": "stdout",
     "output_type": "stream",
     "text": [
      "<class 'pandas.core.frame.DataFrame'>\n",
      "RangeIndex: 2122239 entries, 0 to 2122238\n",
      "Data columns (total 45 columns):\n",
      " #   Column                   Dtype   \n",
      "---  ------                   -----   \n",
      " 0   DataNotificacao          category\n",
      " 1   DataCadastro             category\n",
      " 2   DataDiagnostico          category\n",
      " 3   DataColeta_RT_PCR        category\n",
      " 4   DataColetaTesteRapido    category\n",
      " 5   DataColetaSorologia      category\n",
      " 6   DataColetaSorologiaIGG   category\n",
      " 7   DataEncerramento         category\n",
      " 8   DataObito                category\n",
      " 9   Classificacao            category\n",
      " 10  Evolucao                 category\n",
      " 11  CriterioConfirmacao      category\n",
      " 12  StatusNotificacao        category\n",
      " 13  Municipio                category\n",
      " 14  Bairro                   category\n",
      " 15  FaixaEtaria              category\n",
      " 16  IdadeNaDataNotificacao   category\n",
      " 17  Sexo                     category\n",
      " 18  RacaCor                  category\n",
      " 19  Escolaridade             category\n",
      " 20  Gestante                 category\n",
      " 21  Febre                    category\n",
      " 22  DificuldadeRespiratoria  category\n",
      " 23  Tosse                    category\n",
      " 24  Coriza                   category\n",
      " 25  DorGarganta              category\n",
      " 26  Diarreia                 category\n",
      " 27  Cefaleia                 category\n",
      " 28  ComorbidadePulmao        category\n",
      " 29  ComorbidadeCardio        category\n",
      " 30  ComorbidadeRenal         category\n",
      " 31  ComorbidadeDiabetes      category\n",
      " 32  ComorbidadeTabagismo     category\n",
      " 33  ComorbidadeObesidade     category\n",
      " 34  FicouInternado           category\n",
      " 35  ViagemBrasil             category\n",
      " 36  ViagemInternacional      category\n",
      " 37  ProfissionalSaude        category\n",
      " 38  PossuiDeficiencia        category\n",
      " 39  MoradorDeRua             category\n",
      " 40  ResultadoRT_PCR          category\n",
      " 41  ResultadoTesteRapido     category\n",
      " 42  ResultadoSorologia       category\n",
      " 43  ResultadoSorologia_IGG   category\n",
      " 44  TipoTesteRapido          category\n",
      "dtypes: category(45)\n",
      "memory usage: 121.1 MB\n"
     ]
    }
   ],
   "source": [
    "microdados.info()"
   ]
  },
  {
   "cell_type": "code",
   "execution_count": 20,
   "metadata": {},
   "outputs": [],
   "source": [
    "path = os.path.join(const.DATADIR, 'microdados.parquet')"
   ]
  }
 ],
 "metadata": {
  "interpreter": {
   "hash": "e9aa689edf4e3253ce592293dcc69d32d3ef370148852f3558b2d441f5963c91"
  },
  "kernelspec": {
   "display_name": "Python 3.8.8 64-bit ('base': conda)",
   "name": "python3"
  },
  "language_info": {
   "codemirror_mode": {
    "name": "ipython",
    "version": 3
   },
   "file_extension": ".py",
   "mimetype": "text/x-python",
   "name": "python",
   "nbconvert_exporter": "python",
   "pygments_lexer": "ipython3",
   "version": "3.8.8"
  }
 },
 "nbformat": 4,
 "nbformat_minor": 5
}
