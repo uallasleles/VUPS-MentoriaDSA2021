{
 "cells": [
  {
   "cell_type": "markdown",
   "source": [
    "# Getting Data"
   ],
   "metadata": {}
  },
  {
   "cell_type": "markdown",
   "source": [
    "> COVID-19 - ESTADO DO ESPÍRITO SANTO\r\n",
    "\r\n",
    "Fonte: Sistema eSUS/VS – Secretaria de Saúde do Estado do Espírito Santo"
   ],
   "metadata": {}
  },
  {
   "cell_type": "code",
   "execution_count": 1,
   "source": [
    "from home.vups import const"
   ],
   "outputs": [],
   "metadata": {}
  },
  {
   "cell_type": "code",
   "execution_count": 2,
   "source": [
    "import sys"
   ],
   "outputs": [],
   "metadata": {}
  },
  {
   "cell_type": "code",
   "execution_count": 3,
   "source": [
    "import string"
   ],
   "outputs": [],
   "metadata": {}
  },
  {
   "cell_type": "code",
   "execution_count": 4,
   "source": [
    "name = \"MICRODADOS\""
   ],
   "outputs": [],
   "metadata": {}
  },
  {
   "cell_type": "code",
   "execution_count": 5,
   "source": [
    "getattr(const, name).get(\"URLS\").items()"
   ],
   "outputs": [
    {
     "output_type": "execute_result",
     "data": {
      "text/plain": [
       "dict_items([('MICRODADOS', 'https://bi.s3.es.gov.br/covid19/MICRODADOS.csv')])"
      ]
     },
     "metadata": {},
     "execution_count": 5
    }
   ],
   "metadata": {}
  },
  {
   "cell_type": "code",
   "execution_count": 10,
   "source": [
    "getattr(const, name).get(\"MAP\")"
   ],
   "outputs": [
    {
     "output_type": "execute_result",
     "data": {
      "text/plain": [
       "{'date_cols': ['DataNotificacao',\n",
       "  'DataCadastro',\n",
       "  'DataDiagnostico',\n",
       "  'DataColeta_RT_PCR',\n",
       "  'DataColetaTesteRapido',\n",
       "  'DataColetaSorologia',\n",
       "  'DataColetaSorologiaIGG',\n",
       "  'DataEncerramento',\n",
       "  'DataObito'],\n",
       " 'cat_cols': []}"
      ]
     },
     "metadata": {},
     "execution_count": 10
    }
   ],
   "metadata": {}
  },
  {
   "cell_type": "code",
   "execution_count": 7,
   "source": [
    "const.mapa_microdados"
   ],
   "outputs": [
    {
     "output_type": "execute_result",
     "data": {
      "text/plain": [
       "{'date_cols': ['DataNotificacao',\n",
       "  'DataCadastro',\n",
       "  'DataDiagnostico',\n",
       "  'DataColeta_RT_PCR',\n",
       "  'DataColetaTesteRapido',\n",
       "  'DataColetaSorologia',\n",
       "  'DataColetaSorologiaIGG',\n",
       "  'DataEncerramento',\n",
       "  'DataObito'],\n",
       " 'cat_cols': []}"
      ]
     },
     "metadata": {},
     "execution_count": 7
    }
   ],
   "metadata": {}
  },
  {
   "cell_type": "code",
   "execution_count": 20,
   "source": [
    "def foo():\r\n",
    "    name = sys._getframe(  ).f_code.co_name.upper()\r\n",
    "    print(name)"
   ],
   "outputs": [],
   "metadata": {}
  },
  {
   "cell_type": "code",
   "execution_count": 21,
   "source": [
    "foo()"
   ],
   "outputs": [
    {
     "output_type": "stream",
     "name": "stdout",
     "text": [
      "FOO\n"
     ]
    }
   ],
   "metadata": {}
  },
  {
   "cell_type": "code",
   "execution_count": null,
   "source": [
    "import pandas as pd\r\n",
    "import warnings\r\n",
    "import matplotlib.pyplot as plt\r\n",
    "plt.style.use('seaborn-talk')\r\n",
    "\r\n",
    "warnings.filterwarnings('ignore')\r\n",
    "%matplotlib inline"
   ],
   "outputs": [],
   "metadata": {}
  },
  {
   "cell_type": "code",
   "execution_count": 30,
   "source": [
    "BASEDIR = 'C:\\\\Users\\\\ulp\\\\Documents\\\\GitHub\\\\VUPS-MentoriaDSA2021\\\\app\\\\home'\r\n",
    "DATADIR = os.path.join(BASEDIR + \"\\\\data\")\r\n",
    "DATASET = 'MICRODADOS.csv'\r\n",
    "SEP = \";\"\r\n",
    "DATADIC = 'dictionary.md'"
   ],
   "outputs": [],
   "metadata": {}
  },
  {
   "cell_type": "code",
   "execution_count": 31,
   "source": [
    "os.path.join(BASEDIR, DATADIR, DATASET)"
   ],
   "outputs": [
    {
     "output_type": "execute_result",
     "data": {
      "text/plain": [
       "'C:\\\\Users\\\\ulp\\\\Documents\\\\GitHub\\\\VUPS-MentoriaDSA2021\\\\app\\\\home\\\\data\\\\MICRODADOS.csv'"
      ]
     },
     "metadata": {},
     "execution_count": 31
    }
   ],
   "metadata": {}
  },
  {
   "cell_type": "code",
   "execution_count": null,
   "source": [
    "PATH = os.path.join(DATADIR + DATASET)\r\n",
    "\r\n",
    "df = pd.read_csv(\r\n",
    "    PATH, \r\n",
    "    sep=SEP, \r\n",
    "    error_bad_lines=False, \r\n",
    "    encoding='latin1')\r\n",
    "\r\n",
    "# Preview para identificar a variável alvo\r\n",
    "df.head(1)"
   ],
   "outputs": [],
   "metadata": {}
  },
  {
   "cell_type": "markdown",
   "source": [
    "___"
   ],
   "metadata": {}
  },
  {
   "cell_type": "code",
   "execution_count": null,
   "source": [
    "import io\r\n",
    "import pandas as pd\r\n",
    "import requests\r\n",
    "from vups import const\r\n",
    "import validators"
   ],
   "outputs": [],
   "metadata": {}
  },
  {
   "cell_type": "code",
   "execution_count": null,
   "source": [
    "# url = \"https://bi.s3.es.gov.br/covid19/MICRODADOS.csv\"\r\n",
    "url = \"https://drive.economia.gov.br/owncloud/index.php/s/TD34YJTxalj4X3G/download\"\r\n",
    "encoding = 'UTF-8'\r\n",
    "sep = ','\r\n",
    "warn_bad_lines = True\r\n",
    "error_bad_lines = True\r\n",
    "\r\n",
    "path = const.DATADIR\r\n",
    "parquet_extension = '.parquet'\r\n",
    "\r\n",
    "# filename, file_extension = os.path.splitext(os.path.basename(url))\r\n",
    "# filepath_or_buffer = os.path.join(path, filename.upper() + file_extension)"
   ],
   "outputs": [],
   "metadata": {}
  },
  {
   "cell_type": "code",
   "execution_count": null,
   "source": [
    "filepath_or_buffer = url\r\n",
    "if validators.url(filepath_or_buffer):\r\n",
    "    r = requests.get(filepath_or_buffer, stream=True)\r\n",
    "    c = pd.read_csv(io.StringIO(r.decode(encoding)))\r\n",
    "    # dataset = pd.concat(iter, ignore_index=True)\r\n",
    "    c\r\n",
    "#     filepath_or_buffer = os.path.join(const.DATADIR, \"{}.{}\".format(filename.upper(), file_extension))\r\n",
    "#     with open(filepath_or_buffer, 'wb') as fd:\r\n",
    "#         for chunk in c(chunk_size=128):\r\n",
    "#             fd.write(chunk)\r\n",
    "\r\n",
    "# _PARAMS = {\r\n",
    "#     \"filepath_or_buffer\": filepath_or_buffer,\r\n",
    "#     \"iterator\": True,\r\n",
    "#     \"chunksize\": 128,\r\n",
    "#     \"sep\": sep,\r\n",
    "#     \"encoding\": encoding,\r\n",
    "#     \"warn_bad_lines\": warn_bad_lines,\r\n",
    "#     \"error_bad_lines\": error_bad_lines,\r\n",
    "#     \"parse_dates\": True,\r\n",
    "#     \"dtype\": None\r\n",
    "# }\r\n",
    "\r\n",
    "# iter = pd.read_csv(**_PARAMS)\r\n",
    "# dataset = pd.concat(iter, ignore_index=True)\r\n",
    "# dataset"
   ],
   "outputs": [],
   "metadata": {}
  },
  {
   "cell_type": "code",
   "execution_count": null,
   "source": [
    "from vups import const"
   ],
   "outputs": [],
   "metadata": {}
  },
  {
   "cell_type": "code",
   "execution_count": null,
   "source": [
    "NAME = const.ARRECADACAO.get(\"NAME\")\r\n",
    "NAME"
   ],
   "outputs": [],
   "metadata": {}
  },
  {
   "cell_type": "code",
   "execution_count": null,
   "source": [
    "values = list(const.ARRECADACAO[\"URLS\"].values())\r\n",
    "values"
   ],
   "outputs": [],
   "metadata": {}
  },
  {
   "cell_type": "code",
   "execution_count": null,
   "source": [
    "items = list(const.ARRECADACAO.get(\"URLS\").items())\r\n",
    "items"
   ],
   "outputs": [],
   "metadata": {}
  },
  {
   "cell_type": "code",
   "execution_count": null,
   "source": [
    "for i in items:\r\n",
    "    print(i[0], i[1])\r\n"
   ],
   "outputs": [],
   "metadata": {}
  },
  {
   "cell_type": "code",
   "execution_count": null,
   "source": [
    "items[0][1]"
   ],
   "outputs": [],
   "metadata": {}
  },
  {
   "cell_type": "code",
   "execution_count": null,
   "source": [],
   "outputs": [],
   "metadata": {}
  },
  {
   "cell_type": "code",
   "execution_count": null,
   "source": [
    "import validators"
   ],
   "outputs": [],
   "metadata": {}
  },
  {
   "cell_type": "code",
   "execution_count": null,
   "source": [
    "filepath_or_buffer = \"https://bi.s3.es.gov.br/covid19/MICRODADOS.csv\""
   ],
   "outputs": [],
   "metadata": {}
  },
  {
   "cell_type": "code",
   "execution_count": null,
   "source": [
    "if validators.url(items[0][1]):\r\n",
    "    print(items[0][0])"
   ],
   "outputs": [],
   "metadata": {}
  },
  {
   "cell_type": "code",
   "execution_count": null,
   "source": [
    "if validators.url(filepath_or_buffer):\r\n",
    "    print(filepath_or_buffer)"
   ],
   "outputs": [],
   "metadata": {}
  },
  {
   "cell_type": "code",
   "execution_count": null,
   "source": [
    "filepath_or_buffer"
   ],
   "outputs": [],
   "metadata": {}
  },
  {
   "cell_type": "code",
   "execution_count": null,
   "source": [
    "_PARAMS = {\r\n",
    "    \"filepath_or_buffer\": filepath_or_buffer,\r\n",
    "    \"usecols\": None,\r\n",
    "    \"sep\": ';',\r\n",
    "    \"nrows\": None,\r\n",
    "    \"encoding\": 'utf-8',\r\n",
    "    \"warn_bad_lines\": True,\r\n",
    "    \"error_bad_lines\": True,\r\n",
    "    \"parse_dates\": True,\r\n",
    "    \"dtype\": None,\r\n",
    "}\r\n",
    "dataset = pd.read_csv(**_PARAMS)"
   ],
   "outputs": [],
   "metadata": {}
  },
  {
   "cell_type": "code",
   "execution_count": null,
   "source": [
    "dataset"
   ],
   "outputs": [],
   "metadata": {}
  },
  {
   "cell_type": "markdown",
   "source": [
    "> Dicionário de Dados"
   ],
   "metadata": {}
  },
  {
   "cell_type": "code",
   "execution_count": null,
   "source": [
    "# from IPython.display import Markdown, display\r\n",
    "\"\"\" \r\n",
    "display(\r\n",
    "    Markdown(\r\n",
    "        open(os.path.join(DATADIR + DATADIC), \r\n",
    "             encoding=\"utf-8\").read())) \r\n",
    "\"\"\""
   ],
   "outputs": [],
   "metadata": {}
  },
  {
   "cell_type": "code",
   "execution_count": null,
   "source": [
    "df.isna().sum()"
   ],
   "outputs": [],
   "metadata": {}
  },
  {
   "cell_type": "code",
   "execution_count": null,
   "source": [
    "df.to_pickle(DATADIR + 'df.pkl')"
   ],
   "outputs": [],
   "metadata": {}
  },
  {
   "cell_type": "code",
   "execution_count": 2,
   "source": [
    "import vups"
   ],
   "outputs": [],
   "metadata": {}
  },
  {
   "cell_type": "code",
   "execution_count": 3,
   "source": [
    "arrecadacao = vups.datasets.arrecadacao()"
   ],
   "outputs": [],
   "metadata": {}
  },
  {
   "cell_type": "code",
   "execution_count": 4,
   "source": [
    "arrecadacao"
   ],
   "outputs": [
    {
     "output_type": "execute_result",
     "data": {
      "text/html": [
       "<div>\n",
       "<style scoped>\n",
       "    .dataframe tbody tr th:only-of-type {\n",
       "        vertical-align: middle;\n",
       "    }\n",
       "\n",
       "    .dataframe tbody tr th {\n",
       "        vertical-align: top;\n",
       "    }\n",
       "\n",
       "    .dataframe thead th {\n",
       "        text-align: right;\n",
       "    }\n",
       "</style>\n",
       "<table border=\"1\" class=\"dataframe\">\n",
       "  <thead>\n",
       "    <tr style=\"text-align: right;\">\n",
       "      <th></th>\n",
       "      <th>sg_uf</th>\n",
       "      <th>ano_arrecadacao</th>\n",
       "      <th>mes_arrecadacao</th>\n",
       "      <th>co_tipo_arrecadacao</th>\n",
       "      <th>va_arrecadacao</th>\n",
       "      <th>DATA_BASE</th>\n",
       "    </tr>\n",
       "  </thead>\n",
       "  <tbody>\n",
       "    <tr>\n",
       "      <th>0</th>\n",
       "      <td>AC</td>\n",
       "      <td>1998</td>\n",
       "      <td>1</td>\n",
       "      <td>119</td>\n",
       "      <td>97679</td>\n",
       "      <td>1998-01-01 00:00:00</td>\n",
       "    </tr>\n",
       "    <tr>\n",
       "      <th>1</th>\n",
       "      <td>AC</td>\n",
       "      <td>1998</td>\n",
       "      <td>1</td>\n",
       "      <td>129</td>\n",
       "      <td>11219</td>\n",
       "      <td>1998-01-01 00:00:00</td>\n",
       "    </tr>\n",
       "    <tr>\n",
       "      <th>2</th>\n",
       "      <td>AC</td>\n",
       "      <td>1998</td>\n",
       "      <td>1</td>\n",
       "      <td>131</td>\n",
       "      <td>0</td>\n",
       "      <td>1998-01-01 00:00:00</td>\n",
       "    </tr>\n",
       "    <tr>\n",
       "      <th>3</th>\n",
       "      <td>AC</td>\n",
       "      <td>1998</td>\n",
       "      <td>1</td>\n",
       "      <td>132</td>\n",
       "      <td>0</td>\n",
       "      <td>1998-01-01 00:00:00</td>\n",
       "    </tr>\n",
       "    <tr>\n",
       "      <th>4</th>\n",
       "      <td>AC</td>\n",
       "      <td>1998</td>\n",
       "      <td>1</td>\n",
       "      <td>133</td>\n",
       "      <td>0</td>\n",
       "      <td>1998-01-01 00:00:00</td>\n",
       "    </tr>\n",
       "    <tr>\n",
       "      <th>...</th>\n",
       "      <td>...</td>\n",
       "      <td>...</td>\n",
       "      <td>...</td>\n",
       "      <td>...</td>\n",
       "      <td>...</td>\n",
       "      <td>...</td>\n",
       "    </tr>\n",
       "    <tr>\n",
       "      <th>148414</th>\n",
       "      <td>TO</td>\n",
       "      <td>2017</td>\n",
       "      <td>9</td>\n",
       "      <td>419</td>\n",
       "      <td>672595</td>\n",
       "      <td>2017-09-01 00:00:00</td>\n",
       "    </tr>\n",
       "    <tr>\n",
       "      <th>148415</th>\n",
       "      <td>TO</td>\n",
       "      <td>2017</td>\n",
       "      <td>9</td>\n",
       "      <td>429</td>\n",
       "      <td>3469076</td>\n",
       "      <td>2017-09-01 00:00:00</td>\n",
       "    </tr>\n",
       "    <tr>\n",
       "      <th>148416</th>\n",
       "      <td>TO</td>\n",
       "      <td>2017</td>\n",
       "      <td>9</td>\n",
       "      <td>439</td>\n",
       "      <td>2577622</td>\n",
       "      <td>2017-09-01 00:00:00</td>\n",
       "    </tr>\n",
       "    <tr>\n",
       "      <th>148417</th>\n",
       "      <td>TO</td>\n",
       "      <td>2017</td>\n",
       "      <td>9</td>\n",
       "      <td>499</td>\n",
       "      <td>33536677</td>\n",
       "      <td>2017-09-01 00:00:00</td>\n",
       "    </tr>\n",
       "    <tr>\n",
       "      <th>148418</th>\n",
       "      <td>TO</td>\n",
       "      <td>2017</td>\n",
       "      <td>9</td>\n",
       "      <td>999</td>\n",
       "      <td>260896707</td>\n",
       "      <td>2017-09-01 00:00:00</td>\n",
       "    </tr>\n",
       "  </tbody>\n",
       "</table>\n",
       "<p>148419 rows × 6 columns</p>\n",
       "</div>"
      ],
      "text/plain": [
       "       sg_uf  ano_arrecadacao  mes_arrecadacao  co_tipo_arrecadacao  \\\n",
       "0         AC             1998                1                  119   \n",
       "1         AC             1998                1                  129   \n",
       "2         AC             1998                1                  131   \n",
       "3         AC             1998                1                  132   \n",
       "4         AC             1998                1                  133   \n",
       "...      ...              ...              ...                  ...   \n",
       "148414    TO             2017                9                  419   \n",
       "148415    TO             2017                9                  429   \n",
       "148416    TO             2017                9                  439   \n",
       "148417    TO             2017                9                  499   \n",
       "148418    TO             2017                9                  999   \n",
       "\n",
       "        va_arrecadacao            DATA_BASE  \n",
       "0                97679  1998-01-01 00:00:00  \n",
       "1                11219  1998-01-01 00:00:00  \n",
       "2                    0  1998-01-01 00:00:00  \n",
       "3                    0  1998-01-01 00:00:00  \n",
       "4                    0  1998-01-01 00:00:00  \n",
       "...                ...                  ...  \n",
       "148414          672595  2017-09-01 00:00:00  \n",
       "148415         3469076  2017-09-01 00:00:00  \n",
       "148416         2577622  2017-09-01 00:00:00  \n",
       "148417        33536677  2017-09-01 00:00:00  \n",
       "148418       260896707  2017-09-01 00:00:00  \n",
       "\n",
       "[148419 rows x 6 columns]"
      ]
     },
     "metadata": {},
     "execution_count": 4
    }
   ],
   "metadata": {}
  },
  {
   "cell_type": "code",
   "execution_count": null,
   "source": [
    "name = const.ARRECADACAO.get(\"NAME\")\r\n",
    "\r\n",
    "partial_path    = os.path.join(const.DATADIR, name)\r\n",
    "filepath_pqt    = {\"filepath\": {\"ext\": \"{}.parquet\".format(partial_path)}}\r\n",
    "teste = list(filepath_pqt.get(\"filepath\").items());"
   ],
   "outputs": [],
   "metadata": {}
  },
  {
   "cell_type": "code",
   "execution_count": null,
   "source": [
    "teste[0][1]"
   ],
   "outputs": [],
   "metadata": {}
  },
  {
   "cell_type": "code",
   "execution_count": null,
   "source": [
    "filepath_csv    = {\"filepath\": {\"ext\": \"{}.csv\".format(partial_path)}}\r\n",
    "# filepath_csv    = \"{}.csv\".format(partial_path)\r\n",
    "filelist_url    = list(const.ARRECADACAO.get(\"URLS\").items())"
   ],
   "outputs": [],
   "metadata": {}
  }
 ],
 "metadata": {
  "interpreter": {
   "hash": "e9aa689edf4e3253ce592293dcc69d32d3ef370148852f3558b2d441f5963c91"
  },
  "kernelspec": {
   "name": "python3",
   "display_name": "Python 3.8.8 64-bit ('base': conda)"
  },
  "language_info": {
   "name": "python",
   "version": "3.8.8",
   "mimetype": "text/x-python",
   "codemirror_mode": {
    "name": "ipython",
    "version": 3
   },
   "pygments_lexer": "ipython3",
   "nbconvert_exporter": "python",
   "file_extension": ".py"
  }
 },
 "nbformat": 4,
 "nbformat_minor": 5
}