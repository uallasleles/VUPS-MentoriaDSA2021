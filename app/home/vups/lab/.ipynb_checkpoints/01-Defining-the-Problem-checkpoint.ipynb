{
 "cells": [
  {
   "cell_type": "markdown",
   "id": "0dbda8b7-5502-4b3f-8aad-e6ee7f33df39",
   "metadata": {},
   "source": [
    "# Template - Machine Learning - Classificação"
   ]
  },
  {
   "cell_type": "markdown",
   "id": "a4b73c8a-a9e1-4151-b7cd-aefffccab729",
   "metadata": {},
   "source": [
    "# Defining the Problem"
   ]
  },
  {
   "cell_type": "markdown",
   "id": "96233225-bb91-44e2-bca7-181c9e0532a3",
   "metadata": {},
   "source": [
    "# Choosing the Approach"
   ]
  },
  {
   "cell_type": "markdown",
   "id": "73cb2366-4614-4349-b357-0911e46b5272",
   "metadata": {},
   "source": [
    "..."
   ]
  }
 ],
 "metadata": {
  "kernelspec": {
   "display_name": "Python 3",
   "language": "python",
   "name": "python3"
  },
  "language_info": {
   "codemirror_mode": {
    "name": "ipython",
    "version": 3
   },
   "file_extension": ".py",
   "mimetype": "text/x-python",
   "name": "python",
   "nbconvert_exporter": "python",
   "pygments_lexer": "ipython3",
   "version": "3.8.8"
  }
 },
 "nbformat": 4,
 "nbformat_minor": 5
}
