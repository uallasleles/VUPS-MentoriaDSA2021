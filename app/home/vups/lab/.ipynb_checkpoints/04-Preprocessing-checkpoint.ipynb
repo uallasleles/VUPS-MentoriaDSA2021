{
 "cells": [
  {
   "cell_type": "markdown",
   "id": "199bb474-9bc5-4985-bba3-201e7fadad38",
   "metadata": {},
   "source": [
    "# Preprocessing"
   ]
  },
  {
   "cell_type": "markdown",
   "id": "856b4520-ea4c-4752-9e25-309f706a54e9",
   "metadata": {},
   "source": [
    "## Preparando os Dados para Machine Learning"
   ]
  },
  {
   "cell_type": "code",
   "execution_count": null,
   "id": "ed571bb3-0f4b-478c-acea-48940cad2e51",
   "metadata": {},
   "outputs": [],
   "source": [
    "# Preparando os dados para os algoritmos\n",
    "\n",
    "# Criando array de dados para serem utilizados\n",
    "dados_array = array = data.dropna()\n",
    "\n",
    "# Separando o array em componentes de input (x) e output (y)\n",
    "X = dados_array[feature_names].values\n",
    "y = dados_array[target_names].values"
   ]
  },
  {
   "cell_type": "code",
   "execution_count": null,
   "id": "1bce70a2-a0af-45cf-8e5c-0495afab4a06",
   "metadata": {},
   "outputs": [],
   "source": [
    "# Sumarizando os dados originais\n",
    "print(\"Dados Originais: \\n\\n\", pd.DataFrame(X, columns=[feature_names]))"
   ]
  },
  {
   "cell_type": "markdown",
   "id": "486da9e7-a0ab-4d55-9dcb-ae6e06a26618",
   "metadata": {},
   "source": [
    "## Feature Scaling"
   ]
  },
  {
   "cell_type": "markdown",
   "id": "90a115d9-b2ea-4871-98d0-8cfcd4c0fae5",
   "metadata": {},
   "source": [
    "### Normalização - Método 1"
   ]
  },
  {
   "cell_type": "code",
   "execution_count": null,
   "id": "648002b6-07e2-4e38-840c-8222a23ae6dc",
   "metadata": {},
   "outputs": [],
   "source": [
    "# Transformando os dados para a mesma escala (entre 0 e 1)\n",
    "\n",
    "# Gerando a nova escala (normalizando os dados)\n",
    "escalador = MinMaxScaler(feature_range = (0, 1))\n",
    "X_escalado = escalador.fit_transform(X)"
   ]
  },
  {
   "cell_type": "code",
   "execution_count": null,
   "id": "f9fcbf00-615c-49a8-b6da-16a7ca42952a",
   "metadata": {},
   "outputs": [],
   "source": [
    "# Sumarizando os dados transformados\n",
    "X_escalado_df = pd.DataFrame(X_escalado, columns=[feature_names])\n",
    "print(\"\\nDados Escalados - Método 1: \\n\\n\", X_escalado_df)"
   ]
  },
  {
   "cell_type": "markdown",
   "id": "60158cce-ba8d-4f81-8b5a-ca7b2eaaaa44",
   "metadata": {},
   "source": [
    "### Normalização - Método 2"
   ]
  },
  {
   "cell_type": "code",
   "execution_count": null,
   "id": "37caca17-6d76-4052-b068-f1bc9fa53dd7",
   "metadata": {},
   "outputs": [],
   "source": [
    "# Normalizando os dados (comprimento igual a 1)\n",
    "\n",
    "# Gerando os dados normalizados\n",
    "normalizador = Normalizer().fit(X)\n",
    "X_normalizado = normalizador.transform(X)"
   ]
  },
  {
   "cell_type": "code",
   "execution_count": null,
   "id": "911ac4e2-f187-4cb2-8a7c-7b7c6478a54b",
   "metadata": {},
   "outputs": [],
   "source": [
    "# Sumarizando os dados transformados\n",
    "X_normalizado_df = pd.DataFrame(X_normalizado, columns=[feature_names])\n",
    "print(\"\\nDados Normalizados - Método 2: \\n\\n\", X_normalizado_df)"
   ]
  },
  {
   "cell_type": "markdown",
   "id": "254b4c68-8e43-49ea-8d91-eea2e7ae86fa",
   "metadata": {},
   "source": [
    "### Padronização"
   ]
  },
  {
   "cell_type": "code",
   "execution_count": null,
   "id": "0c3c32b5-931c-477d-a75a-f0ca4043f89e",
   "metadata": {},
   "outputs": [],
   "source": [
    "# Padronizando os dados (0 para média, 1 para desvio padrão)\n",
    "\n",
    "# Gerando o novo padrão\n",
    "padronizador = StandardScaler().fit(X)\n",
    "X_padronizado = padronizador.transform(X)"
   ]
  },
  {
   "cell_type": "code",
   "execution_count": null,
   "id": "e42d43b8-d0d7-4de6-9fed-42378d983d03",
   "metadata": {},
   "outputs": [],
   "source": [
    "# Sumarizando os dados transformados\n",
    "X_padronizado_df = pd.DataFrame(X_padronizado, columns=[feature_names])\n",
    "print(\"\\nDados Padronizados: \\n\\n\", X_padronizado_df)"
   ]
  },
  {
   "cell_type": "markdown",
   "id": "98fb09c9-026e-4afb-8e02-074400a81986",
   "metadata": {},
   "source": [
    "### Binarização"
   ]
  },
  {
   "cell_type": "code",
   "execution_count": null,
   "id": "c894d99e-525e-45a3-8c20-ed56c94675bb",
   "metadata": {},
   "outputs": [],
   "source": [
    "# Transformar os Dados em Valores Binários\n",
    "\n",
    "# Gerando a binarização\n",
    "binarizador = Binarizer(threshold = 0.2).fit(X)\n",
    "X_binarizado = binarizador.transform(X)"
   ]
  },
  {
   "cell_type": "code",
   "execution_count": null,
   "id": "d4d452b0-c044-4f0c-8da5-c7716c7fb7a7",
   "metadata": {},
   "outputs": [],
   "source": [
    "# Sumarizando os dados transformados\n",
    "X_binarizado_df = pd.DataFrame(X_binarizado, columns=[feature_names])\n",
    "print(\"\\nDados Binarizados: \\n\\n\", X_binarizado_df)"
   ]
  },
  {
   "cell_type": "markdown",
   "id": "cc6cf924-a60d-45f1-8bd4-00d819a38364",
   "metadata": {},
   "source": [
    "## Feature Selection"
   ]
  },
  {
   "cell_type": "markdown",
   "id": "4e7b542b-21b5-4c82-a265-d505703a0909",
   "metadata": {},
   "source": [
    "### Seleção Univariada"
   ]
  },
  {
   "cell_type": "code",
   "execution_count": null,
   "id": "cd64da06-ef63-47e4-94b3-8fbc48f5bc98",
   "metadata": {},
   "outputs": [],
   "source": [
    "# Import dos módulos\n",
    "#from pandas import read_csv\n",
    "#from sklearn.feature_selection import SelectKBest\n",
    "#from sklearn.feature_selection import chi2\n",
    "#-------------------------------------------------------------\n",
    "\n",
    "# Função para seleção de variáveis\n",
    "best_var = SelectKBest(score_func = chi2, k = 3)\n",
    "\n",
    "# Executa a função de pontuação em (X, y) e obtém os atributos selecionados\n",
    "fit = best_var.fit(X_escalado, y)\n",
    "\n",
    "# Reduz X para os atributos selecionados\n",
    "best_atrib = fit.transform(X_escalado)\n",
    "\n",
    "# Resultados\n",
    "print('\\nNúmero original de atributos:', X_escalado.shape[1])\n",
    "print('\\nNúmero reduzido de atributos:', best_atrib.shape[1])\n",
    "print('\\nAtributos selecionados: \\n\\n', pd.DataFrame(best_atrib))"
   ]
  },
  {
   "cell_type": "markdown",
   "id": "64cc76b0-1d92-45e0-b6e9-b0e484cf5fee",
   "metadata": {},
   "source": [
    "### Eliminação Recursiva de Atributos"
   ]
  },
  {
   "cell_type": "code",
   "execution_count": null,
   "id": "3687325d-98b1-48c6-b750-9c649c9f7c25",
   "metadata": {},
   "outputs": [],
   "source": [
    "# from sklearn.feature_selection import RFE\n",
    "# from sklearn.linear_model import LogisticRegression\n",
    "#-------------------------------------------------------------\n",
    "\n",
    "# Criação do modelo\n",
    "modelo = LogisticRegression()\n",
    "\n",
    "# RFE\n",
    "rfe = RFE(estimator = modelo,\n",
    "          n_features_to_select = 3)\n",
    "fit = rfe.fit(X_escalado, y)\n",
    "\n",
    "print(\"\\nVariáveis preditoras:\", feature_names)\n",
    "print(\"Variáveis selecionadas: %s\" % fit.support_)\n",
    "print(\"\\nRanking dos atributos: %s\" % fit.ranking_)\n",
    "print(\"Número de melhores atributos: %d \\n\" % fit.n_features_)"
   ]
  },
  {
   "cell_type": "markdown",
   "id": "b4749edc-ec0e-4f4e-9f77-041a1bdc95d3",
   "metadata": {},
   "source": [
    "### Método Ensemble para Seleção de Variáveis"
   ]
  },
  {
   "cell_type": "code",
   "execution_count": null,
   "id": "367691d9-7ab7-43bf-a688-fbc129a1ab5d",
   "metadata": {},
   "outputs": [],
   "source": [
    "# Importância do atributo com o Extra Trees Classifier\n",
    "# from sklearn.ensemble import ExtraTreesClassifier\n",
    "\n",
    "# Criação do Modelo - Feature Selection\n",
    "modelo = ExtraTreesClassifier()\n",
    "modelo.fit(X_escalado, y)\n",
    "\n",
    "print(\"\\nVariáveis preditoras:\\n\", feature_names)\n",
    "print(\"\\nImportância estimada de cada atributo:\\n\",modelo.feature_importances_)"
   ]
  },
  {
   "cell_type": "markdown",
   "id": "36a11486-4e68-4a17-9988-872d137f1529",
   "metadata": {},
   "source": [
    "### Redução de Dimensionalidade (Feature Extraction)"
   ]
  },
  {
   "cell_type": "code",
   "execution_count": null,
   "id": "fc7556af-789e-4478-8200-7e26cc16faef",
   "metadata": {},
   "outputs": [],
   "source": [
    "# Feature Extraction\n",
    "\n",
    "# from sklearn.preprocessing import MinMaxScaler\n",
    "# from sklearn.decomposition import PCA\n",
    "\n",
    "# Seleção de atributos\n",
    "pca = PCA(n_components = 3)\n",
    "fit = pca.fit(X_escalado)\n",
    "\n",
    "# Sumarizando os componentes\n",
    "print(\"Variância: %s\\n\" % fit.explained_variance_ratio_)\n",
    "print(fit.components_)"
   ]
  }
 ],
 "metadata": {
  "kernelspec": {
   "display_name": "Python 3",
   "language": "python",
   "name": "python3"
  },
  "language_info": {
   "codemirror_mode": {
    "name": "ipython",
    "version": 3
   },
   "file_extension": ".py",
   "mimetype": "text/x-python",
   "name": "python",
   "nbconvert_exporter": "python",
   "pygments_lexer": "ipython3",
   "version": "3.8.8"
  }
 },
 "nbformat": 4,
 "nbformat_minor": 5
}
