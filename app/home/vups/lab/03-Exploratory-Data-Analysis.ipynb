{
 "cells": [
  {
   "cell_type": "markdown",
   "source": [
    "# Exploratory Data Analysis"
   ],
   "metadata": {}
  },
  {
   "cell_type": "code",
   "execution_count": 1,
   "source": [
    "from app.home import vups"
   ],
   "outputs": [],
   "metadata": {}
  },
  {
   "cell_type": "code",
   "execution_count": 2,
   "source": [
    "from app.home.vups import graphs"
   ],
   "outputs": [],
   "metadata": {}
  },
  {
   "cell_type": "code",
   "execution_count": 4,
   "source": [
    "df = vups.datasets.microdados()"
   ],
   "outputs": [],
   "metadata": {}
  },
  {
   "cell_type": "code",
   "execution_count": 5,
   "source": [
    "df.info()"
   ],
   "outputs": [
    {
     "output_type": "stream",
     "name": "stdout",
     "text": [
      "<class 'pandas.core.frame.DataFrame'>\n",
      "RangeIndex: 1651537 entries, 0 to 1651536\n",
      "Data columns (total 45 columns):\n",
      " #   Column                   Non-Null Count    Dtype         \n",
      "---  ------                   --------------    -----         \n",
      " 0   DataNotificacao          1651537 non-null  datetime64[ns]\n",
      " 1   DataCadastro             1651537 non-null  datetime64[ns]\n",
      " 2   DataDiagnostico          1651537 non-null  datetime64[ns]\n",
      " 3   DataColeta_RT_PCR        810766 non-null   category      \n",
      " 4   DataColetaTesteRapido    600675 non-null   category      \n",
      " 5   DataColetaSorologia      87834 non-null    category      \n",
      " 6   DataColetaSorologiaIGG   134953 non-null   category      \n",
      " 7   DataEncerramento         1414956 non-null  category      \n",
      " 8   DataObito                14830 non-null    datetime64[ns]\n",
      " 9   Classificacao            1651537 non-null  category      \n",
      " 10  Evolucao                 1651537 non-null  category      \n",
      " 11  CriterioConfirmacao      1651537 non-null  category      \n",
      " 12  StatusNotificacao        1651537 non-null  category      \n",
      " 13  Municipio                1651537 non-null  category      \n",
      " 14  Bairro                   1634771 non-null  category      \n",
      " 15  FaixaEtaria              1651537 non-null  category      \n",
      " 16  IdadeNaDataNotificacao   1651537 non-null  category      \n",
      " 17  Sexo                     1651537 non-null  category      \n",
      " 18  RacaCor                  1651537 non-null  category      \n",
      " 19  Escolaridade             1651537 non-null  category      \n",
      " 20  Gestante                 1651537 non-null  category      \n",
      " 21  Febre                    1651537 non-null  category      \n",
      " 22  DificuldadeRespiratoria  1651537 non-null  category      \n",
      " 23  Tosse                    1651537 non-null  category      \n",
      " 24  Coriza                   1651537 non-null  category      \n",
      " 25  DorGarganta              1651537 non-null  category      \n",
      " 26  Diarreia                 1651537 non-null  category      \n",
      " 27  Cefaleia                 1651537 non-null  category      \n",
      " 28  ComorbidadePulmao        1651537 non-null  category      \n",
      " 29  ComorbidadeCardio        1651537 non-null  category      \n",
      " 30  ComorbidadeRenal         1651537 non-null  category      \n",
      " 31  ComorbidadeDiabetes      1651537 non-null  category      \n",
      " 32  ComorbidadeTabagismo     1651537 non-null  category      \n",
      " 33  ComorbidadeObesidade     1651537 non-null  category      \n",
      " 34  FicouInternado           1651537 non-null  category      \n",
      " 35  ViagemBrasil             1651537 non-null  category      \n",
      " 36  ViagemInternacional      1651537 non-null  category      \n",
      " 37  ProfissionalSaude        1651537 non-null  category      \n",
      " 38  PossuiDeficiencia        1651537 non-null  category      \n",
      " 39  MoradorDeRua             1651537 non-null  category      \n",
      " 40  ResultadoRT_PCR          1651537 non-null  category      \n",
      " 41  ResultadoTesteRapido     1651537 non-null  category      \n",
      " 42  ResultadoSorologia       1651537 non-null  category      \n",
      " 43  ResultadoSorologia_IGG   1651537 non-null  category      \n",
      " 44  TipoTesteRapido          1651537 non-null  category      \n",
      "dtypes: category(41), datetime64[ns](4)\n",
      "memory usage: 132.3 MB\n"
     ]
    }
   ],
   "metadata": {}
  },
  {
   "cell_type": "code",
   "execution_count": null,
   "source": [
    "microdados.info()"
   ],
   "outputs": [],
   "metadata": {}
  },
  {
   "cell_type": "code",
   "execution_count": 161,
   "source": [
    "df_obitos = pd.DataFrame(microdados.DataObito.count()).T"
   ],
   "outputs": [
    {
     "output_type": "error",
     "ename": "ValueError",
     "evalue": "DataFrame constructor not properly called!",
     "traceback": [
      "\u001b[1;31m---------------------------------------------------------------------------\u001b[0m",
      "\u001b[1;31mValueError\u001b[0m                                Traceback (most recent call last)",
      "\u001b[1;32m<ipython-input-161-338d5b38acd8>\u001b[0m in \u001b[0;36m<module>\u001b[1;34m\u001b[0m\n\u001b[1;32m----> 1\u001b[1;33m \u001b[0mdf_obitos\u001b[0m \u001b[1;33m=\u001b[0m \u001b[0mpd\u001b[0m\u001b[1;33m.\u001b[0m\u001b[0mDataFrame\u001b[0m\u001b[1;33m(\u001b[0m\u001b[0mmicrodados\u001b[0m\u001b[1;33m.\u001b[0m\u001b[0mDataObito\u001b[0m\u001b[1;33m.\u001b[0m\u001b[0mcount\u001b[0m\u001b[1;33m(\u001b[0m\u001b[1;33m)\u001b[0m\u001b[1;33m)\u001b[0m\u001b[1;33m.\u001b[0m\u001b[0mT\u001b[0m\u001b[1;33m\u001b[0m\u001b[1;33m\u001b[0m\u001b[0m\n\u001b[0m",
      "\u001b[1;32m~\\anaconda3\\lib\\site-packages\\pandas\\core\\frame.py\u001b[0m in \u001b[0;36m__init__\u001b[1;34m(self, data, index, columns, dtype, copy)\u001b[0m\n\u001b[0;32m    728\u001b[0m         \u001b[1;32melse\u001b[0m\u001b[1;33m:\u001b[0m\u001b[1;33m\u001b[0m\u001b[1;33m\u001b[0m\u001b[0m\n\u001b[0;32m    729\u001b[0m             \u001b[1;32mif\u001b[0m \u001b[0mindex\u001b[0m \u001b[1;32mis\u001b[0m \u001b[1;32mNone\u001b[0m \u001b[1;32mor\u001b[0m \u001b[0mcolumns\u001b[0m \u001b[1;32mis\u001b[0m \u001b[1;32mNone\u001b[0m\u001b[1;33m:\u001b[0m\u001b[1;33m\u001b[0m\u001b[1;33m\u001b[0m\u001b[0m\n\u001b[1;32m--> 730\u001b[1;33m                 \u001b[1;32mraise\u001b[0m \u001b[0mValueError\u001b[0m\u001b[1;33m(\u001b[0m\u001b[1;34m\"DataFrame constructor not properly called!\"\u001b[0m\u001b[1;33m)\u001b[0m\u001b[1;33m\u001b[0m\u001b[1;33m\u001b[0m\u001b[0m\n\u001b[0m\u001b[0;32m    731\u001b[0m \u001b[1;33m\u001b[0m\u001b[0m\n\u001b[0;32m    732\u001b[0m             \u001b[1;31m# Argument 1 to \"ensure_index\" has incompatible type \"Collection[Any]\";\u001b[0m\u001b[1;33m\u001b[0m\u001b[1;33m\u001b[0m\u001b[1;33m\u001b[0m\u001b[0m\n",
      "\u001b[1;31mValueError\u001b[0m: DataFrame constructor not properly called!"
     ]
    }
   ],
   "metadata": {}
  },
  {
   "cell_type": "code",
   "execution_count": 162,
   "source": [
    "def fn_resumo_microdados():\r\n",
    "    df_classificacao = pd.DataFrame(microdados.Classificacao.value_counts()).T\r\n",
    "    df_periodo = pd.DataFrame(minMax(microdados['DataNotificacao'])).T\r\n",
    "    \r\n",
    "    resumo_microdados = {\r\n",
    "        'n_obs': microdados.shape[0],\r\n",
    "        'n_var': microdados.shape[1],\r\n",
    "        'n_confirmados': df_classificacao.Confirmados[0],\r\n",
    "        'n_descartados': df_classificacao.Descartados[0],\r\n",
    "        'n_supeitos': df_classificacao.Suspeito[0],\r\n",
    "        'periodo_inicio': df_periodo['min'][0],\r\n",
    "        'periodo_fim': df_periodo['max'][0],\r\n",
    "        'n_obitos': microdados.DataObito.count()\r\n",
    "    }\r\n",
    "\r\n",
    "    return(resumo_microdados)"
   ],
   "outputs": [],
   "metadata": {}
  },
  {
   "cell_type": "code",
   "execution_count": 163,
   "source": [
    "def fn_resumo():\r\n",
    "    resumo = fn_resumo_microdados()\r\n",
    "    texto1 = \"Número de observações: {}\".format(resumo.get('n_obs'))\r\n",
    "    texto2 = \"\\nNúmero de variáveis: {}\".format(resumo.get('n_var'))\r\n",
    "    texto3 = \"\\nConfirmados: {}\".format(resumo.get('n_confirmados'))\r\n",
    "    texto4 = \"\\nDescartados: {}\".format(resumo.get('n_descartados'))\r\n",
    "    texto5 = \"\\nSuspeitos: {}\".format(resumo.get('n_supeitos'))\r\n",
    "    texto6 = \"\\nÓbitos: {}\".format(resumo.get('n_obitos'))\r\n",
    "    texto7 = \"\\nOs dados coletados compreendem um período de {:%d/%m/%Y} à {:%d/%m/%Y}.\".format(resumo.get('periodo_inicio'), resumo.get('periodo_fim'))\r\n",
    "    texto = texto1 + texto2 + texto3 + texto4 + texto5 + texto6 + texto7\r\n",
    "\r\n",
    "    return(texto)"
   ],
   "outputs": [],
   "metadata": {}
  },
  {
   "cell_type": "code",
   "execution_count": 164,
   "source": [
    "print(fn_resumo())"
   ],
   "outputs": [
    {
     "output_type": "stream",
     "name": "stdout",
     "text": [
      "Número de observações: 1651537\n",
      "Número de variáveis: 45\n",
      "Confirmados: 522199\n",
      "Descartados: 851633\n",
      "Suspeitos: 277705\n",
      "Óbitos: 14830\n",
      "Os dados coletados compreendem um período de 23/01/2020 à 05/07/2021.\n"
     ]
    }
   ],
   "metadata": {}
  },
  {
   "cell_type": "code",
   "execution_count": 108,
   "source": [
    "df_periodo = pd.DataFrame(minMax(microdados['DataNotificacao'])).T\r\n",
    "DataInicio = df_periodo['min'][0]\r\n",
    "DataFim = df_periodo['max'][0]\r\n",
    "print(\"Os dados coletados compreendem um período de {:%d/%m/%Y} à {:%d/%m/%Y}.\".format(DataInicio, DataFim))"
   ],
   "outputs": [
    {
     "output_type": "stream",
     "name": "stdout",
     "text": [
      "Os dados coletados compreendem um período de 23/01/2020 à 05/07/2021.\n"
     ]
    }
   ],
   "metadata": {}
  },
  {
   "cell_type": "code",
   "execution_count": null,
   "source": [
    "var_classificacao = \"\"\"- ## Variáveis de Datas\r\n",
    "==============================================================================\r\n",
    "'DataNotificacao', 'DataCadastro', 'DataDiagnostico', 'DataColeta_RT_PCR', \r\n",
    "'DataColetaTesteRapido', 'DataColetaSorologia', 'DataColetaSorologiaIGG', \r\n",
    "'DataEncerramento', 'DataObito'\r\n",
    "\r\n",
    "- ## Variáveis de Localização\r\n",
    "==============================================================================\r\n",
    "'Municipio', 'Bairro', 'MoradorDeRua'\r\n",
    "\r\n",
    "- ## Rastreio da Exposição\r\n",
    "==============================================================================\r\n",
    "'ViagemBrasil', 'ViagemInternacional', 'ProfissionalSaude'\r\n",
    "\r\n",
    "- ## Dados Pessoais\r\n",
    "==============================================================================\r\n",
    "'IdadeNaDataNotificacao', 'Sexo', 'RacaCor', 'Escolaridade'\r\n",
    "\r\n",
    "- ## Condição\r\n",
    "==============================================================================\r\n",
    "'Gestante', 'FaixaEtaria'\r\n",
    "\r\n",
    "- ## Sintomas\r\n",
    "==============================================================================\r\n",
    "'Febre', 'DificuldadeRespiratoria', 'Tosse', \r\n",
    "'Coriza', 'DorGarganta', 'Diarreia', 'Cefaleia'\r\n",
    "\r\n",
    "- ## Comorbidades\r\n",
    "==============================================================================\r\n",
    "'ComorbidadePulmao', 'ComorbidadeCardio', 'ComorbidadeRenal', \r\n",
    "'ComorbidadeDiabetes', 'ComorbidadeTabagismo', 'ComorbidadeObesidade'\r\n",
    "\r\n",
    "- ## Outras limitações \r\n",
    "==============================================================================\r\n",
    "'PossuiDeficiencia'\r\n",
    "\r\n",
    "- ## Resultados de Exames\r\n",
    "==============================================================================\r\n",
    "'ResultadoRT_PCR', 'ResultadoTesteRapido', 'ResultadoSorologia', \r\n",
    "'ResultadoSorologia_IGG', 'TipoTesteRapido'\r\n",
    "\r\n",
    "- ## Tratamento\r\n",
    "==============================================================================\r\n",
    "'FicouInternado'\r\n",
    "\r\n",
    "- ## Acompanhamento\r\n",
    "==============================================================================\r\n",
    "'Classificacao', 'Evolucao', 'CriterioConfirmacao', 'StatusNotificacao'\"\"\""
   ],
   "outputs": [],
   "metadata": {}
  },
  {
   "cell_type": "code",
   "execution_count": 8,
   "source": [
    "from app.home.vups import const"
   ],
   "outputs": [],
   "metadata": {}
  },
  {
   "cell_type": "code",
   "execution_count": 9,
   "source": [
    "from app.home.vups.utils import minMax"
   ],
   "outputs": [],
   "metadata": {}
  },
  {
   "cell_type": "code",
   "execution_count": 14,
   "source": [
    "minMax(microdados['DataNotificacao'])"
   ],
   "outputs": [],
   "metadata": {}
  },
  {
   "cell_type": "code",
   "execution_count": 45,
   "source": [
    "# microdados[microdados['Classificacao']=='Confirmados'].count()\r\n",
    "df_summary = pd.DataFrame(microdados.Classificacao.value_counts())"
   ],
   "outputs": [],
   "metadata": {}
  },
  {
   "cell_type": "code",
   "execution_count": 48,
   "source": [
    "df_summary\r\n"
   ],
   "outputs": [
    {
     "output_type": "execute_result",
     "data": {
      "text/html": [
       "<div>\n",
       "<style scoped>\n",
       "    .dataframe tbody tr th:only-of-type {\n",
       "        vertical-align: middle;\n",
       "    }\n",
       "\n",
       "    .dataframe tbody tr th {\n",
       "        vertical-align: top;\n",
       "    }\n",
       "\n",
       "    .dataframe thead th {\n",
       "        text-align: right;\n",
       "    }\n",
       "</style>\n",
       "<table border=\"1\" class=\"dataframe\">\n",
       "  <thead>\n",
       "    <tr style=\"text-align: right;\">\n",
       "      <th></th>\n",
       "      <th>Classificacao</th>\n",
       "    </tr>\n",
       "  </thead>\n",
       "  <tbody>\n",
       "    <tr>\n",
       "      <th>Descartados</th>\n",
       "      <td>851633</td>\n",
       "    </tr>\n",
       "    <tr>\n",
       "      <th>Confirmados</th>\n",
       "      <td>522199</td>\n",
       "    </tr>\n",
       "    <tr>\n",
       "      <th>Suspeito</th>\n",
       "      <td>277705</td>\n",
       "    </tr>\n",
       "  </tbody>\n",
       "</table>\n",
       "</div>"
      ],
      "text/plain": [
       "             Classificacao\n",
       "Descartados         851633\n",
       "Confirmados         522199\n",
       "Suspeito            277705"
      ]
     },
     "metadata": {},
     "execution_count": 48
    }
   ],
   "metadata": {}
  },
  {
   "cell_type": "code",
   "execution_count": null,
   "source": [
    "rng_DataNotificacao = pd.Series(microdados.DataNotificacao)"
   ],
   "outputs": [],
   "metadata": {}
  },
  {
   "cell_type": "code",
   "execution_count": null,
   "source": [
    "rng_DataNotificacao"
   ],
   "outputs": [],
   "metadata": {}
  },
  {
   "cell_type": "code",
   "execution_count": null,
   "source": [
    "import plotly.graph_objects as go\r\n",
    "import numpy as np\r\n",
    "x0 = rng_DataNotificacao\r\n",
    "fig = go.Figure()\r\n",
    "fig.add_trace(go.Box(x=x0))\r\n",
    "fig.show()"
   ],
   "outputs": [],
   "metadata": {}
  },
  {
   "cell_type": "code",
   "execution_count": null,
   "source": [
    "microdados['Ano'] = microdados.DataNotificacao.dt.year\r\n",
    "microdados['Mes'] = microdados.DataNotificacao.dt.month\r\n",
    "microdados['Semana'] = microdados.DataNotificacao.dt.week"
   ],
   "outputs": [],
   "metadata": {}
  },
  {
   "cell_type": "code",
   "execution_count": null,
   "source": [
    "# microdados[['DataNotificacao','Mes', 'Ano', 'Semana']].sort_values(by=['DataNotificacao'])"
   ],
   "outputs": [],
   "metadata": {}
  },
  {
   "cell_type": "code",
   "execution_count": null,
   "source": [
    "microdados[microdados['Ano']=='2021'].Municipio.value_counts()"
   ],
   "outputs": [],
   "metadata": {}
  },
  {
   "cell_type": "code",
   "execution_count": null,
   "source": [
    "df_filtrado.Municipio.unique()"
   ],
   "outputs": [],
   "metadata": {}
  },
  {
   "cell_type": "code",
   "execution_count": null,
   "source": [
    "df_filtrado2 = df_filtrado[['Municipio', 'Ano', 'Mes', 'Semana']].groupby(['Municipio', 'Ano', 'Mes'], as_index=False).size()"
   ],
   "outputs": [],
   "metadata": {}
  },
  {
   "cell_type": "code",
   "execution_count": null,
   "source": [
    "microdados[['Municipio'=='SERRA' and microdados['Ano']=='2020', microdados['Mes']=='3']"
   ],
   "outputs": [],
   "metadata": {}
  },
  {
   "cell_type": "code",
   "execution_count": null,
   "source": [
    "df_filtrado2[df_filtrado2['Municipio']=='SERRA']"
   ],
   "outputs": [],
   "metadata": {}
  },
  {
   "cell_type": "code",
   "execution_count": null,
   "source": [
    "microdados[microdados['Municipio']=='SERRA'].groupby(['Municipio', 'Ano', 'Mes', 'Semana']).agg({'count'})"
   ],
   "outputs": [],
   "metadata": {}
  },
  {
   "cell_type": "code",
   "execution_count": null,
   "source": [
    "import plotly.express as px\r\n",
    "\r\n",
    "df = px.data.gapminder()\r\n",
    "fig = px.scatter(\r\n",
    "    microdados, \r\n",
    "    x=\"gdpPercap\",\r\n",
    "    y=\"lifeExp\", \r\n",
    "    animation_frame=\"Semana\",\r\n",
    "    animation_group=\"Municipio\",      \r\n",
    "    size=\"pop\", \r\n",
    "    color=\"continent\", \r\n",
    "    hover_name=\"country\",\r\n",
    "    log_x=True, \r\n",
    "    size_max=55, \r\n",
    "    range_x=[100,100000], \r\n",
    "    range_y=[25,90])\r\n",
    "\r\n",
    "fig[\"layout\"].pop(\"updatemenus\") # optional, drop animation buttons\r\n",
    "fig.show()"
   ],
   "outputs": [],
   "metadata": {}
  },
  {
   "cell_type": "code",
   "execution_count": null,
   "source": [
    "# Ignorando mensagens de avisos.\r\n",
    "import warnings\r\n",
    "warnings.filterwarnings(\"ignore\")\r\n",
    "\r\n",
    "#\r\n",
    "import pandas as pd\r\n",
    "import colorsys\r\n",
    "\r\n",
    "# Tratamento de dados\r\n",
    "from itertools import compress\r\n",
    "\r\n",
    "# visualização de dados\r\n",
    "import matplotlib.pyplot as plt\r\n",
    "%matplotlib inline\r\n",
    "import seaborn as sns\r\n",
    "\r\n",
    "#df = pd.read_pickle('..\\\\data\\\\df.pkl')"
   ],
   "outputs": [],
   "metadata": {}
  },
  {
   "cell_type": "markdown",
   "source": [
    "## Descriptive Statistical"
   ],
   "metadata": {}
  },
  {
   "cell_type": "code",
   "execution_count": null,
   "source": [
    "! pip install compress"
   ],
   "outputs": [],
   "metadata": {}
  },
  {
   "cell_type": "code",
   "execution_count": null,
   "source": [
    "from app.home import vups\r\n",
    "import pandas as pd\r\n",
    "import plotly.graph_objects as go\r\n",
    "from plotly.subplots import make_subplots\r\n",
    "import numpy as np\r\n",
    "import itertools\r\n",
    "import operator\r\n",
    "import compress\r\n",
    "import numpy as np"
   ],
   "outputs": [],
   "metadata": {}
  },
  {
   "cell_type": "code",
   "execution_count": null,
   "source": [
    "df = vups.datasets.microdados_bairros()\r\n",
    "df2 = vups.datasets.microdados()\r\n",
    "# 2\r\n",
    "df3 = df2[['Classificacao', 'Febre', 'DificuldadeRespiratoria', 'Tosse', 'Coriza', 'DorGarganta', 'Diarreia', 'Cefaleia',\r\n",
    "    'ComorbidadePulmao', 'ComorbidadeCardio', 'ComorbidadeRenal', 'ComorbidadeDiabetes', 'ComorbidadeTabagismo',\r\n",
    "    'ComorbidadeObesidade', 'DataObito']].dropna()\r\n",
    "# 3\r\n",
    "df3['Sintomas'] = df3[['Febre', 'DificuldadeRespiratoria', 'Tosse', 'Coriza', 'DorGarganta', 'Diarreia', 'Cefaleia',\r\n",
    "    'ComorbidadePulmao', 'ComorbidadeCardio', 'ComorbidadeRenal', 'ComorbidadeDiabetes', 'ComorbidadeTabagismo',\r\n",
    "    'ComorbidadeObesidade']].values.tolist()\r\n",
    "# 4\r\n",
    "sintomas = ['Febre', 'DificuldadeRespiratoria', 'Tosse', 'Coriza', 'DorGarganta', 'Diarreia', 'Cefaleia',\r\n",
    "    'ComorbidadePulmao', 'ComorbidadeCardio', 'ComorbidadeRenal', 'ComorbidadeDiabetes', 'ComorbidadeTabagismo',\r\n",
    "    'ComorbidadeObesidade']\r\n",
    "# 5\r\n",
    "df3['Sintomas'] = df3['Sintomas'].apply(lambda x: [True if item=='Sim' else False for item in x])\r\n",
    "#\r\n",
    "df3['Sintomas'] = df3['Sintomas'].apply(lambda x: list(itertools.compress(sintomas, x)))\r\n",
    "#\r\n",
    "df3['Qntd_sintomas'] = df3['Sintomas'].apply(lambda x: len(x))\r\n",
    "#\r\n",
    "confirmados = df3[df3['Classificacao']=='Confirmados']\r\n",
    "descartados = df3[df3['Classificacao']=='Descartados']\r\n",
    "suspeitos = df3[df3['Classificacao']=='Suspeitos']\r\n",
    "#\r\n",
    "confirmados['Assintomatico'] = confirmados.Sintomas.apply(lambda x:  'sim' if x==[] else 'nao')\r\n",
    "\r\n",
    "# 7\r\n",
    "dic = {}\r\n",
    "for i in confirmados['Sintomas'].apply(lambda x: x):\r\n",
    "    for j in i:\r\n",
    "        dic[j] = dic.get(j, 0) + 1\r\n",
    "\r\n",
    "# x = sintomas\r\n",
    "x = pd.Series(sorted(dic.values()))\r\n",
    "# y_saving = sintomas_prop\r\n",
    "y_saving = round(x / x.sum() * 100, ndigits=2)\r\n",
    "\r\n",
    "x = list(sorted(dic.keys()))\r\n",
    "\r\n",
    "fig = go.Figure()\r\n",
    "fig.add_trace(go.Bar(\r\n",
    "        x=y_saving,\r\n",
    "        y=x,\r\n",
    "        marker=dict(\r\n",
    "            color='rgba(50, 171, 96, 0.6)',\r\n",
    "            line=dict(\r\n",
    "                color='rgba(50, 171, 96, 1.0)',\r\n",
    "                width=1),\r\n",
    "        ),\r\n",
    "        name='Sintomas mais frequentes',\r\n",
    "        orientation='h',\r\n",
    "    )\r\n",
    ")\r\n",
    "\r\n",
    "fig.update_layout(\r\n",
    "    title='Sintomas mais frequentes',\r\n",
    "    yaxis=dict(\r\n",
    "        showgrid=False,\r\n",
    "        showline=False,\r\n",
    "        showticklabels=True,\r\n",
    "        domain=[0, 1],\r\n",
    "    ),\r\n",
    "\r\n",
    "    xaxis=dict(\r\n",
    "        zeroline=False,\r\n",
    "        showline=False,\r\n",
    "        showticklabels=False,\r\n",
    "        showgrid=True,\r\n",
    "        domain=[0, 1],\r\n",
    "    ),\r\n",
    "\r\n",
    "    legend=dict(x=0.029, y=1.038, font_size=10),\r\n",
    "    margin=dict(l=100, r=20, t=70, b=20),\r\n",
    "    paper_bgcolor='rgb(248, 248, 255)',\r\n",
    "    plot_bgcolor='rgb(248, 248, 255)',\r\n",
    ")\r\n",
    "\r\n",
    "annotations = []\r\n",
    "\r\n",
    "y_s = np.round(y_saving, decimals=2)\r\n",
    "\r\n",
    "# Adding labels\r\n",
    "for yd, xd in zip(y_s, x):\r\n",
    "\r\n",
    "    # labeling the bar net worth\r\n",
    "    annotations.append(dict(\r\n",
    "        xref='x1', \r\n",
    "        yref='y1',\r\n",
    "        y=xd, \r\n",
    "        x=yd + 3,\r\n",
    "        text=str(yd) + '%',\r\n",
    "        font=dict(\r\n",
    "            family='Arial', \r\n",
    "            size=12, \r\n",
    "            color='rgb(50, 171, 96)'), \r\n",
    "        showarrow=False))\r\n",
    "\r\n",
    "fig.update_layout(annotations=annotations)"
   ],
   "outputs": [],
   "metadata": {}
  },
  {
   "cell_type": "markdown",
   "source": [
    "___"
   ],
   "metadata": {}
  },
  {
   "cell_type": "code",
   "execution_count": null,
   "source": [
    "pop = vups.datasets.populacao()"
   ],
   "outputs": [],
   "metadata": {}
  },
  {
   "cell_type": "code",
   "execution_count": null,
   "source": [
    "pop = vups.remove_espaco(pop, lst_cols=[\"POPULAÇÃO ESTIMADA\"])\r\n",
    "pop = vups.remove_pontuacao(pop, lst_cols=[\"POPULAÇÃO ESTIMADA\"])"
   ],
   "outputs": [],
   "metadata": {}
  },
  {
   "cell_type": "code",
   "execution_count": null,
   "source": [
    "pop['POPULAÇÃO ESTIMADA'] = pop['POPULAÇÃO ESTIMADA'].astype(\"float64\")"
   ],
   "outputs": [],
   "metadata": {}
  },
  {
   "cell_type": "markdown",
   "source": [
    "___"
   ],
   "metadata": {}
  },
  {
   "cell_type": "markdown",
   "source": [
    "___"
   ],
   "metadata": {}
  },
  {
   "cell_type": "code",
   "execution_count": null,
   "source": [
    "from datetime import datetime\r\n",
    "#confirmados['mensal'] = pd.confirmados['DataObito'].apply(lambda x: datetime.strptime(x, '%Y-%m-%d'))\r\n",
    "confirmados['DataObito'] = pd.to_datetime(confirmados['DataObito'])\r\n",
    "# confirmados.head()"
   ],
   "outputs": [],
   "metadata": {}
  },
  {
   "cell_type": "code",
   "execution_count": null,
   "source": [
    "# Mortes com e sem sintomas\r\n",
    "#confirmados[confirmados['Assintomatico']=='sim'].groupby('DataObito').size().sort_index().plot(figsize=(15,12))\r\n",
    "#confirmados[confirmados['Assintomatico']=='nao'].groupby('DataObito').size().sort_index().plot(figsize=(15,12))\r\n",
    "confirmados.groupby(['DataObito', 'Assintomatico']).size().unstack().fillna(0).plot(figsize=(15,12))\r\n",
    "plt.legend(['Mortes Sintomáticas', 'Mortes Assintomáticas'])\r\n",
    "plt.xlabel('')\r\n",
    "plt.ylabel('Quantidade de mortes', fontsize=12)\r\n",
    "plt.title('Mortes clientes classificados como Confirmados', fontsize=15)"
   ],
   "outputs": [],
   "metadata": {}
  },
  {
   "cell_type": "markdown",
   "source": [
    "Em casos de mortes com Covid confirmado é possível notar que quase não houve mudança na quantidade de mortes. Entretanto, podemos ver que exitem **três** picos em pessoas sintomáticas."
   ],
   "metadata": {}
  },
  {
   "cell_type": "code",
   "execution_count": null,
   "source": [
    "sintomasXmortes = confirmados.groupby(['Qntd_sintomas']).size().to_frame('Total_mortes')\r\n",
    "sintomasXmortes = sintomasXmortes.reset_index()\r\n",
    "sns.lmplot(data=sintomasXmortes, y='Qntd_sintomas', x='Total_mortes', height=10)"
   ],
   "outputs": [],
   "metadata": {}
  },
  {
   "cell_type": "code",
   "execution_count": null,
   "source": [
    "sintomasXmortes.corr()"
   ],
   "outputs": [],
   "metadata": {}
  },
  {
   "cell_type": "markdown",
   "source": [
    "Podemos ver que temos uma correlação negativa mediana entre à **quantidade de sintomas** e a **quantidade de mortes**."
   ],
   "metadata": {}
  },
  {
   "cell_type": "code",
   "execution_count": null,
   "source": [
    "descartados['Assintomatico'] = descartados.Sintomas.apply(lambda x:  'sim' if x==[] else 'nao')\r\n",
    "descartados['DataObito'] = pd.to_datetime(descartados['DataObito'])"
   ],
   "outputs": [],
   "metadata": {}
  },
  {
   "cell_type": "code",
   "execution_count": null,
   "source": [
    "descartados[descartados['Assintomatico']=='nao'].groupby('DataObito').size().sort_index().plot(figsize=(15,12))\r\n",
    "confirmados[confirmados['Assintomatico']=='nao'].groupby('DataObito').size().sort_index().plot(figsize=(15,12))\r\n",
    "plt.legend(['Mortes descartados', 'Mortes confirmados'])\r\n",
    "plt.title('Mortes Descartados x Confirmados - Sintomáticos', fontsize=15)"
   ],
   "outputs": [],
   "metadata": {}
  },
  {
   "cell_type": "code",
   "execution_count": null,
   "source": [
    "descartados[descartados['Assintomatico']=='nao'].groupby('DataObito').size().sort_index().plot.kde(figsize=(15,12))\r\n",
    "confirmados[confirmados['Assintomatico']=='nao'].groupby('DataObito').size().sort_index().plot.kde(figsize=(15,12))\r\n",
    "plt.legend(['Mortes descartados', 'Mortes confirmados'])\r\n",
    "plt.title('Mortes Descartados x Confirmados - Sintomáticos', fontsize=15)"
   ],
   "outputs": [],
   "metadata": {}
  },
  {
   "cell_type": "code",
   "execution_count": null,
   "source": [
    "descartados[descartados['Assintomatico']=='sim'].groupby('DataObito').size().sort_index().plot(figsize=(15,12))\r\n",
    "confirmados[confirmados['Assintomatico']=='sim'].groupby('DataObito').size().sort_index().plot(figsize=(15,12))\r\n",
    "plt.legend(['Mortes descartados', 'Mortes confirmados'])\r\n",
    "plt.title('Mortes Descartados x Confirmados - Assintomáticos', fontsize=15)"
   ],
   "outputs": [],
   "metadata": {}
  },
  {
   "cell_type": "code",
   "execution_count": null,
   "source": [
    "descartados[descartados['Assintomatico']=='sim'].groupby('DataObito').size().sort_index().plot.kde(figsize=(15,12))\r\n",
    "confirmados[confirmados['Assintomatico']=='sim'].groupby('DataObito').size().sort_index().plot.kde(figsize=(15,12))\r\n",
    "plt.legend(['Mortes descartados', 'Mortes confirmados'])\r\n",
    "plt.title('Mortes Descartados x Confirmados - Assintomáticos', fontsize=15)"
   ],
   "outputs": [],
   "metadata": {}
  },
  {
   "cell_type": "markdown",
   "source": [
    "### Visualizando Distribuições de Dados"
   ],
   "metadata": {}
  },
  {
   "cell_type": "markdown",
   "source": [
    "Uma etapa inicial em qualquer esforço para analisar ou modelar dados deve ser entender como as variáveis são distribuídas.<br> As técnicas de visualização de distribuição podem fornecer respostas rápidas a muitas perguntas importantes.\r\n",
    "- Que intervalo as observações cobrem? \r\n",
    "- Qual é a tendência central deles? \r\n",
    "- Eles estão fortemente inclinados em uma direção? \r\n",
    "- Existem evidências de bimodalidade? \r\n",
    "- Existem outliers significativos? \r\n",
    "- As respostas a essas perguntas variam entre os subconjuntos definidos por outras variáveis?"
   ],
   "metadata": {}
  },
  {
   "cell_type": "code",
   "execution_count": null,
   "source": [
    "import seaborn as sns # Visualização Estatística de Dados\r\n",
    "import matplotlib.pyplot as plt # Visualização Interativa\r\n",
    "%matplotlib inline"
   ],
   "outputs": [],
   "metadata": {}
  },
  {
   "cell_type": "markdown",
   "source": [
    "O gráfico de dispersão é um dos pilares da visualização estatística. Ele descreve a distribuição conjunta de duas variáveis usando uma nuvem de pontos, onde cada ponto representa uma observação no conjunto de dados. Essa representação permite que o olho deduza uma quantidade substancial de informações sobre se existe alguma relação significativa entre eles."
   ],
   "metadata": {}
  },
  {
   "cell_type": "code",
   "execution_count": null,
   "source": [
    "# Gráfico de Dispersão\r\n",
    "fig, ax = plt.subplots(figsize=(15, 8))\r\n",
    "sns.scatterplot(data=df, x='yearOfRegistration', y='price', hue=\"vehicleType\", ax=ax)"
   ],
   "outputs": [],
   "metadata": {}
  },
  {
   "cell_type": "code",
   "execution_count": null,
   "source": [
    "# Correlação\r\n",
    "df.corr(method = 'pearson')"
   ],
   "outputs": [],
   "metadata": {}
  },
  {
   "cell_type": "code",
   "execution_count": null,
   "source": [
    "# Assimetria\r\n",
    "df.skew()"
   ],
   "outputs": [],
   "metadata": {}
  },
  {
   "cell_type": "code",
   "execution_count": null,
   "source": [
    "# Achatamento\r\n",
    "df.kurtosis()"
   ],
   "outputs": [],
   "metadata": {}
  },
  {
   "cell_type": "code",
   "execution_count": null,
   "source": [
    "# dados.Age.value_counts() # Distribuição de Frequências\r\n",
    "# df.Age.value_counts(bins = 5) # Definindo nº de Classes"
   ],
   "outputs": [],
   "metadata": {}
  },
  {
   "cell_type": "markdown",
   "source": [
    "## Statistical Data Visualization"
   ],
   "metadata": {}
  },
  {
   "cell_type": "code",
   "execution_count": null,
   "source": [
    "import matplotlib.pyplot as plt # Visualização Interativa\r\n",
    "%matplotlib inline"
   ],
   "outputs": [],
   "metadata": {}
  },
  {
   "cell_type": "code",
   "execution_count": null,
   "source": [
    "sns.set_theme(style=\"dark\")\r\n",
    "                     \r\n",
    "# Plot each year's time series in its own facet\r\n",
    "g = sns.relplot(\r\n",
    "    data=df,\r\n",
    "    x=\"yearOfRegistration\", y=\"price\", col=\"yearOfCreation\", hue=\"yearOfCreation\",\r\n",
    "    kind=\"line\", palette=\"crest\", linewidth=4, zorder=12,\r\n",
    "    col_wrap=5, height=2, aspect=1.5, legend=False,\r\n",
    ")\r\n",
    "\r\n",
    "# Iterate over each subplot to customize further\r\n",
    "for yearOfCreation, ax in g.axes_dict.items():\r\n",
    "\r\n",
    "    # Add the title as an annotation within the plot\r\n",
    "    ax.text(.8, .85, yearOfCreation, transform=ax.transAxes, fontweight=\"bold\")\r\n",
    "\r\n",
    "    # Plot every year's time series in the background\r\n",
    "    sns.lineplot(\r\n",
    "        data=df, x=\"yearOfRegistration\", y=\"price\", units=\"yearOfCreation\",\r\n",
    "        estimator=None, color=\".7\", linewidth=1, ax=ax,\r\n",
    "    )\r\n",
    "\r\n",
    "# Reduce the frequency of the x axis ticks\r\n",
    "ax.set_xticks(ax.get_xticks()[::2])\r\n",
    "\r\n",
    "# Tweak the supporting aspects of the plot\r\n",
    "g.set_titles(\"\")\r\n",
    "g.set_axis_labels(\"\", \"price\")\r\n",
    "g.tight_layout()"
   ],
   "outputs": [],
   "metadata": {}
  },
  {
   "cell_type": "code",
   "execution_count": null,
   "source": [
    "# import seaborn as sns\r\n",
    "fig, ax = plt.subplots(figsize=(12, 6))\r\n",
    "sns.set_theme(style=\"darkgrid\")\r\n",
    "\r\n",
    "# Load an example dataset with long-form data\r\n",
    "dataset = df[df.yearOfCreation == 2016].sort_values([\"yearOfCreation\", \"monthOfCreation_num\"])\r\n",
    "\r\n",
    "# Plot the responses for different events and regions\r\n",
    "sns.lineplot(x=\"monthOfCreation\", y=\"price\",\r\n",
    "             hue=\"vehicleType\", style=\"gearbox\",\r\n",
    "             data=dataset)"
   ],
   "outputs": [],
   "metadata": {}
  },
  {
   "cell_type": "code",
   "execution_count": null,
   "source": [
    "# Density Plot Univariado\r\n",
    "plot(kind = 'density',\r\n",
    "        subplots = True,\r\n",
    "        # layout = (3, 3),\r\n",
    "        sharex = False)\r\n",
    "plt.show()"
   ],
   "outputs": [],
   "metadata": {}
  },
  {
   "cell_type": "code",
   "execution_count": null,
   "source": [
    "fig, (ax1, ax2) = plt.subplots(figsize=(18, 6), ncols = 2)\r\n",
    "\r\n",
    "dataset = df[df.yearOfCreation == 2015].sort_values('monthOfCreation_num')\r\n",
    "\r\n",
    "# Box e Whisker Plots\r\n",
    "sns.boxplot(\r\n",
    "    x = 'monthOfCreation', \r\n",
    "    y = 'price', \r\n",
    "    hue = 'yearOfCreation',\r\n",
    "    palette = 'Set1',\r\n",
    "    ax = ax1,\r\n",
    "    data = dataset)\r\n",
    "\r\n",
    "dataset = df[df.yearOfCreation == 2016].sort_values('monthOfCreation_num')\r\n",
    "\r\n",
    "# Box e Whisker Plots\r\n",
    "sns.boxplot(\r\n",
    "    x = 'monthOfCreation', \r\n",
    "    y = 'price', \r\n",
    "    hue = 'yearOfCreation',\r\n",
    "    palette = 'Set2',\r\n",
    "    ax = ax2,\r\n",
    "    data = dataset)\r\n"
   ],
   "outputs": [],
   "metadata": {}
  },
  {
   "cell_type": "code",
   "execution_count": null,
   "source": [
    "# Matriz de Correlação Genérica\r\n",
    "correlacoes = df[feature_names].corr()\r\n",
    "\r\n",
    "# Plot\r\n",
    "fig = plt.figure()\r\n",
    "ax = fig.add_subplot(111)\r\n",
    "cax = ax.matshow(correlacoes,\r\n",
    "                 vmin = -1,\r\n",
    "                 vmax = 1)\r\n",
    "fig.colorbar(cax)\r\n",
    "plt.show()"
   ],
   "outputs": [],
   "metadata": {}
  },
  {
   "cell_type": "code",
   "execution_count": null,
   "source": [
    "import numpy as np\r\n",
    "\r\n",
    "# Matriz de Correlação com Nomes das Variáveis\r\n",
    "correlacoes = df[feature_names].corr()\r\n",
    "\r\n",
    "# Plot\r\n",
    "fig = plt.figure()\r\n",
    "ax = fig.add_subplot(111)\r\n",
    "cax = ax.matshow(correlacoes,\r\n",
    "                 vmin = -1,\r\n",
    "                 vmax = 1)\r\n",
    "fig.colorbar(cax)\r\n",
    "ticks = np.arange(0, len(feature_names), 1)\r\n",
    "ax.set_xticks(ticks)\r\n",
    "ax.set_yticks(ticks)\r\n",
    "ax.set_xticklabels(feature_names)\r\n",
    "ax.set_yticklabels(feature_names)\r\n",
    "plt.show()"
   ],
   "outputs": [],
   "metadata": {}
  },
  {
   "cell_type": "code",
   "execution_count": null,
   "source": [
    "# Scatter Plot\r\n",
    "pd.plotting.scatter_matrix(df[feature_names])\r\n",
    "plt.show()"
   ],
   "outputs": [],
   "metadata": {}
  },
  {
   "cell_type": "code",
   "execution_count": null,
   "source": [
    "# Pairplot\r\n",
    "sns.pairplot(df[feature_names])"
   ],
   "outputs": [],
   "metadata": {}
  },
  {
   "cell_type": "code",
   "execution_count": null,
   "source": [
    "fig, ax = plt.subplots(figsize=(18, 6))\r\n",
    "# Boxplot com orientação vertical\r\n",
    "sns.boxplot(data = data[feature_names],\r\n",
    "            orient = \"v\")"
   ],
   "outputs": [],
   "metadata": {}
  },
  {
   "cell_type": "code",
   "execution_count": null,
   "source": [
    "from scipy import stats"
   ],
   "outputs": [],
   "metadata": {}
  },
  {
   "cell_type": "code",
   "execution_count": null,
   "source": [
    "# Clustermap\r\n",
    "sns.clustermap(df[feature_names].dropna())"
   ],
   "outputs": [],
   "metadata": {}
  },
  {
   "cell_type": "code",
   "execution_count": null,
   "source": [
    "# Distribuição Normal\r\n",
    "sns.displot(df, fit = stats.norm)"
   ],
   "outputs": [],
   "metadata": {}
  },
  {
   "cell_type": "markdown",
   "source": [
    "## Interpret Results"
   ],
   "metadata": {}
  },
  {
   "cell_type": "markdown",
   "source": [
    "### ..."
   ],
   "metadata": {}
  }
 ],
 "metadata": {
  "kernelspec": {
   "name": "python3",
   "display_name": "Python 3.8.8 64-bit ('base': conda)"
  },
  "language_info": {
   "codemirror_mode": {
    "name": "ipython",
    "version": 3
   },
   "file_extension": ".py",
   "mimetype": "text/x-python",
   "name": "python",
   "nbconvert_exporter": "python",
   "pygments_lexer": "ipython3",
   "version": "3.8.8"
  },
  "interpreter": {
   "hash": "e9aa689edf4e3253ce592293dcc69d32d3ef370148852f3558b2d441f5963c91"
  }
 },
 "nbformat": 4,
 "nbformat_minor": 5
}