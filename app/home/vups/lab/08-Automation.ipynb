{
 "cells": [
  {
   "cell_type": "markdown",
   "id": "6bf5e1bf-960a-40b6-bff4-8096f4402989",
   "metadata": {},
   "source": [
    "# Automatização"
   ]
  },
  {
   "cell_type": "markdown",
   "id": "35c52be8-2909-47a2-8143-5bb1f80b4a09",
   "metadata": {},
   "source": [
    "## Salvando o Modelo"
   ]
  },
  {
   "cell_type": "code",
   "execution_count": 88,
   "id": "9eb090a5-d070-4a8d-8ef0-6bd9563f8dd4",
   "metadata": {},
   "outputs": [
    {
     "name": "stdout",
     "output_type": "stream",
     "text": [
      "Modelo salvo!\n"
     ]
    }
   ],
   "source": [
    "import pickle\n",
    "\n",
    "file = 'models/model.sav'\n",
    "pickle.dump(modelo, open(file, 'wb'))\n",
    "print('Modelo salvo!')"
   ]
  },
  {
   "cell_type": "markdown",
   "id": "f4a1a292-870b-4622-8689-c1ba5e596e74",
   "metadata": {},
   "source": [
    "## Carregando um Modelo"
   ]
  },
  {
   "cell_type": "code",
   "execution_count": 89,
   "id": "1f856e25-2cfc-47c7-89ed-d66fbaeec50b",
   "metadata": {},
   "outputs": [
    {
     "name": "stdout",
     "output_type": "stream",
     "text": [
      "Modelo carregado!\n",
      "Acurácia: 98.305\n"
     ]
    }
   ],
   "source": [
    "file = 'models/model.sav'\n",
    "modelo_final = pickle.load(open(file, 'rb'))\n",
    "modelo_prod  = modelo_final.score(X_teste, y_teste)\n",
    "print(\"Modelo carregado!\")\n",
    "\n",
    "print(\"Acurácia: %.3f\" % (modelo_prod.mean() * 100))"
   ]
  }
 ],
 "metadata": {
  "kernelspec": {
   "display_name": "Python 3",
   "language": "python",
   "name": "python3"
  },
  "language_info": {
   "codemirror_mode": {
    "name": "ipython",
    "version": 3
   },
   "file_extension": ".py",
   "mimetype": "text/x-python",
   "name": "python",
   "nbconvert_exporter": "python",
   "pygments_lexer": "ipython3",
   "version": "3.8.8"
  }
 },
 "nbformat": 4,
 "nbformat_minor": 5
}
