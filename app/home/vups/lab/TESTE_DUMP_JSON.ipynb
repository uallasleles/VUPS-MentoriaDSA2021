{
 "cells": [
  {
   "cell_type": "code",
   "execution_count": 1,
   "metadata": {},
   "outputs": [],
   "source": [
    "import pandas as pd\n",
    "import json\n",
    "import os"
   ]
  },
  {
   "cell_type": "code",
   "execution_count": 3,
   "metadata": {},
   "outputs": [],
   "source": [
    "from app.home.vups import datasets"
   ]
  },
  {
   "cell_type": "code",
   "execution_count": 4,
   "metadata": {},
   "outputs": [],
   "source": [
    "from app.home.vups import data, const"
   ]
  },
  {
   "cell_type": "markdown",
   "metadata": {},
   "source": [
    "___"
   ]
  },
  {
   "cell_type": "code",
   "execution_count": 5,
   "metadata": {},
   "outputs": [
    {
     "name": "stdout",
     "output_type": "stream",
     "text": [
      "Importando o dataset MICRODADOS...\n",
      "Realizando importação de arquivo PARQUET\n"
     ]
    }
   ],
   "source": [
    "df = datasets.Datasets.microdados()"
   ]
  },
  {
   "cell_type": "code",
   "execution_count": null,
   "metadata": {},
   "outputs": [],
   "source": [
    "def field_map(df, name):\n",
    "\n",
    "    MAP = {}\n",
    "    MAP[\"DTypeMap\"] = {}\n",
    "\n",
    "    # NOMES DOS CAMPOS\n",
    "    FIELD_NAME = df.columns.to_list()\n",
    "\n",
    "    # TIPO DE DADO PARA CADA CAMPO\n",
    "    FIELD_DTYPE = []\n",
    "    for i in iter(df.dtypes.iat):\n",
    "        FIELD_DTYPE.append(i.name)\n",
    "    \n",
    "    # CRIA UM DICT KEY-VALUE COM NOME E TIPO\n",
    "    z = dict(zip(FIELD_NAME, FIELD_DTYPE))\n",
    "    MAP[\"DTypeMap\"] = z\n",
    "    MAP = json.dumps(MAP, indent=4)\n",
    "    j = json.loads(MAP)\n",
    "\n",
    "    # FORMATA O NOME DO ARQUIVO PARA GRAVAÇÃO\n",
    "    filename = \"{}{}\".format(name, \"_DTYPEMAP.json\")\n",
    "\n",
    "    # GRAVA O DICIONÁRIO EM UM ARQUIVO\n",
    "    with open(os.path.join(const.DATADIR, filename), \"w\") as f:\n",
    "        json.dump(j, f, indent=4)"
   ]
  },
  {
   "cell_type": "code",
   "execution_count": 5,
   "metadata": {},
   "outputs": [],
   "source": [
    "data.create_dtype_map(df, \"MICRODADOS\")"
   ]
  },
  {
   "cell_type": "code",
   "execution_count": 6,
   "metadata": {},
   "outputs": [
    {
     "name": "stdout",
     "output_type": "stream",
     "text": [
      "{'date_cols': ['DataNotificacao', 'DataCadastro', 'DataDiagnostico', 'DataColeta_RT_PCR', 'DataColetaTesteRapido', 'DataColetaSorologia', 'DataColetaSorologiaIGG', 'DataEncerramento', 'DataObito', 'DataNotificacao', 'DataCadastro', 'DataDiagnostico', 'DataColeta_RT_PCR', 'DataColetaTesteRapido', 'DataColetaSorologia', 'DataColetaSorologiaIGG', 'DataEncerramento', 'DataObito'], 'cat_cols': ['Classificacao', 'Evolucao', 'CriterioConfirmacao', 'StatusNotificacao', 'Municipio', 'Bairro', 'FaixaEtaria', 'IdadeNaDataNotificacao', 'Sexo', 'RacaCor', 'Escolaridade', 'Gestante', 'Febre', 'DificuldadeRespiratoria', 'Tosse', 'Coriza', 'DorGarganta', 'Diarreia', 'Cefaleia', 'ComorbidadePulmao', 'ComorbidadeCardio', 'ComorbidadeRenal', 'ComorbidadeDiabetes', 'ComorbidadeTabagismo', 'ComorbidadeObesidade', 'FicouInternado', 'ViagemBrasil', 'ViagemInternacional', 'ProfissionalSaude', 'PossuiDeficiencia', 'MoradorDeRua', 'ResultadoRT_PCR', 'ResultadoTesteRapido', 'ResultadoSorologia', 'ResultadoSorologia_IGG', 'TipoTesteRapido', 'Classificacao', 'Evolucao', 'CriterioConfirmacao', 'StatusNotificacao', 'Municipio', 'Bairro', 'FaixaEtaria', 'IdadeNaDataNotificacao', 'Sexo', 'RacaCor', 'Escolaridade', 'Gestante', 'Febre', 'DificuldadeRespiratoria', 'Tosse', 'Coriza', 'DorGarganta', 'Diarreia', 'Cefaleia', 'ComorbidadePulmao', 'ComorbidadeCardio', 'ComorbidadeRenal', 'ComorbidadeDiabetes', 'ComorbidadeTabagismo', 'ComorbidadeObesidade', 'FicouInternado', 'ViagemBrasil', 'ViagemInternacional', 'ProfissionalSaude', 'PossuiDeficiencia', 'MoradorDeRua', 'ResultadoRT_PCR', 'ResultadoTesteRapido', 'ResultadoSorologia', 'ResultadoSorologia_IGG', 'TipoTesteRapido'], 'float_cols': [], 'int_cols': []}\n"
     ]
    }
   ],
   "source": [
    "mapa = const.read_dtype_map()"
   ]
  },
  {
   "cell_type": "code",
   "execution_count": 10,
   "metadata": {},
   "outputs": [
    {
     "data": {
      "text/plain": [
       "['DataNotificacao',\n",
       " 'DataCadastro',\n",
       " 'DataDiagnostico',\n",
       " 'DataColeta_RT_PCR',\n",
       " 'DataColetaTesteRapido',\n",
       " 'DataColetaSorologia',\n",
       " 'DataColetaSorologiaIGG',\n",
       " 'DataEncerramento',\n",
       " 'DataObito',\n",
       " 'DataNotificacao',\n",
       " 'DataCadastro',\n",
       " 'DataDiagnostico',\n",
       " 'DataColeta_RT_PCR',\n",
       " 'DataColetaTesteRapido',\n",
       " 'DataColetaSorologia',\n",
       " 'DataColetaSorologiaIGG',\n",
       " 'DataEncerramento',\n",
       " 'DataObito']"
      ]
     },
     "execution_count": 10,
     "metadata": {},
     "output_type": "execute_result"
    }
   ],
   "source": [
    "mapa[\"date_cols\"]\n"
   ]
  },
  {
   "cell_type": "code",
   "execution_count": 15,
   "metadata": {},
   "outputs": [
    {
     "name": "stdout",
     "output_type": "stream",
     "text": [
      "['DataNotificacao', 'DataCadastro', 'DataDiagnostico', 'DataColeta_RT_PCR', 'DataColetaTesteRapido', 'DataColetaSorologia', 'DataColetaSorologiaIGG', 'DataEncerramento', 'DataObito']\n"
     ]
    }
   ],
   "source": [
    "print(date_cols)"
   ]
  },
  {
   "cell_type": "code",
   "execution_count": 47,
   "metadata": {},
   "outputs": [],
   "source": [
    "lista1 = [\"DataNotificacao\", \"RacaCor\", \"Febre \"]\n",
    "lista2 = [\"DataCadastro\", \"DataDiagnostico\"]"
   ]
  },
  {
   "cell_type": "code",
   "execution_count": 59,
   "metadata": {},
   "outputs": [
    {
     "data": {
      "text/plain": [
       "Index([], dtype='object')"
      ]
     },
     "execution_count": 59,
     "metadata": {},
     "output_type": "execute_result"
    }
   ],
   "source": [
    "df[df.columns[~df.columns.isin(lista1 + lista2)]].select_dtypes(include=\"object\").columns"
   ]
  },
  {
   "cell_type": "code",
   "execution_count": 57,
   "metadata": {},
   "outputs": [
    {
     "data": {
      "text/html": [
       "<div>\n",
       "<style scoped>\n",
       "    .dataframe tbody tr th:only-of-type {\n",
       "        vertical-align: middle;\n",
       "    }\n",
       "\n",
       "    .dataframe tbody tr th {\n",
       "        vertical-align: top;\n",
       "    }\n",
       "\n",
       "    .dataframe thead th {\n",
       "        text-align: right;\n",
       "    }\n",
       "</style>\n",
       "<table border=\"1\" class=\"dataframe\">\n",
       "  <thead>\n",
       "    <tr style=\"text-align: right;\">\n",
       "      <th></th>\n",
       "      <th>DataColeta_RT_PCR</th>\n",
       "      <th>DataColetaTesteRapido</th>\n",
       "      <th>DataColetaSorologia</th>\n",
       "      <th>DataColetaSorologiaIGG</th>\n",
       "      <th>DataEncerramento</th>\n",
       "      <th>DataObito</th>\n",
       "      <th>Classificacao</th>\n",
       "      <th>Evolucao</th>\n",
       "      <th>CriterioConfirmacao</th>\n",
       "      <th>StatusNotificacao</th>\n",
       "      <th>...</th>\n",
       "      <th>ViagemBrasil</th>\n",
       "      <th>ViagemInternacional</th>\n",
       "      <th>ProfissionalSaude</th>\n",
       "      <th>PossuiDeficiencia</th>\n",
       "      <th>MoradorDeRua</th>\n",
       "      <th>ResultadoRT_PCR</th>\n",
       "      <th>ResultadoTesteRapido</th>\n",
       "      <th>ResultadoSorologia</th>\n",
       "      <th>ResultadoSorologia_IGG</th>\n",
       "      <th>TipoTesteRapido</th>\n",
       "    </tr>\n",
       "  </thead>\n",
       "  <tbody>\n",
       "    <tr>\n",
       "      <th>0</th>\n",
       "      <td>2021-10-12</td>\n",
       "      <td>NaN</td>\n",
       "      <td>NaN</td>\n",
       "      <td>NaN</td>\n",
       "      <td>NaN</td>\n",
       "      <td>NaN</td>\n",
       "      <td>Suspeito</td>\n",
       "      <td>-</td>\n",
       "      <td>-</td>\n",
       "      <td>Em Aberto</td>\n",
       "      <td>...</td>\n",
       "      <td>Não Informado</td>\n",
       "      <td>Não Informado</td>\n",
       "      <td>Não</td>\n",
       "      <td>Não</td>\n",
       "      <td>Não</td>\n",
       "      <td>Negativo</td>\n",
       "      <td>Não Informado</td>\n",
       "      <td>Não Informado</td>\n",
       "      <td>Não Informado</td>\n",
       "      <td>Não Informado</td>\n",
       "    </tr>\n",
       "    <tr>\n",
       "      <th>1</th>\n",
       "      <td>NaN</td>\n",
       "      <td>2021-10-10</td>\n",
       "      <td>NaN</td>\n",
       "      <td>NaN</td>\n",
       "      <td>NaN</td>\n",
       "      <td>NaN</td>\n",
       "      <td>Descartados</td>\n",
       "      <td>-</td>\n",
       "      <td>Laboratorial</td>\n",
       "      <td>Em Aberto</td>\n",
       "      <td>...</td>\n",
       "      <td>Não Informado</td>\n",
       "      <td>Não Informado</td>\n",
       "      <td>Não</td>\n",
       "      <td>Não</td>\n",
       "      <td>Não</td>\n",
       "      <td>Não Informado</td>\n",
       "      <td>Negativo</td>\n",
       "      <td>Não Informado</td>\n",
       "      <td>Não Informado</td>\n",
       "      <td>Teste rápido Antígeno</td>\n",
       "    </tr>\n",
       "    <tr>\n",
       "      <th>2</th>\n",
       "      <td>NaN</td>\n",
       "      <td>2021-10-12</td>\n",
       "      <td>NaN</td>\n",
       "      <td>NaN</td>\n",
       "      <td>NaN</td>\n",
       "      <td>NaN</td>\n",
       "      <td>Suspeito</td>\n",
       "      <td>-</td>\n",
       "      <td>Laboratorial</td>\n",
       "      <td>Em Aberto</td>\n",
       "      <td>...</td>\n",
       "      <td>Não Informado</td>\n",
       "      <td>Não Informado</td>\n",
       "      <td>Não</td>\n",
       "      <td>Não</td>\n",
       "      <td>Não</td>\n",
       "      <td>Não Informado</td>\n",
       "      <td>Negativo</td>\n",
       "      <td>Não Informado</td>\n",
       "      <td>Não Informado</td>\n",
       "      <td>Teste rápido Antígeno</td>\n",
       "    </tr>\n",
       "    <tr>\n",
       "      <th>3</th>\n",
       "      <td>NaN</td>\n",
       "      <td>2021-10-09</td>\n",
       "      <td>NaN</td>\n",
       "      <td>NaN</td>\n",
       "      <td>NaN</td>\n",
       "      <td>NaN</td>\n",
       "      <td>Descartados</td>\n",
       "      <td>-</td>\n",
       "      <td>Laboratorial</td>\n",
       "      <td>Em Aberto</td>\n",
       "      <td>...</td>\n",
       "      <td>Não Informado</td>\n",
       "      <td>Não Informado</td>\n",
       "      <td>Não</td>\n",
       "      <td>Não</td>\n",
       "      <td>Não</td>\n",
       "      <td>Não Informado</td>\n",
       "      <td>Negativo</td>\n",
       "      <td>Não Informado</td>\n",
       "      <td>Não Informado</td>\n",
       "      <td>Teste rápido Antígeno</td>\n",
       "    </tr>\n",
       "    <tr>\n",
       "      <th>4</th>\n",
       "      <td>2021-10-12</td>\n",
       "      <td>NaN</td>\n",
       "      <td>NaN</td>\n",
       "      <td>NaN</td>\n",
       "      <td>NaN</td>\n",
       "      <td>NaN</td>\n",
       "      <td>Suspeito</td>\n",
       "      <td>-</td>\n",
       "      <td>Laboratorial</td>\n",
       "      <td>Em Aberto</td>\n",
       "      <td>...</td>\n",
       "      <td>Não</td>\n",
       "      <td>Não</td>\n",
       "      <td>Não</td>\n",
       "      <td>Não</td>\n",
       "      <td>Não</td>\n",
       "      <td>Não Informado</td>\n",
       "      <td>Não Informado</td>\n",
       "      <td>Não Informado</td>\n",
       "      <td>Não Informado</td>\n",
       "      <td>Não Informado</td>\n",
       "    </tr>\n",
       "    <tr>\n",
       "      <th>...</th>\n",
       "      <td>...</td>\n",
       "      <td>...</td>\n",
       "      <td>...</td>\n",
       "      <td>...</td>\n",
       "      <td>...</td>\n",
       "      <td>...</td>\n",
       "      <td>...</td>\n",
       "      <td>...</td>\n",
       "      <td>...</td>\n",
       "      <td>...</td>\n",
       "      <td>...</td>\n",
       "      <td>...</td>\n",
       "      <td>...</td>\n",
       "      <td>...</td>\n",
       "      <td>...</td>\n",
       "      <td>...</td>\n",
       "      <td>...</td>\n",
       "      <td>...</td>\n",
       "      <td>...</td>\n",
       "      <td>...</td>\n",
       "      <td>...</td>\n",
       "    </tr>\n",
       "    <tr>\n",
       "      <th>2109631</th>\n",
       "      <td>2020-02-28</td>\n",
       "      <td>NaN</td>\n",
       "      <td>NaN</td>\n",
       "      <td>NaN</td>\n",
       "      <td>2020-04-16</td>\n",
       "      <td>NaN</td>\n",
       "      <td>Descartados</td>\n",
       "      <td>Ignorado</td>\n",
       "      <td>Laboratorial</td>\n",
       "      <td>Encerrado</td>\n",
       "      <td>...</td>\n",
       "      <td>Ignorado</td>\n",
       "      <td>Sim</td>\n",
       "      <td>Ignorado</td>\n",
       "      <td>Não Informado</td>\n",
       "      <td>Não Informado</td>\n",
       "      <td>Negativo</td>\n",
       "      <td>Não Informado</td>\n",
       "      <td>Não Informado</td>\n",
       "      <td>Não Informado</td>\n",
       "      <td>Não Informado</td>\n",
       "    </tr>\n",
       "    <tr>\n",
       "      <th>2109632</th>\n",
       "      <td>2020-02-27</td>\n",
       "      <td>NaN</td>\n",
       "      <td>NaN</td>\n",
       "      <td>NaN</td>\n",
       "      <td>2020-04-16</td>\n",
       "      <td>NaN</td>\n",
       "      <td>Descartados</td>\n",
       "      <td>Ignorado</td>\n",
       "      <td>Laboratorial</td>\n",
       "      <td>Encerrado</td>\n",
       "      <td>...</td>\n",
       "      <td>Não</td>\n",
       "      <td>Não</td>\n",
       "      <td>Não</td>\n",
       "      <td>Não Informado</td>\n",
       "      <td>Não Informado</td>\n",
       "      <td>Negativo</td>\n",
       "      <td>Não Informado</td>\n",
       "      <td>Não Informado</td>\n",
       "      <td>Não Informado</td>\n",
       "      <td>Não Informado</td>\n",
       "    </tr>\n",
       "    <tr>\n",
       "      <th>2109633</th>\n",
       "      <td>2020-02-27</td>\n",
       "      <td>NaN</td>\n",
       "      <td>NaN</td>\n",
       "      <td>NaN</td>\n",
       "      <td>2020-04-16</td>\n",
       "      <td>NaN</td>\n",
       "      <td>Descartados</td>\n",
       "      <td>Ignorado</td>\n",
       "      <td>Laboratorial</td>\n",
       "      <td>Encerrado</td>\n",
       "      <td>...</td>\n",
       "      <td>Não</td>\n",
       "      <td>Não</td>\n",
       "      <td>Não</td>\n",
       "      <td>Não Informado</td>\n",
       "      <td>Não Informado</td>\n",
       "      <td>Negativo</td>\n",
       "      <td>Não Informado</td>\n",
       "      <td>Não Informado</td>\n",
       "      <td>Não Informado</td>\n",
       "      <td>Não Informado</td>\n",
       "    </tr>\n",
       "    <tr>\n",
       "      <th>2109634</th>\n",
       "      <td>2020-02-26</td>\n",
       "      <td>NaN</td>\n",
       "      <td>NaN</td>\n",
       "      <td>NaN</td>\n",
       "      <td>2020-04-16</td>\n",
       "      <td>2020-04-16</td>\n",
       "      <td>Descartados</td>\n",
       "      <td>Óbito por outras causas</td>\n",
       "      <td>Laboratorial</td>\n",
       "      <td>Encerrado</td>\n",
       "      <td>...</td>\n",
       "      <td>Não</td>\n",
       "      <td>Sim</td>\n",
       "      <td>Não</td>\n",
       "      <td>Não</td>\n",
       "      <td>Não</td>\n",
       "      <td>Negativo</td>\n",
       "      <td>Não Informado</td>\n",
       "      <td>Não Informado</td>\n",
       "      <td>Não Informado</td>\n",
       "      <td>Não Informado</td>\n",
       "    </tr>\n",
       "    <tr>\n",
       "      <th>2109635</th>\n",
       "      <td>NaN</td>\n",
       "      <td>2020-01-29</td>\n",
       "      <td>NaN</td>\n",
       "      <td>NaN</td>\n",
       "      <td>2020-10-29</td>\n",
       "      <td>NaN</td>\n",
       "      <td>Descartados</td>\n",
       "      <td>-</td>\n",
       "      <td>Laboratorial</td>\n",
       "      <td>Encerrado</td>\n",
       "      <td>...</td>\n",
       "      <td>Ignorado</td>\n",
       "      <td>Não</td>\n",
       "      <td>Não</td>\n",
       "      <td>Não</td>\n",
       "      <td>Não</td>\n",
       "      <td>Não Informado</td>\n",
       "      <td>Negativo</td>\n",
       "      <td>Não Informado</td>\n",
       "      <td>Não Informado</td>\n",
       "      <td>Não Informado</td>\n",
       "    </tr>\n",
       "  </tbody>\n",
       "</table>\n",
       "<p>2109636 rows × 41 columns</p>\n",
       "</div>"
      ],
      "text/plain": [
       "        DataColeta_RT_PCR DataColetaTesteRapido DataColetaSorologia  \\\n",
       "0              2021-10-12                   NaN                 NaN   \n",
       "1                     NaN            2021-10-10                 NaN   \n",
       "2                     NaN            2021-10-12                 NaN   \n",
       "3                     NaN            2021-10-09                 NaN   \n",
       "4              2021-10-12                   NaN                 NaN   \n",
       "...                   ...                   ...                 ...   \n",
       "2109631        2020-02-28                   NaN                 NaN   \n",
       "2109632        2020-02-27                   NaN                 NaN   \n",
       "2109633        2020-02-27                   NaN                 NaN   \n",
       "2109634        2020-02-26                   NaN                 NaN   \n",
       "2109635               NaN            2020-01-29                 NaN   \n",
       "\n",
       "        DataColetaSorologiaIGG DataEncerramento   DataObito Classificacao  \\\n",
       "0                          NaN              NaN         NaN      Suspeito   \n",
       "1                          NaN              NaN         NaN   Descartados   \n",
       "2                          NaN              NaN         NaN      Suspeito   \n",
       "3                          NaN              NaN         NaN   Descartados   \n",
       "4                          NaN              NaN         NaN      Suspeito   \n",
       "...                        ...              ...         ...           ...   \n",
       "2109631                    NaN       2020-04-16         NaN   Descartados   \n",
       "2109632                    NaN       2020-04-16         NaN   Descartados   \n",
       "2109633                    NaN       2020-04-16         NaN   Descartados   \n",
       "2109634                    NaN       2020-04-16  2020-04-16   Descartados   \n",
       "2109635                    NaN       2020-10-29         NaN   Descartados   \n",
       "\n",
       "                        Evolucao CriterioConfirmacao StatusNotificacao  ...  \\\n",
       "0                              -                   -         Em Aberto  ...   \n",
       "1                              -        Laboratorial         Em Aberto  ...   \n",
       "2                              -        Laboratorial         Em Aberto  ...   \n",
       "3                              -        Laboratorial         Em Aberto  ...   \n",
       "4                              -        Laboratorial         Em Aberto  ...   \n",
       "...                          ...                 ...               ...  ...   \n",
       "2109631                 Ignorado        Laboratorial         Encerrado  ...   \n",
       "2109632                 Ignorado        Laboratorial         Encerrado  ...   \n",
       "2109633                 Ignorado        Laboratorial         Encerrado  ...   \n",
       "2109634  Óbito por outras causas        Laboratorial         Encerrado  ...   \n",
       "2109635                        -        Laboratorial         Encerrado  ...   \n",
       "\n",
       "          ViagemBrasil ViagemInternacional ProfissionalSaude  \\\n",
       "0        Não Informado       Não Informado               Não   \n",
       "1        Não Informado       Não Informado               Não   \n",
       "2        Não Informado       Não Informado               Não   \n",
       "3        Não Informado       Não Informado               Não   \n",
       "4                  Não                 Não               Não   \n",
       "...                ...                 ...               ...   \n",
       "2109631       Ignorado                 Sim          Ignorado   \n",
       "2109632            Não                 Não               Não   \n",
       "2109633            Não                 Não               Não   \n",
       "2109634            Não                 Sim               Não   \n",
       "2109635       Ignorado                 Não               Não   \n",
       "\n",
       "        PossuiDeficiencia   MoradorDeRua ResultadoRT_PCR ResultadoTesteRapido  \\\n",
       "0                     Não            Não        Negativo        Não Informado   \n",
       "1                     Não            Não   Não Informado             Negativo   \n",
       "2                     Não            Não   Não Informado             Negativo   \n",
       "3                     Não            Não   Não Informado             Negativo   \n",
       "4                     Não            Não   Não Informado        Não Informado   \n",
       "...                   ...            ...             ...                  ...   \n",
       "2109631     Não Informado  Não Informado        Negativo        Não Informado   \n",
       "2109632     Não Informado  Não Informado        Negativo        Não Informado   \n",
       "2109633     Não Informado  Não Informado        Negativo        Não Informado   \n",
       "2109634               Não            Não        Negativo        Não Informado   \n",
       "2109635               Não            Não   Não Informado             Negativo   \n",
       "\n",
       "        ResultadoSorologia ResultadoSorologia_IGG        TipoTesteRapido  \n",
       "0            Não Informado          Não Informado          Não Informado  \n",
       "1            Não Informado          Não Informado  Teste rápido Antígeno  \n",
       "2            Não Informado          Não Informado  Teste rápido Antígeno  \n",
       "3            Não Informado          Não Informado  Teste rápido Antígeno  \n",
       "4            Não Informado          Não Informado          Não Informado  \n",
       "...                    ...                    ...                    ...  \n",
       "2109631      Não Informado          Não Informado          Não Informado  \n",
       "2109632      Não Informado          Não Informado          Não Informado  \n",
       "2109633      Não Informado          Não Informado          Não Informado  \n",
       "2109634      Não Informado          Não Informado          Não Informado  \n",
       "2109635      Não Informado          Não Informado          Não Informado  \n",
       "\n",
       "[2109636 rows x 41 columns]"
      ]
     },
     "execution_count": 57,
     "metadata": {},
     "output_type": "execute_result"
    }
   ],
   "source": [
    "df[df.columns[~df.columns.isin(lista1 + lista2)]]"
   ]
  },
  {
   "cell_type": "code",
   "execution_count": 30,
   "metadata": {},
   "outputs": [
    {
     "data": {
      "text/plain": [
       "12.0"
      ]
     },
     "execution_count": 30,
     "metadata": {},
     "output_type": "execute_result"
    }
   ],
   "source": [
    "float(v)"
   ]
  },
  {
   "cell_type": "code",
   "execution_count": 31,
   "metadata": {},
   "outputs": [
    {
     "data": {
      "text/plain": [
       "False"
      ]
     },
     "execution_count": 31,
     "metadata": {},
     "output_type": "execute_result"
    }
   ],
   "source": [
    "v.isdecimal()"
   ]
  }
 ],
 "metadata": {
  "interpreter": {
   "hash": "e9aa689edf4e3253ce592293dcc69d32d3ef370148852f3558b2d441f5963c91"
  },
  "kernelspec": {
   "display_name": "Python 3.8.8 64-bit ('base': conda)",
   "name": "python3"
  },
  "language_info": {
   "codemirror_mode": {
    "name": "ipython",
    "version": 3
   },
   "file_extension": ".py",
   "mimetype": "text/x-python",
   "name": "python",
   "nbconvert_exporter": "python",
   "pygments_lexer": "ipython3",
   "version": "3.8.8"
  },
  "orig_nbformat": 4
 },
 "nbformat": 4,
 "nbformat_minor": 2
}
