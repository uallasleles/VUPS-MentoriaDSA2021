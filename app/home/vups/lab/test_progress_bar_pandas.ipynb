{
 "cells": [
  {
   "cell_type": "code",
   "execution_count": null,
   "metadata": {},
   "outputs": [],
   "source": [
    "import pandas as pd"
   ]
  },
  {
   "cell_type": "code",
   "execution_count": null,
   "metadata": {},
   "outputs": [],
   "source": [
    "import os"
   ]
  },
  {
   "cell_type": "code",
   "execution_count": 4,
   "metadata": {},
   "outputs": [
    {
     "name": "stdout",
     "output_type": "stream",
     "text": [
      "<class 'str'>\n",
      "<class 'str'>\n",
      "<class 'str'>\n",
      "<class 'str'>\n",
      "<class 'str'>\n",
      "<class 'str'>\n"
     ]
    }
   ],
   "source": [
    "from app.home.vups import const"
   ]
  },
  {
   "cell_type": "code",
   "execution_count": null,
   "metadata": {},
   "outputs": [],
   "source": [
    "filename = os.path.join(const.DATADIR, 'MICRODADOS.csv')"
   ]
  },
  {
   "cell_type": "code",
   "execution_count": 5,
   "metadata": {},
   "outputs": [],
   "source": [
    "_PARAMS = {\n",
    "    'filepath_or_buffer': os.path.join(const.DATADIR, 'MICRODADOS.csv'),\n",
    "    'encoding': 'ISO-8859-1',\n",
    "    'sep': ';',\n",
    "    # 'chunksize': 1024\n",
    "}"
   ]
  },
  {
   "cell_type": "code",
   "execution_count": null,
   "metadata": {},
   "outputs": [],
   "source": [
    "def sum1forline(filename):\n",
    "    with open(filename) as f:\n",
    "        return sum(1 for line in f)"
   ]
  },
  {
   "cell_type": "code",
   "execution_count": null,
   "metadata": {},
   "outputs": [],
   "source": [
    "sum1forline(filename)"
   ]
  },
  {
   "cell_type": "markdown",
   "metadata": {},
   "source": [
    "___"
   ]
  },
  {
   "cell_type": "code",
   "execution_count": null,
   "metadata": {},
   "outputs": [],
   "source": [
    "# from tqdm import tqdm\n",
    "from tqdm.auto import tqdm  # for notebooks"
   ]
  },
  {
   "cell_type": "code",
   "execution_count": null,
   "metadata": {},
   "outputs": [],
   "source": [
    "# Create new `pandas` methods which use `tqdm` progress\n",
    "# (can use tqdm_gui, optional kwargs, etc.)\n",
    "tqdm.pandas()"
   ]
  },
  {
   "cell_type": "code",
   "execution_count": null,
   "metadata": {},
   "outputs": [],
   "source": [
    "data=[]\n",
    "for chunk in pd.read_csv(**_PARAMS):\n",
    "    data.append(chunk)"
   ]
  },
  {
   "cell_type": "code",
   "execution_count": null,
   "metadata": {},
   "outputs": [],
   "source": [
    "df = pd.concat(data, ignore_index=True)"
   ]
  },
  {
   "cell_type": "code",
   "execution_count": null,
   "metadata": {},
   "outputs": [],
   "source": [
    "df"
   ]
  },
  {
   "cell_type": "code",
   "execution_count": null,
   "metadata": {},
   "outputs": [],
   "source": [
    "! pip install typer"
   ]
  },
  {
   "cell_type": "code",
   "execution_count": 6,
   "metadata": {},
   "outputs": [
    {
     "data": {
      "text/plain": [
       "'c:\\\\Users\\\\ulp\\\\Documents\\\\GitHub\\\\VUPS-MentoriaDSA2021\\\\app\\\\home\\\\data\\\\MICRODADOS.csv'"
      ]
     },
     "execution_count": 6,
     "metadata": {},
     "output_type": "execute_result"
    }
   ],
   "source": []
  },
  {
   "cell_type": "code",
   "execution_count": null,
   "metadata": {},
   "outputs": [],
   "source": [
    "def progress_read_csv(_PARAMS):\n",
    "    from pathlib import Path\n",
    "    import pandas as pd\n",
    "    import tqdm\n",
    "    import typer\n",
    "\n",
    "    # read number of rows quickly\n",
    "    length = sum1forline(_PARAMS.get('filepath_or_buffer'))\n",
    "\n",
    "    # define a chunksize\n",
    "    chunksize = 1024\n",
    "\n",
    "    # initiate a blank dataframe\n",
    "    df = pd.DataFrame()\n",
    "\n",
    "    # fancy logging with typer\n",
    "    typer.secho(f\"Reading file: {filename}\", fg=\"red\", bold=True)\n",
    "    typer.secho(f\"total rows: {length}\", fg=\"green\", bold=True)\n",
    "\n",
    "    # tqdm context\n",
    "    with tqdm.auto.tqdm(total=length, desc=\"chunks read: \") as bar:\n",
    "        # enumerate chunks read without low_memory (it is massive for pandas to precisely assign dtypes)\n",
    "        for i, chunk in enumerate(pd.read_csv(**_PARAMS, chunksize=chunksize)):\n",
    "            \n",
    "            # print the chunk number\n",
    "            print(i)\n",
    "            \n",
    "            # append it to df\n",
    "            df = df.append(other=chunk)\n",
    "            \n",
    "            # update tqdm progress bar\n",
    "            bar.update(chunksize)\n",
    "            \n",
    "            # 6 chunks are enough to test\n",
    "            # if i==5:\n",
    "            #     break\n",
    "                \n",
    "    # finally inform with a friendly message\n",
    "    typer.secho(\"end of reading chunks...\", fg=typer.colors.BRIGHT_RED)\n",
    "    typer.secho(f\"Dataframe length:{len(df)}\", fg=\"green\", bold=True)\n",
    "    return df"
   ]
  }
 ],
 "metadata": {
  "interpreter": {
   "hash": "e9aa689edf4e3253ce592293dcc69d32d3ef370148852f3558b2d441f5963c91"
  },
  "kernelspec": {
   "display_name": "Python 3.8.8 64-bit ('base': conda)",
   "name": "python3"
  },
  "language_info": {
   "codemirror_mode": {
    "name": "ipython",
    "version": 3
   },
   "file_extension": ".py",
   "mimetype": "text/x-python",
   "name": "python",
   "nbconvert_exporter": "python",
   "pygments_lexer": "ipython3",
   "version": "3.8.8"
  },
  "orig_nbformat": 4
 },
 "nbformat": 4,
 "nbformat_minor": 2
}
