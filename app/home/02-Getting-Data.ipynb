{
 "cells": [
  {
   "cell_type": "markdown",
   "metadata": {},
   "source": [
    "# Getting Data"
   ]
  },
  {
   "cell_type": "markdown",
   "metadata": {},
   "source": [
    "> COVID-19 - ESTADO DO ESPÍRITO SANTO\n",
    "\n",
    "Fonte: Sistema eSUS/VS – Secretaria de Saúde do Estado do Espírito Santo"
   ]
  },
  {
   "cell_type": "code",
   "execution_count": 1,
   "metadata": {},
   "outputs": [],
   "source": [
    "from home.vups import const"
   ]
  },
  {
   "cell_type": "code",
   "execution_count": 2,
   "metadata": {},
   "outputs": [],
   "source": [
    "import sys"
   ]
  },
  {
   "cell_type": "code",
   "execution_count": 3,
   "metadata": {},
   "outputs": [],
   "source": [
    "import string"
   ]
  },
  {
   "cell_type": "code",
   "execution_count": 4,
   "metadata": {},
   "outputs": [],
   "source": [
    "name = \"MICRODADOS\""
   ]
  },
  {
   "cell_type": "code",
   "execution_count": 5,
   "metadata": {},
   "outputs": [
    {
     "data": {
      "text/plain": [
       "dict_items([('MICRODADOS', 'https://bi.s3.es.gov.br/covid19/MICRODADOS.csv')])"
      ]
     },
     "execution_count": 5,
     "metadata": {},
     "output_type": "execute_result"
    }
   ],
   "source": [
    "getattr(const, name).get(\"URLS\").items()"
   ]
  },
  {
   "cell_type": "code",
   "execution_count": 10,
   "metadata": {},
   "outputs": [
    {
     "data": {
      "text/plain": [
       "{'date_cols': ['DataNotificacao',\n",
       "  'DataCadastro',\n",
       "  'DataDiagnostico',\n",
       "  'DataColeta_RT_PCR',\n",
       "  'DataColetaTesteRapido',\n",
       "  'DataColetaSorologia',\n",
       "  'DataColetaSorologiaIGG',\n",
       "  'DataEncerramento',\n",
       "  'DataObito'],\n",
       " 'cat_cols': []}"
      ]
     },
     "execution_count": 10,
     "metadata": {},
     "output_type": "execute_result"
    }
   ],
   "source": [
    "getattr(const, name).get(\"MAP\")"
   ]
  },
  {
   "cell_type": "code",
   "execution_count": 7,
   "metadata": {},
   "outputs": [
    {
     "data": {
      "text/plain": [
       "{'date_cols': ['DataNotificacao',\n",
       "  'DataCadastro',\n",
       "  'DataDiagnostico',\n",
       "  'DataColeta_RT_PCR',\n",
       "  'DataColetaTesteRapido',\n",
       "  'DataColetaSorologia',\n",
       "  'DataColetaSorologiaIGG',\n",
       "  'DataEncerramento',\n",
       "  'DataObito'],\n",
       " 'cat_cols': []}"
      ]
     },
     "execution_count": 7,
     "metadata": {},
     "output_type": "execute_result"
    }
   ],
   "source": [
    "const.mapa_microdados"
   ]
  },
  {
   "cell_type": "code",
   "execution_count": 20,
   "metadata": {},
   "outputs": [],
   "source": [
    "def foo():\n",
    "    name = sys._getframe(  ).f_code.co_name.upper()\n",
    "    print(name)"
   ]
  },
  {
   "cell_type": "code",
   "execution_count": 21,
   "metadata": {},
   "outputs": [
    {
     "name": "stdout",
     "output_type": "stream",
     "text": [
      "FOO\n"
     ]
    }
   ],
   "source": [
    "foo()"
   ]
  },
  {
   "cell_type": "code",
   "execution_count": null,
   "metadata": {},
   "outputs": [],
   "source": [
    "import pandas as pd\n",
    "import warnings\n",
    "import matplotlib.pyplot as plt\n",
    "plt.style.use('seaborn-talk')\n",
    "\n",
    "warnings.filterwarnings('ignore')\n",
    "%matplotlib inline"
   ]
  },
  {
   "cell_type": "code",
   "execution_count": 30,
   "metadata": {},
   "outputs": [],
   "source": [
    "BASEDIR = 'C:\\\\Users\\\\ulp\\\\Documents\\\\GitHub\\\\VUPS-MentoriaDSA2021\\\\app\\\\home'\n",
    "DATADIR = os.path.join(BASEDIR + \"\\\\data\")\n",
    "DATASET = 'MICRODADOS.csv'\n",
    "SEP = \";\"\n",
    "DATADIC = 'dictionary.md'"
   ]
  },
  {
   "cell_type": "code",
   "execution_count": 31,
   "metadata": {},
   "outputs": [
    {
     "data": {
      "text/plain": [
       "'C:\\\\Users\\\\ulp\\\\Documents\\\\GitHub\\\\VUPS-MentoriaDSA2021\\\\app\\\\home\\\\data\\\\MICRODADOS.csv'"
      ]
     },
     "execution_count": 31,
     "metadata": {},
     "output_type": "execute_result"
    }
   ],
   "source": [
    "os.path.join(BASEDIR, DATADIR, DATASET)"
   ]
  },
  {
   "cell_type": "code",
   "execution_count": null,
   "metadata": {},
   "outputs": [],
   "source": [
    "PATH = os.path.join(DATADIR + DATASET)\n",
    "\n",
    "df = pd.read_csv(\n",
    "    PATH, \n",
    "    sep=SEP, \n",
    "    error_bad_lines=False, \n",
    "    encoding='latin1')\n",
    "\n",
    "# Preview para identificar a variável alvo\n",
    "df.head(1)"
   ]
  },
  {
   "cell_type": "markdown",
   "metadata": {},
   "source": [
    "___"
   ]
  },
  {
   "cell_type": "code",
   "execution_count": null,
   "metadata": {},
   "outputs": [],
   "source": [
    "import io\n",
    "import pandas as pd\n",
    "import requests\n",
    "from vups import const\n",
    "import validators"
   ]
  },
  {
   "cell_type": "code",
   "execution_count": null,
   "metadata": {},
   "outputs": [],
   "source": [
    "# url = \"https://bi.s3.es.gov.br/covid19/MICRODADOS.csv\"\n",
    "url = \"https://drive.economia.gov.br/owncloud/index.php/s/TD34YJTxalj4X3G/download\"\n",
    "encoding = 'UTF-8'\n",
    "sep = ','\n",
    "warn_bad_lines = True\n",
    "error_bad_lines = True\n",
    "\n",
    "path = const.DATADIR\n",
    "parquet_extension = '.parquet'\n",
    "\n",
    "# filename, file_extension = os.path.splitext(os.path.basename(url))\n",
    "# filepath_or_buffer = os.path.join(path, filename.upper() + file_extension)"
   ]
  },
  {
   "cell_type": "code",
   "execution_count": null,
   "metadata": {},
   "outputs": [],
   "source": [
    "filepath_or_buffer = url\n",
    "if validators.url(filepath_or_buffer):\n",
    "    r = requests.get(filepath_or_buffer, stream=True)\n",
    "    c = pd.read_csv(io.StringIO(r.decode(encoding)))\n",
    "    # dataset = pd.concat(iter, ignore_index=True)\n",
    "    c\n",
    "#     filepath_or_buffer = os.path.join(const.DATADIR, \"{}.{}\".format(filename.upper(), file_extension))\n",
    "#     with open(filepath_or_buffer, 'wb') as fd:\n",
    "#         for chunk in c(chunk_size=128):\n",
    "#             fd.write(chunk)\n",
    "\n",
    "# _PARAMS = {\n",
    "#     \"filepath_or_buffer\": filepath_or_buffer,\n",
    "#     \"iterator\": True,\n",
    "#     \"chunksize\": 128,\n",
    "#     \"sep\": sep,\n",
    "#     \"encoding\": encoding,\n",
    "#     \"warn_bad_lines\": warn_bad_lines,\n",
    "#     \"error_bad_lines\": error_bad_lines,\n",
    "#     \"parse_dates\": True,\n",
    "#     \"dtype\": None\n",
    "# }\n",
    "\n",
    "# iter = pd.read_csv(**_PARAMS)\n",
    "# dataset = pd.concat(iter, ignore_index=True)\n",
    "# dataset"
   ]
  },
  {
   "cell_type": "code",
   "execution_count": null,
   "metadata": {},
   "outputs": [],
   "source": [
    "from vups import const"
   ]
  },
  {
   "cell_type": "code",
   "execution_count": null,
   "metadata": {},
   "outputs": [],
   "source": [
    "NAME = const.ARRECADACAO.get(\"NAME\")\n",
    "NAME"
   ]
  },
  {
   "cell_type": "code",
   "execution_count": null,
   "metadata": {},
   "outputs": [],
   "source": [
    "values = list(const.ARRECADACAO[\"URLS\"].values())\n",
    "values"
   ]
  },
  {
   "cell_type": "code",
   "execution_count": null,
   "metadata": {},
   "outputs": [],
   "source": [
    "items = list(const.ARRECADACAO.get(\"URLS\").items())\n",
    "items"
   ]
  },
  {
   "cell_type": "code",
   "execution_count": null,
   "metadata": {},
   "outputs": [],
   "source": [
    "for i in items:\n",
    "    print(i[0], i[1])\n"
   ]
  },
  {
   "cell_type": "code",
   "execution_count": null,
   "metadata": {},
   "outputs": [],
   "source": [
    "items[0][1]"
   ]
  },
  {
   "cell_type": "code",
   "execution_count": null,
   "metadata": {},
   "outputs": [],
   "source": []
  },
  {
   "cell_type": "code",
   "execution_count": null,
   "metadata": {},
   "outputs": [],
   "source": [
    "import validators"
   ]
  },
  {
   "cell_type": "code",
   "execution_count": null,
   "metadata": {},
   "outputs": [],
   "source": [
    "filepath_or_buffer = \"https://bi.s3.es.gov.br/covid19/MICRODADOS.csv\""
   ]
  },
  {
   "cell_type": "code",
   "execution_count": null,
   "metadata": {},
   "outputs": [],
   "source": [
    "if validators.url(items[0][1]):\n",
    "    print(items[0][0])"
   ]
  },
  {
   "cell_type": "code",
   "execution_count": null,
   "metadata": {},
   "outputs": [],
   "source": [
    "if validators.url(filepath_or_buffer):\n",
    "    print(filepath_or_buffer)"
   ]
  },
  {
   "cell_type": "code",
   "execution_count": null,
   "metadata": {},
   "outputs": [],
   "source": [
    "filepath_or_buffer"
   ]
  },
  {
   "cell_type": "code",
   "execution_count": null,
   "metadata": {},
   "outputs": [],
   "source": [
    "_PARAMS = {\n",
    "    \"filepath_or_buffer\": filepath_or_buffer,\n",
    "    \"usecols\": None,\n",
    "    \"sep\": ';',\n",
    "    \"nrows\": None,\n",
    "    \"encoding\": 'utf-8',\n",
    "    \"warn_bad_lines\": True,\n",
    "    \"error_bad_lines\": True,\n",
    "    \"parse_dates\": True,\n",
    "    \"dtype\": None,\n",
    "}\n",
    "dataset = pd.read_csv(**_PARAMS)"
   ]
  },
  {
   "cell_type": "code",
   "execution_count": null,
   "metadata": {},
   "outputs": [],
   "source": [
    "dataset"
   ]
  },
  {
   "cell_type": "markdown",
   "metadata": {},
   "source": [
    "> Dicionário de Dados"
   ]
  },
  {
   "cell_type": "code",
   "execution_count": null,
   "metadata": {},
   "outputs": [],
   "source": [
    "# from IPython.display import Markdown, display\n",
    "\"\"\" \n",
    "display(\n",
    "    Markdown(\n",
    "        open(os.path.join(DATADIR + DATADIC), \n",
    "             encoding=\"utf-8\").read())) \n",
    "\"\"\""
   ]
  },
  {
   "cell_type": "code",
   "execution_count": null,
   "metadata": {},
   "outputs": [],
   "source": [
    "df.isna().sum()"
   ]
  },
  {
   "cell_type": "code",
   "execution_count": null,
   "metadata": {},
   "outputs": [],
   "source": [
    "df.to_pickle(DATADIR + 'df.pkl')"
   ]
  },
  {
   "cell_type": "code",
   "execution_count": 2,
   "metadata": {},
   "outputs": [],
   "source": [
    "import vups"
   ]
  },
  {
   "cell_type": "code",
   "execution_count": 3,
   "metadata": {},
   "outputs": [],
   "source": [
    "arrecadacao = vups.datasets.arrecadacao()"
   ]
  },
  {
   "cell_type": "code",
   "execution_count": 2,
   "metadata": {},
   "outputs": [],
   "source": [
    "import vups"
   ]
  },
  {
   "cell_type": "code",
   "execution_count": 3,
   "metadata": {},
   "outputs": [
    {
     "name": "stdout",
     "output_type": "stream",
     "text": [
      "Importando o dataset MICRODADOS...\n",
      "Realizando importação de arquivo PARQUET.\n"
     ]
    }
   ],
   "source": [
    "df = vups.datasets.microdados(columns=[\"DataObito\"])"
   ]
  },
  {
   "cell_type": "code",
   "execution_count": 22,
   "metadata": {},
   "outputs": [
    {
     "ename": "AttributeError",
     "evalue": "'DataFrame' object has no attribute 'dropnat'",
     "output_type": "error",
     "traceback": [
      "\u001b[1;31m---------------------------------------------------------------------------\u001b[0m",
      "\u001b[1;31mAttributeError\u001b[0m                            Traceback (most recent call last)",
      "\u001b[1;32m<ipython-input-22-c60d57412217>\u001b[0m in \u001b[0;36m<module>\u001b[1;34m\u001b[0m\n\u001b[1;32m----> 1\u001b[1;33m \u001b[0mdf\u001b[0m\u001b[1;33m.\u001b[0m\u001b[0mdropnat\u001b[0m\u001b[1;33m(\u001b[0m\u001b[1;33m)\u001b[0m\u001b[1;33m\u001b[0m\u001b[1;33m\u001b[0m\u001b[0m\n\u001b[0m",
      "\u001b[1;32m~\\anaconda3\\lib\\site-packages\\pandas\\core\\generic.py\u001b[0m in \u001b[0;36m__getattr__\u001b[1;34m(self, name)\u001b[0m\n\u001b[0;32m   5485\u001b[0m         ):\n\u001b[0;32m   5486\u001b[0m             \u001b[1;32mreturn\u001b[0m \u001b[0mself\u001b[0m\u001b[1;33m[\u001b[0m\u001b[0mname\u001b[0m\u001b[1;33m]\u001b[0m\u001b[1;33m\u001b[0m\u001b[1;33m\u001b[0m\u001b[0m\n\u001b[1;32m-> 5487\u001b[1;33m         \u001b[1;32mreturn\u001b[0m \u001b[0mobject\u001b[0m\u001b[1;33m.\u001b[0m\u001b[0m__getattribute__\u001b[0m\u001b[1;33m(\u001b[0m\u001b[0mself\u001b[0m\u001b[1;33m,\u001b[0m \u001b[0mname\u001b[0m\u001b[1;33m)\u001b[0m\u001b[1;33m\u001b[0m\u001b[1;33m\u001b[0m\u001b[0m\n\u001b[0m\u001b[0;32m   5488\u001b[0m \u001b[1;33m\u001b[0m\u001b[0m\n\u001b[0;32m   5489\u001b[0m     \u001b[1;32mdef\u001b[0m \u001b[0m__setattr__\u001b[0m\u001b[1;33m(\u001b[0m\u001b[0mself\u001b[0m\u001b[1;33m,\u001b[0m \u001b[0mname\u001b[0m\u001b[1;33m:\u001b[0m \u001b[0mstr\u001b[0m\u001b[1;33m,\u001b[0m \u001b[0mvalue\u001b[0m\u001b[1;33m)\u001b[0m \u001b[1;33m->\u001b[0m \u001b[1;32mNone\u001b[0m\u001b[1;33m:\u001b[0m\u001b[1;33m\u001b[0m\u001b[1;33m\u001b[0m\u001b[0m\n",
      "\u001b[1;31mAttributeError\u001b[0m: 'DataFrame' object has no attribute 'dropnat'"
     ]
    }
   ],
   "source": [
    "df.dropna()"
   ]
  },
  {
   "cell_type": "code",
   "execution_count": null,
   "metadata": {},
   "outputs": [],
   "source": [
    "name = const.ARRECADACAO.get(\"NAME\")\n",
    "\n",
    "partial_path    = os.path.join(const.DATADIR, name)\n",
    "filepath_pqt    = {\"filepath\": {\"ext\": \"{}.parquet\".format(partial_path)}}\n",
    "teste = list(filepath_pqt.get(\"filepath\").items());"
   ]
  },
  {
   "cell_type": "code",
   "execution_count": null,
   "metadata": {},
   "outputs": [],
   "source": [
    "teste[0][1]"
   ]
  },
  {
   "cell_type": "code",
   "execution_count": null,
   "metadata": {},
   "outputs": [],
   "source": [
    "filepath_csv    = {\"filepath\": {\"ext\": \"{}.csv\".format(partial_path)}}\n",
    "# filepath_csv    = \"{}.csv\".format(partial_path)\n",
    "filelist_url    = list(const.ARRECADACAO.get(\"URLS\").items())"
   ]
  },
  {
   "cell_type": "code",
   "execution_count": 1,
   "metadata": {},
   "outputs": [],
   "source": [
    "import vups"
   ]
  },
  {
   "cell_type": "code",
   "execution_count": 2,
   "metadata": {},
   "outputs": [
    {
     "name": "stdout",
     "output_type": "stream",
     "text": [
      "Importando o dataset MICRODADOS...\n",
      "Salvando em disco o arquivo convertido para PARQUET.\n",
      "Realizando importação de arquivo PARQUET.\n"
     ]
    }
   ],
   "source": [
    "microdados = vups.datasets.microdados()"
   ]
  },
  {
   "cell_type": "code",
   "execution_count": 3,
   "metadata": {},
   "outputs": [
    {
     "name": "stdout",
     "output_type": "stream",
     "text": [
      "<class 'pandas.core.frame.DataFrame'>\n",
      "RangeIndex: 1651537 entries, 0 to 1651536\n",
      "Data columns (total 45 columns):\n",
      " #   Column                   Non-Null Count    Dtype         \n",
      "---  ------                   --------------    -----         \n",
      " 0   DataNotificacao          1651537 non-null  datetime64[ns]\n",
      " 1   DataCadastro             1651537 non-null  datetime64[ns]\n",
      " 2   DataDiagnostico          1651537 non-null  datetime64[ns]\n",
      " 3   DataColeta_RT_PCR        810756 non-null   datetime64[ns]\n",
      " 4   DataColetaTesteRapido    600667 non-null   datetime64[ns]\n",
      " 5   DataColetaSorologia      87829 non-null    datetime64[ns]\n",
      " 6   DataColetaSorologiaIGG   134951 non-null   datetime64[ns]\n",
      " 7   DataEncerramento         1414949 non-null  datetime64[ns]\n",
      " 8   DataObito                14830 non-null    datetime64[ns]\n",
      " 9   Classificacao            1651537 non-null  category      \n",
      " 10  Evolucao                 1651537 non-null  category      \n",
      " 11  CriterioConfirmacao      1651537 non-null  category      \n",
      " 12  StatusNotificacao        1651537 non-null  category      \n",
      " 13  Municipio                1651537 non-null  category      \n",
      " 14  Bairro                   1634771 non-null  category      \n",
      " 15  FaixaEtaria              1651537 non-null  category      \n",
      " 16  IdadeNaDataNotificacao   1651537 non-null  category      \n",
      " 17  Sexo                     1651537 non-null  category      \n",
      " 18  RacaCor                  1651537 non-null  category      \n",
      " 19  Escolaridade             1651537 non-null  category      \n",
      " 20  Gestante                 1651537 non-null  category      \n",
      " 21  Febre                    1651537 non-null  category      \n",
      " 22  DificuldadeRespiratoria  1651537 non-null  category      \n",
      " 23  Tosse                    1651537 non-null  category      \n",
      " 24  Coriza                   1651537 non-null  category      \n",
      " 25  DorGarganta              1651537 non-null  category      \n",
      " 26  Diarreia                 1651537 non-null  category      \n",
      " 27  Cefaleia                 1651537 non-null  category      \n",
      " 28  ComorbidadePulmao        1651537 non-null  category      \n",
      " 29  ComorbidadeCardio        1651537 non-null  category      \n",
      " 30  ComorbidadeRenal         1651537 non-null  category      \n",
      " 31  ComorbidadeDiabetes      1651537 non-null  category      \n",
      " 32  ComorbidadeTabagismo     1651537 non-null  category      \n",
      " 33  ComorbidadeObesidade     1651537 non-null  category      \n",
      " 34  FicouInternado           1651537 non-null  category      \n",
      " 35  ViagemBrasil             1651537 non-null  category      \n",
      " 36  ViagemInternacional      1651537 non-null  category      \n",
      " 37  ProfissionalSaude        1651537 non-null  category      \n",
      " 38  PossuiDeficiencia        1651537 non-null  category      \n",
      " 39  MoradorDeRua             1651537 non-null  category      \n",
      " 40  ResultadoRT_PCR          1651537 non-null  category      \n",
      " 41  ResultadoTesteRapido     1651537 non-null  category      \n",
      " 42  ResultadoSorologia       1651537 non-null  category      \n",
      " 43  ResultadoSorologia_IGG   1651537 non-null  category      \n",
      " 44  TipoTesteRapido          1651537 non-null  category      \n",
      "dtypes: category(36), datetime64[ns](9)\n",
      "memory usage: 179.5 MB\n"
     ]
    }
   ],
   "source": [
    "microdados.info()"
   ]
  },
  {
   "cell_type": "code",
   "execution_count": 4,
   "metadata": {},
   "outputs": [
    {
     "data": {
      "text/html": [
       "<div>\n",
       "<style scoped>\n",
       "    .dataframe tbody tr th:only-of-type {\n",
       "        vertical-align: middle;\n",
       "    }\n",
       "\n",
       "    .dataframe tbody tr th {\n",
       "        vertical-align: top;\n",
       "    }\n",
       "\n",
       "    .dataframe thead th {\n",
       "        text-align: right;\n",
       "    }\n",
       "</style>\n",
       "<table border=\"1\" class=\"dataframe\">\n",
       "  <thead>\n",
       "    <tr style=\"text-align: right;\">\n",
       "      <th></th>\n",
       "      <th>DataNotificacao</th>\n",
       "      <th>DataCadastro</th>\n",
       "      <th>DataDiagnostico</th>\n",
       "      <th>DataColeta_RT_PCR</th>\n",
       "      <th>DataColetaTesteRapido</th>\n",
       "      <th>DataColetaSorologia</th>\n",
       "      <th>DataColetaSorologiaIGG</th>\n",
       "      <th>DataEncerramento</th>\n",
       "      <th>DataObito</th>\n",
       "      <th>Classificacao</th>\n",
       "      <th>...</th>\n",
       "      <th>ViagemBrasil</th>\n",
       "      <th>ViagemInternacional</th>\n",
       "      <th>ProfissionalSaude</th>\n",
       "      <th>PossuiDeficiencia</th>\n",
       "      <th>MoradorDeRua</th>\n",
       "      <th>ResultadoRT_PCR</th>\n",
       "      <th>ResultadoTesteRapido</th>\n",
       "      <th>ResultadoSorologia</th>\n",
       "      <th>ResultadoSorologia_IGG</th>\n",
       "      <th>TipoTesteRapido</th>\n",
       "    </tr>\n",
       "  </thead>\n",
       "  <tbody>\n",
       "    <tr>\n",
       "      <th>0</th>\n",
       "      <td>2021-07-05</td>\n",
       "      <td>2021-06-30</td>\n",
       "      <td>2021-06-30</td>\n",
       "      <td>2021-06-30</td>\n",
       "      <td>NaT</td>\n",
       "      <td>NaT</td>\n",
       "      <td>NaT</td>\n",
       "      <td>NaT</td>\n",
       "      <td>NaT</td>\n",
       "      <td>Suspeito</td>\n",
       "      <td>...</td>\n",
       "      <td>Não</td>\n",
       "      <td>Não Informado</td>\n",
       "      <td>Não</td>\n",
       "      <td>Não</td>\n",
       "      <td>Não</td>\n",
       "      <td>Não Informado</td>\n",
       "      <td>Não Informado</td>\n",
       "      <td>Não Informado</td>\n",
       "      <td>Não Informado</td>\n",
       "      <td>Não Informado</td>\n",
       "    </tr>\n",
       "    <tr>\n",
       "      <th>1</th>\n",
       "      <td>2021-07-05</td>\n",
       "      <td>2021-06-30</td>\n",
       "      <td>2021-06-30</td>\n",
       "      <td>2021-07-05</td>\n",
       "      <td>NaT</td>\n",
       "      <td>NaT</td>\n",
       "      <td>NaT</td>\n",
       "      <td>NaT</td>\n",
       "      <td>NaT</td>\n",
       "      <td>Suspeito</td>\n",
       "      <td>...</td>\n",
       "      <td>Não Informado</td>\n",
       "      <td>Não Informado</td>\n",
       "      <td>Não</td>\n",
       "      <td>Não</td>\n",
       "      <td>Não</td>\n",
       "      <td>Não Informado</td>\n",
       "      <td>Não Informado</td>\n",
       "      <td>Não Informado</td>\n",
       "      <td>Não Informado</td>\n",
       "      <td>Não Informado</td>\n",
       "    </tr>\n",
       "    <tr>\n",
       "      <th>2</th>\n",
       "      <td>2021-07-05</td>\n",
       "      <td>2021-05-20</td>\n",
       "      <td>2021-07-03</td>\n",
       "      <td>2021-05-17</td>\n",
       "      <td>2021-07-05</td>\n",
       "      <td>NaT</td>\n",
       "      <td>NaT</td>\n",
       "      <td>NaT</td>\n",
       "      <td>NaT</td>\n",
       "      <td>Suspeito</td>\n",
       "      <td>...</td>\n",
       "      <td>Não</td>\n",
       "      <td>Não Informado</td>\n",
       "      <td>Não</td>\n",
       "      <td>Não</td>\n",
       "      <td>Não</td>\n",
       "      <td>Negativo</td>\n",
       "      <td>Negativo</td>\n",
       "      <td>Não Informado</td>\n",
       "      <td>Não Informado</td>\n",
       "      <td>Teste rápido Antígeno</td>\n",
       "    </tr>\n",
       "    <tr>\n",
       "      <th>3</th>\n",
       "      <td>2021-07-05</td>\n",
       "      <td>2020-11-16</td>\n",
       "      <td>2021-07-02</td>\n",
       "      <td>NaT</td>\n",
       "      <td>2021-07-05</td>\n",
       "      <td>NaT</td>\n",
       "      <td>NaT</td>\n",
       "      <td>NaT</td>\n",
       "      <td>NaT</td>\n",
       "      <td>Suspeito</td>\n",
       "      <td>...</td>\n",
       "      <td>Não Informado</td>\n",
       "      <td>Ignorado</td>\n",
       "      <td>Não</td>\n",
       "      <td>Não</td>\n",
       "      <td>Não</td>\n",
       "      <td>Não Informado</td>\n",
       "      <td>Negativo</td>\n",
       "      <td>Não Informado</td>\n",
       "      <td>Não Informado</td>\n",
       "      <td>Teste rápido Antígeno</td>\n",
       "    </tr>\n",
       "    <tr>\n",
       "      <th>4</th>\n",
       "      <td>2021-07-05</td>\n",
       "      <td>2021-05-24</td>\n",
       "      <td>2021-07-02</td>\n",
       "      <td>NaT</td>\n",
       "      <td>2021-07-05</td>\n",
       "      <td>NaT</td>\n",
       "      <td>NaT</td>\n",
       "      <td>2021-07-05</td>\n",
       "      <td>NaT</td>\n",
       "      <td>Descartados</td>\n",
       "      <td>...</td>\n",
       "      <td>Não Informado</td>\n",
       "      <td>Não Informado</td>\n",
       "      <td>Não</td>\n",
       "      <td>Não</td>\n",
       "      <td>Não</td>\n",
       "      <td>Não Informado</td>\n",
       "      <td>Negativo</td>\n",
       "      <td>Não Informado</td>\n",
       "      <td>Não Informado</td>\n",
       "      <td>Teste rápido Antígeno</td>\n",
       "    </tr>\n",
       "    <tr>\n",
       "      <th>...</th>\n",
       "      <td>...</td>\n",
       "      <td>...</td>\n",
       "      <td>...</td>\n",
       "      <td>...</td>\n",
       "      <td>...</td>\n",
       "      <td>...</td>\n",
       "      <td>...</td>\n",
       "      <td>...</td>\n",
       "      <td>...</td>\n",
       "      <td>...</td>\n",
       "      <td>...</td>\n",
       "      <td>...</td>\n",
       "      <td>...</td>\n",
       "      <td>...</td>\n",
       "      <td>...</td>\n",
       "      <td>...</td>\n",
       "      <td>...</td>\n",
       "      <td>...</td>\n",
       "      <td>...</td>\n",
       "      <td>...</td>\n",
       "      <td>...</td>\n",
       "    </tr>\n",
       "    <tr>\n",
       "      <th>1651532</th>\n",
       "      <td>2020-02-27</td>\n",
       "      <td>2020-04-16</td>\n",
       "      <td>2020-02-15</td>\n",
       "      <td>2020-02-27</td>\n",
       "      <td>NaT</td>\n",
       "      <td>NaT</td>\n",
       "      <td>NaT</td>\n",
       "      <td>2020-04-16</td>\n",
       "      <td>NaT</td>\n",
       "      <td>Descartados</td>\n",
       "      <td>...</td>\n",
       "      <td>Não</td>\n",
       "      <td>Não</td>\n",
       "      <td>Não</td>\n",
       "      <td>Não Informado</td>\n",
       "      <td>Não Informado</td>\n",
       "      <td>Negativo</td>\n",
       "      <td>Não Informado</td>\n",
       "      <td>Não Informado</td>\n",
       "      <td>Não Informado</td>\n",
       "      <td>Não Informado</td>\n",
       "    </tr>\n",
       "    <tr>\n",
       "      <th>1651533</th>\n",
       "      <td>2020-02-27</td>\n",
       "      <td>2020-04-16</td>\n",
       "      <td>2020-02-15</td>\n",
       "      <td>2020-02-27</td>\n",
       "      <td>NaT</td>\n",
       "      <td>NaT</td>\n",
       "      <td>NaT</td>\n",
       "      <td>2020-04-16</td>\n",
       "      <td>NaT</td>\n",
       "      <td>Descartados</td>\n",
       "      <td>...</td>\n",
       "      <td>Não</td>\n",
       "      <td>Não</td>\n",
       "      <td>Não</td>\n",
       "      <td>Não Informado</td>\n",
       "      <td>Não Informado</td>\n",
       "      <td>Negativo</td>\n",
       "      <td>Não Informado</td>\n",
       "      <td>Não Informado</td>\n",
       "      <td>Não Informado</td>\n",
       "      <td>Não Informado</td>\n",
       "    </tr>\n",
       "    <tr>\n",
       "      <th>1651534</th>\n",
       "      <td>2020-02-27</td>\n",
       "      <td>2020-04-15</td>\n",
       "      <td>2020-02-25</td>\n",
       "      <td>2020-02-26</td>\n",
       "      <td>NaT</td>\n",
       "      <td>NaT</td>\n",
       "      <td>NaT</td>\n",
       "      <td>2020-04-15</td>\n",
       "      <td>NaT</td>\n",
       "      <td>Descartados</td>\n",
       "      <td>...</td>\n",
       "      <td>Não Informado</td>\n",
       "      <td>Sim</td>\n",
       "      <td>Não</td>\n",
       "      <td>Não Informado</td>\n",
       "      <td>Não Informado</td>\n",
       "      <td>Negativo</td>\n",
       "      <td>Não Informado</td>\n",
       "      <td>Não Informado</td>\n",
       "      <td>Não Informado</td>\n",
       "      <td>Não Informado</td>\n",
       "    </tr>\n",
       "    <tr>\n",
       "      <th>1651535</th>\n",
       "      <td>2020-02-25</td>\n",
       "      <td>2020-04-16</td>\n",
       "      <td>2020-02-13</td>\n",
       "      <td>2020-02-26</td>\n",
       "      <td>NaT</td>\n",
       "      <td>NaT</td>\n",
       "      <td>NaT</td>\n",
       "      <td>2020-04-16</td>\n",
       "      <td>2020-04-16</td>\n",
       "      <td>Descartados</td>\n",
       "      <td>...</td>\n",
       "      <td>Não</td>\n",
       "      <td>Sim</td>\n",
       "      <td>Não</td>\n",
       "      <td>Não</td>\n",
       "      <td>Não</td>\n",
       "      <td>Negativo</td>\n",
       "      <td>Não Informado</td>\n",
       "      <td>Não Informado</td>\n",
       "      <td>Não Informado</td>\n",
       "      <td>Não Informado</td>\n",
       "    </tr>\n",
       "    <tr>\n",
       "      <th>1651536</th>\n",
       "      <td>2020-01-23</td>\n",
       "      <td>2020-10-25</td>\n",
       "      <td>2020-01-20</td>\n",
       "      <td>NaT</td>\n",
       "      <td>2020-01-29</td>\n",
       "      <td>NaT</td>\n",
       "      <td>NaT</td>\n",
       "      <td>2020-10-29</td>\n",
       "      <td>NaT</td>\n",
       "      <td>Descartados</td>\n",
       "      <td>...</td>\n",
       "      <td>Ignorado</td>\n",
       "      <td>Não</td>\n",
       "      <td>Não</td>\n",
       "      <td>Não</td>\n",
       "      <td>Não</td>\n",
       "      <td>Não Informado</td>\n",
       "      <td>Negativo</td>\n",
       "      <td>Não Informado</td>\n",
       "      <td>Não Informado</td>\n",
       "      <td>Não Informado</td>\n",
       "    </tr>\n",
       "  </tbody>\n",
       "</table>\n",
       "<p>1651537 rows × 45 columns</p>\n",
       "</div>"
      ],
      "text/plain": [
       "        DataNotificacao DataCadastro DataDiagnostico DataColeta_RT_PCR  \\\n",
       "0            2021-07-05   2021-06-30      2021-06-30        2021-06-30   \n",
       "1            2021-07-05   2021-06-30      2021-06-30        2021-07-05   \n",
       "2            2021-07-05   2021-05-20      2021-07-03        2021-05-17   \n",
       "3            2021-07-05   2020-11-16      2021-07-02               NaT   \n",
       "4            2021-07-05   2021-05-24      2021-07-02               NaT   \n",
       "...                 ...          ...             ...               ...   \n",
       "1651532      2020-02-27   2020-04-16      2020-02-15        2020-02-27   \n",
       "1651533      2020-02-27   2020-04-16      2020-02-15        2020-02-27   \n",
       "1651534      2020-02-27   2020-04-15      2020-02-25        2020-02-26   \n",
       "1651535      2020-02-25   2020-04-16      2020-02-13        2020-02-26   \n",
       "1651536      2020-01-23   2020-10-25      2020-01-20               NaT   \n",
       "\n",
       "        DataColetaTesteRapido DataColetaSorologia DataColetaSorologiaIGG  \\\n",
       "0                         NaT                 NaT                    NaT   \n",
       "1                         NaT                 NaT                    NaT   \n",
       "2                  2021-07-05                 NaT                    NaT   \n",
       "3                  2021-07-05                 NaT                    NaT   \n",
       "4                  2021-07-05                 NaT                    NaT   \n",
       "...                       ...                 ...                    ...   \n",
       "1651532                   NaT                 NaT                    NaT   \n",
       "1651533                   NaT                 NaT                    NaT   \n",
       "1651534                   NaT                 NaT                    NaT   \n",
       "1651535                   NaT                 NaT                    NaT   \n",
       "1651536            2020-01-29                 NaT                    NaT   \n",
       "\n",
       "        DataEncerramento  DataObito Classificacao  ...   ViagemBrasil  \\\n",
       "0                    NaT        NaT      Suspeito  ...            Não   \n",
       "1                    NaT        NaT      Suspeito  ...  Não Informado   \n",
       "2                    NaT        NaT      Suspeito  ...            Não   \n",
       "3                    NaT        NaT      Suspeito  ...  Não Informado   \n",
       "4             2021-07-05        NaT   Descartados  ...  Não Informado   \n",
       "...                  ...        ...           ...  ...            ...   \n",
       "1651532       2020-04-16        NaT   Descartados  ...            Não   \n",
       "1651533       2020-04-16        NaT   Descartados  ...            Não   \n",
       "1651534       2020-04-15        NaT   Descartados  ...  Não Informado   \n",
       "1651535       2020-04-16 2020-04-16   Descartados  ...            Não   \n",
       "1651536       2020-10-29        NaT   Descartados  ...       Ignorado   \n",
       "\n",
       "        ViagemInternacional ProfissionalSaude PossuiDeficiencia  \\\n",
       "0             Não Informado               Não               Não   \n",
       "1             Não Informado               Não               Não   \n",
       "2             Não Informado               Não               Não   \n",
       "3                  Ignorado               Não               Não   \n",
       "4             Não Informado               Não               Não   \n",
       "...                     ...               ...               ...   \n",
       "1651532                 Não               Não     Não Informado   \n",
       "1651533                 Não               Não     Não Informado   \n",
       "1651534                 Sim               Não     Não Informado   \n",
       "1651535                 Sim               Não               Não   \n",
       "1651536                 Não               Não               Não   \n",
       "\n",
       "          MoradorDeRua ResultadoRT_PCR ResultadoTesteRapido  \\\n",
       "0                  Não   Não Informado        Não Informado   \n",
       "1                  Não   Não Informado        Não Informado   \n",
       "2                  Não        Negativo             Negativo   \n",
       "3                  Não   Não Informado             Negativo   \n",
       "4                  Não   Não Informado             Negativo   \n",
       "...                ...             ...                  ...   \n",
       "1651532  Não Informado        Negativo        Não Informado   \n",
       "1651533  Não Informado        Negativo        Não Informado   \n",
       "1651534  Não Informado        Negativo        Não Informado   \n",
       "1651535            Não        Negativo        Não Informado   \n",
       "1651536            Não   Não Informado             Negativo   \n",
       "\n",
       "        ResultadoSorologia ResultadoSorologia_IGG        TipoTesteRapido  \n",
       "0            Não Informado          Não Informado          Não Informado  \n",
       "1            Não Informado          Não Informado          Não Informado  \n",
       "2            Não Informado          Não Informado  Teste rápido Antígeno  \n",
       "3            Não Informado          Não Informado  Teste rápido Antígeno  \n",
       "4            Não Informado          Não Informado  Teste rápido Antígeno  \n",
       "...                    ...                    ...                    ...  \n",
       "1651532      Não Informado          Não Informado          Não Informado  \n",
       "1651533      Não Informado          Não Informado          Não Informado  \n",
       "1651534      Não Informado          Não Informado          Não Informado  \n",
       "1651535      Não Informado          Não Informado          Não Informado  \n",
       "1651536      Não Informado          Não Informado          Não Informado  \n",
       "\n",
       "[1651537 rows x 45 columns]"
      ]
     },
     "execution_count": 4,
     "metadata": {},
     "output_type": "execute_result"
    }
   ],
   "source": [
    "microdados"
   ]
  }
 ],
 "metadata": {
  "interpreter": {
   "hash": "e9aa689edf4e3253ce592293dcc69d32d3ef370148852f3558b2d441f5963c91"
  },
  "kernelspec": {
   "display_name": "Python 3.8.8 64-bit ('base': conda)",
   "name": "python3"
  },
  "language_info": {
   "codemirror_mode": {
    "name": "ipython",
    "version": 3
   },
   "file_extension": ".py",
   "mimetype": "text/x-python",
   "name": "python",
   "nbconvert_exporter": "python",
   "pygments_lexer": "ipython3",
   "version": "3.8.8"
  }
 },
 "nbformat": 4,
 "nbformat_minor": 5
}
