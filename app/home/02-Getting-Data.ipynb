{
 "cells": [
  {
   "cell_type": "markdown",
   "source": [
    "# Getting Data"
   ],
   "metadata": {}
  },
  {
   "cell_type": "markdown",
   "source": [
    "> COVID-19 - ESTADO DO ESPÍRITO SANTO\r\n",
    "\r\n",
    "Fonte: Sistema eSUS/VS – Secretaria de Saúde do Estado do Espírito Santo"
   ],
   "metadata": {}
  },
  {
   "cell_type": "code",
   "execution_count": 1,
   "source": [
    "from home.vups import const"
   ],
   "outputs": [],
   "metadata": {}
  },
  {
   "cell_type": "code",
   "execution_count": 2,
   "source": [
    "import sys"
   ],
   "outputs": [],
   "metadata": {}
  },
  {
   "cell_type": "code",
   "execution_count": 3,
   "source": [
    "import string"
   ],
   "outputs": [],
   "metadata": {}
  },
  {
   "cell_type": "code",
   "execution_count": 4,
   "source": [
    "name = \"MICRODADOS\""
   ],
   "outputs": [],
   "metadata": {}
  },
  {
   "cell_type": "code",
   "execution_count": 5,
   "source": [
    "getattr(const, name).get(\"URLS\").items()"
   ],
   "outputs": [
    {
     "output_type": "execute_result",
     "data": {
      "text/plain": [
       "dict_items([('MICRODADOS', 'https://bi.s3.es.gov.br/covid19/MICRODADOS.csv')])"
      ]
     },
     "metadata": {},
     "execution_count": 5
    }
   ],
   "metadata": {}
  },
  {
   "cell_type": "code",
   "execution_count": 10,
   "source": [
    "getattr(const, name).get(\"MAP\")"
   ],
   "outputs": [
    {
     "output_type": "execute_result",
     "data": {
      "text/plain": [
       "{'date_cols': ['DataNotificacao',\n",
       "  'DataCadastro',\n",
       "  'DataDiagnostico',\n",
       "  'DataColeta_RT_PCR',\n",
       "  'DataColetaTesteRapido',\n",
       "  'DataColetaSorologia',\n",
       "  'DataColetaSorologiaIGG',\n",
       "  'DataEncerramento',\n",
       "  'DataObito'],\n",
       " 'cat_cols': []}"
      ]
     },
     "metadata": {},
     "execution_count": 10
    }
   ],
   "metadata": {}
  },
  {
   "cell_type": "code",
   "execution_count": 7,
   "source": [
    "const.mapa_microdados"
   ],
   "outputs": [
    {
     "output_type": "execute_result",
     "data": {
      "text/plain": [
       "{'date_cols': ['DataNotificacao',\n",
       "  'DataCadastro',\n",
       "  'DataDiagnostico',\n",
       "  'DataColeta_RT_PCR',\n",
       "  'DataColetaTesteRapido',\n",
       "  'DataColetaSorologia',\n",
       "  'DataColetaSorologiaIGG',\n",
       "  'DataEncerramento',\n",
       "  'DataObito'],\n",
       " 'cat_cols': []}"
      ]
     },
     "metadata": {},
     "execution_count": 7
    }
   ],
   "metadata": {}
  },
  {
   "cell_type": "code",
   "execution_count": 20,
   "source": [
    "def foo():\r\n",
    "    name = sys._getframe(  ).f_code.co_name.upper()\r\n",
    "    print(name)"
   ],
   "outputs": [],
   "metadata": {}
  },
  {
   "cell_type": "code",
   "execution_count": 21,
   "source": [
    "foo()"
   ],
   "outputs": [
    {
     "output_type": "stream",
     "name": "stdout",
     "text": [
      "FOO\n"
     ]
    }
   ],
   "metadata": {}
  },
  {
   "cell_type": "code",
   "execution_count": null,
   "source": [
    "import pandas as pd\r\n",
    "import warnings\r\n",
    "import matplotlib.pyplot as plt\r\n",
    "plt.style.use('seaborn-talk')\r\n",
    "\r\n",
    "warnings.filterwarnings('ignore')\r\n",
    "%matplotlib inline"
   ],
   "outputs": [],
   "metadata": {}
  },
  {
   "cell_type": "code",
   "execution_count": 30,
   "source": [
    "BASEDIR = 'C:\\\\Users\\\\ulp\\\\Documents\\\\GitHub\\\\VUPS-MentoriaDSA2021\\\\app\\\\home'\r\n",
    "DATADIR = os.path.join(BASEDIR + \"\\\\data\")\r\n",
    "DATASET = 'MICRODADOS.csv'\r\n",
    "SEP = \";\"\r\n",
    "DATADIC = 'dictionary.md'"
   ],
   "outputs": [],
   "metadata": {}
  },
  {
   "cell_type": "code",
   "execution_count": 31,
   "source": [
    "os.path.join(BASEDIR, DATADIR, DATASET)"
   ],
   "outputs": [
    {
     "output_type": "execute_result",
     "data": {
      "text/plain": [
       "'C:\\\\Users\\\\ulp\\\\Documents\\\\GitHub\\\\VUPS-MentoriaDSA2021\\\\app\\\\home\\\\data\\\\MICRODADOS.csv'"
      ]
     },
     "metadata": {},
     "execution_count": 31
    }
   ],
   "metadata": {}
  },
  {
   "cell_type": "code",
   "execution_count": null,
   "source": [
    "PATH = os.path.join(DATADIR + DATASET)\r\n",
    "\r\n",
    "df = pd.read_csv(\r\n",
    "    PATH, \r\n",
    "    sep=SEP, \r\n",
    "    error_bad_lines=False, \r\n",
    "    encoding='latin1')\r\n",
    "\r\n",
    "# Preview para identificar a variável alvo\r\n",
    "df.head(1)"
   ],
   "outputs": [],
   "metadata": {}
  },
  {
   "cell_type": "markdown",
   "source": [
    "___"
   ],
   "metadata": {}
  },
  {
   "cell_type": "code",
   "execution_count": null,
   "source": [
    "import io\r\n",
    "import pandas as pd\r\n",
    "import requests\r\n",
    "from vups import const\r\n",
    "import validators"
   ],
   "outputs": [],
   "metadata": {}
  },
  {
   "cell_type": "code",
   "execution_count": null,
   "source": [
    "# url = \"https://bi.s3.es.gov.br/covid19/MICRODADOS.csv\"\r\n",
    "url = \"https://drive.economia.gov.br/owncloud/index.php/s/TD34YJTxalj4X3G/download\"\r\n",
    "encoding = 'UTF-8'\r\n",
    "sep = ','\r\n",
    "warn_bad_lines = True\r\n",
    "error_bad_lines = True\r\n",
    "\r\n",
    "path = const.DATADIR\r\n",
    "parquet_extension = '.parquet'\r\n",
    "\r\n",
    "# filename, file_extension = os.path.splitext(os.path.basename(url))\r\n",
    "# filepath_or_buffer = os.path.join(path, filename.upper() + file_extension)"
   ],
   "outputs": [],
   "metadata": {}
  },
  {
   "cell_type": "code",
   "execution_count": null,
   "source": [
    "filepath_or_buffer = url\r\n",
    "if validators.url(filepath_or_buffer):\r\n",
    "    r = requests.get(filepath_or_buffer, stream=True)\r\n",
    "    c = pd.read_csv(io.StringIO(r.decode(encoding)))\r\n",
    "    # dataset = pd.concat(iter, ignore_index=True)\r\n",
    "    c\r\n",
    "#     filepath_or_buffer = os.path.join(const.DATADIR, \"{}.{}\".format(filename.upper(), file_extension))\r\n",
    "#     with open(filepath_or_buffer, 'wb') as fd:\r\n",
    "#         for chunk in c(chunk_size=128):\r\n",
    "#             fd.write(chunk)\r\n",
    "\r\n",
    "# _PARAMS = {\r\n",
    "#     \"filepath_or_buffer\": filepath_or_buffer,\r\n",
    "#     \"iterator\": True,\r\n",
    "#     \"chunksize\": 128,\r\n",
    "#     \"sep\": sep,\r\n",
    "#     \"encoding\": encoding,\r\n",
    "#     \"warn_bad_lines\": warn_bad_lines,\r\n",
    "#     \"error_bad_lines\": error_bad_lines,\r\n",
    "#     \"parse_dates\": True,\r\n",
    "#     \"dtype\": None\r\n",
    "# }\r\n",
    "\r\n",
    "# iter = pd.read_csv(**_PARAMS)\r\n",
    "# dataset = pd.concat(iter, ignore_index=True)\r\n",
    "# dataset"
   ],
   "outputs": [],
   "metadata": {}
  },
  {
   "cell_type": "code",
   "execution_count": null,
   "source": [
    "from vups import const"
   ],
   "outputs": [],
   "metadata": {}
  },
  {
   "cell_type": "code",
   "execution_count": null,
   "source": [
    "NAME = const.ARRECADACAO.get(\"NAME\")\r\n",
    "NAME"
   ],
   "outputs": [],
   "metadata": {}
  },
  {
   "cell_type": "code",
   "execution_count": null,
   "source": [
    "values = list(const.ARRECADACAO[\"URLS\"].values())\r\n",
    "values"
   ],
   "outputs": [],
   "metadata": {}
  },
  {
   "cell_type": "code",
   "execution_count": null,
   "source": [
    "items = list(const.ARRECADACAO.get(\"URLS\").items())\r\n",
    "items"
   ],
   "outputs": [],
   "metadata": {}
  },
  {
   "cell_type": "code",
   "execution_count": null,
   "source": [
    "for i in items:\r\n",
    "    print(i[0], i[1])\r\n"
   ],
   "outputs": [],
   "metadata": {}
  },
  {
   "cell_type": "code",
   "execution_count": null,
   "source": [
    "items[0][1]"
   ],
   "outputs": [],
   "metadata": {}
  },
  {
   "cell_type": "code",
   "execution_count": null,
   "source": [],
   "outputs": [],
   "metadata": {}
  },
  {
   "cell_type": "code",
   "execution_count": null,
   "source": [
    "import validators"
   ],
   "outputs": [],
   "metadata": {}
  },
  {
   "cell_type": "code",
   "execution_count": null,
   "source": [
    "filepath_or_buffer = \"https://bi.s3.es.gov.br/covid19/MICRODADOS.csv\""
   ],
   "outputs": [],
   "metadata": {}
  },
  {
   "cell_type": "code",
   "execution_count": null,
   "source": [
    "if validators.url(items[0][1]):\r\n",
    "    print(items[0][0])"
   ],
   "outputs": [],
   "metadata": {}
  },
  {
   "cell_type": "code",
   "execution_count": null,
   "source": [
    "if validators.url(filepath_or_buffer):\r\n",
    "    print(filepath_or_buffer)"
   ],
   "outputs": [],
   "metadata": {}
  },
  {
   "cell_type": "code",
   "execution_count": null,
   "source": [
    "filepath_or_buffer"
   ],
   "outputs": [],
   "metadata": {}
  },
  {
   "cell_type": "code",
   "execution_count": null,
   "source": [
    "_PARAMS = {\r\n",
    "    \"filepath_or_buffer\": filepath_or_buffer,\r\n",
    "    \"usecols\": None,\r\n",
    "    \"sep\": ';',\r\n",
    "    \"nrows\": None,\r\n",
    "    \"encoding\": 'utf-8',\r\n",
    "    \"warn_bad_lines\": True,\r\n",
    "    \"error_bad_lines\": True,\r\n",
    "    \"parse_dates\": True,\r\n",
    "    \"dtype\": None,\r\n",
    "}\r\n",
    "dataset = pd.read_csv(**_PARAMS)"
   ],
   "outputs": [],
   "metadata": {}
  },
  {
   "cell_type": "code",
   "execution_count": null,
   "source": [
    "dataset"
   ],
   "outputs": [],
   "metadata": {}
  },
  {
   "cell_type": "markdown",
   "source": [
    "> Dicionário de Dados"
   ],
   "metadata": {}
  },
  {
   "cell_type": "code",
   "execution_count": null,
   "source": [
    "# from IPython.display import Markdown, display\r\n",
    "\"\"\" \r\n",
    "display(\r\n",
    "    Markdown(\r\n",
    "        open(os.path.join(DATADIR + DATADIC), \r\n",
    "             encoding=\"utf-8\").read())) \r\n",
    "\"\"\""
   ],
   "outputs": [],
   "metadata": {}
  },
  {
   "cell_type": "code",
   "execution_count": null,
   "source": [
    "df.isna().sum()"
   ],
   "outputs": [],
   "metadata": {}
  },
  {
   "cell_type": "code",
   "execution_count": null,
   "source": [
    "df.to_pickle(DATADIR + 'df.pkl')"
   ],
   "outputs": [],
   "metadata": {}
  },
  {
   "cell_type": "code",
   "execution_count": 2,
   "source": [
    "import vups"
   ],
   "outputs": [],
   "metadata": {}
  },
  {
   "cell_type": "code",
   "execution_count": 3,
   "source": [
    "arrecadacao = vups.datasets.arrecadacao()"
   ],
   "outputs": [],
   "metadata": {}
  },
  {
   "cell_type": "code",
   "execution_count": 2,
   "source": [
    "import vups"
   ],
   "outputs": [],
   "metadata": {}
  },
  {
   "cell_type": "code",
   "execution_count": 3,
   "source": [
    "df = vups.datasets.microdados(columns=[\"DataObito\"])"
   ],
   "outputs": [
    {
     "output_type": "stream",
     "name": "stdout",
     "text": [
      "Importando o dataset MICRODADOS...\n",
      "Realizando importação de arquivo PARQUET.\n"
     ]
    }
   ],
   "metadata": {}
  },
  {
   "cell_type": "code",
   "execution_count": 22,
   "source": [
    "df.dropna()"
   ],
   "outputs": [
    {
     "output_type": "error",
     "ename": "AttributeError",
     "evalue": "'DataFrame' object has no attribute 'dropnat'",
     "traceback": [
      "\u001b[1;31m---------------------------------------------------------------------------\u001b[0m",
      "\u001b[1;31mAttributeError\u001b[0m                            Traceback (most recent call last)",
      "\u001b[1;32m<ipython-input-22-c60d57412217>\u001b[0m in \u001b[0;36m<module>\u001b[1;34m\u001b[0m\n\u001b[1;32m----> 1\u001b[1;33m \u001b[0mdf\u001b[0m\u001b[1;33m.\u001b[0m\u001b[0mdropnat\u001b[0m\u001b[1;33m(\u001b[0m\u001b[1;33m)\u001b[0m\u001b[1;33m\u001b[0m\u001b[1;33m\u001b[0m\u001b[0m\n\u001b[0m",
      "\u001b[1;32m~\\anaconda3\\lib\\site-packages\\pandas\\core\\generic.py\u001b[0m in \u001b[0;36m__getattr__\u001b[1;34m(self, name)\u001b[0m\n\u001b[0;32m   5485\u001b[0m         ):\n\u001b[0;32m   5486\u001b[0m             \u001b[1;32mreturn\u001b[0m \u001b[0mself\u001b[0m\u001b[1;33m[\u001b[0m\u001b[0mname\u001b[0m\u001b[1;33m]\u001b[0m\u001b[1;33m\u001b[0m\u001b[1;33m\u001b[0m\u001b[0m\n\u001b[1;32m-> 5487\u001b[1;33m         \u001b[1;32mreturn\u001b[0m \u001b[0mobject\u001b[0m\u001b[1;33m.\u001b[0m\u001b[0m__getattribute__\u001b[0m\u001b[1;33m(\u001b[0m\u001b[0mself\u001b[0m\u001b[1;33m,\u001b[0m \u001b[0mname\u001b[0m\u001b[1;33m)\u001b[0m\u001b[1;33m\u001b[0m\u001b[1;33m\u001b[0m\u001b[0m\n\u001b[0m\u001b[0;32m   5488\u001b[0m \u001b[1;33m\u001b[0m\u001b[0m\n\u001b[0;32m   5489\u001b[0m     \u001b[1;32mdef\u001b[0m \u001b[0m__setattr__\u001b[0m\u001b[1;33m(\u001b[0m\u001b[0mself\u001b[0m\u001b[1;33m,\u001b[0m \u001b[0mname\u001b[0m\u001b[1;33m:\u001b[0m \u001b[0mstr\u001b[0m\u001b[1;33m,\u001b[0m \u001b[0mvalue\u001b[0m\u001b[1;33m)\u001b[0m \u001b[1;33m->\u001b[0m \u001b[1;32mNone\u001b[0m\u001b[1;33m:\u001b[0m\u001b[1;33m\u001b[0m\u001b[1;33m\u001b[0m\u001b[0m\n",
      "\u001b[1;31mAttributeError\u001b[0m: 'DataFrame' object has no attribute 'dropnat'"
     ]
    }
   ],
   "metadata": {}
  },
  {
   "cell_type": "code",
   "execution_count": null,
   "source": [
    "name = const.ARRECADACAO.get(\"NAME\")\r\n",
    "\r\n",
    "partial_path    = os.path.join(const.DATADIR, name)\r\n",
    "filepath_pqt    = {\"filepath\": {\"ext\": \"{}.parquet\".format(partial_path)}}\r\n",
    "teste = list(filepath_pqt.get(\"filepath\").items());"
   ],
   "outputs": [],
   "metadata": {}
  },
  {
   "cell_type": "code",
   "execution_count": null,
   "source": [
    "teste[0][1]"
   ],
   "outputs": [],
   "metadata": {}
  },
  {
   "cell_type": "code",
   "execution_count": null,
   "source": [
    "filepath_csv    = {\"filepath\": {\"ext\": \"{}.csv\".format(partial_path)}}\r\n",
    "# filepath_csv    = \"{}.csv\".format(partial_path)\r\n",
    "filelist_url    = list(const.ARRECADACAO.get(\"URLS\").items())"
   ],
   "outputs": [],
   "metadata": {}
  },
  {
   "cell_type": "code",
   "execution_count": 1,
   "source": [
    "import vups"
   ],
   "outputs": [],
   "metadata": {}
  },
  {
   "cell_type": "code",
   "execution_count": 2,
   "source": [
    "microdados = vups.datasets.microdados()"
   ],
   "outputs": [
    {
     "output_type": "stream",
     "name": "stdout",
     "text": [
      "Importando o dataset MICRODADOS...\n",
      "Salvando em disco o arquivo convertido para PARQUET.\n",
      "Realizando importação de arquivo PARQUET.\n"
     ]
    }
   ],
   "metadata": {}
  },
  {
   "cell_type": "code",
   "execution_count": 3,
   "source": [
    "microdados.info()"
   ],
   "outputs": [
    {
     "output_type": "stream",
     "name": "stdout",
     "text": [
      "<class 'pandas.core.frame.DataFrame'>\n",
      "RangeIndex: 1651537 entries, 0 to 1651536\n",
      "Data columns (total 45 columns):\n",
      " #   Column                   Non-Null Count    Dtype         \n",
      "---  ------                   --------------    -----         \n",
      " 0   DataNotificacao          1651537 non-null  datetime64[ns]\n",
      " 1   DataCadastro             1651537 non-null  datetime64[ns]\n",
      " 2   DataDiagnostico          1651537 non-null  datetime64[ns]\n",
      " 3   DataColeta_RT_PCR        810756 non-null   datetime64[ns]\n",
      " 4   DataColetaTesteRapido    600667 non-null   datetime64[ns]\n",
      " 5   DataColetaSorologia      87829 non-null    datetime64[ns]\n",
      " 6   DataColetaSorologiaIGG   134951 non-null   datetime64[ns]\n",
      " 7   DataEncerramento         1414949 non-null  datetime64[ns]\n",
      " 8   DataObito                14830 non-null    datetime64[ns]\n",
      " 9   Classificacao            1651537 non-null  category      \n",
      " 10  Evolucao                 1651537 non-null  category      \n",
      " 11  CriterioConfirmacao      1651537 non-null  category      \n",
      " 12  StatusNotificacao        1651537 non-null  category      \n",
      " 13  Municipio                1651537 non-null  category      \n",
      " 14  Bairro                   1634771 non-null  category      \n",
      " 15  FaixaEtaria              1651537 non-null  category      \n",
      " 16  IdadeNaDataNotificacao   1651537 non-null  category      \n",
      " 17  Sexo                     1651537 non-null  category      \n",
      " 18  RacaCor                  1651537 non-null  category      \n",
      " 19  Escolaridade             1651537 non-null  category      \n",
      " 20  Gestante                 1651537 non-null  category      \n",
      " 21  Febre                    1651537 non-null  category      \n",
      " 22  DificuldadeRespiratoria  1651537 non-null  category      \n",
      " 23  Tosse                    1651537 non-null  category      \n",
      " 24  Coriza                   1651537 non-null  category      \n",
      " 25  DorGarganta              1651537 non-null  category      \n",
      " 26  Diarreia                 1651537 non-null  category      \n",
      " 27  Cefaleia                 1651537 non-null  category      \n",
      " 28  ComorbidadePulmao        1651537 non-null  category      \n",
      " 29  ComorbidadeCardio        1651537 non-null  category      \n",
      " 30  ComorbidadeRenal         1651537 non-null  category      \n",
      " 31  ComorbidadeDiabetes      1651537 non-null  category      \n",
      " 32  ComorbidadeTabagismo     1651537 non-null  category      \n",
      " 33  ComorbidadeObesidade     1651537 non-null  category      \n",
      " 34  FicouInternado           1651537 non-null  category      \n",
      " 35  ViagemBrasil             1651537 non-null  category      \n",
      " 36  ViagemInternacional      1651537 non-null  category      \n",
      " 37  ProfissionalSaude        1651537 non-null  category      \n",
      " 38  PossuiDeficiencia        1651537 non-null  category      \n",
      " 39  MoradorDeRua             1651537 non-null  category      \n",
      " 40  ResultadoRT_PCR          1651537 non-null  category      \n",
      " 41  ResultadoTesteRapido     1651537 non-null  category      \n",
      " 42  ResultadoSorologia       1651537 non-null  category      \n",
      " 43  ResultadoSorologia_IGG   1651537 non-null  category      \n",
      " 44  TipoTesteRapido          1651537 non-null  category      \n",
      "dtypes: category(36), datetime64[ns](9)\n",
      "memory usage: 179.5 MB\n"
     ]
    }
   ],
   "metadata": {}
  },
  {
   "cell_type": "code",
   "execution_count": 4,
   "source": [
    "microdados"
   ],
   "outputs": [
    {
     "output_type": "execute_result",
     "data": {
      "text/html": [
       "<div>\n",
       "<style scoped>\n",
       "    .dataframe tbody tr th:only-of-type {\n",
       "        vertical-align: middle;\n",
       "    }\n",
       "\n",
       "    .dataframe tbody tr th {\n",
       "        vertical-align: top;\n",
       "    }\n",
       "\n",
       "    .dataframe thead th {\n",
       "        text-align: right;\n",
       "    }\n",
       "</style>\n",
       "<table border=\"1\" class=\"dataframe\">\n",
       "  <thead>\n",
       "    <tr style=\"text-align: right;\">\n",
       "      <th></th>\n",
       "      <th>DataNotificacao</th>\n",
       "      <th>DataCadastro</th>\n",
       "      <th>DataDiagnostico</th>\n",
       "      <th>DataColeta_RT_PCR</th>\n",
       "      <th>DataColetaTesteRapido</th>\n",
       "      <th>DataColetaSorologia</th>\n",
       "      <th>DataColetaSorologiaIGG</th>\n",
       "      <th>DataEncerramento</th>\n",
       "      <th>DataObito</th>\n",
       "      <th>Classificacao</th>\n",
       "      <th>...</th>\n",
       "      <th>ViagemBrasil</th>\n",
       "      <th>ViagemInternacional</th>\n",
       "      <th>ProfissionalSaude</th>\n",
       "      <th>PossuiDeficiencia</th>\n",
       "      <th>MoradorDeRua</th>\n",
       "      <th>ResultadoRT_PCR</th>\n",
       "      <th>ResultadoTesteRapido</th>\n",
       "      <th>ResultadoSorologia</th>\n",
       "      <th>ResultadoSorologia_IGG</th>\n",
       "      <th>TipoTesteRapido</th>\n",
       "    </tr>\n",
       "  </thead>\n",
       "  <tbody>\n",
       "    <tr>\n",
       "      <th>0</th>\n",
       "      <td>2021-07-05</td>\n",
       "      <td>2021-06-30</td>\n",
       "      <td>2021-06-30</td>\n",
       "      <td>2021-06-30</td>\n",
       "      <td>NaT</td>\n",
       "      <td>NaT</td>\n",
       "      <td>NaT</td>\n",
       "      <td>NaT</td>\n",
       "      <td>NaT</td>\n",
       "      <td>Suspeito</td>\n",
       "      <td>...</td>\n",
       "      <td>Não</td>\n",
       "      <td>Não Informado</td>\n",
       "      <td>Não</td>\n",
       "      <td>Não</td>\n",
       "      <td>Não</td>\n",
       "      <td>Não Informado</td>\n",
       "      <td>Não Informado</td>\n",
       "      <td>Não Informado</td>\n",
       "      <td>Não Informado</td>\n",
       "      <td>Não Informado</td>\n",
       "    </tr>\n",
       "    <tr>\n",
       "      <th>1</th>\n",
       "      <td>2021-07-05</td>\n",
       "      <td>2021-06-30</td>\n",
       "      <td>2021-06-30</td>\n",
       "      <td>2021-07-05</td>\n",
       "      <td>NaT</td>\n",
       "      <td>NaT</td>\n",
       "      <td>NaT</td>\n",
       "      <td>NaT</td>\n",
       "      <td>NaT</td>\n",
       "      <td>Suspeito</td>\n",
       "      <td>...</td>\n",
       "      <td>Não Informado</td>\n",
       "      <td>Não Informado</td>\n",
       "      <td>Não</td>\n",
       "      <td>Não</td>\n",
       "      <td>Não</td>\n",
       "      <td>Não Informado</td>\n",
       "      <td>Não Informado</td>\n",
       "      <td>Não Informado</td>\n",
       "      <td>Não Informado</td>\n",
       "      <td>Não Informado</td>\n",
       "    </tr>\n",
       "    <tr>\n",
       "      <th>2</th>\n",
       "      <td>2021-07-05</td>\n",
       "      <td>2021-05-20</td>\n",
       "      <td>2021-07-03</td>\n",
       "      <td>2021-05-17</td>\n",
       "      <td>2021-07-05</td>\n",
       "      <td>NaT</td>\n",
       "      <td>NaT</td>\n",
       "      <td>NaT</td>\n",
       "      <td>NaT</td>\n",
       "      <td>Suspeito</td>\n",
       "      <td>...</td>\n",
       "      <td>Não</td>\n",
       "      <td>Não Informado</td>\n",
       "      <td>Não</td>\n",
       "      <td>Não</td>\n",
       "      <td>Não</td>\n",
       "      <td>Negativo</td>\n",
       "      <td>Negativo</td>\n",
       "      <td>Não Informado</td>\n",
       "      <td>Não Informado</td>\n",
       "      <td>Teste rápido Antígeno</td>\n",
       "    </tr>\n",
       "    <tr>\n",
       "      <th>3</th>\n",
       "      <td>2021-07-05</td>\n",
       "      <td>2020-11-16</td>\n",
       "      <td>2021-07-02</td>\n",
       "      <td>NaT</td>\n",
       "      <td>2021-07-05</td>\n",
       "      <td>NaT</td>\n",
       "      <td>NaT</td>\n",
       "      <td>NaT</td>\n",
       "      <td>NaT</td>\n",
       "      <td>Suspeito</td>\n",
       "      <td>...</td>\n",
       "      <td>Não Informado</td>\n",
       "      <td>Ignorado</td>\n",
       "      <td>Não</td>\n",
       "      <td>Não</td>\n",
       "      <td>Não</td>\n",
       "      <td>Não Informado</td>\n",
       "      <td>Negativo</td>\n",
       "      <td>Não Informado</td>\n",
       "      <td>Não Informado</td>\n",
       "      <td>Teste rápido Antígeno</td>\n",
       "    </tr>\n",
       "    <tr>\n",
       "      <th>4</th>\n",
       "      <td>2021-07-05</td>\n",
       "      <td>2021-05-24</td>\n",
       "      <td>2021-07-02</td>\n",
       "      <td>NaT</td>\n",
       "      <td>2021-07-05</td>\n",
       "      <td>NaT</td>\n",
       "      <td>NaT</td>\n",
       "      <td>2021-07-05</td>\n",
       "      <td>NaT</td>\n",
       "      <td>Descartados</td>\n",
       "      <td>...</td>\n",
       "      <td>Não Informado</td>\n",
       "      <td>Não Informado</td>\n",
       "      <td>Não</td>\n",
       "      <td>Não</td>\n",
       "      <td>Não</td>\n",
       "      <td>Não Informado</td>\n",
       "      <td>Negativo</td>\n",
       "      <td>Não Informado</td>\n",
       "      <td>Não Informado</td>\n",
       "      <td>Teste rápido Antígeno</td>\n",
       "    </tr>\n",
       "    <tr>\n",
       "      <th>...</th>\n",
       "      <td>...</td>\n",
       "      <td>...</td>\n",
       "      <td>...</td>\n",
       "      <td>...</td>\n",
       "      <td>...</td>\n",
       "      <td>...</td>\n",
       "      <td>...</td>\n",
       "      <td>...</td>\n",
       "      <td>...</td>\n",
       "      <td>...</td>\n",
       "      <td>...</td>\n",
       "      <td>...</td>\n",
       "      <td>...</td>\n",
       "      <td>...</td>\n",
       "      <td>...</td>\n",
       "      <td>...</td>\n",
       "      <td>...</td>\n",
       "      <td>...</td>\n",
       "      <td>...</td>\n",
       "      <td>...</td>\n",
       "      <td>...</td>\n",
       "    </tr>\n",
       "    <tr>\n",
       "      <th>1651532</th>\n",
       "      <td>2020-02-27</td>\n",
       "      <td>2020-04-16</td>\n",
       "      <td>2020-02-15</td>\n",
       "      <td>2020-02-27</td>\n",
       "      <td>NaT</td>\n",
       "      <td>NaT</td>\n",
       "      <td>NaT</td>\n",
       "      <td>2020-04-16</td>\n",
       "      <td>NaT</td>\n",
       "      <td>Descartados</td>\n",
       "      <td>...</td>\n",
       "      <td>Não</td>\n",
       "      <td>Não</td>\n",
       "      <td>Não</td>\n",
       "      <td>Não Informado</td>\n",
       "      <td>Não Informado</td>\n",
       "      <td>Negativo</td>\n",
       "      <td>Não Informado</td>\n",
       "      <td>Não Informado</td>\n",
       "      <td>Não Informado</td>\n",
       "      <td>Não Informado</td>\n",
       "    </tr>\n",
       "    <tr>\n",
       "      <th>1651533</th>\n",
       "      <td>2020-02-27</td>\n",
       "      <td>2020-04-16</td>\n",
       "      <td>2020-02-15</td>\n",
       "      <td>2020-02-27</td>\n",
       "      <td>NaT</td>\n",
       "      <td>NaT</td>\n",
       "      <td>NaT</td>\n",
       "      <td>2020-04-16</td>\n",
       "      <td>NaT</td>\n",
       "      <td>Descartados</td>\n",
       "      <td>...</td>\n",
       "      <td>Não</td>\n",
       "      <td>Não</td>\n",
       "      <td>Não</td>\n",
       "      <td>Não Informado</td>\n",
       "      <td>Não Informado</td>\n",
       "      <td>Negativo</td>\n",
       "      <td>Não Informado</td>\n",
       "      <td>Não Informado</td>\n",
       "      <td>Não Informado</td>\n",
       "      <td>Não Informado</td>\n",
       "    </tr>\n",
       "    <tr>\n",
       "      <th>1651534</th>\n",
       "      <td>2020-02-27</td>\n",
       "      <td>2020-04-15</td>\n",
       "      <td>2020-02-25</td>\n",
       "      <td>2020-02-26</td>\n",
       "      <td>NaT</td>\n",
       "      <td>NaT</td>\n",
       "      <td>NaT</td>\n",
       "      <td>2020-04-15</td>\n",
       "      <td>NaT</td>\n",
       "      <td>Descartados</td>\n",
       "      <td>...</td>\n",
       "      <td>Não Informado</td>\n",
       "      <td>Sim</td>\n",
       "      <td>Não</td>\n",
       "      <td>Não Informado</td>\n",
       "      <td>Não Informado</td>\n",
       "      <td>Negativo</td>\n",
       "      <td>Não Informado</td>\n",
       "      <td>Não Informado</td>\n",
       "      <td>Não Informado</td>\n",
       "      <td>Não Informado</td>\n",
       "    </tr>\n",
       "    <tr>\n",
       "      <th>1651535</th>\n",
       "      <td>2020-02-25</td>\n",
       "      <td>2020-04-16</td>\n",
       "      <td>2020-02-13</td>\n",
       "      <td>2020-02-26</td>\n",
       "      <td>NaT</td>\n",
       "      <td>NaT</td>\n",
       "      <td>NaT</td>\n",
       "      <td>2020-04-16</td>\n",
       "      <td>2020-04-16</td>\n",
       "      <td>Descartados</td>\n",
       "      <td>...</td>\n",
       "      <td>Não</td>\n",
       "      <td>Sim</td>\n",
       "      <td>Não</td>\n",
       "      <td>Não</td>\n",
       "      <td>Não</td>\n",
       "      <td>Negativo</td>\n",
       "      <td>Não Informado</td>\n",
       "      <td>Não Informado</td>\n",
       "      <td>Não Informado</td>\n",
       "      <td>Não Informado</td>\n",
       "    </tr>\n",
       "    <tr>\n",
       "      <th>1651536</th>\n",
       "      <td>2020-01-23</td>\n",
       "      <td>2020-10-25</td>\n",
       "      <td>2020-01-20</td>\n",
       "      <td>NaT</td>\n",
       "      <td>2020-01-29</td>\n",
       "      <td>NaT</td>\n",
       "      <td>NaT</td>\n",
       "      <td>2020-10-29</td>\n",
       "      <td>NaT</td>\n",
       "      <td>Descartados</td>\n",
       "      <td>...</td>\n",
       "      <td>Ignorado</td>\n",
       "      <td>Não</td>\n",
       "      <td>Não</td>\n",
       "      <td>Não</td>\n",
       "      <td>Não</td>\n",
       "      <td>Não Informado</td>\n",
       "      <td>Negativo</td>\n",
       "      <td>Não Informado</td>\n",
       "      <td>Não Informado</td>\n",
       "      <td>Não Informado</td>\n",
       "    </tr>\n",
       "  </tbody>\n",
       "</table>\n",
       "<p>1651537 rows × 45 columns</p>\n",
       "</div>"
      ],
      "text/plain": [
       "        DataNotificacao DataCadastro DataDiagnostico DataColeta_RT_PCR  \\\n",
       "0            2021-07-05   2021-06-30      2021-06-30        2021-06-30   \n",
       "1            2021-07-05   2021-06-30      2021-06-30        2021-07-05   \n",
       "2            2021-07-05   2021-05-20      2021-07-03        2021-05-17   \n",
       "3            2021-07-05   2020-11-16      2021-07-02               NaT   \n",
       "4            2021-07-05   2021-05-24      2021-07-02               NaT   \n",
       "...                 ...          ...             ...               ...   \n",
       "1651532      2020-02-27   2020-04-16      2020-02-15        2020-02-27   \n",
       "1651533      2020-02-27   2020-04-16      2020-02-15        2020-02-27   \n",
       "1651534      2020-02-27   2020-04-15      2020-02-25        2020-02-26   \n",
       "1651535      2020-02-25   2020-04-16      2020-02-13        2020-02-26   \n",
       "1651536      2020-01-23   2020-10-25      2020-01-20               NaT   \n",
       "\n",
       "        DataColetaTesteRapido DataColetaSorologia DataColetaSorologiaIGG  \\\n",
       "0                         NaT                 NaT                    NaT   \n",
       "1                         NaT                 NaT                    NaT   \n",
       "2                  2021-07-05                 NaT                    NaT   \n",
       "3                  2021-07-05                 NaT                    NaT   \n",
       "4                  2021-07-05                 NaT                    NaT   \n",
       "...                       ...                 ...                    ...   \n",
       "1651532                   NaT                 NaT                    NaT   \n",
       "1651533                   NaT                 NaT                    NaT   \n",
       "1651534                   NaT                 NaT                    NaT   \n",
       "1651535                   NaT                 NaT                    NaT   \n",
       "1651536            2020-01-29                 NaT                    NaT   \n",
       "\n",
       "        DataEncerramento  DataObito Classificacao  ...   ViagemBrasil  \\\n",
       "0                    NaT        NaT      Suspeito  ...            Não   \n",
       "1                    NaT        NaT      Suspeito  ...  Não Informado   \n",
       "2                    NaT        NaT      Suspeito  ...            Não   \n",
       "3                    NaT        NaT      Suspeito  ...  Não Informado   \n",
       "4             2021-07-05        NaT   Descartados  ...  Não Informado   \n",
       "...                  ...        ...           ...  ...            ...   \n",
       "1651532       2020-04-16        NaT   Descartados  ...            Não   \n",
       "1651533       2020-04-16        NaT   Descartados  ...            Não   \n",
       "1651534       2020-04-15        NaT   Descartados  ...  Não Informado   \n",
       "1651535       2020-04-16 2020-04-16   Descartados  ...            Não   \n",
       "1651536       2020-10-29        NaT   Descartados  ...       Ignorado   \n",
       "\n",
       "        ViagemInternacional ProfissionalSaude PossuiDeficiencia  \\\n",
       "0             Não Informado               Não               Não   \n",
       "1             Não Informado               Não               Não   \n",
       "2             Não Informado               Não               Não   \n",
       "3                  Ignorado               Não               Não   \n",
       "4             Não Informado               Não               Não   \n",
       "...                     ...               ...               ...   \n",
       "1651532                 Não               Não     Não Informado   \n",
       "1651533                 Não               Não     Não Informado   \n",
       "1651534                 Sim               Não     Não Informado   \n",
       "1651535                 Sim               Não               Não   \n",
       "1651536                 Não               Não               Não   \n",
       "\n",
       "          MoradorDeRua ResultadoRT_PCR ResultadoTesteRapido  \\\n",
       "0                  Não   Não Informado        Não Informado   \n",
       "1                  Não   Não Informado        Não Informado   \n",
       "2                  Não        Negativo             Negativo   \n",
       "3                  Não   Não Informado             Negativo   \n",
       "4                  Não   Não Informado             Negativo   \n",
       "...                ...             ...                  ...   \n",
       "1651532  Não Informado        Negativo        Não Informado   \n",
       "1651533  Não Informado        Negativo        Não Informado   \n",
       "1651534  Não Informado        Negativo        Não Informado   \n",
       "1651535            Não        Negativo        Não Informado   \n",
       "1651536            Não   Não Informado             Negativo   \n",
       "\n",
       "        ResultadoSorologia ResultadoSorologia_IGG        TipoTesteRapido  \n",
       "0            Não Informado          Não Informado          Não Informado  \n",
       "1            Não Informado          Não Informado          Não Informado  \n",
       "2            Não Informado          Não Informado  Teste rápido Antígeno  \n",
       "3            Não Informado          Não Informado  Teste rápido Antígeno  \n",
       "4            Não Informado          Não Informado  Teste rápido Antígeno  \n",
       "...                    ...                    ...                    ...  \n",
       "1651532      Não Informado          Não Informado          Não Informado  \n",
       "1651533      Não Informado          Não Informado          Não Informado  \n",
       "1651534      Não Informado          Não Informado          Não Informado  \n",
       "1651535      Não Informado          Não Informado          Não Informado  \n",
       "1651536      Não Informado          Não Informado          Não Informado  \n",
       "\n",
       "[1651537 rows x 45 columns]"
      ]
     },
     "metadata": {},
     "execution_count": 4
    }
   ],
   "metadata": {}
  }
 ],
 "metadata": {
  "interpreter": {
   "hash": "e9aa689edf4e3253ce592293dcc69d32d3ef370148852f3558b2d441f5963c91"
  },
  "kernelspec": {
   "name": "python3",
   "display_name": "Python 3.8.8 64-bit ('base': conda)"
  },
  "language_info": {
   "name": "python",
   "version": "3.8.8",
   "mimetype": "text/x-python",
   "codemirror_mode": {
    "name": "ipython",
    "version": 3
   },
   "pygments_lexer": "ipython3",
   "nbconvert_exporter": "python",
   "file_extension": ".py"
  }
 },
 "nbformat": 4,
 "nbformat_minor": 5
}