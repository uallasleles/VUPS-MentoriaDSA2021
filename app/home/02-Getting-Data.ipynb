{
 "cells": [
  {
   "cell_type": "markdown",
   "source": [
    "# Getting Data"
   ],
   "metadata": {}
  },
  {
   "cell_type": "markdown",
   "source": [
    "> COVID-19 - ESTADO DO ESPÍRITO SANTO\r\n",
    "\r\n",
    "Fonte: Sistema eSUS/VS – Secretaria de Saúde do Estado do Espírito Santo"
   ],
   "metadata": {}
  },
  {
   "cell_type": "code",
   "execution_count": null,
   "source": [
    "import os\r\n",
    "import pandas as pd\r\n",
    "import warnings\r\n",
    "import matplotlib.pyplot as plt\r\n",
    "plt.style.use('seaborn-talk')\r\n",
    "\r\n",
    "warnings.filterwarnings('ignore')\r\n",
    "%matplotlib inline"
   ],
   "outputs": [],
   "metadata": {}
  },
  {
   "cell_type": "code",
   "execution_count": null,
   "source": [],
   "outputs": [],
   "metadata": {}
  },
  {
   "cell_type": "code",
   "execution_count": null,
   "source": [
    "BASEDIR = os.path.abspath('..\\\\')\r\n",
    "DATADIR = os.path.join(BASEDIR + 'data\\\\')\r\n",
    "DATASET = 'MICRODADOS.csv'\r\n",
    "SEP = \";\"\r\n",
    "DATADIC = 'dictionary.md'"
   ],
   "outputs": [],
   "metadata": {}
  },
  {
   "cell_type": "code",
   "execution_count": null,
   "source": [
    "PATH = os.path.join(DATADIR + DATASET)\r\n",
    "\r\n",
    "df = pd.read_csv(\r\n",
    "    PATH, \r\n",
    "    sep=SEP, \r\n",
    "    error_bad_lines=False, \r\n",
    "    encoding='latin1')\r\n",
    "\r\n",
    "# Preview para identificar a variável alvo\r\n",
    "df.head(1)"
   ],
   "outputs": [],
   "metadata": {}
  },
  {
   "cell_type": "markdown",
   "source": [
    "___"
   ],
   "metadata": {}
  },
  {
   "cell_type": "code",
   "execution_count": null,
   "source": [
    "import io\r\n",
    "import pandas as pd\r\n",
    "import requests\r\n",
    "from vups import const\r\n",
    "import validators"
   ],
   "outputs": [],
   "metadata": {}
  },
  {
   "cell_type": "code",
   "execution_count": null,
   "source": [
    "# url = \"https://bi.s3.es.gov.br/covid19/MICRODADOS.csv\"\r\n",
    "url = \"https://drive.economia.gov.br/owncloud/index.php/s/TD34YJTxalj4X3G/download\"\r\n",
    "encoding = 'UTF-8'\r\n",
    "sep = ','\r\n",
    "warn_bad_lines = True\r\n",
    "error_bad_lines = True\r\n",
    "\r\n",
    "path = const.DATADIR\r\n",
    "parquet_extension = '.parquet'\r\n",
    "\r\n",
    "# filename, file_extension = os.path.splitext(os.path.basename(url))\r\n",
    "# filepath_or_buffer = os.path.join(path, filename.upper() + file_extension)"
   ],
   "outputs": [],
   "metadata": {}
  },
  {
   "cell_type": "code",
   "execution_count": null,
   "source": [
    "filepath_or_buffer = url\r\n",
    "if validators.url(filepath_or_buffer):\r\n",
    "    r = requests.get(filepath_or_buffer, stream=True)\r\n",
    "    c = pd.read_csv(io.StringIO(r.decode(encoding)))\r\n",
    "    # dataset = pd.concat(iter, ignore_index=True)\r\n",
    "    c\r\n",
    "#     filepath_or_buffer = os.path.join(const.DATADIR, \"{}.{}\".format(filename.upper(), file_extension))\r\n",
    "#     with open(filepath_or_buffer, 'wb') as fd:\r\n",
    "#         for chunk in c(chunk_size=128):\r\n",
    "#             fd.write(chunk)\r\n",
    "\r\n",
    "# _PARAMS = {\r\n",
    "#     \"filepath_or_buffer\": filepath_or_buffer,\r\n",
    "#     \"iterator\": True,\r\n",
    "#     \"chunksize\": 128,\r\n",
    "#     \"sep\": sep,\r\n",
    "#     \"encoding\": encoding,\r\n",
    "#     \"warn_bad_lines\": warn_bad_lines,\r\n",
    "#     \"error_bad_lines\": error_bad_lines,\r\n",
    "#     \"parse_dates\": True,\r\n",
    "#     \"dtype\": None\r\n",
    "# }\r\n",
    "\r\n",
    "# iter = pd.read_csv(**_PARAMS)\r\n",
    "# dataset = pd.concat(iter, ignore_index=True)\r\n",
    "# dataset"
   ],
   "outputs": [],
   "metadata": {}
  },
  {
   "cell_type": "code",
   "execution_count": null,
   "source": [
    "from vups import const"
   ],
   "outputs": [],
   "metadata": {}
  },
  {
   "cell_type": "code",
   "execution_count": null,
   "source": [
    "NAME = const.ARRECADACAO.get(\"NAME\")\r\n",
    "NAME"
   ],
   "outputs": [],
   "metadata": {}
  },
  {
   "cell_type": "code",
   "execution_count": null,
   "source": [
    "values = list(const.ARRECADACAO[\"URLS\"].values())\r\n",
    "values"
   ],
   "outputs": [],
   "metadata": {}
  },
  {
   "cell_type": "code",
   "execution_count": null,
   "source": [
    "items = list(const.ARRECADACAO.get(\"URLS\").items())\r\n",
    "items"
   ],
   "outputs": [],
   "metadata": {}
  },
  {
   "cell_type": "code",
   "execution_count": null,
   "source": [
    "for i in items:\r\n",
    "    print(i[0], i[1])\r\n"
   ],
   "outputs": [],
   "metadata": {}
  },
  {
   "cell_type": "code",
   "execution_count": null,
   "source": [
    "items[0][1]"
   ],
   "outputs": [],
   "metadata": {}
  },
  {
   "cell_type": "code",
   "execution_count": null,
   "source": [],
   "outputs": [],
   "metadata": {}
  },
  {
   "cell_type": "code",
   "execution_count": null,
   "source": [
    "import validators"
   ],
   "outputs": [],
   "metadata": {}
  },
  {
   "cell_type": "code",
   "execution_count": null,
   "source": [
    "filepath_or_buffer = \"https://bi.s3.es.gov.br/covid19/MICRODADOS.csv\""
   ],
   "outputs": [],
   "metadata": {}
  },
  {
   "cell_type": "code",
   "execution_count": null,
   "source": [
    "if validators.url(items[0][1]):\r\n",
    "    print(items[0][0])"
   ],
   "outputs": [],
   "metadata": {}
  },
  {
   "cell_type": "code",
   "execution_count": null,
   "source": [
    "if validators.url(filepath_or_buffer):\r\n",
    "    print(filepath_or_buffer)"
   ],
   "outputs": [],
   "metadata": {}
  },
  {
   "cell_type": "code",
   "execution_count": null,
   "source": [
    "filepath_or_buffer"
   ],
   "outputs": [],
   "metadata": {}
  },
  {
   "cell_type": "code",
   "execution_count": null,
   "source": [
    "_PARAMS = {\r\n",
    "    \"filepath_or_buffer\": filepath_or_buffer,\r\n",
    "    \"usecols\": None,\r\n",
    "    \"sep\": ';',\r\n",
    "    \"nrows\": None,\r\n",
    "    \"encoding\": 'utf-8',\r\n",
    "    \"warn_bad_lines\": True,\r\n",
    "    \"error_bad_lines\": True,\r\n",
    "    \"parse_dates\": True,\r\n",
    "    \"dtype\": None,\r\n",
    "}\r\n",
    "dataset = pd.read_csv(**_PARAMS)"
   ],
   "outputs": [],
   "metadata": {}
  },
  {
   "cell_type": "code",
   "execution_count": null,
   "source": [
    "dataset"
   ],
   "outputs": [],
   "metadata": {}
  },
  {
   "cell_type": "markdown",
   "source": [
    "> Dicionário de Dados"
   ],
   "metadata": {}
  },
  {
   "cell_type": "code",
   "execution_count": null,
   "source": [
    "# from IPython.display import Markdown, display\r\n",
    "\"\"\" \r\n",
    "display(\r\n",
    "    Markdown(\r\n",
    "        open(os.path.join(DATADIR + DATADIC), \r\n",
    "             encoding=\"utf-8\").read())) \r\n",
    "\"\"\""
   ],
   "outputs": [],
   "metadata": {}
  },
  {
   "cell_type": "code",
   "execution_count": null,
   "source": [
    "df.isna().sum()"
   ],
   "outputs": [],
   "metadata": {}
  },
  {
   "cell_type": "code",
   "execution_count": null,
   "source": [
    "df.to_pickle(DATADIR + 'df.pkl')"
   ],
   "outputs": [],
   "metadata": {}
  },
  {
   "cell_type": "code",
   "execution_count": 1,
   "source": [
    "import vups"
   ],
   "outputs": [],
   "metadata": {}
  },
  {
   "cell_type": "code",
   "execution_count": 2,
   "source": [
    "arrecadacao = vups.datasets.arrecadacao()"
   ],
   "outputs": [
    {
     "output_type": "error",
     "ename": "TypeError",
     "evalue": "stat: path should be string, bytes, os.PathLike or integer, not list",
     "traceback": [
      "\u001b[1;31m---------------------------------------------------------------------------\u001b[0m",
      "\u001b[1;31mTypeError\u001b[0m                                 Traceback (most recent call last)",
      "\u001b[1;32m<ipython-input-2-aaf89446d2ec>\u001b[0m in \u001b[0;36m<module>\u001b[1;34m\u001b[0m\n\u001b[1;32m----> 1\u001b[1;33m \u001b[0marrecadacao\u001b[0m \u001b[1;33m=\u001b[0m \u001b[0mvups\u001b[0m\u001b[1;33m.\u001b[0m\u001b[0mdatasets\u001b[0m\u001b[1;33m.\u001b[0m\u001b[0marrecadacao\u001b[0m\u001b[1;33m(\u001b[0m\u001b[1;33m)\u001b[0m\u001b[1;33m\u001b[0m\u001b[1;33m\u001b[0m\u001b[0m\n\u001b[0m",
      "\u001b[1;32mc:\\Users\\ulp\\Documents\\GitHub\\VUPS-MentoriaDSA2021\\app\\home\\vups\\__init__.py\u001b[0m in \u001b[0;36marrecadacao\u001b[1;34m(columns, nrows, dtype)\u001b[0m\n\u001b[0;32m    352\u001b[0m \u001b[1;33m\u001b[0m\u001b[0m\n\u001b[0;32m    353\u001b[0m \u001b[1;33m\u001b[0m\u001b[0m\n\u001b[1;32m--> 354\u001b[1;33m         \u001b[1;32mif\u001b[0m \u001b[0mos\u001b[0m\u001b[1;33m.\u001b[0m\u001b[0mpath\u001b[0m\u001b[1;33m.\u001b[0m\u001b[0mexists\u001b[0m\u001b[1;33m(\u001b[0m\u001b[0mfilepath_pqt\u001b[0m\u001b[1;33m)\u001b[0m\u001b[1;33m:\u001b[0m\u001b[1;33m\u001b[0m\u001b[1;33m\u001b[0m\u001b[0m\n\u001b[0m\u001b[0;32m    355\u001b[0m             \u001b[0mfilepath_or_buffer\u001b[0m \u001b[1;33m=\u001b[0m \u001b[0mfilepath_pqt\u001b[0m\u001b[1;33m\u001b[0m\u001b[1;33m\u001b[0m\u001b[0m\n\u001b[0;32m    356\u001b[0m         \u001b[1;32melif\u001b[0m \u001b[0mos\u001b[0m\u001b[1;33m.\u001b[0m\u001b[0mpath\u001b[0m\u001b[1;33m.\u001b[0m\u001b[0mexists\u001b[0m\u001b[1;33m(\u001b[0m\u001b[0mfilepath_csv\u001b[0m\u001b[1;33m)\u001b[0m\u001b[1;33m:\u001b[0m\u001b[1;33m\u001b[0m\u001b[1;33m\u001b[0m\u001b[0m\n",
      "\u001b[1;32m~\\anaconda3\\lib\\genericpath.py\u001b[0m in \u001b[0;36mexists\u001b[1;34m(path)\u001b[0m\n\u001b[0;32m     17\u001b[0m     \u001b[1;34m\"\"\"Test whether a path exists.  Returns False for broken symbolic links\"\"\"\u001b[0m\u001b[1;33m\u001b[0m\u001b[1;33m\u001b[0m\u001b[0m\n\u001b[0;32m     18\u001b[0m     \u001b[1;32mtry\u001b[0m\u001b[1;33m:\u001b[0m\u001b[1;33m\u001b[0m\u001b[1;33m\u001b[0m\u001b[0m\n\u001b[1;32m---> 19\u001b[1;33m         \u001b[0mos\u001b[0m\u001b[1;33m.\u001b[0m\u001b[0mstat\u001b[0m\u001b[1;33m(\u001b[0m\u001b[0mpath\u001b[0m\u001b[1;33m)\u001b[0m\u001b[1;33m\u001b[0m\u001b[1;33m\u001b[0m\u001b[0m\n\u001b[0m\u001b[0;32m     20\u001b[0m     \u001b[1;32mexcept\u001b[0m \u001b[1;33m(\u001b[0m\u001b[0mOSError\u001b[0m\u001b[1;33m,\u001b[0m \u001b[0mValueError\u001b[0m\u001b[1;33m)\u001b[0m\u001b[1;33m:\u001b[0m\u001b[1;33m\u001b[0m\u001b[1;33m\u001b[0m\u001b[0m\n\u001b[0;32m     21\u001b[0m         \u001b[1;32mreturn\u001b[0m \u001b[1;32mFalse\u001b[0m\u001b[1;33m\u001b[0m\u001b[1;33m\u001b[0m\u001b[0m\n",
      "\u001b[1;31mTypeError\u001b[0m: stat: path should be string, bytes, os.PathLike or integer, not list"
     ]
    }
   ],
   "metadata": {}
  },
  {
   "cell_type": "code",
   "execution_count": 3,
   "source": [
    "from vups import const"
   ],
   "outputs": [],
   "metadata": {}
  },
  {
   "cell_type": "code",
   "execution_count": 23,
   "source": [
    "name = const.ARRECADACAO.get(\"NAME\")\r\n",
    "\r\n",
    "partial_path    = os.path.join(const.DATADIR, name)\r\n",
    "filepath_pqt    = {\"filepath\": {\"ext\": \"{}.parquet\".format(partial_path)}}\r\n",
    "teste = list(filepath_pqt.get(\"filepath\").items());"
   ],
   "outputs": [],
   "metadata": {}
  },
  {
   "cell_type": "code",
   "execution_count": 26,
   "source": [
    "teste[0][1]"
   ],
   "outputs": [
    {
     "output_type": "execute_result",
     "data": {
      "text/plain": [
       "'c:\\\\Users\\\\ulp\\\\Documents\\\\GitHub\\\\VUPS-MentoriaDSA2021\\\\app\\\\home\\\\data\\\\ARRECADACAO.parquet'"
      ]
     },
     "metadata": {},
     "execution_count": 26
    }
   ],
   "metadata": {}
  },
  {
   "cell_type": "code",
   "execution_count": null,
   "source": [
    "filepath_csv    = {\"filepath\": {\"ext\": \"{}.csv\".format(partial_path)}}\r\n",
    "# filepath_csv    = \"{}.csv\".format(partial_path)\r\n",
    "filelist_url    = list(const.ARRECADACAO.get(\"URLS\").items())"
   ],
   "outputs": [],
   "metadata": {}
  }
 ],
 "metadata": {
  "interpreter": {
   "hash": "e9aa689edf4e3253ce592293dcc69d32d3ef370148852f3558b2d441f5963c91"
  },
  "kernelspec": {
   "name": "python3",
   "display_name": "Python 3.8.8 64-bit ('base': conda)"
  },
  "language_info": {
   "name": "python",
   "version": "3.8.8",
   "mimetype": "text/x-python",
   "codemirror_mode": {
    "name": "ipython",
    "version": 3
   },
   "pygments_lexer": "ipython3",
   "nbconvert_exporter": "python",
   "file_extension": ".py"
  }
 },
 "nbformat": 4,
 "nbformat_minor": 5
}