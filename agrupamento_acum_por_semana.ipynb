{
 "cells": [
  {
   "cell_type": "code",
   "execution_count": 4,
   "metadata": {},
   "outputs": [
    {
     "ename": "ModuleNotFoundError",
     "evalue": "No module named 'flask_login'",
     "output_type": "error",
     "traceback": [
      "\u001b[0;31m---------------------------------------------------------------------------\u001b[0m",
      "\u001b[0;31mModuleNotFoundError\u001b[0m                       Traceback (most recent call last)",
      "\u001b[0;32m<ipython-input-4-66bdb04b8303>\u001b[0m in \u001b[0;36m<module>\u001b[0;34m()\u001b[0m\n\u001b[1;32m      3\u001b[0m \u001b[0;32mimport\u001b[0m \u001b[0mdatetime\u001b[0m\u001b[0;34m\u001b[0m\u001b[0;34m\u001b[0m\u001b[0m\n\u001b[1;32m      4\u001b[0m \u001b[0;34m\u001b[0m\u001b[0m\n\u001b[0;32m----> 5\u001b[0;31m \u001b[0;32mfrom\u001b[0m \u001b[0mapp\u001b[0m\u001b[0;34m.\u001b[0m\u001b[0mhome\u001b[0m \u001b[0;32mimport\u001b[0m \u001b[0mvups\u001b[0m\u001b[0;34m\u001b[0m\u001b[0;34m\u001b[0m\u001b[0m\n\u001b[0m",
      "\u001b[0;32m~/Documents/GitHub/VUPS-MentoriaDSA2021/app/__init__.py\u001b[0m in \u001b[0;36m<module>\u001b[0;34m()\u001b[0m\n\u001b[1;32m      5\u001b[0m \u001b[0;34m\u001b[0m\u001b[0m\n\u001b[1;32m      6\u001b[0m \u001b[0;32mfrom\u001b[0m \u001b[0mflask\u001b[0m \u001b[0;32mimport\u001b[0m \u001b[0mFlask\u001b[0m\u001b[0;34m,\u001b[0m \u001b[0murl_for\u001b[0m\u001b[0;34m\u001b[0m\u001b[0;34m\u001b[0m\u001b[0m\n\u001b[0;32m----> 7\u001b[0;31m \u001b[0;32mfrom\u001b[0m \u001b[0mflask_login\u001b[0m \u001b[0;32mimport\u001b[0m \u001b[0mLoginManager\u001b[0m\u001b[0;34m\u001b[0m\u001b[0;34m\u001b[0m\u001b[0m\n\u001b[0m\u001b[1;32m      8\u001b[0m \u001b[0;32mfrom\u001b[0m \u001b[0mflask_sqlalchemy\u001b[0m \u001b[0;32mimport\u001b[0m \u001b[0mSQLAlchemy\u001b[0m\u001b[0;34m\u001b[0m\u001b[0;34m\u001b[0m\u001b[0m\n\u001b[1;32m      9\u001b[0m \u001b[0;32mfrom\u001b[0m \u001b[0mimportlib\u001b[0m \u001b[0;32mimport\u001b[0m \u001b[0mimport_module\u001b[0m\u001b[0;34m\u001b[0m\u001b[0;34m\u001b[0m\u001b[0m\n",
      "\u001b[0;31mModuleNotFoundError\u001b[0m: No module named 'flask_login'"
     ]
    }
   ],
   "source": [
    "import pandas as pd\n",
    "import numpy as np\n",
    "import datetime\n",
    "\n",
    "from app.home import vups"
   ]
  },
  {
   "cell_type": "code",
   "execution_count": null,
   "metadata": {},
   "outputs": [],
   "source": [
    "# --------- FILTRANDO DF PARA CIDADES DO ES ---------\n",
    "    filtro_es = ['AGUIA BRANCA', 'ALTO RIO NOVO', 'ARACRUZ', 'BAIXO GUANDU',\n",
    "       'COLATINA', 'GOVERNADOR LINDENBERG', 'IBIRACU', 'JOAO NEIVA',\n",
    "       'LINHARES', 'MANTENOPOLIS', 'MARILANDIA', 'PANCAS', 'RIO BANANAL',\n",
    "       'SAO DOMINGOS DO NORTE', 'SAO GABRIEL DA PALHA',\n",
    "       'SAO ROQUE DO CANAA', 'SOORETAMA', 'VILA VALERIO',\n",
    "       'AFONSO CLAUDIO', 'BREJETUBA', 'CARIACICA', 'CONCEICAO DO CASTELO',\n",
    "       'DOMINGOS MARTINS', 'FUNDAO', 'GUARAPARI', 'IBATIBA', 'ITAGUACU',\n",
    "       'ITARANA', 'LARANJA DA TERRA', 'MARECHAL FLORIANO',\n",
    "       'SANTA LEOPOLDINA', 'SANTA MARIA DE JETIBA', 'SANTA TERESA',\n",
    "       'SERRA', 'VENDA NOVA DO IMIGRANTE', 'VIANA', 'VILA VELHA',\n",
    "       'VITORIA', 'AGUA DOCE DO NORTE', 'BARRA DE SAO FRANCISCO',\n",
    "       'BOA ESPERANCA', 'CONCEICAO DA BARRA', 'ECOPORANGA', 'JAGUARE',\n",
    "       'MONTANHA', 'MUCURICI', 'NOVA VENECIA', 'PEDRO CANARIO',\n",
    "       'PINHEIROS', 'PONTO BELO', 'SAO MATEUS', 'VILA PAVAO', 'ALEGRE',\n",
    "       'ALFREDO CHAVES', 'ANCHIETA', 'APIACA', 'ATILIO VIVACQUA',\n",
    "       'BOM JESUS DO NORTE', 'CACHOEIRO DE ITAPEMIRIM', 'CASTELO',\n",
    "       'DIVINO DE SAO LOURENCO', 'DORES DO RIO PRETO', 'GUACUI',\n",
    "       'IBITIRAMA', 'ICONHA', 'IRUPI', 'ITAPEMIRIM', 'IUNA',\n",
    "       'JERONIMO MONTEIRO', 'MARATAIZES', 'MIMOSO DO SUL', 'MUNIZ FREIRE',\n",
    "       'MUQUI', 'PIUMA', 'PRESIDENTE KENNEDY', 'RIO NOVO DO SUL',\n",
    "       'SAO JOSE DO CALCADO', 'VARGEM ALTA']\n",
    "\n",
    "    # --------- BUSCANDO DF ---------\n",
    "    df = datasets.microdados(columns=COLUMNS, field='Municipio', value=filtro_es)\n",
    "    # df = datasets.microdados(columns=COLUMNS)\n",
    "    # df = df[df['Municipio']==filtro_es]\n",
    "\n",
    "    # --------- CRIANDO DF_CALENDAR_NEW(CASOS NOVOS) E DF_CALENDAR_CLOSED(CASOS FECHADOS) ---------\n",
    "    #df_calendar_new -> filtrar pacientes com covid confirmados; groupby(Municipio, DataDiagnostico); contar ocorrencias\n",
    "    df_calendar_new = df[df['Classificacao']=='Confirmados'].groupby(['Municipio','DataDiagnostico'])['DataCadastro'].size().reset_index(name='count_new')\n",
    "\n",
    "    #renomendo coluna DataDiagnostico\n",
    "    df_calendar_new.rename(columns={'DataDiagnostico': 'date'}, inplace=True)\n",
    "\n",
    "    #transformando o dtype na coluna 'date' para datetime\n",
    "    df_calendar_new['date'] = df_calendar_new['date'].astype('datetime64[ns]')\n",
    "\n",
    "    #df_calendar_closed -> filtrar pacientes com covid confirmados; groupby(Municipio, DataEncerramento); contar ocorrencias\n",
    "    df_calendar_closed = df[df['Classificacao']=='Confirmados'].groupby(['Municipio','DataEncerramento'])['DataCadastro'].size().reset_index(name='count_closed')\n",
    "\n",
    "    #--- ATENCAO!!! --- DataEncerramento NAO esta sendo transformada automaticamente, por isso vamos forçar essa transformação aqui\n",
    "    #após corrigido, retirar esse pedaço de código\n",
    "    #transformando DataEncerramento em datatype\n",
    "    #df_calendar_closed['DataEncerramento'] = pd.to_datetime(df_calendar_closed['DataEncerramento'], format='%Y-%m-%d')\n",
    "\n",
    "    #transformando valores de casos fechados em negativo\n",
    "    df_calendar_closed['count_closed'] = df_calendar_closed['count_closed']*-1\n",
    "\n",
    "    #renomendo coluna DataEncerramento\n",
    "    df_calendar_closed.rename(columns={'DataEncerramento': 'date'}, inplace=True)\n",
    "\n",
    "    #transformando o dtype na coluna 'date' para datetime\n",
    "    df_calendar_closed['date'] = df_calendar_closed['date'].astype('datetime64[ns]')\n",
    "\n",
    "    # --------- MERGE ENTRE OS DOIS DFs CRIADOS ---------\n",
    "    df_calendar = pd.merge(df_calendar_new, df_calendar_closed, how='outer', left_on=['Municipio', 'date'], right_on=['Municipio', 'date'])\n",
    "\n",
    "    # --------- TRABLHANDO O NOVO DF ---------\n",
    "    #organizando por cidade/data\n",
    "    df_calendar = df_calendar.sort_values([\"Municipio\", \"date\"]).reset_index()\n",
    "\n",
    "    #preenchendo Nan com zero(0)\n",
    "    for i in ['count_new', 'count_closed']:\n",
    "        df_calendar[i] = df_calendar[i].fillna(0)\n",
    "\n",
    "    #criando coluna acumulado por cidade\n",
    "    municipios = df_calendar['Municipio'].unique()\n",
    "    acum = []\n",
    "    for idx, i in enumerate(df_calendar['date']):\n",
    "        if df_calendar['Municipio'].iloc[idx] == df_calendar['Municipio'].iloc[idx-1]:\n",
    "            try:\n",
    "                acum.append(acum[idx-1] + df_calendar['count_new'].iloc[idx] + df_calendar['count_closed'].iloc[idx])\n",
    "            except:\n",
    "                acum.append(df_calendar['count_new'].iloc[idx] + df_calendar['count_closed'].iloc[idx])\n",
    "        else:\n",
    "            acum.append(0 + df_calendar['count_new'].iloc[idx] + df_calendar['count_closed'].iloc[idx])\n",
    "\n",
    "    df_calendar['acum'] = acum\n",
    "\n",
    "    #criando colunas de dia/semana/dia_da_semana/mes/ano\n",
    "    df_calendar['day'] = [i.day for i in df_calendar['date']]\n",
    "    df_calendar['week'] = [i.week for i in df_calendar['date']]\n",
    "    df_calendar['weekday'] = [i.weekday() for i in df_calendar['date']]\n",
    "    df_calendar['month'] = [i.month for i in df_calendar['date']]\n",
    "    df_calendar['year'] = [i.year for i in df_calendar['date']]"
   ]
  },
  {
   "cell_type": "code",
   "execution_count": null,
   "metadata": {},
   "outputs": [],
   "source": [
    "df_acum_por_semana = df_calendar.groupby()"
   ]
  }
 ],
 "metadata": {
  "kernelspec": {
   "display_name": "Python 3",
   "language": "python",
   "name": "python3"
  },
  "language_info": {
   "codemirror_mode": {
    "name": "ipython",
    "version": 3
   },
   "file_extension": ".py",
   "mimetype": "text/x-python",
   "name": "python",
   "nbconvert_exporter": "python",
   "pygments_lexer": "ipython3",
   "version": "3.6.8"
  }
 },
 "nbformat": 4,
 "nbformat_minor": 2
}
