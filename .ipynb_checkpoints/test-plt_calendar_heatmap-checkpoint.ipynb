{
 "cells": [
  {
   "cell_type": "code",
   "execution_count": 8,
   "metadata": {},
   "outputs": [],
   "source": [
    "from lib import vups"
   ]
  },
  {
   "cell_type": "code",
   "execution_count": 9,
   "metadata": {},
   "outputs": [],
   "source": [
    "import pandas as pd"
   ]
  },
  {
   "cell_type": "code",
   "execution_count": 128,
   "metadata": {},
   "outputs": [],
   "source": [
    "cidade='AFONSO CLAUDIO'\n",
    "tipo= 'NOVOS CASOS'\n",
    "mes_analise= 1\n",
    "ano_analise= 2021"
   ]
  },
  {
   "cell_type": "code",
   "execution_count": 88,
   "metadata": {},
   "outputs": [],
   "source": [
    "# --------- BUSCANDO DF ---------\n",
    "df = vups.datasets.microdados()"
   ]
  },
  {
   "cell_type": "code",
   "execution_count": 129,
   "metadata": {},
   "outputs": [],
   "source": [
    "\n",
    "# --------- FILTRANDO DF PARA CIDADES DO ES ---------\n",
    "filtro_es = ['AGUIA BRANCA', 'ALTO RIO NOVO', 'ARACRUZ', 'BAIXO GUANDU',\n",
    "    'COLATINA', 'GOVERNADOR LINDENBERG', 'IBIRACU', 'JOAO NEIVA',\n",
    "    'LINHARES', 'MANTENOPOLIS', 'MARILANDIA', 'PANCAS', 'RIO BANANAL',\n",
    "    'SAO DOMINGOS DO NORTE', 'SAO GABRIEL DA PALHA',\n",
    "    'SAO ROQUE DO CANAA', 'SOORETAMA', 'VILA VALERIO',\n",
    "    'AFONSO CLAUDIO', 'BREJETUBA', 'CARIACICA', 'CONCEICAO DO CASTELO',\n",
    "    'DOMINGOS MARTINS', 'FUNDAO', 'GUARAPARI', 'IBATIBA', 'ITAGUACU',\n",
    "    'ITARANA', 'LARANJA DA TERRA', 'MARECHAL FLORIANO',\n",
    "    'SANTA LEOPOLDINA', 'SANTA MARIA DE JETIBA', 'SANTA TERESA',\n",
    "    'SERRA', 'VENDA NOVA DO IMIGRANTE', 'VIANA', 'VILA VELHA',\n",
    "    'VITORIA', 'AGUA DOCE DO NORTE', 'BARRA DE SAO FRANCISCO',\n",
    "    'BOA ESPERANCA', 'CONCEICAO DA BARRA', 'ECOPORANGA', 'JAGUARE',\n",
    "    'MONTANHA', 'MUCURICI', 'NOVA VENECIA', 'PEDRO CANARIO',\n",
    "    'PINHEIROS', 'PONTO BELO', 'SAO MATEUS', 'VILA PAVAO', 'ALEGRE',\n",
    "    'ALFREDO CHAVES', 'ANCHIETA', 'APIACA', 'ATILIO VIVACQUA',\n",
    "    'BOM JESUS DO NORTE', 'CACHOEIRO DE ITAPEMIRIM', 'CASTELO',\n",
    "    'DIVINO DE SAO LOURENCO', 'DORES DO RIO PRETO', 'GUACUI',\n",
    "    'IBITIRAMA', 'ICONHA', 'IRUPI', 'ITAPEMIRIM', 'IUNA',\n",
    "    'JERONIMO MONTEIRO', 'MARATAIZES', 'MIMOSO DO SUL', 'MUNIZ FREIRE',\n",
    "    'MUQUI', 'PIUMA', 'PRESIDENTE KENNEDY', 'RIO NOVO DO SUL',\n",
    "    'SAO JOSE DO CALCADO', 'VARGEM ALTA']\n",
    "df = df[df.Municipio.isin(filtro_es)]"
   ]
  },
  {
   "cell_type": "code",
   "execution_count": 130,
   "metadata": {},
   "outputs": [
    {
     "data": {
      "text/html": [
       "<div>\n",
       "<style scoped>\n",
       "    .dataframe tbody tr th:only-of-type {\n",
       "        vertical-align: middle;\n",
       "    }\n",
       "\n",
       "    .dataframe tbody tr th {\n",
       "        vertical-align: top;\n",
       "    }\n",
       "\n",
       "    .dataframe thead th {\n",
       "        text-align: right;\n",
       "    }\n",
       "</style>\n",
       "<table border=\"1\" class=\"dataframe\">\n",
       "  <thead>\n",
       "    <tr style=\"text-align: right;\">\n",
       "      <th></th>\n",
       "      <th>Municipio</th>\n",
       "      <th>DataDiagnostico</th>\n",
       "      <th>count_new</th>\n",
       "    </tr>\n",
       "  </thead>\n",
       "  <tbody>\n",
       "    <tr>\n",
       "      <th>0</th>\n",
       "      <td>AFONSO CLAUDIO</td>\n",
       "      <td>2020-03-17</td>\n",
       "      <td>2</td>\n",
       "    </tr>\n",
       "    <tr>\n",
       "      <th>1</th>\n",
       "      <td>AFONSO CLAUDIO</td>\n",
       "      <td>2020-04-08</td>\n",
       "      <td>1</td>\n",
       "    </tr>\n",
       "    <tr>\n",
       "      <th>2</th>\n",
       "      <td>AFONSO CLAUDIO</td>\n",
       "      <td>2020-04-10</td>\n",
       "      <td>1</td>\n",
       "    </tr>\n",
       "    <tr>\n",
       "      <th>3</th>\n",
       "      <td>AFONSO CLAUDIO</td>\n",
       "      <td>2020-04-11</td>\n",
       "      <td>1</td>\n",
       "    </tr>\n",
       "    <tr>\n",
       "      <th>4</th>\n",
       "      <td>AFONSO CLAUDIO</td>\n",
       "      <td>2020-04-13</td>\n",
       "      <td>1</td>\n",
       "    </tr>\n",
       "  </tbody>\n",
       "</table>\n",
       "</div>"
      ],
      "text/plain": [
       "        Municipio DataDiagnostico  count_new\n",
       "0  AFONSO CLAUDIO      2020-03-17          2\n",
       "1  AFONSO CLAUDIO      2020-04-08          1\n",
       "2  AFONSO CLAUDIO      2020-04-10          1\n",
       "3  AFONSO CLAUDIO      2020-04-11          1\n",
       "4  AFONSO CLAUDIO      2020-04-13          1"
      ]
     },
     "execution_count": 130,
     "metadata": {},
     "output_type": "execute_result"
    }
   ],
   "source": [
    "\n",
    "# --------- CRIANDO DF_CALENDAR_NEW (CASOS NOVOS) E DF_CALENDAR_CLOSED (CASOS FECHADOS) ---------\n",
    "#df_calendar_new -> filtrar pacientes com covid confirmados; groupby(Municipio, DataDiagnostico); contar ocorrencias\n",
    "\n",
    "df_calendar_new = df[df['Classificacao']=='Confirmados'].groupby(['Municipio','DataDiagnostico'])['DataCadastro'].size().reset_index(name='count_new')\n",
    "df_calendar_new.head()"
   ]
  },
  {
   "cell_type": "code",
   "execution_count": 131,
   "metadata": {},
   "outputs": [
    {
     "data": {
      "text/html": [
       "<div>\n",
       "<style scoped>\n",
       "    .dataframe tbody tr th:only-of-type {\n",
       "        vertical-align: middle;\n",
       "    }\n",
       "\n",
       "    .dataframe tbody tr th {\n",
       "        vertical-align: top;\n",
       "    }\n",
       "\n",
       "    .dataframe thead th {\n",
       "        text-align: right;\n",
       "    }\n",
       "</style>\n",
       "<table border=\"1\" class=\"dataframe\">\n",
       "  <thead>\n",
       "    <tr style=\"text-align: right;\">\n",
       "      <th></th>\n",
       "      <th>Municipio</th>\n",
       "      <th>date</th>\n",
       "      <th>count_new</th>\n",
       "    </tr>\n",
       "  </thead>\n",
       "  <tbody>\n",
       "    <tr>\n",
       "      <th>0</th>\n",
       "      <td>AFONSO CLAUDIO</td>\n",
       "      <td>2020-03-17</td>\n",
       "      <td>2</td>\n",
       "    </tr>\n",
       "    <tr>\n",
       "      <th>1</th>\n",
       "      <td>AFONSO CLAUDIO</td>\n",
       "      <td>2020-04-08</td>\n",
       "      <td>1</td>\n",
       "    </tr>\n",
       "    <tr>\n",
       "      <th>2</th>\n",
       "      <td>AFONSO CLAUDIO</td>\n",
       "      <td>2020-04-10</td>\n",
       "      <td>1</td>\n",
       "    </tr>\n",
       "    <tr>\n",
       "      <th>3</th>\n",
       "      <td>AFONSO CLAUDIO</td>\n",
       "      <td>2020-04-11</td>\n",
       "      <td>1</td>\n",
       "    </tr>\n",
       "    <tr>\n",
       "      <th>4</th>\n",
       "      <td>AFONSO CLAUDIO</td>\n",
       "      <td>2020-04-13</td>\n",
       "      <td>1</td>\n",
       "    </tr>\n",
       "  </tbody>\n",
       "</table>\n",
       "</div>"
      ],
      "text/plain": [
       "        Municipio       date  count_new\n",
       "0  AFONSO CLAUDIO 2020-03-17          2\n",
       "1  AFONSO CLAUDIO 2020-04-08          1\n",
       "2  AFONSO CLAUDIO 2020-04-10          1\n",
       "3  AFONSO CLAUDIO 2020-04-11          1\n",
       "4  AFONSO CLAUDIO 2020-04-13          1"
      ]
     },
     "execution_count": 131,
     "metadata": {},
     "output_type": "execute_result"
    }
   ],
   "source": [
    "#renomeando coluna DataDiagnostico\n",
    "df_calendar_new.rename(columns={'DataDiagnostico': 'date'}, inplace=True)\n",
    "df_calendar_new.head()"
   ]
  },
  {
   "cell_type": "code",
   "execution_count": 132,
   "metadata": {},
   "outputs": [
    {
     "data": {
      "text/html": [
       "<div>\n",
       "<style scoped>\n",
       "    .dataframe tbody tr th:only-of-type {\n",
       "        vertical-align: middle;\n",
       "    }\n",
       "\n",
       "    .dataframe tbody tr th {\n",
       "        vertical-align: top;\n",
       "    }\n",
       "\n",
       "    .dataframe thead th {\n",
       "        text-align: right;\n",
       "    }\n",
       "</style>\n",
       "<table border=\"1\" class=\"dataframe\">\n",
       "  <thead>\n",
       "    <tr style=\"text-align: right;\">\n",
       "      <th></th>\n",
       "      <th>Municipio</th>\n",
       "      <th>DataEncerramento</th>\n",
       "      <th>count_closed</th>\n",
       "    </tr>\n",
       "  </thead>\n",
       "  <tbody>\n",
       "    <tr>\n",
       "      <th>0</th>\n",
       "      <td>AFONSO CLAUDIO</td>\n",
       "      <td>2020-04-14</td>\n",
       "      <td>1</td>\n",
       "    </tr>\n",
       "    <tr>\n",
       "      <th>1</th>\n",
       "      <td>AFONSO CLAUDIO</td>\n",
       "      <td>2020-04-15</td>\n",
       "      <td>1</td>\n",
       "    </tr>\n",
       "    <tr>\n",
       "      <th>2</th>\n",
       "      <td>AFONSO CLAUDIO</td>\n",
       "      <td>2020-04-22</td>\n",
       "      <td>1</td>\n",
       "    </tr>\n",
       "    <tr>\n",
       "      <th>3</th>\n",
       "      <td>AFONSO CLAUDIO</td>\n",
       "      <td>2020-04-24</td>\n",
       "      <td>1</td>\n",
       "    </tr>\n",
       "    <tr>\n",
       "      <th>4</th>\n",
       "      <td>AFONSO CLAUDIO</td>\n",
       "      <td>2020-04-29</td>\n",
       "      <td>3</td>\n",
       "    </tr>\n",
       "  </tbody>\n",
       "</table>\n",
       "</div>"
      ],
      "text/plain": [
       "        Municipio DataEncerramento  count_closed\n",
       "0  AFONSO CLAUDIO       2020-04-14             1\n",
       "1  AFONSO CLAUDIO       2020-04-15             1\n",
       "2  AFONSO CLAUDIO       2020-04-22             1\n",
       "3  AFONSO CLAUDIO       2020-04-24             1\n",
       "4  AFONSO CLAUDIO       2020-04-29             3"
      ]
     },
     "execution_count": 132,
     "metadata": {},
     "output_type": "execute_result"
    }
   ],
   "source": [
    "#df_calendar_closed -> filtrar pacientes com covid confirmados; groupby(Municipio, DataEncerramento); contar ocorrencias\n",
    "df_calendar_closed = df[df['Classificacao']=='Confirmados'].groupby(['Municipio','DataEncerramento'])['DataCadastro'].size().reset_index(name='count_closed')\n",
    "df_calendar_closed.head()"
   ]
  },
  {
   "cell_type": "code",
   "execution_count": 133,
   "metadata": {},
   "outputs": [],
   "source": [
    "\n",
    "#--- ATENCAO!!! --- DataEncerramento NAO esta sendo transformada automaticamente, por isso vamos forçar essa transformação aqui\n",
    "#após corrigido, retirar esse pedaço de código\n",
    "#transformando DataEncerramento em datatype\n",
    "#df_calendar_closed['DataEncerramento'] = pd.to_datetime(df_calendar_closed['DataEncerramento'], format='%Y-%m-%d')\n"
   ]
  },
  {
   "cell_type": "code",
   "execution_count": 134,
   "metadata": {},
   "outputs": [],
   "source": [
    "#transformando valores de casos fechados em negativo\n",
    "df_calendar_closed['count_closed'] = df_calendar_closed['count_closed']*-1\n"
   ]
  },
  {
   "cell_type": "code",
   "execution_count": 135,
   "metadata": {},
   "outputs": [
    {
     "data": {
      "text/html": [
       "<div>\n",
       "<style scoped>\n",
       "    .dataframe tbody tr th:only-of-type {\n",
       "        vertical-align: middle;\n",
       "    }\n",
       "\n",
       "    .dataframe tbody tr th {\n",
       "        vertical-align: top;\n",
       "    }\n",
       "\n",
       "    .dataframe thead th {\n",
       "        text-align: right;\n",
       "    }\n",
       "</style>\n",
       "<table border=\"1\" class=\"dataframe\">\n",
       "  <thead>\n",
       "    <tr style=\"text-align: right;\">\n",
       "      <th></th>\n",
       "      <th>Municipio</th>\n",
       "      <th>DataEncerramento</th>\n",
       "      <th>count_closed</th>\n",
       "    </tr>\n",
       "  </thead>\n",
       "  <tbody>\n",
       "    <tr>\n",
       "      <th>0</th>\n",
       "      <td>AFONSO CLAUDIO</td>\n",
       "      <td>2020-04-14</td>\n",
       "      <td>-1</td>\n",
       "    </tr>\n",
       "    <tr>\n",
       "      <th>1</th>\n",
       "      <td>AFONSO CLAUDIO</td>\n",
       "      <td>2020-04-15</td>\n",
       "      <td>-1</td>\n",
       "    </tr>\n",
       "    <tr>\n",
       "      <th>2</th>\n",
       "      <td>AFONSO CLAUDIO</td>\n",
       "      <td>2020-04-22</td>\n",
       "      <td>-1</td>\n",
       "    </tr>\n",
       "    <tr>\n",
       "      <th>3</th>\n",
       "      <td>AFONSO CLAUDIO</td>\n",
       "      <td>2020-04-24</td>\n",
       "      <td>-1</td>\n",
       "    </tr>\n",
       "    <tr>\n",
       "      <th>4</th>\n",
       "      <td>AFONSO CLAUDIO</td>\n",
       "      <td>2020-04-29</td>\n",
       "      <td>-3</td>\n",
       "    </tr>\n",
       "  </tbody>\n",
       "</table>\n",
       "</div>"
      ],
      "text/plain": [
       "        Municipio DataEncerramento  count_closed\n",
       "0  AFONSO CLAUDIO       2020-04-14            -1\n",
       "1  AFONSO CLAUDIO       2020-04-15            -1\n",
       "2  AFONSO CLAUDIO       2020-04-22            -1\n",
       "3  AFONSO CLAUDIO       2020-04-24            -1\n",
       "4  AFONSO CLAUDIO       2020-04-29            -3"
      ]
     },
     "execution_count": 135,
     "metadata": {},
     "output_type": "execute_result"
    }
   ],
   "source": [
    "df_calendar_closed.head()"
   ]
  },
  {
   "cell_type": "code",
   "execution_count": 136,
   "metadata": {},
   "outputs": [],
   "source": [
    "#renomendo coluna DataEncerramento\n",
    "df_calendar_closed.rename(columns={'DataEncerramento': 'date'}, inplace=True)\n"
   ]
  },
  {
   "cell_type": "code",
   "execution_count": 137,
   "metadata": {},
   "outputs": [
    {
     "data": {
      "text/html": [
       "<div>\n",
       "<style scoped>\n",
       "    .dataframe tbody tr th:only-of-type {\n",
       "        vertical-align: middle;\n",
       "    }\n",
       "\n",
       "    .dataframe tbody tr th {\n",
       "        vertical-align: top;\n",
       "    }\n",
       "\n",
       "    .dataframe thead th {\n",
       "        text-align: right;\n",
       "    }\n",
       "</style>\n",
       "<table border=\"1\" class=\"dataframe\">\n",
       "  <thead>\n",
       "    <tr style=\"text-align: right;\">\n",
       "      <th></th>\n",
       "      <th>Municipio</th>\n",
       "      <th>date</th>\n",
       "      <th>count_closed</th>\n",
       "    </tr>\n",
       "  </thead>\n",
       "  <tbody>\n",
       "    <tr>\n",
       "      <th>0</th>\n",
       "      <td>AFONSO CLAUDIO</td>\n",
       "      <td>2020-04-14</td>\n",
       "      <td>-1</td>\n",
       "    </tr>\n",
       "    <tr>\n",
       "      <th>1</th>\n",
       "      <td>AFONSO CLAUDIO</td>\n",
       "      <td>2020-04-15</td>\n",
       "      <td>-1</td>\n",
       "    </tr>\n",
       "    <tr>\n",
       "      <th>2</th>\n",
       "      <td>AFONSO CLAUDIO</td>\n",
       "      <td>2020-04-22</td>\n",
       "      <td>-1</td>\n",
       "    </tr>\n",
       "    <tr>\n",
       "      <th>3</th>\n",
       "      <td>AFONSO CLAUDIO</td>\n",
       "      <td>2020-04-24</td>\n",
       "      <td>-1</td>\n",
       "    </tr>\n",
       "    <tr>\n",
       "      <th>4</th>\n",
       "      <td>AFONSO CLAUDIO</td>\n",
       "      <td>2020-04-29</td>\n",
       "      <td>-3</td>\n",
       "    </tr>\n",
       "  </tbody>\n",
       "</table>\n",
       "</div>"
      ],
      "text/plain": [
       "        Municipio        date  count_closed\n",
       "0  AFONSO CLAUDIO  2020-04-14            -1\n",
       "1  AFONSO CLAUDIO  2020-04-15            -1\n",
       "2  AFONSO CLAUDIO  2020-04-22            -1\n",
       "3  AFONSO CLAUDIO  2020-04-24            -1\n",
       "4  AFONSO CLAUDIO  2020-04-29            -3"
      ]
     },
     "execution_count": 137,
     "metadata": {},
     "output_type": "execute_result"
    }
   ],
   "source": [
    "df_calendar_closed.head()"
   ]
  },
  {
   "cell_type": "code",
   "execution_count": 138,
   "metadata": {},
   "outputs": [
    {
     "name": "stdout",
     "output_type": "stream",
     "text": [
      "<class 'pandas.core.frame.DataFrame'>\n",
      "RangeIndex: 30405 entries, 0 to 30404\n",
      "Data columns (total 3 columns):\n",
      "Municipio    30405 non-null category\n",
      "date         30405 non-null datetime64[ns]\n",
      "count_new    30405 non-null int64\n",
      "dtypes: category(1), datetime64[ns](1), int64(1)\n",
      "memory usage: 584.5 KB\n"
     ]
    }
   ],
   "source": [
    "df_calendar_new.info()"
   ]
  },
  {
   "cell_type": "code",
   "execution_count": 139,
   "metadata": {},
   "outputs": [
    {
     "name": "stdout",
     "output_type": "stream",
     "text": [
      "<class 'pandas.core.frame.DataFrame'>\n",
      "RangeIndex: 22366 entries, 0 to 22365\n",
      "Data columns (total 3 columns):\n",
      "Municipio       22366 non-null category\n",
      "date            22366 non-null category\n",
      "count_closed    22366 non-null int64\n",
      "dtypes: category(2), int64(1)\n",
      "memory usage: 336.3 KB\n"
     ]
    }
   ],
   "source": [
    "df_calendar_closed.info()"
   ]
  },
  {
   "cell_type": "code",
   "execution_count": 140,
   "metadata": {},
   "outputs": [],
   "source": [
    "df_calendar_closed['date'] = df_calendar_closed['date'].astype('datetime64[ns]')"
   ]
  },
  {
   "cell_type": "code",
   "execution_count": 141,
   "metadata": {},
   "outputs": [],
   "source": [
    "# --------- MERGE ENTRE OS DOIS DFs CRIADOS ---------\n",
    "df_calendar = pd.merge(\n",
    "    df_calendar_new, \n",
    "    df_calendar_closed, \n",
    "    how ='outer', \n",
    "    left_on  = ['Municipio', 'date'], \n",
    "    right_on = ['Municipio', 'date'])"
   ]
  },
  {
   "cell_type": "code",
   "execution_count": 142,
   "metadata": {},
   "outputs": [],
   "source": [
    "\n",
    "# --------- TRABLHANDO O NOVO DF ---------\n",
    "#organizando por cidade/data\n",
    "df_calendar = df_calendar.sort_values([\"Municipio\", \"date\"]).reset_index()"
   ]
  },
  {
   "cell_type": "code",
   "execution_count": 143,
   "metadata": {},
   "outputs": [
    {
     "data": {
      "text/html": [
       "<div>\n",
       "<style scoped>\n",
       "    .dataframe tbody tr th:only-of-type {\n",
       "        vertical-align: middle;\n",
       "    }\n",
       "\n",
       "    .dataframe tbody tr th {\n",
       "        vertical-align: top;\n",
       "    }\n",
       "\n",
       "    .dataframe thead th {\n",
       "        text-align: right;\n",
       "    }\n",
       "</style>\n",
       "<table border=\"1\" class=\"dataframe\">\n",
       "  <thead>\n",
       "    <tr style=\"text-align: right;\">\n",
       "      <th></th>\n",
       "      <th>index</th>\n",
       "      <th>Municipio</th>\n",
       "      <th>date</th>\n",
       "      <th>count_new</th>\n",
       "      <th>count_closed</th>\n",
       "    </tr>\n",
       "  </thead>\n",
       "  <tbody>\n",
       "    <tr>\n",
       "      <th>0</th>\n",
       "      <td>0</td>\n",
       "      <td>AFONSO CLAUDIO</td>\n",
       "      <td>2020-03-17</td>\n",
       "      <td>2.00</td>\n",
       "      <td>nan</td>\n",
       "    </tr>\n",
       "    <tr>\n",
       "      <th>1</th>\n",
       "      <td>1</td>\n",
       "      <td>AFONSO CLAUDIO</td>\n",
       "      <td>2020-04-08</td>\n",
       "      <td>1.00</td>\n",
       "      <td>nan</td>\n",
       "    </tr>\n",
       "    <tr>\n",
       "      <th>2</th>\n",
       "      <td>2</td>\n",
       "      <td>AFONSO CLAUDIO</td>\n",
       "      <td>2020-04-10</td>\n",
       "      <td>1.00</td>\n",
       "      <td>nan</td>\n",
       "    </tr>\n",
       "    <tr>\n",
       "      <th>3</th>\n",
       "      <td>3</td>\n",
       "      <td>AFONSO CLAUDIO</td>\n",
       "      <td>2020-04-11</td>\n",
       "      <td>1.00</td>\n",
       "      <td>nan</td>\n",
       "    </tr>\n",
       "    <tr>\n",
       "      <th>4</th>\n",
       "      <td>4</td>\n",
       "      <td>AFONSO CLAUDIO</td>\n",
       "      <td>2020-04-13</td>\n",
       "      <td>1.00</td>\n",
       "      <td>nan</td>\n",
       "    </tr>\n",
       "  </tbody>\n",
       "</table>\n",
       "</div>"
      ],
      "text/plain": [
       "   index       Municipio       date  count_new  count_closed\n",
       "0      0  AFONSO CLAUDIO 2020-03-17       2.00           nan\n",
       "1      1  AFONSO CLAUDIO 2020-04-08       1.00           nan\n",
       "2      2  AFONSO CLAUDIO 2020-04-10       1.00           nan\n",
       "3      3  AFONSO CLAUDIO 2020-04-11       1.00           nan\n",
       "4      4  AFONSO CLAUDIO 2020-04-13       1.00           nan"
      ]
     },
     "execution_count": 143,
     "metadata": {},
     "output_type": "execute_result"
    }
   ],
   "source": [
    "df_calendar.head()"
   ]
  },
  {
   "cell_type": "code",
   "execution_count": 144,
   "metadata": {},
   "outputs": [],
   "source": [
    "#preenchendo Nan com zero(0)\n",
    "for i in ['count_new', 'count_closed']:\n",
    "    df_calendar[i] = df_calendar[i].fillna(0)"
   ]
  },
  {
   "cell_type": "code",
   "execution_count": 145,
   "metadata": {},
   "outputs": [
    {
     "data": {
      "text/html": [
       "<div>\n",
       "<style scoped>\n",
       "    .dataframe tbody tr th:only-of-type {\n",
       "        vertical-align: middle;\n",
       "    }\n",
       "\n",
       "    .dataframe tbody tr th {\n",
       "        vertical-align: top;\n",
       "    }\n",
       "\n",
       "    .dataframe thead th {\n",
       "        text-align: right;\n",
       "    }\n",
       "</style>\n",
       "<table border=\"1\" class=\"dataframe\">\n",
       "  <thead>\n",
       "    <tr style=\"text-align: right;\">\n",
       "      <th></th>\n",
       "      <th>index</th>\n",
       "      <th>Municipio</th>\n",
       "      <th>date</th>\n",
       "      <th>count_new</th>\n",
       "      <th>count_closed</th>\n",
       "    </tr>\n",
       "  </thead>\n",
       "  <tbody>\n",
       "    <tr>\n",
       "      <th>0</th>\n",
       "      <td>0</td>\n",
       "      <td>AFONSO CLAUDIO</td>\n",
       "      <td>2020-03-17</td>\n",
       "      <td>2.00</td>\n",
       "      <td>0.00</td>\n",
       "    </tr>\n",
       "    <tr>\n",
       "      <th>1</th>\n",
       "      <td>1</td>\n",
       "      <td>AFONSO CLAUDIO</td>\n",
       "      <td>2020-04-08</td>\n",
       "      <td>1.00</td>\n",
       "      <td>0.00</td>\n",
       "    </tr>\n",
       "    <tr>\n",
       "      <th>2</th>\n",
       "      <td>2</td>\n",
       "      <td>AFONSO CLAUDIO</td>\n",
       "      <td>2020-04-10</td>\n",
       "      <td>1.00</td>\n",
       "      <td>0.00</td>\n",
       "    </tr>\n",
       "    <tr>\n",
       "      <th>3</th>\n",
       "      <td>3</td>\n",
       "      <td>AFONSO CLAUDIO</td>\n",
       "      <td>2020-04-11</td>\n",
       "      <td>1.00</td>\n",
       "      <td>0.00</td>\n",
       "    </tr>\n",
       "    <tr>\n",
       "      <th>4</th>\n",
       "      <td>4</td>\n",
       "      <td>AFONSO CLAUDIO</td>\n",
       "      <td>2020-04-13</td>\n",
       "      <td>1.00</td>\n",
       "      <td>0.00</td>\n",
       "    </tr>\n",
       "  </tbody>\n",
       "</table>\n",
       "</div>"
      ],
      "text/plain": [
       "   index       Municipio       date  count_new  count_closed\n",
       "0      0  AFONSO CLAUDIO 2020-03-17       2.00          0.00\n",
       "1      1  AFONSO CLAUDIO 2020-04-08       1.00          0.00\n",
       "2      2  AFONSO CLAUDIO 2020-04-10       1.00          0.00\n",
       "3      3  AFONSO CLAUDIO 2020-04-11       1.00          0.00\n",
       "4      4  AFONSO CLAUDIO 2020-04-13       1.00          0.00"
      ]
     },
     "execution_count": 145,
     "metadata": {},
     "output_type": "execute_result"
    }
   ],
   "source": [
    "df_calendar.head()"
   ]
  },
  {
   "cell_type": "code",
   "execution_count": 146,
   "metadata": {},
   "outputs": [],
   "source": [
    "#criando coluna acumulado por cidade\n",
    "municipios = df_calendar['Municipio'].unique()\n",
    "acum = []\n",
    "for idx, i in enumerate(df_calendar['date']):\n",
    "    if df_calendar['Municipio'].iloc[idx] == df_calendar['Municipio'].iloc[idx-1]:\n",
    "        try:\n",
    "            acum.append(acum[idx-1] + df_calendar['count_new'].iloc[idx] + df_calendar['count_closed'].iloc[idx])\n",
    "        except:\n",
    "            acum.append(df_calendar['count_new'].iloc[idx] + df_calendar['count_closed'].iloc[idx])\n",
    "    else:\n",
    "        acum.append(0 + df_calendar['count_new'].iloc[idx] + df_calendar['count_closed'].iloc[idx])\n",
    "\n",
    "df_calendar['acum'] = acum"
   ]
  },
  {
   "cell_type": "code",
   "execution_count": 147,
   "metadata": {},
   "outputs": [
    {
     "data": {
      "text/html": [
       "<div>\n",
       "<style scoped>\n",
       "    .dataframe tbody tr th:only-of-type {\n",
       "        vertical-align: middle;\n",
       "    }\n",
       "\n",
       "    .dataframe tbody tr th {\n",
       "        vertical-align: top;\n",
       "    }\n",
       "\n",
       "    .dataframe thead th {\n",
       "        text-align: right;\n",
       "    }\n",
       "</style>\n",
       "<table border=\"1\" class=\"dataframe\">\n",
       "  <thead>\n",
       "    <tr style=\"text-align: right;\">\n",
       "      <th></th>\n",
       "      <th>index</th>\n",
       "      <th>Municipio</th>\n",
       "      <th>date</th>\n",
       "      <th>count_new</th>\n",
       "      <th>count_closed</th>\n",
       "      <th>acum</th>\n",
       "    </tr>\n",
       "  </thead>\n",
       "  <tbody>\n",
       "    <tr>\n",
       "      <th>0</th>\n",
       "      <td>0</td>\n",
       "      <td>AFONSO CLAUDIO</td>\n",
       "      <td>2020-03-17</td>\n",
       "      <td>2.00</td>\n",
       "      <td>0.00</td>\n",
       "      <td>2.00</td>\n",
       "    </tr>\n",
       "    <tr>\n",
       "      <th>1</th>\n",
       "      <td>1</td>\n",
       "      <td>AFONSO CLAUDIO</td>\n",
       "      <td>2020-04-08</td>\n",
       "      <td>1.00</td>\n",
       "      <td>0.00</td>\n",
       "      <td>3.00</td>\n",
       "    </tr>\n",
       "    <tr>\n",
       "      <th>2</th>\n",
       "      <td>2</td>\n",
       "      <td>AFONSO CLAUDIO</td>\n",
       "      <td>2020-04-10</td>\n",
       "      <td>1.00</td>\n",
       "      <td>0.00</td>\n",
       "      <td>4.00</td>\n",
       "    </tr>\n",
       "    <tr>\n",
       "      <th>3</th>\n",
       "      <td>3</td>\n",
       "      <td>AFONSO CLAUDIO</td>\n",
       "      <td>2020-04-11</td>\n",
       "      <td>1.00</td>\n",
       "      <td>0.00</td>\n",
       "      <td>5.00</td>\n",
       "    </tr>\n",
       "    <tr>\n",
       "      <th>4</th>\n",
       "      <td>4</td>\n",
       "      <td>AFONSO CLAUDIO</td>\n",
       "      <td>2020-04-13</td>\n",
       "      <td>1.00</td>\n",
       "      <td>0.00</td>\n",
       "      <td>6.00</td>\n",
       "    </tr>\n",
       "  </tbody>\n",
       "</table>\n",
       "</div>"
      ],
      "text/plain": [
       "   index       Municipio       date  count_new  count_closed  acum\n",
       "0      0  AFONSO CLAUDIO 2020-03-17       2.00          0.00  2.00\n",
       "1      1  AFONSO CLAUDIO 2020-04-08       1.00          0.00  3.00\n",
       "2      2  AFONSO CLAUDIO 2020-04-10       1.00          0.00  4.00\n",
       "3      3  AFONSO CLAUDIO 2020-04-11       1.00          0.00  5.00\n",
       "4      4  AFONSO CLAUDIO 2020-04-13       1.00          0.00  6.00"
      ]
     },
     "execution_count": 147,
     "metadata": {},
     "output_type": "execute_result"
    }
   ],
   "source": [
    "df_calendar.head()"
   ]
  },
  {
   "cell_type": "code",
   "execution_count": 148,
   "metadata": {},
   "outputs": [],
   "source": [
    "#criando colunas de dia/semana/dia_da_semana/mes/ano\n",
    "df_calendar['day'] = [i.day for i in df_calendar['date']]\n",
    "df_calendar['week'] = [i.week for i in df_calendar['date']]\n",
    "df_calendar['weekday'] = [i.weekday() for i in df_calendar['date']]\n",
    "df_calendar['month'] = [i.month for i in df_calendar['date']]\n",
    "df_calendar['year'] = [i.year for i in df_calendar['date']]"
   ]
  },
  {
   "cell_type": "code",
   "execution_count": 149,
   "metadata": {},
   "outputs": [
    {
     "data": {
      "text/html": [
       "<div>\n",
       "<style scoped>\n",
       "    .dataframe tbody tr th:only-of-type {\n",
       "        vertical-align: middle;\n",
       "    }\n",
       "\n",
       "    .dataframe tbody tr th {\n",
       "        vertical-align: top;\n",
       "    }\n",
       "\n",
       "    .dataframe thead th {\n",
       "        text-align: right;\n",
       "    }\n",
       "</style>\n",
       "<table border=\"1\" class=\"dataframe\">\n",
       "  <thead>\n",
       "    <tr style=\"text-align: right;\">\n",
       "      <th></th>\n",
       "      <th>index</th>\n",
       "      <th>Municipio</th>\n",
       "      <th>date</th>\n",
       "      <th>count_new</th>\n",
       "      <th>count_closed</th>\n",
       "      <th>acum</th>\n",
       "      <th>day</th>\n",
       "      <th>week</th>\n",
       "      <th>weekday</th>\n",
       "      <th>month</th>\n",
       "      <th>year</th>\n",
       "    </tr>\n",
       "  </thead>\n",
       "  <tbody>\n",
       "    <tr>\n",
       "      <th>293</th>\n",
       "      <td>289</td>\n",
       "      <td>AFONSO CLAUDIO</td>\n",
       "      <td>2021-02-01</td>\n",
       "      <td>29.00</td>\n",
       "      <td>-20.00</td>\n",
       "      <td>337.00</td>\n",
       "      <td>1</td>\n",
       "      <td>5</td>\n",
       "      <td>0</td>\n",
       "      <td>2</td>\n",
       "      <td>2021</td>\n",
       "    </tr>\n",
       "    <tr>\n",
       "      <th>294</th>\n",
       "      <td>290</td>\n",
       "      <td>AFONSO CLAUDIO</td>\n",
       "      <td>2021-02-02</td>\n",
       "      <td>17.00</td>\n",
       "      <td>-8.00</td>\n",
       "      <td>346.00</td>\n",
       "      <td>2</td>\n",
       "      <td>5</td>\n",
       "      <td>1</td>\n",
       "      <td>2</td>\n",
       "      <td>2021</td>\n",
       "    </tr>\n",
       "    <tr>\n",
       "      <th>295</th>\n",
       "      <td>291</td>\n",
       "      <td>AFONSO CLAUDIO</td>\n",
       "      <td>2021-02-03</td>\n",
       "      <td>13.00</td>\n",
       "      <td>-29.00</td>\n",
       "      <td>330.00</td>\n",
       "      <td>3</td>\n",
       "      <td>5</td>\n",
       "      <td>2</td>\n",
       "      <td>2</td>\n",
       "      <td>2021</td>\n",
       "    </tr>\n",
       "    <tr>\n",
       "      <th>296</th>\n",
       "      <td>292</td>\n",
       "      <td>AFONSO CLAUDIO</td>\n",
       "      <td>2021-02-04</td>\n",
       "      <td>23.00</td>\n",
       "      <td>-14.00</td>\n",
       "      <td>339.00</td>\n",
       "      <td>4</td>\n",
       "      <td>5</td>\n",
       "      <td>3</td>\n",
       "      <td>2</td>\n",
       "      <td>2021</td>\n",
       "    </tr>\n",
       "    <tr>\n",
       "      <th>297</th>\n",
       "      <td>293</td>\n",
       "      <td>AFONSO CLAUDIO</td>\n",
       "      <td>2021-02-05</td>\n",
       "      <td>17.00</td>\n",
       "      <td>-18.00</td>\n",
       "      <td>338.00</td>\n",
       "      <td>5</td>\n",
       "      <td>5</td>\n",
       "      <td>4</td>\n",
       "      <td>2</td>\n",
       "      <td>2021</td>\n",
       "    </tr>\n",
       "    <tr>\n",
       "      <th>298</th>\n",
       "      <td>294</td>\n",
       "      <td>AFONSO CLAUDIO</td>\n",
       "      <td>2021-02-06</td>\n",
       "      <td>9.00</td>\n",
       "      <td>-13.00</td>\n",
       "      <td>334.00</td>\n",
       "      <td>6</td>\n",
       "      <td>5</td>\n",
       "      <td>5</td>\n",
       "      <td>2</td>\n",
       "      <td>2021</td>\n",
       "    </tr>\n",
       "    <tr>\n",
       "      <th>299</th>\n",
       "      <td>295</td>\n",
       "      <td>AFONSO CLAUDIO</td>\n",
       "      <td>2021-02-07</td>\n",
       "      <td>14.00</td>\n",
       "      <td>0.00</td>\n",
       "      <td>348.00</td>\n",
       "      <td>7</td>\n",
       "      <td>5</td>\n",
       "      <td>6</td>\n",
       "      <td>2</td>\n",
       "      <td>2021</td>\n",
       "    </tr>\n",
       "    <tr>\n",
       "      <th>300</th>\n",
       "      <td>296</td>\n",
       "      <td>AFONSO CLAUDIO</td>\n",
       "      <td>2021-02-08</td>\n",
       "      <td>14.00</td>\n",
       "      <td>-27.00</td>\n",
       "      <td>335.00</td>\n",
       "      <td>8</td>\n",
       "      <td>6</td>\n",
       "      <td>0</td>\n",
       "      <td>2</td>\n",
       "      <td>2021</td>\n",
       "    </tr>\n",
       "    <tr>\n",
       "      <th>301</th>\n",
       "      <td>297</td>\n",
       "      <td>AFONSO CLAUDIO</td>\n",
       "      <td>2021-02-09</td>\n",
       "      <td>11.00</td>\n",
       "      <td>-2.00</td>\n",
       "      <td>344.00</td>\n",
       "      <td>9</td>\n",
       "      <td>6</td>\n",
       "      <td>1</td>\n",
       "      <td>2</td>\n",
       "      <td>2021</td>\n",
       "    </tr>\n",
       "    <tr>\n",
       "      <th>302</th>\n",
       "      <td>298</td>\n",
       "      <td>AFONSO CLAUDIO</td>\n",
       "      <td>2021-02-10</td>\n",
       "      <td>13.00</td>\n",
       "      <td>-19.00</td>\n",
       "      <td>338.00</td>\n",
       "      <td>10</td>\n",
       "      <td>6</td>\n",
       "      <td>2</td>\n",
       "      <td>2</td>\n",
       "      <td>2021</td>\n",
       "    </tr>\n",
       "    <tr>\n",
       "      <th>303</th>\n",
       "      <td>299</td>\n",
       "      <td>AFONSO CLAUDIO</td>\n",
       "      <td>2021-02-11</td>\n",
       "      <td>16.00</td>\n",
       "      <td>-1.00</td>\n",
       "      <td>353.00</td>\n",
       "      <td>11</td>\n",
       "      <td>6</td>\n",
       "      <td>3</td>\n",
       "      <td>2</td>\n",
       "      <td>2021</td>\n",
       "    </tr>\n",
       "    <tr>\n",
       "      <th>304</th>\n",
       "      <td>300</td>\n",
       "      <td>AFONSO CLAUDIO</td>\n",
       "      <td>2021-02-12</td>\n",
       "      <td>14.00</td>\n",
       "      <td>-32.00</td>\n",
       "      <td>335.00</td>\n",
       "      <td>12</td>\n",
       "      <td>6</td>\n",
       "      <td>4</td>\n",
       "      <td>2</td>\n",
       "      <td>2021</td>\n",
       "    </tr>\n",
       "    <tr>\n",
       "      <th>305</th>\n",
       "      <td>301</td>\n",
       "      <td>AFONSO CLAUDIO</td>\n",
       "      <td>2021-02-13</td>\n",
       "      <td>11.00</td>\n",
       "      <td>-3.00</td>\n",
       "      <td>343.00</td>\n",
       "      <td>13</td>\n",
       "      <td>6</td>\n",
       "      <td>5</td>\n",
       "      <td>2</td>\n",
       "      <td>2021</td>\n",
       "    </tr>\n",
       "    <tr>\n",
       "      <th>306</th>\n",
       "      <td>302</td>\n",
       "      <td>AFONSO CLAUDIO</td>\n",
       "      <td>2021-02-14</td>\n",
       "      <td>8.00</td>\n",
       "      <td>0.00</td>\n",
       "      <td>351.00</td>\n",
       "      <td>14</td>\n",
       "      <td>6</td>\n",
       "      <td>6</td>\n",
       "      <td>2</td>\n",
       "      <td>2021</td>\n",
       "    </tr>\n",
       "    <tr>\n",
       "      <th>307</th>\n",
       "      <td>303</td>\n",
       "      <td>AFONSO CLAUDIO</td>\n",
       "      <td>2021-02-15</td>\n",
       "      <td>19.00</td>\n",
       "      <td>-9.00</td>\n",
       "      <td>361.00</td>\n",
       "      <td>15</td>\n",
       "      <td>7</td>\n",
       "      <td>0</td>\n",
       "      <td>2</td>\n",
       "      <td>2021</td>\n",
       "    </tr>\n",
       "    <tr>\n",
       "      <th>308</th>\n",
       "      <td>304</td>\n",
       "      <td>AFONSO CLAUDIO</td>\n",
       "      <td>2021-02-16</td>\n",
       "      <td>10.00</td>\n",
       "      <td>-1.00</td>\n",
       "      <td>370.00</td>\n",
       "      <td>16</td>\n",
       "      <td>7</td>\n",
       "      <td>1</td>\n",
       "      <td>2</td>\n",
       "      <td>2021</td>\n",
       "    </tr>\n",
       "    <tr>\n",
       "      <th>309</th>\n",
       "      <td>305</td>\n",
       "      <td>AFONSO CLAUDIO</td>\n",
       "      <td>2021-02-17</td>\n",
       "      <td>18.00</td>\n",
       "      <td>-22.00</td>\n",
       "      <td>366.00</td>\n",
       "      <td>17</td>\n",
       "      <td>7</td>\n",
       "      <td>2</td>\n",
       "      <td>2</td>\n",
       "      <td>2021</td>\n",
       "    </tr>\n",
       "    <tr>\n",
       "      <th>310</th>\n",
       "      <td>306</td>\n",
       "      <td>AFONSO CLAUDIO</td>\n",
       "      <td>2021-02-18</td>\n",
       "      <td>12.00</td>\n",
       "      <td>-73.00</td>\n",
       "      <td>305.00</td>\n",
       "      <td>18</td>\n",
       "      <td>7</td>\n",
       "      <td>3</td>\n",
       "      <td>2</td>\n",
       "      <td>2021</td>\n",
       "    </tr>\n",
       "    <tr>\n",
       "      <th>311</th>\n",
       "      <td>307</td>\n",
       "      <td>AFONSO CLAUDIO</td>\n",
       "      <td>2021-02-19</td>\n",
       "      <td>22.00</td>\n",
       "      <td>-28.00</td>\n",
       "      <td>299.00</td>\n",
       "      <td>19</td>\n",
       "      <td>7</td>\n",
       "      <td>4</td>\n",
       "      <td>2</td>\n",
       "      <td>2021</td>\n",
       "    </tr>\n",
       "    <tr>\n",
       "      <th>312</th>\n",
       "      <td>308</td>\n",
       "      <td>AFONSO CLAUDIO</td>\n",
       "      <td>2021-02-20</td>\n",
       "      <td>12.00</td>\n",
       "      <td>0.00</td>\n",
       "      <td>311.00</td>\n",
       "      <td>20</td>\n",
       "      <td>7</td>\n",
       "      <td>5</td>\n",
       "      <td>2</td>\n",
       "      <td>2021</td>\n",
       "    </tr>\n",
       "    <tr>\n",
       "      <th>313</th>\n",
       "      <td>309</td>\n",
       "      <td>AFONSO CLAUDIO</td>\n",
       "      <td>2021-02-21</td>\n",
       "      <td>13.00</td>\n",
       "      <td>-23.00</td>\n",
       "      <td>301.00</td>\n",
       "      <td>21</td>\n",
       "      <td>7</td>\n",
       "      <td>6</td>\n",
       "      <td>2</td>\n",
       "      <td>2021</td>\n",
       "    </tr>\n",
       "    <tr>\n",
       "      <th>314</th>\n",
       "      <td>310</td>\n",
       "      <td>AFONSO CLAUDIO</td>\n",
       "      <td>2021-02-22</td>\n",
       "      <td>14.00</td>\n",
       "      <td>-35.00</td>\n",
       "      <td>280.00</td>\n",
       "      <td>22</td>\n",
       "      <td>8</td>\n",
       "      <td>0</td>\n",
       "      <td>2</td>\n",
       "      <td>2021</td>\n",
       "    </tr>\n",
       "    <tr>\n",
       "      <th>315</th>\n",
       "      <td>311</td>\n",
       "      <td>AFONSO CLAUDIO</td>\n",
       "      <td>2021-02-23</td>\n",
       "      <td>9.00</td>\n",
       "      <td>-23.00</td>\n",
       "      <td>266.00</td>\n",
       "      <td>23</td>\n",
       "      <td>8</td>\n",
       "      <td>1</td>\n",
       "      <td>2</td>\n",
       "      <td>2021</td>\n",
       "    </tr>\n",
       "    <tr>\n",
       "      <th>316</th>\n",
       "      <td>312</td>\n",
       "      <td>AFONSO CLAUDIO</td>\n",
       "      <td>2021-02-24</td>\n",
       "      <td>11.00</td>\n",
       "      <td>-10.00</td>\n",
       "      <td>267.00</td>\n",
       "      <td>24</td>\n",
       "      <td>8</td>\n",
       "      <td>2</td>\n",
       "      <td>2</td>\n",
       "      <td>2021</td>\n",
       "    </tr>\n",
       "    <tr>\n",
       "      <th>317</th>\n",
       "      <td>313</td>\n",
       "      <td>AFONSO CLAUDIO</td>\n",
       "      <td>2021-02-25</td>\n",
       "      <td>15.00</td>\n",
       "      <td>-20.00</td>\n",
       "      <td>262.00</td>\n",
       "      <td>25</td>\n",
       "      <td>8</td>\n",
       "      <td>3</td>\n",
       "      <td>2</td>\n",
       "      <td>2021</td>\n",
       "    </tr>\n",
       "    <tr>\n",
       "      <th>318</th>\n",
       "      <td>314</td>\n",
       "      <td>AFONSO CLAUDIO</td>\n",
       "      <td>2021-02-26</td>\n",
       "      <td>13.00</td>\n",
       "      <td>-10.00</td>\n",
       "      <td>265.00</td>\n",
       "      <td>26</td>\n",
       "      <td>8</td>\n",
       "      <td>4</td>\n",
       "      <td>2</td>\n",
       "      <td>2021</td>\n",
       "    </tr>\n",
       "    <tr>\n",
       "      <th>319</th>\n",
       "      <td>315</td>\n",
       "      <td>AFONSO CLAUDIO</td>\n",
       "      <td>2021-02-27</td>\n",
       "      <td>7.00</td>\n",
       "      <td>-11.00</td>\n",
       "      <td>261.00</td>\n",
       "      <td>27</td>\n",
       "      <td>8</td>\n",
       "      <td>5</td>\n",
       "      <td>2</td>\n",
       "      <td>2021</td>\n",
       "    </tr>\n",
       "    <tr>\n",
       "      <th>320</th>\n",
       "      <td>316</td>\n",
       "      <td>AFONSO CLAUDIO</td>\n",
       "      <td>2021-02-28</td>\n",
       "      <td>14.00</td>\n",
       "      <td>-10.00</td>\n",
       "      <td>265.00</td>\n",
       "      <td>28</td>\n",
       "      <td>8</td>\n",
       "      <td>6</td>\n",
       "      <td>2</td>\n",
       "      <td>2021</td>\n",
       "    </tr>\n",
       "    <tr>\n",
       "      <th>665</th>\n",
       "      <td>630</td>\n",
       "      <td>AGUA DOCE DO NORTE</td>\n",
       "      <td>2021-02-01</td>\n",
       "      <td>1.00</td>\n",
       "      <td>0.00</td>\n",
       "      <td>43.00</td>\n",
       "      <td>1</td>\n",
       "      <td>5</td>\n",
       "      <td>0</td>\n",
       "      <td>2</td>\n",
       "      <td>2021</td>\n",
       "    </tr>\n",
       "    <tr>\n",
       "      <th>666</th>\n",
       "      <td>631</td>\n",
       "      <td>AGUA DOCE DO NORTE</td>\n",
       "      <td>2021-02-02</td>\n",
       "      <td>1.00</td>\n",
       "      <td>-16.00</td>\n",
       "      <td>28.00</td>\n",
       "      <td>2</td>\n",
       "      <td>5</td>\n",
       "      <td>1</td>\n",
       "      <td>2</td>\n",
       "      <td>2021</td>\n",
       "    </tr>\n",
       "    <tr>\n",
       "      <th>...</th>\n",
       "      <td>...</td>\n",
       "      <td>...</td>\n",
       "      <td>...</td>\n",
       "      <td>...</td>\n",
       "      <td>...</td>\n",
       "      <td>...</td>\n",
       "      <td>...</td>\n",
       "      <td>...</td>\n",
       "      <td>...</td>\n",
       "      <td>...</td>\n",
       "      <td>...</td>\n",
       "    </tr>\n",
       "    <tr>\n",
       "      <th>31392</th>\n",
       "      <td>29788</td>\n",
       "      <td>VILA VELHA</td>\n",
       "      <td>2021-02-27</td>\n",
       "      <td>129.00</td>\n",
       "      <td>-73.00</td>\n",
       "      <td>4623.00</td>\n",
       "      <td>27</td>\n",
       "      <td>8</td>\n",
       "      <td>5</td>\n",
       "      <td>2</td>\n",
       "      <td>2021</td>\n",
       "    </tr>\n",
       "    <tr>\n",
       "      <th>31393</th>\n",
       "      <td>29789</td>\n",
       "      <td>VILA VELHA</td>\n",
       "      <td>2021-02-28</td>\n",
       "      <td>170.00</td>\n",
       "      <td>-74.00</td>\n",
       "      <td>4719.00</td>\n",
       "      <td>28</td>\n",
       "      <td>8</td>\n",
       "      <td>6</td>\n",
       "      <td>2</td>\n",
       "      <td>2021</td>\n",
       "    </tr>\n",
       "    <tr>\n",
       "      <th>31856</th>\n",
       "      <td>30250</td>\n",
       "      <td>VITORIA</td>\n",
       "      <td>2021-02-01</td>\n",
       "      <td>159.00</td>\n",
       "      <td>-128.00</td>\n",
       "      <td>2419.00</td>\n",
       "      <td>1</td>\n",
       "      <td>5</td>\n",
       "      <td>0</td>\n",
       "      <td>2</td>\n",
       "      <td>2021</td>\n",
       "    </tr>\n",
       "    <tr>\n",
       "      <th>31857</th>\n",
       "      <td>30251</td>\n",
       "      <td>VITORIA</td>\n",
       "      <td>2021-02-02</td>\n",
       "      <td>109.00</td>\n",
       "      <td>-87.00</td>\n",
       "      <td>2441.00</td>\n",
       "      <td>2</td>\n",
       "      <td>5</td>\n",
       "      <td>1</td>\n",
       "      <td>2</td>\n",
       "      <td>2021</td>\n",
       "    </tr>\n",
       "    <tr>\n",
       "      <th>31858</th>\n",
       "      <td>30252</td>\n",
       "      <td>VITORIA</td>\n",
       "      <td>2021-02-03</td>\n",
       "      <td>88.00</td>\n",
       "      <td>-98.00</td>\n",
       "      <td>2431.00</td>\n",
       "      <td>3</td>\n",
       "      <td>5</td>\n",
       "      <td>2</td>\n",
       "      <td>2</td>\n",
       "      <td>2021</td>\n",
       "    </tr>\n",
       "    <tr>\n",
       "      <th>31859</th>\n",
       "      <td>30253</td>\n",
       "      <td>VITORIA</td>\n",
       "      <td>2021-02-04</td>\n",
       "      <td>88.00</td>\n",
       "      <td>-111.00</td>\n",
       "      <td>2408.00</td>\n",
       "      <td>4</td>\n",
       "      <td>5</td>\n",
       "      <td>3</td>\n",
       "      <td>2</td>\n",
       "      <td>2021</td>\n",
       "    </tr>\n",
       "    <tr>\n",
       "      <th>31860</th>\n",
       "      <td>30254</td>\n",
       "      <td>VITORIA</td>\n",
       "      <td>2021-02-05</td>\n",
       "      <td>84.00</td>\n",
       "      <td>-74.00</td>\n",
       "      <td>2418.00</td>\n",
       "      <td>5</td>\n",
       "      <td>5</td>\n",
       "      <td>4</td>\n",
       "      <td>2</td>\n",
       "      <td>2021</td>\n",
       "    </tr>\n",
       "    <tr>\n",
       "      <th>31861</th>\n",
       "      <td>30255</td>\n",
       "      <td>VITORIA</td>\n",
       "      <td>2021-02-06</td>\n",
       "      <td>76.00</td>\n",
       "      <td>-24.00</td>\n",
       "      <td>2470.00</td>\n",
       "      <td>6</td>\n",
       "      <td>5</td>\n",
       "      <td>5</td>\n",
       "      <td>2</td>\n",
       "      <td>2021</td>\n",
       "    </tr>\n",
       "    <tr>\n",
       "      <th>31862</th>\n",
       "      <td>30256</td>\n",
       "      <td>VITORIA</td>\n",
       "      <td>2021-02-07</td>\n",
       "      <td>80.00</td>\n",
       "      <td>-18.00</td>\n",
       "      <td>2532.00</td>\n",
       "      <td>7</td>\n",
       "      <td>5</td>\n",
       "      <td>6</td>\n",
       "      <td>2</td>\n",
       "      <td>2021</td>\n",
       "    </tr>\n",
       "    <tr>\n",
       "      <th>31863</th>\n",
       "      <td>30257</td>\n",
       "      <td>VITORIA</td>\n",
       "      <td>2021-02-08</td>\n",
       "      <td>82.00</td>\n",
       "      <td>-220.00</td>\n",
       "      <td>2394.00</td>\n",
       "      <td>8</td>\n",
       "      <td>6</td>\n",
       "      <td>0</td>\n",
       "      <td>2</td>\n",
       "      <td>2021</td>\n",
       "    </tr>\n",
       "    <tr>\n",
       "      <th>31864</th>\n",
       "      <td>30258</td>\n",
       "      <td>VITORIA</td>\n",
       "      <td>2021-02-09</td>\n",
       "      <td>99.00</td>\n",
       "      <td>-134.00</td>\n",
       "      <td>2359.00</td>\n",
       "      <td>9</td>\n",
       "      <td>6</td>\n",
       "      <td>1</td>\n",
       "      <td>2</td>\n",
       "      <td>2021</td>\n",
       "    </tr>\n",
       "    <tr>\n",
       "      <th>31865</th>\n",
       "      <td>30259</td>\n",
       "      <td>VITORIA</td>\n",
       "      <td>2021-02-10</td>\n",
       "      <td>98.00</td>\n",
       "      <td>-141.00</td>\n",
       "      <td>2316.00</td>\n",
       "      <td>10</td>\n",
       "      <td>6</td>\n",
       "      <td>2</td>\n",
       "      <td>2</td>\n",
       "      <td>2021</td>\n",
       "    </tr>\n",
       "    <tr>\n",
       "      <th>31866</th>\n",
       "      <td>30260</td>\n",
       "      <td>VITORIA</td>\n",
       "      <td>2021-02-11</td>\n",
       "      <td>68.00</td>\n",
       "      <td>-156.00</td>\n",
       "      <td>2228.00</td>\n",
       "      <td>11</td>\n",
       "      <td>6</td>\n",
       "      <td>3</td>\n",
       "      <td>2</td>\n",
       "      <td>2021</td>\n",
       "    </tr>\n",
       "    <tr>\n",
       "      <th>31867</th>\n",
       "      <td>30261</td>\n",
       "      <td>VITORIA</td>\n",
       "      <td>2021-02-12</td>\n",
       "      <td>92.00</td>\n",
       "      <td>-217.00</td>\n",
       "      <td>2103.00</td>\n",
       "      <td>12</td>\n",
       "      <td>6</td>\n",
       "      <td>4</td>\n",
       "      <td>2</td>\n",
       "      <td>2021</td>\n",
       "    </tr>\n",
       "    <tr>\n",
       "      <th>31868</th>\n",
       "      <td>30262</td>\n",
       "      <td>VITORIA</td>\n",
       "      <td>2021-02-13</td>\n",
       "      <td>73.00</td>\n",
       "      <td>-76.00</td>\n",
       "      <td>2100.00</td>\n",
       "      <td>13</td>\n",
       "      <td>6</td>\n",
       "      <td>5</td>\n",
       "      <td>2</td>\n",
       "      <td>2021</td>\n",
       "    </tr>\n",
       "    <tr>\n",
       "      <th>31869</th>\n",
       "      <td>30263</td>\n",
       "      <td>VITORIA</td>\n",
       "      <td>2021-02-14</td>\n",
       "      <td>74.00</td>\n",
       "      <td>-42.00</td>\n",
       "      <td>2132.00</td>\n",
       "      <td>14</td>\n",
       "      <td>6</td>\n",
       "      <td>6</td>\n",
       "      <td>2</td>\n",
       "      <td>2021</td>\n",
       "    </tr>\n",
       "    <tr>\n",
       "      <th>31870</th>\n",
       "      <td>30264</td>\n",
       "      <td>VITORIA</td>\n",
       "      <td>2021-02-15</td>\n",
       "      <td>101.00</td>\n",
       "      <td>-169.00</td>\n",
       "      <td>2064.00</td>\n",
       "      <td>15</td>\n",
       "      <td>7</td>\n",
       "      <td>0</td>\n",
       "      <td>2</td>\n",
       "      <td>2021</td>\n",
       "    </tr>\n",
       "    <tr>\n",
       "      <th>31871</th>\n",
       "      <td>30265</td>\n",
       "      <td>VITORIA</td>\n",
       "      <td>2021-02-16</td>\n",
       "      <td>81.00</td>\n",
       "      <td>-47.00</td>\n",
       "      <td>2098.00</td>\n",
       "      <td>16</td>\n",
       "      <td>7</td>\n",
       "      <td>1</td>\n",
       "      <td>2</td>\n",
       "      <td>2021</td>\n",
       "    </tr>\n",
       "    <tr>\n",
       "      <th>31872</th>\n",
       "      <td>30266</td>\n",
       "      <td>VITORIA</td>\n",
       "      <td>2021-02-17</td>\n",
       "      <td>93.00</td>\n",
       "      <td>-143.00</td>\n",
       "      <td>2048.00</td>\n",
       "      <td>17</td>\n",
       "      <td>7</td>\n",
       "      <td>2</td>\n",
       "      <td>2</td>\n",
       "      <td>2021</td>\n",
       "    </tr>\n",
       "    <tr>\n",
       "      <th>31873</th>\n",
       "      <td>30267</td>\n",
       "      <td>VITORIA</td>\n",
       "      <td>2021-02-18</td>\n",
       "      <td>118.00</td>\n",
       "      <td>-122.00</td>\n",
       "      <td>2044.00</td>\n",
       "      <td>18</td>\n",
       "      <td>7</td>\n",
       "      <td>3</td>\n",
       "      <td>2</td>\n",
       "      <td>2021</td>\n",
       "    </tr>\n",
       "    <tr>\n",
       "      <th>31874</th>\n",
       "      <td>30268</td>\n",
       "      <td>VITORIA</td>\n",
       "      <td>2021-02-19</td>\n",
       "      <td>106.00</td>\n",
       "      <td>-171.00</td>\n",
       "      <td>1979.00</td>\n",
       "      <td>19</td>\n",
       "      <td>7</td>\n",
       "      <td>4</td>\n",
       "      <td>2</td>\n",
       "      <td>2021</td>\n",
       "    </tr>\n",
       "    <tr>\n",
       "      <th>31875</th>\n",
       "      <td>30269</td>\n",
       "      <td>VITORIA</td>\n",
       "      <td>2021-02-20</td>\n",
       "      <td>73.00</td>\n",
       "      <td>-311.00</td>\n",
       "      <td>1741.00</td>\n",
       "      <td>20</td>\n",
       "      <td>7</td>\n",
       "      <td>5</td>\n",
       "      <td>2</td>\n",
       "      <td>2021</td>\n",
       "    </tr>\n",
       "    <tr>\n",
       "      <th>31876</th>\n",
       "      <td>30270</td>\n",
       "      <td>VITORIA</td>\n",
       "      <td>2021-02-21</td>\n",
       "      <td>72.00</td>\n",
       "      <td>-69.00</td>\n",
       "      <td>1744.00</td>\n",
       "      <td>21</td>\n",
       "      <td>7</td>\n",
       "      <td>6</td>\n",
       "      <td>2</td>\n",
       "      <td>2021</td>\n",
       "    </tr>\n",
       "    <tr>\n",
       "      <th>31877</th>\n",
       "      <td>30271</td>\n",
       "      <td>VITORIA</td>\n",
       "      <td>2021-02-22</td>\n",
       "      <td>143.00</td>\n",
       "      <td>-53.00</td>\n",
       "      <td>1834.00</td>\n",
       "      <td>22</td>\n",
       "      <td>8</td>\n",
       "      <td>0</td>\n",
       "      <td>2</td>\n",
       "      <td>2021</td>\n",
       "    </tr>\n",
       "    <tr>\n",
       "      <th>31878</th>\n",
       "      <td>30272</td>\n",
       "      <td>VITORIA</td>\n",
       "      <td>2021-02-23</td>\n",
       "      <td>133.00</td>\n",
       "      <td>-218.00</td>\n",
       "      <td>1749.00</td>\n",
       "      <td>23</td>\n",
       "      <td>8</td>\n",
       "      <td>1</td>\n",
       "      <td>2</td>\n",
       "      <td>2021</td>\n",
       "    </tr>\n",
       "    <tr>\n",
       "      <th>31879</th>\n",
       "      <td>30273</td>\n",
       "      <td>VITORIA</td>\n",
       "      <td>2021-02-24</td>\n",
       "      <td>98.00</td>\n",
       "      <td>-97.00</td>\n",
       "      <td>1750.00</td>\n",
       "      <td>24</td>\n",
       "      <td>8</td>\n",
       "      <td>2</td>\n",
       "      <td>2</td>\n",
       "      <td>2021</td>\n",
       "    </tr>\n",
       "    <tr>\n",
       "      <th>31880</th>\n",
       "      <td>30274</td>\n",
       "      <td>VITORIA</td>\n",
       "      <td>2021-02-25</td>\n",
       "      <td>112.00</td>\n",
       "      <td>-107.00</td>\n",
       "      <td>1755.00</td>\n",
       "      <td>25</td>\n",
       "      <td>8</td>\n",
       "      <td>3</td>\n",
       "      <td>2</td>\n",
       "      <td>2021</td>\n",
       "    </tr>\n",
       "    <tr>\n",
       "      <th>31881</th>\n",
       "      <td>30275</td>\n",
       "      <td>VITORIA</td>\n",
       "      <td>2021-02-26</td>\n",
       "      <td>126.00</td>\n",
       "      <td>-65.00</td>\n",
       "      <td>1816.00</td>\n",
       "      <td>26</td>\n",
       "      <td>8</td>\n",
       "      <td>4</td>\n",
       "      <td>2</td>\n",
       "      <td>2021</td>\n",
       "    </tr>\n",
       "    <tr>\n",
       "      <th>31882</th>\n",
       "      <td>30276</td>\n",
       "      <td>VITORIA</td>\n",
       "      <td>2021-02-27</td>\n",
       "      <td>92.00</td>\n",
       "      <td>-64.00</td>\n",
       "      <td>1844.00</td>\n",
       "      <td>27</td>\n",
       "      <td>8</td>\n",
       "      <td>5</td>\n",
       "      <td>2</td>\n",
       "      <td>2021</td>\n",
       "    </tr>\n",
       "    <tr>\n",
       "      <th>31883</th>\n",
       "      <td>30277</td>\n",
       "      <td>VITORIA</td>\n",
       "      <td>2021-02-28</td>\n",
       "      <td>143.00</td>\n",
       "      <td>-41.00</td>\n",
       "      <td>1946.00</td>\n",
       "      <td>28</td>\n",
       "      <td>8</td>\n",
       "      <td>6</td>\n",
       "      <td>2</td>\n",
       "      <td>2021</td>\n",
       "    </tr>\n",
       "  </tbody>\n",
       "</table>\n",
       "<p>2085 rows × 11 columns</p>\n",
       "</div>"
      ],
      "text/plain": [
       "       index           Municipio       date  count_new  count_closed    acum  \\\n",
       "293      289      AFONSO CLAUDIO 2021-02-01      29.00        -20.00  337.00   \n",
       "294      290      AFONSO CLAUDIO 2021-02-02      17.00         -8.00  346.00   \n",
       "295      291      AFONSO CLAUDIO 2021-02-03      13.00        -29.00  330.00   \n",
       "296      292      AFONSO CLAUDIO 2021-02-04      23.00        -14.00  339.00   \n",
       "297      293      AFONSO CLAUDIO 2021-02-05      17.00        -18.00  338.00   \n",
       "298      294      AFONSO CLAUDIO 2021-02-06       9.00        -13.00  334.00   \n",
       "299      295      AFONSO CLAUDIO 2021-02-07      14.00          0.00  348.00   \n",
       "300      296      AFONSO CLAUDIO 2021-02-08      14.00        -27.00  335.00   \n",
       "301      297      AFONSO CLAUDIO 2021-02-09      11.00         -2.00  344.00   \n",
       "302      298      AFONSO CLAUDIO 2021-02-10      13.00        -19.00  338.00   \n",
       "303      299      AFONSO CLAUDIO 2021-02-11      16.00         -1.00  353.00   \n",
       "304      300      AFONSO CLAUDIO 2021-02-12      14.00        -32.00  335.00   \n",
       "305      301      AFONSO CLAUDIO 2021-02-13      11.00         -3.00  343.00   \n",
       "306      302      AFONSO CLAUDIO 2021-02-14       8.00          0.00  351.00   \n",
       "307      303      AFONSO CLAUDIO 2021-02-15      19.00         -9.00  361.00   \n",
       "308      304      AFONSO CLAUDIO 2021-02-16      10.00         -1.00  370.00   \n",
       "309      305      AFONSO CLAUDIO 2021-02-17      18.00        -22.00  366.00   \n",
       "310      306      AFONSO CLAUDIO 2021-02-18      12.00        -73.00  305.00   \n",
       "311      307      AFONSO CLAUDIO 2021-02-19      22.00        -28.00  299.00   \n",
       "312      308      AFONSO CLAUDIO 2021-02-20      12.00          0.00  311.00   \n",
       "313      309      AFONSO CLAUDIO 2021-02-21      13.00        -23.00  301.00   \n",
       "314      310      AFONSO CLAUDIO 2021-02-22      14.00        -35.00  280.00   \n",
       "315      311      AFONSO CLAUDIO 2021-02-23       9.00        -23.00  266.00   \n",
       "316      312      AFONSO CLAUDIO 2021-02-24      11.00        -10.00  267.00   \n",
       "317      313      AFONSO CLAUDIO 2021-02-25      15.00        -20.00  262.00   \n",
       "318      314      AFONSO CLAUDIO 2021-02-26      13.00        -10.00  265.00   \n",
       "319      315      AFONSO CLAUDIO 2021-02-27       7.00        -11.00  261.00   \n",
       "320      316      AFONSO CLAUDIO 2021-02-28      14.00        -10.00  265.00   \n",
       "665      630  AGUA DOCE DO NORTE 2021-02-01       1.00          0.00   43.00   \n",
       "666      631  AGUA DOCE DO NORTE 2021-02-02       1.00        -16.00   28.00   \n",
       "...      ...                 ...        ...        ...           ...     ...   \n",
       "31392  29788          VILA VELHA 2021-02-27     129.00        -73.00 4623.00   \n",
       "31393  29789          VILA VELHA 2021-02-28     170.00        -74.00 4719.00   \n",
       "31856  30250             VITORIA 2021-02-01     159.00       -128.00 2419.00   \n",
       "31857  30251             VITORIA 2021-02-02     109.00        -87.00 2441.00   \n",
       "31858  30252             VITORIA 2021-02-03      88.00        -98.00 2431.00   \n",
       "31859  30253             VITORIA 2021-02-04      88.00       -111.00 2408.00   \n",
       "31860  30254             VITORIA 2021-02-05      84.00        -74.00 2418.00   \n",
       "31861  30255             VITORIA 2021-02-06      76.00        -24.00 2470.00   \n",
       "31862  30256             VITORIA 2021-02-07      80.00        -18.00 2532.00   \n",
       "31863  30257             VITORIA 2021-02-08      82.00       -220.00 2394.00   \n",
       "31864  30258             VITORIA 2021-02-09      99.00       -134.00 2359.00   \n",
       "31865  30259             VITORIA 2021-02-10      98.00       -141.00 2316.00   \n",
       "31866  30260             VITORIA 2021-02-11      68.00       -156.00 2228.00   \n",
       "31867  30261             VITORIA 2021-02-12      92.00       -217.00 2103.00   \n",
       "31868  30262             VITORIA 2021-02-13      73.00        -76.00 2100.00   \n",
       "31869  30263             VITORIA 2021-02-14      74.00        -42.00 2132.00   \n",
       "31870  30264             VITORIA 2021-02-15     101.00       -169.00 2064.00   \n",
       "31871  30265             VITORIA 2021-02-16      81.00        -47.00 2098.00   \n",
       "31872  30266             VITORIA 2021-02-17      93.00       -143.00 2048.00   \n",
       "31873  30267             VITORIA 2021-02-18     118.00       -122.00 2044.00   \n",
       "31874  30268             VITORIA 2021-02-19     106.00       -171.00 1979.00   \n",
       "31875  30269             VITORIA 2021-02-20      73.00       -311.00 1741.00   \n",
       "31876  30270             VITORIA 2021-02-21      72.00        -69.00 1744.00   \n",
       "31877  30271             VITORIA 2021-02-22     143.00        -53.00 1834.00   \n",
       "31878  30272             VITORIA 2021-02-23     133.00       -218.00 1749.00   \n",
       "31879  30273             VITORIA 2021-02-24      98.00        -97.00 1750.00   \n",
       "31880  30274             VITORIA 2021-02-25     112.00       -107.00 1755.00   \n",
       "31881  30275             VITORIA 2021-02-26     126.00        -65.00 1816.00   \n",
       "31882  30276             VITORIA 2021-02-27      92.00        -64.00 1844.00   \n",
       "31883  30277             VITORIA 2021-02-28     143.00        -41.00 1946.00   \n",
       "\n",
       "       day  week  weekday  month  year  \n",
       "293      1     5        0      2  2021  \n",
       "294      2     5        1      2  2021  \n",
       "295      3     5        2      2  2021  \n",
       "296      4     5        3      2  2021  \n",
       "297      5     5        4      2  2021  \n",
       "298      6     5        5      2  2021  \n",
       "299      7     5        6      2  2021  \n",
       "300      8     6        0      2  2021  \n",
       "301      9     6        1      2  2021  \n",
       "302     10     6        2      2  2021  \n",
       "303     11     6        3      2  2021  \n",
       "304     12     6        4      2  2021  \n",
       "305     13     6        5      2  2021  \n",
       "306     14     6        6      2  2021  \n",
       "307     15     7        0      2  2021  \n",
       "308     16     7        1      2  2021  \n",
       "309     17     7        2      2  2021  \n",
       "310     18     7        3      2  2021  \n",
       "311     19     7        4      2  2021  \n",
       "312     20     7        5      2  2021  \n",
       "313     21     7        6      2  2021  \n",
       "314     22     8        0      2  2021  \n",
       "315     23     8        1      2  2021  \n",
       "316     24     8        2      2  2021  \n",
       "317     25     8        3      2  2021  \n",
       "318     26     8        4      2  2021  \n",
       "319     27     8        5      2  2021  \n",
       "320     28     8        6      2  2021  \n",
       "665      1     5        0      2  2021  \n",
       "666      2     5        1      2  2021  \n",
       "...    ...   ...      ...    ...   ...  \n",
       "31392   27     8        5      2  2021  \n",
       "31393   28     8        6      2  2021  \n",
       "31856    1     5        0      2  2021  \n",
       "31857    2     5        1      2  2021  \n",
       "31858    3     5        2      2  2021  \n",
       "31859    4     5        3      2  2021  \n",
       "31860    5     5        4      2  2021  \n",
       "31861    6     5        5      2  2021  \n",
       "31862    7     5        6      2  2021  \n",
       "31863    8     6        0      2  2021  \n",
       "31864    9     6        1      2  2021  \n",
       "31865   10     6        2      2  2021  \n",
       "31866   11     6        3      2  2021  \n",
       "31867   12     6        4      2  2021  \n",
       "31868   13     6        5      2  2021  \n",
       "31869   14     6        6      2  2021  \n",
       "31870   15     7        0      2  2021  \n",
       "31871   16     7        1      2  2021  \n",
       "31872   17     7        2      2  2021  \n",
       "31873   18     7        3      2  2021  \n",
       "31874   19     7        4      2  2021  \n",
       "31875   20     7        5      2  2021  \n",
       "31876   21     7        6      2  2021  \n",
       "31877   22     8        0      2  2021  \n",
       "31878   23     8        1      2  2021  \n",
       "31879   24     8        2      2  2021  \n",
       "31880   25     8        3      2  2021  \n",
       "31881   26     8        4      2  2021  \n",
       "31882   27     8        5      2  2021  \n",
       "31883   28     8        6      2  2021  \n",
       "\n",
       "[2085 rows x 11 columns]"
      ]
     },
     "execution_count": 149,
     "metadata": {},
     "output_type": "execute_result"
    }
   ],
   "source": [
    "df_calendar[df_calendar['month']==2]"
   ]
  },
  {
   "cell_type": "code",
   "execution_count": 150,
   "metadata": {},
   "outputs": [],
   "source": [
    "# --------- CRIANDO LISTAS PARA PLOTAGEM DO CALENDÁRIO ---------\n",
    "# variaveis para ajudar na manipulacao dos dados\n",
    "# quantidade de dias no mes de análise\n",
    "dias_28 = [2]\n",
    "dias_31 = [1, 3, 5, 7, 8, 10, 12]\n",
    "dias_30 = [4, 6, 9, 11]\n",
    "\n",
    "if mes_analise in dias_28 and ano_analise != 2020:\n",
    "    n_dias = 28\n",
    "elif mes_analise in dias_30:\n",
    "    n_dias = 30\n",
    "elif mes_analise in dias_31:\n",
    "    n_dias = 31\n",
    "else:\n",
    "    n_dias = 29\n",
    "\n",
    "# NameError: name 'mes_analise' is not defined"
   ]
  },
  {
   "cell_type": "code",
   "execution_count": 151,
   "metadata": {},
   "outputs": [],
   "source": [
    "# cidade='VITORIA'\n",
    "# tipo= 'NOVOS CASOS'\n",
    "# mes_analise= 2\n",
    "# ano_analise= 2021"
   ]
  },
  {
   "cell_type": "code",
   "execution_count": 152,
   "metadata": {},
   "outputs": [],
   "source": [
    "#aplicando filtros\n",
    "if tipo == 'NOVOS CASOS':\n",
    "    df_calendar_display = df_calendar[\n",
    "        (df_calendar['Municipio'] == cidade) &\n",
    "        (df_calendar['month'] == mes_analise) &\n",
    "        (df_calendar['year'] == ano_analise)][['Municipio', 'date', 'day', 'week', 'weekday', 'month', 'year', 'count_new']].sort_values(by=['day']).reset_index().drop(columns=['index'])\n",
    "else:\n",
    "    df_calendar_display = df_calendar[\n",
    "        (df_calendar['Municipio'] == cidade) &\n",
    "        (df_calendar['month'] == mes_analise) &\n",
    "        (df_calendar['year'] == ano_analise)][['Municipio', 'date', 'day', 'week', 'weekday', 'month', 'year', 'acum']].sort_values(by=['day']).reset_index().drop(columns=['index'])"
   ]
  },
  {
   "cell_type": "code",
   "execution_count": 153,
   "metadata": {},
   "outputs": [
    {
     "data": {
      "text/html": [
       "<div>\n",
       "<style scoped>\n",
       "    .dataframe tbody tr th:only-of-type {\n",
       "        vertical-align: middle;\n",
       "    }\n",
       "\n",
       "    .dataframe tbody tr th {\n",
       "        vertical-align: top;\n",
       "    }\n",
       "\n",
       "    .dataframe thead th {\n",
       "        text-align: right;\n",
       "    }\n",
       "</style>\n",
       "<table border=\"1\" class=\"dataframe\">\n",
       "  <thead>\n",
       "    <tr style=\"text-align: right;\">\n",
       "      <th></th>\n",
       "      <th>Municipio</th>\n",
       "      <th>date</th>\n",
       "      <th>day</th>\n",
       "      <th>week</th>\n",
       "      <th>weekday</th>\n",
       "      <th>month</th>\n",
       "      <th>year</th>\n",
       "      <th>count_new</th>\n",
       "    </tr>\n",
       "  </thead>\n",
       "  <tbody>\n",
       "    <tr>\n",
       "      <th>0</th>\n",
       "      <td>AFONSO CLAUDIO</td>\n",
       "      <td>2021-01-01</td>\n",
       "      <td>1</td>\n",
       "      <td>53</td>\n",
       "      <td>4</td>\n",
       "      <td>1</td>\n",
       "      <td>2021</td>\n",
       "      <td>7.00</td>\n",
       "    </tr>\n",
       "    <tr>\n",
       "      <th>1</th>\n",
       "      <td>AFONSO CLAUDIO</td>\n",
       "      <td>2021-01-02</td>\n",
       "      <td>2</td>\n",
       "      <td>53</td>\n",
       "      <td>5</td>\n",
       "      <td>1</td>\n",
       "      <td>2021</td>\n",
       "      <td>6.00</td>\n",
       "    </tr>\n",
       "    <tr>\n",
       "      <th>2</th>\n",
       "      <td>AFONSO CLAUDIO</td>\n",
       "      <td>2021-01-03</td>\n",
       "      <td>3</td>\n",
       "      <td>53</td>\n",
       "      <td>6</td>\n",
       "      <td>1</td>\n",
       "      <td>2021</td>\n",
       "      <td>15.00</td>\n",
       "    </tr>\n",
       "    <tr>\n",
       "      <th>3</th>\n",
       "      <td>AFONSO CLAUDIO</td>\n",
       "      <td>2021-01-04</td>\n",
       "      <td>4</td>\n",
       "      <td>1</td>\n",
       "      <td>0</td>\n",
       "      <td>1</td>\n",
       "      <td>2021</td>\n",
       "      <td>10.00</td>\n",
       "    </tr>\n",
       "    <tr>\n",
       "      <th>4</th>\n",
       "      <td>AFONSO CLAUDIO</td>\n",
       "      <td>2021-01-05</td>\n",
       "      <td>5</td>\n",
       "      <td>1</td>\n",
       "      <td>1</td>\n",
       "      <td>1</td>\n",
       "      <td>2021</td>\n",
       "      <td>14.00</td>\n",
       "    </tr>\n",
       "    <tr>\n",
       "      <th>5</th>\n",
       "      <td>AFONSO CLAUDIO</td>\n",
       "      <td>2021-01-06</td>\n",
       "      <td>6</td>\n",
       "      <td>1</td>\n",
       "      <td>2</td>\n",
       "      <td>1</td>\n",
       "      <td>2021</td>\n",
       "      <td>13.00</td>\n",
       "    </tr>\n",
       "    <tr>\n",
       "      <th>6</th>\n",
       "      <td>AFONSO CLAUDIO</td>\n",
       "      <td>2021-01-07</td>\n",
       "      <td>7</td>\n",
       "      <td>1</td>\n",
       "      <td>3</td>\n",
       "      <td>1</td>\n",
       "      <td>2021</td>\n",
       "      <td>12.00</td>\n",
       "    </tr>\n",
       "    <tr>\n",
       "      <th>7</th>\n",
       "      <td>AFONSO CLAUDIO</td>\n",
       "      <td>2021-01-08</td>\n",
       "      <td>8</td>\n",
       "      <td>1</td>\n",
       "      <td>4</td>\n",
       "      <td>1</td>\n",
       "      <td>2021</td>\n",
       "      <td>15.00</td>\n",
       "    </tr>\n",
       "    <tr>\n",
       "      <th>8</th>\n",
       "      <td>AFONSO CLAUDIO</td>\n",
       "      <td>2021-01-09</td>\n",
       "      <td>9</td>\n",
       "      <td>1</td>\n",
       "      <td>5</td>\n",
       "      <td>1</td>\n",
       "      <td>2021</td>\n",
       "      <td>8.00</td>\n",
       "    </tr>\n",
       "    <tr>\n",
       "      <th>9</th>\n",
       "      <td>AFONSO CLAUDIO</td>\n",
       "      <td>2021-01-10</td>\n",
       "      <td>10</td>\n",
       "      <td>1</td>\n",
       "      <td>6</td>\n",
       "      <td>1</td>\n",
       "      <td>2021</td>\n",
       "      <td>9.00</td>\n",
       "    </tr>\n",
       "    <tr>\n",
       "      <th>10</th>\n",
       "      <td>AFONSO CLAUDIO</td>\n",
       "      <td>2021-01-11</td>\n",
       "      <td>11</td>\n",
       "      <td>2</td>\n",
       "      <td>0</td>\n",
       "      <td>1</td>\n",
       "      <td>2021</td>\n",
       "      <td>14.00</td>\n",
       "    </tr>\n",
       "    <tr>\n",
       "      <th>11</th>\n",
       "      <td>AFONSO CLAUDIO</td>\n",
       "      <td>2021-01-12</td>\n",
       "      <td>12</td>\n",
       "      <td>2</td>\n",
       "      <td>1</td>\n",
       "      <td>1</td>\n",
       "      <td>2021</td>\n",
       "      <td>18.00</td>\n",
       "    </tr>\n",
       "    <tr>\n",
       "      <th>12</th>\n",
       "      <td>AFONSO CLAUDIO</td>\n",
       "      <td>2021-01-13</td>\n",
       "      <td>13</td>\n",
       "      <td>2</td>\n",
       "      <td>2</td>\n",
       "      <td>1</td>\n",
       "      <td>2021</td>\n",
       "      <td>15.00</td>\n",
       "    </tr>\n",
       "    <tr>\n",
       "      <th>13</th>\n",
       "      <td>AFONSO CLAUDIO</td>\n",
       "      <td>2021-01-14</td>\n",
       "      <td>14</td>\n",
       "      <td>2</td>\n",
       "      <td>3</td>\n",
       "      <td>1</td>\n",
       "      <td>2021</td>\n",
       "      <td>11.00</td>\n",
       "    </tr>\n",
       "    <tr>\n",
       "      <th>14</th>\n",
       "      <td>AFONSO CLAUDIO</td>\n",
       "      <td>2021-01-15</td>\n",
       "      <td>15</td>\n",
       "      <td>2</td>\n",
       "      <td>4</td>\n",
       "      <td>1</td>\n",
       "      <td>2021</td>\n",
       "      <td>7.00</td>\n",
       "    </tr>\n",
       "    <tr>\n",
       "      <th>15</th>\n",
       "      <td>AFONSO CLAUDIO</td>\n",
       "      <td>2021-01-16</td>\n",
       "      <td>16</td>\n",
       "      <td>2</td>\n",
       "      <td>5</td>\n",
       "      <td>1</td>\n",
       "      <td>2021</td>\n",
       "      <td>8.00</td>\n",
       "    </tr>\n",
       "    <tr>\n",
       "      <th>16</th>\n",
       "      <td>AFONSO CLAUDIO</td>\n",
       "      <td>2021-01-17</td>\n",
       "      <td>17</td>\n",
       "      <td>2</td>\n",
       "      <td>6</td>\n",
       "      <td>1</td>\n",
       "      <td>2021</td>\n",
       "      <td>13.00</td>\n",
       "    </tr>\n",
       "    <tr>\n",
       "      <th>17</th>\n",
       "      <td>AFONSO CLAUDIO</td>\n",
       "      <td>2021-01-18</td>\n",
       "      <td>18</td>\n",
       "      <td>3</td>\n",
       "      <td>0</td>\n",
       "      <td>1</td>\n",
       "      <td>2021</td>\n",
       "      <td>10.00</td>\n",
       "    </tr>\n",
       "    <tr>\n",
       "      <th>18</th>\n",
       "      <td>AFONSO CLAUDIO</td>\n",
       "      <td>2021-01-19</td>\n",
       "      <td>19</td>\n",
       "      <td>3</td>\n",
       "      <td>1</td>\n",
       "      <td>1</td>\n",
       "      <td>2021</td>\n",
       "      <td>11.00</td>\n",
       "    </tr>\n",
       "    <tr>\n",
       "      <th>19</th>\n",
       "      <td>AFONSO CLAUDIO</td>\n",
       "      <td>2021-01-20</td>\n",
       "      <td>20</td>\n",
       "      <td>3</td>\n",
       "      <td>2</td>\n",
       "      <td>1</td>\n",
       "      <td>2021</td>\n",
       "      <td>18.00</td>\n",
       "    </tr>\n",
       "    <tr>\n",
       "      <th>20</th>\n",
       "      <td>AFONSO CLAUDIO</td>\n",
       "      <td>2021-01-21</td>\n",
       "      <td>21</td>\n",
       "      <td>3</td>\n",
       "      <td>3</td>\n",
       "      <td>1</td>\n",
       "      <td>2021</td>\n",
       "      <td>11.00</td>\n",
       "    </tr>\n",
       "    <tr>\n",
       "      <th>21</th>\n",
       "      <td>AFONSO CLAUDIO</td>\n",
       "      <td>2021-01-22</td>\n",
       "      <td>22</td>\n",
       "      <td>3</td>\n",
       "      <td>4</td>\n",
       "      <td>1</td>\n",
       "      <td>2021</td>\n",
       "      <td>19.00</td>\n",
       "    </tr>\n",
       "    <tr>\n",
       "      <th>22</th>\n",
       "      <td>AFONSO CLAUDIO</td>\n",
       "      <td>2021-01-23</td>\n",
       "      <td>23</td>\n",
       "      <td>3</td>\n",
       "      <td>5</td>\n",
       "      <td>1</td>\n",
       "      <td>2021</td>\n",
       "      <td>7.00</td>\n",
       "    </tr>\n",
       "    <tr>\n",
       "      <th>23</th>\n",
       "      <td>AFONSO CLAUDIO</td>\n",
       "      <td>2021-01-24</td>\n",
       "      <td>24</td>\n",
       "      <td>3</td>\n",
       "      <td>6</td>\n",
       "      <td>1</td>\n",
       "      <td>2021</td>\n",
       "      <td>21.00</td>\n",
       "    </tr>\n",
       "    <tr>\n",
       "      <th>24</th>\n",
       "      <td>AFONSO CLAUDIO</td>\n",
       "      <td>2021-01-25</td>\n",
       "      <td>25</td>\n",
       "      <td>4</td>\n",
       "      <td>0</td>\n",
       "      <td>1</td>\n",
       "      <td>2021</td>\n",
       "      <td>24.00</td>\n",
       "    </tr>\n",
       "    <tr>\n",
       "      <th>25</th>\n",
       "      <td>AFONSO CLAUDIO</td>\n",
       "      <td>2021-01-26</td>\n",
       "      <td>26</td>\n",
       "      <td>4</td>\n",
       "      <td>1</td>\n",
       "      <td>1</td>\n",
       "      <td>2021</td>\n",
       "      <td>23.00</td>\n",
       "    </tr>\n",
       "    <tr>\n",
       "      <th>26</th>\n",
       "      <td>AFONSO CLAUDIO</td>\n",
       "      <td>2021-01-27</td>\n",
       "      <td>27</td>\n",
       "      <td>4</td>\n",
       "      <td>2</td>\n",
       "      <td>1</td>\n",
       "      <td>2021</td>\n",
       "      <td>19.00</td>\n",
       "    </tr>\n",
       "    <tr>\n",
       "      <th>27</th>\n",
       "      <td>AFONSO CLAUDIO</td>\n",
       "      <td>2021-01-28</td>\n",
       "      <td>28</td>\n",
       "      <td>4</td>\n",
       "      <td>3</td>\n",
       "      <td>1</td>\n",
       "      <td>2021</td>\n",
       "      <td>19.00</td>\n",
       "    </tr>\n",
       "    <tr>\n",
       "      <th>28</th>\n",
       "      <td>AFONSO CLAUDIO</td>\n",
       "      <td>2021-01-29</td>\n",
       "      <td>29</td>\n",
       "      <td>4</td>\n",
       "      <td>4</td>\n",
       "      <td>1</td>\n",
       "      <td>2021</td>\n",
       "      <td>19.00</td>\n",
       "    </tr>\n",
       "    <tr>\n",
       "      <th>29</th>\n",
       "      <td>AFONSO CLAUDIO</td>\n",
       "      <td>2021-01-30</td>\n",
       "      <td>30</td>\n",
       "      <td>4</td>\n",
       "      <td>5</td>\n",
       "      <td>1</td>\n",
       "      <td>2021</td>\n",
       "      <td>12.00</td>\n",
       "    </tr>\n",
       "    <tr>\n",
       "      <th>30</th>\n",
       "      <td>AFONSO CLAUDIO</td>\n",
       "      <td>2021-01-31</td>\n",
       "      <td>31</td>\n",
       "      <td>4</td>\n",
       "      <td>6</td>\n",
       "      <td>1</td>\n",
       "      <td>2021</td>\n",
       "      <td>19.00</td>\n",
       "    </tr>\n",
       "  </tbody>\n",
       "</table>\n",
       "</div>"
      ],
      "text/plain": [
       "         Municipio       date  day  week  weekday  month  year  count_new\n",
       "0   AFONSO CLAUDIO 2021-01-01    1    53        4      1  2021       7.00\n",
       "1   AFONSO CLAUDIO 2021-01-02    2    53        5      1  2021       6.00\n",
       "2   AFONSO CLAUDIO 2021-01-03    3    53        6      1  2021      15.00\n",
       "3   AFONSO CLAUDIO 2021-01-04    4     1        0      1  2021      10.00\n",
       "4   AFONSO CLAUDIO 2021-01-05    5     1        1      1  2021      14.00\n",
       "5   AFONSO CLAUDIO 2021-01-06    6     1        2      1  2021      13.00\n",
       "6   AFONSO CLAUDIO 2021-01-07    7     1        3      1  2021      12.00\n",
       "7   AFONSO CLAUDIO 2021-01-08    8     1        4      1  2021      15.00\n",
       "8   AFONSO CLAUDIO 2021-01-09    9     1        5      1  2021       8.00\n",
       "9   AFONSO CLAUDIO 2021-01-10   10     1        6      1  2021       9.00\n",
       "10  AFONSO CLAUDIO 2021-01-11   11     2        0      1  2021      14.00\n",
       "11  AFONSO CLAUDIO 2021-01-12   12     2        1      1  2021      18.00\n",
       "12  AFONSO CLAUDIO 2021-01-13   13     2        2      1  2021      15.00\n",
       "13  AFONSO CLAUDIO 2021-01-14   14     2        3      1  2021      11.00\n",
       "14  AFONSO CLAUDIO 2021-01-15   15     2        4      1  2021       7.00\n",
       "15  AFONSO CLAUDIO 2021-01-16   16     2        5      1  2021       8.00\n",
       "16  AFONSO CLAUDIO 2021-01-17   17     2        6      1  2021      13.00\n",
       "17  AFONSO CLAUDIO 2021-01-18   18     3        0      1  2021      10.00\n",
       "18  AFONSO CLAUDIO 2021-01-19   19     3        1      1  2021      11.00\n",
       "19  AFONSO CLAUDIO 2021-01-20   20     3        2      1  2021      18.00\n",
       "20  AFONSO CLAUDIO 2021-01-21   21     3        3      1  2021      11.00\n",
       "21  AFONSO CLAUDIO 2021-01-22   22     3        4      1  2021      19.00\n",
       "22  AFONSO CLAUDIO 2021-01-23   23     3        5      1  2021       7.00\n",
       "23  AFONSO CLAUDIO 2021-01-24   24     3        6      1  2021      21.00\n",
       "24  AFONSO CLAUDIO 2021-01-25   25     4        0      1  2021      24.00\n",
       "25  AFONSO CLAUDIO 2021-01-26   26     4        1      1  2021      23.00\n",
       "26  AFONSO CLAUDIO 2021-01-27   27     4        2      1  2021      19.00\n",
       "27  AFONSO CLAUDIO 2021-01-28   28     4        3      1  2021      19.00\n",
       "28  AFONSO CLAUDIO 2021-01-29   29     4        4      1  2021      19.00\n",
       "29  AFONSO CLAUDIO 2021-01-30   30     4        5      1  2021      12.00\n",
       "30  AFONSO CLAUDIO 2021-01-31   31     4        6      1  2021      19.00"
      ]
     },
     "execution_count": 153,
     "metadata": {},
     "output_type": "execute_result"
    }
   ],
   "source": [
    "df_calendar_display"
   ]
  },
  {
   "cell_type": "code",
   "execution_count": 154,
   "metadata": {},
   "outputs": [],
   "source": [
    "from datetime import datetime"
   ]
  },
  {
   "cell_type": "code",
   "execution_count": 155,
   "metadata": {
    "scrolled": false
   },
   "outputs": [],
   "source": [
    "#TESTE MUDANCA CODIGO\n",
    "\n",
    "#criando listagem com a contagem de casos para cada dia do mes e as informações da semana do ano e dia da semana\n",
    "#preenchendo com zero os dias em que nao tiveram registros\n",
    "info_dia = []\n",
    "contador = 0\n",
    "for i in range(1, n_dias + 1):\n",
    "    if i == df_calendar_display['day'].iloc[contador]:\n",
    "        dia = i\n",
    "        numero_casos = int(df_calendar_display.iloc[contador,-1])\n",
    "        semana_do_ano = df_calendar_display['week'].iloc[contador]\n",
    "        dia_da_semana = df_calendar_display['weekday'].iloc[contador]\n",
    "        if contador < len(df_calendar_display)-1:\n",
    "            contador = contador + 1\n",
    "    else:\n",
    "        dia = i\n",
    "        numero_casos = 0\n",
    "        semana_do_ano = int(datetime(ano_analise, mes_analise, i).strftime('%W')) #essa função faz uma conta diferente da que usamos para calcular a semana no dataframe (por isso o + 1)\n",
    "        dia_da_semana = datetime(ano_analise, mes_analise, i).weekday()\n",
    "\n",
    "    info_dia.append([dia, numero_casos, semana_do_ano, dia_da_semana])\n",
    "\n",
    "    # IndexError: single positional indexer is out-of-bounds\n",
    "\n",
    "    ### PIMPÃO, DÁ UMA AJUDA NESSA CÉLULA."
   ]
  },
  {
   "cell_type": "code",
   "execution_count": 156,
   "metadata": {},
   "outputs": [
    {
     "data": {
      "text/plain": [
       "[[1, 7, 53, 4],\n",
       " [2, 6, 53, 5],\n",
       " [3, 15, 53, 6],\n",
       " [4, 10, 1, 0],\n",
       " [5, 14, 1, 1],\n",
       " [6, 13, 1, 2],\n",
       " [7, 12, 1, 3],\n",
       " [8, 15, 1, 4],\n",
       " [9, 8, 1, 5],\n",
       " [10, 9, 1, 6],\n",
       " [11, 14, 2, 0],\n",
       " [12, 18, 2, 1],\n",
       " [13, 15, 2, 2],\n",
       " [14, 11, 2, 3],\n",
       " [15, 7, 2, 4],\n",
       " [16, 8, 2, 5],\n",
       " [17, 13, 2, 6],\n",
       " [18, 10, 3, 0],\n",
       " [19, 11, 3, 1],\n",
       " [20, 18, 3, 2],\n",
       " [21, 11, 3, 3],\n",
       " [22, 19, 3, 4],\n",
       " [23, 7, 3, 5],\n",
       " [24, 21, 3, 6],\n",
       " [25, 24, 4, 0],\n",
       " [26, 23, 4, 1],\n",
       " [27, 19, 4, 2],\n",
       " [28, 19, 4, 3],\n",
       " [29, 19, 4, 4],\n",
       " [30, 12, 4, 5],\n",
       " [31, 19, 4, 6]]"
      ]
     },
     "execution_count": 156,
     "metadata": {},
     "output_type": "execute_result"
    }
   ],
   "source": [
    "info_dia"
   ]
  },
  {
   "cell_type": "code",
   "execution_count": 157,
   "metadata": {},
   "outputs": [],
   "source": [
    "# #criando listagem com a contagem de casos para cada dia do mes e as informações da semana do ano e dia da semana\n",
    "# #preenchendo com zero os dias em que nao tiveram registros\n",
    "# info_dia = []\n",
    "# for i in range(1, n_dias + 1):\n",
    "#     if i == df_calendar_display['day'].iloc[i - 1]:\n",
    "#         dia = i\n",
    "#         numero_casos = int(df_calendar_display.iloc[i-1,-1])\n",
    "#         semana_do_ano = df_calendar_display['week'].iloc[i-1]\n",
    "#         dia_da_semana = df_calendar_display['weekday'].iloc[i-1]\n",
    "#     else:\n",
    "#         dia = i\n",
    "#         numero_casos = 0\n",
    "#         semana_do_ano = int(datetime(ano_analise, mes_analise, i).strftime('%W')) + 1 #essa função faz uma conta diferente da que usamos para calcular a semana no dataframe (por isso o + 1)\n",
    "#         dia_da_semana = datetime(ano_analise, mes_analise, i).weekday()\n",
    "\n",
    "#     info_dia.append([dia, numero_casos, semana_do_ano, dia_da_semana])\n",
    "\n",
    "#     # IndexError: single positional indexer is out-of-bounds\n",
    "\n",
    "#     ### PIMPÃO, DÁ UMA AJUDA NESSA CÉLULA."
   ]
  },
  {
   "cell_type": "code",
   "execution_count": 158,
   "metadata": {},
   "outputs": [],
   "source": [
    "#separando essa lista em outras 4\n",
    "dias, n_casos, semana, dia_semana = zip(*info_dia)\n",
    "\n"
   ]
  },
  {
   "cell_type": "code",
   "execution_count": 159,
   "metadata": {},
   "outputs": [],
   "source": [
    "#criando lista com o numero de casos de cada dia do mes e separado em lista por semana\n",
    "final_casos = []\n",
    "parcial_casos = []\n",
    "for i, week in enumerate(semana):\n",
    "    if i == 0:\n",
    "        parcial_casos.append(n_casos[i])\n",
    "    elif i == n_dias - 1:\n",
    "        parcial_casos.append(n_casos[i])\n",
    "        final_casos.append(parcial_casos)\n",
    "    else:\n",
    "        if week == semana[i-1]:\n",
    "            parcial_casos.append(n_casos[i])\n",
    "        else:\n",
    "            final_casos.append(parcial_casos)\n",
    "            parcial_casos = []\n",
    "            parcial_casos.append(n_casos[i])"
   ]
  },
  {
   "cell_type": "code",
   "execution_count": 160,
   "metadata": {},
   "outputs": [
    {
     "data": {
      "text/plain": [
       "[[7, 6, 15],\n",
       " [10, 14, 13, 12, 15, 8, 9],\n",
       " [14, 18, 15, 11, 7, 8, 13],\n",
       " [10, 11, 18, 11, 19, 7, 21],\n",
       " [24, 23, 19, 19, 19, 12, 19]]"
      ]
     },
     "execution_count": 160,
     "metadata": {},
     "output_type": "execute_result"
    }
   ],
   "source": [
    "final_casos"
   ]
  },
  {
   "cell_type": "code",
   "execution_count": 187,
   "metadata": {},
   "outputs": [],
   "source": [
    "#calculando o valor maximo da quantidade de casos para servir como ponto maximo da escala de cores\n",
    "max_value = []\n",
    "for i in range(len(final_casos)):\n",
    "    max_value.append(max(final_casos[i]))\n",
    "\n",
    "max_value = max(max_value)"
   ]
  },
  {
   "cell_type": "code",
   "execution_count": 211,
   "metadata": {},
   "outputs": [],
   "source": [
    "#preenchendo valores relativos aos dias que completam as semanas com menos de 7 dias (inicio/final)\n",
    "#o max_value serve para ajustar a cor (branco) que vai ser printado no heatmap para esses valores de preenchimento\n",
    "while len(final_casos[0]) < 7:\n",
    "    final_casos[0].insert(0, -0.001*max_value)\n",
    "\n",
    "while len(final_casos[-1]) < 7:\n",
    "    final_casos[-1].append(0.001*max_value)"
   ]
  },
  {
   "cell_type": "code",
   "execution_count": 213,
   "metadata": {},
   "outputs": [
    {
     "data": {
      "text/plain": [
       "-0.024"
      ]
     },
     "execution_count": 213,
     "metadata": {},
     "output_type": "execute_result"
    }
   ],
   "source": [
    "-0.001*max_value"
   ]
  },
  {
   "cell_type": "code",
   "execution_count": 214,
   "metadata": {},
   "outputs": [
    {
     "data": {
      "text/plain": [
       "[[0.024, 0.024, 0.024, 0.024, 7, 6, 15],\n",
       " [10, 14, 13, 12, 15, 8, 9],\n",
       " [14, 18, 15, 11, 7, 8, 13],\n",
       " [10, 11, 18, 11, 19, 7, 21],\n",
       " [24, 23, 19, 19, 19, 0, 1]]"
      ]
     },
     "execution_count": 214,
     "metadata": {},
     "output_type": "execute_result"
    }
   ],
   "source": [
    "for i in final_casos:\n",
    "    for j in i:\n",
    "        if j>0 and j<1:\n",
    "            j = j*-1\n",
    "\n",
    "final_casos"
   ]
  },
  {
   "cell_type": "code",
   "execution_count": 212,
   "metadata": {},
   "outputs": [
    {
     "data": {
      "text/plain": [
       "[[0.024, 0.024, 0.024, 0.024, 7, 6, 15],\n",
       " [10, 14, 13, 12, 15, 8, 9],\n",
       " [14, 18, 15, 11, 7, 8, 13],\n",
       " [10, 11, 18, 11, 19, 7, 21],\n",
       " [24, 23, 19, 19, 19, 0, 1]]"
      ]
     },
     "execution_count": 212,
     "metadata": {},
     "output_type": "execute_result"
    }
   ],
   "source": [
    "final_casos"
   ]
  },
  {
   "cell_type": "code",
   "execution_count": 189,
   "metadata": {},
   "outputs": [],
   "source": [
    "#tranformando dias de int para str\n",
    "dias = list(map(str, dias))"
   ]
  },
  {
   "cell_type": "code",
   "execution_count": 190,
   "metadata": {},
   "outputs": [],
   "source": [
    "#preenchendo lista de acordo com o exigido para o plot (lista de listas para cada semana do mes)\n",
    "final_dias = []\n",
    "parcial_dias = []\n",
    "contador = dia_semana[0] + 1\n",
    "\n",
    "for i, dia in enumerate(dias):\n",
    "    if i == len(dias) - 1:\n",
    "        parcial_dias.append(dia)\n",
    "        final_dias.append(parcial_dias)\n",
    "    elif contador < 8:\n",
    "        parcial_dias.append(dia)\n",
    "        contador += 1\n",
    "    else:\n",
    "        final_dias.append(parcial_dias)\n",
    "        parcial_dias = []\n",
    "        parcial_dias.append(dia)\n",
    "        contador = 2"
   ]
  },
  {
   "cell_type": "code",
   "execution_count": 191,
   "metadata": {},
   "outputs": [],
   "source": [
    "#preenchendo as semanas que ficaram com menos de 7 dias com os dias do mes anterior e subsequente\n",
    "if mes_analise in [1, 2, 4, 6, 8, 9, 11]:\n",
    "    contador = 0\n",
    "    while len(final_dias[0]) < 7:\n",
    "        final_dias[0].insert(0, str(31-contador))\n",
    "        contador += 1\n",
    "    contador = 0\n",
    "    while len(final_dias[-1]) < 7:\n",
    "        final_dias[-1].append(str(contador+1))\n",
    "        contador += 1\n",
    "elif mes_analise == 3 and ano_analise != 2020:\n",
    "    contador = 0\n",
    "    while len(final_dias[0]) < 7:\n",
    "        final_dias[0].insert(0, str(28-contador))\n",
    "        contador += 1\n",
    "    contador = 0\n",
    "    while len(final_dias[-1]) < 7:\n",
    "        final_dias[-1].append(str(contador+1))\n",
    "        contador += 1\n",
    "elif mes_analise == 3 and ano_analise == 2020:\n",
    "    contador = 0\n",
    "    while len(final_dias[0]) < 7:\n",
    "        final_dias[0].insert(0, str(29-contador))\n",
    "        contador += 1\n",
    "    contador = 0\n",
    "    while len(final_dias[-1]) < 7:\n",
    "        final_dias[-1].append(str(contador+1))\n",
    "        contador += 1\n",
    "elif mes_analise in [5, 7, 10, 12]:\n",
    "    contador = 0\n",
    "    while len(final_dias[0]) < 7:\n",
    "        final_dias[0].insert(0, str(30-contador))\n",
    "        contador += 1\n",
    "    contador = 0\n",
    "    while len(final_dias[-1]) < 7:\n",
    "        final_dias[-1].append(str(contador+1))\n",
    "        contador += 1"
   ]
  },
  {
   "cell_type": "code",
   "execution_count": 192,
   "metadata": {},
   "outputs": [],
   "source": [
    "#criando os labels das semanas\n",
    "y_label = []\n",
    "for i in range(len(final_dias)):\n",
    "    y_label.append('Semana ' + str(i+1))"
   ]
  },
  {
   "cell_type": "code",
   "execution_count": 193,
   "metadata": {},
   "outputs": [
    {
     "data": {
      "text/plain": [
       "[[0.024, 0.024, 0.024, 0.024, 7, 6, 15],\n",
       " [10, 14, 13, 12, 15, 8, 9],\n",
       " [14, 18, 15, 11, 7, 8, 13],\n",
       " [10, 11, 18, 11, 19, 7, 21],\n",
       " [24, 23, 19, 19, 19, 0, 1]]"
      ]
     },
     "execution_count": 193,
     "metadata": {},
     "output_type": "execute_result"
    }
   ],
   "source": [
    "final_casos"
   ]
  },
  {
   "cell_type": "code",
   "execution_count": 197,
   "metadata": {},
   "outputs": [
    {
     "data": {
      "text/plain": [
       "[[0.024, 0.024, 0.024, 0.024, 7, 6, 15],\n",
       " [10, 14, 13, 12, 15, 8, 9],\n",
       " [14, 18, 15, 11, 7, 8, 13],\n",
       " [10, 11, 18, 11, 19, 7, 21],\n",
       " [24, 23, 19, 19, 19, 0, 1]]"
      ]
     },
     "execution_count": 197,
     "metadata": {},
     "output_type": "execute_result"
    }
   ],
   "source": [
    "final_casos[4][5] = 0\n",
    "final_casos[4][6] = 1\n",
    "final_casos"
   ]
  },
  {
   "cell_type": "code",
   "execution_count": 195,
   "metadata": {},
   "outputs": [],
   "source": [
    "lst_min = []\n",
    "for i in final_casos:\n",
    "    lst_min.append(min(i))\n",
    "\n",
    "min_value = min(lst_min)"
   ]
  },
  {
   "cell_type": "code",
   "execution_count": 196,
   "metadata": {},
   "outputs": [
    {
     "data": {
      "application/vnd.plotly.v1+json": {
       "config": {
        "plotlyServerURL": "https://plot.ly"
       },
       "data": [
        {
         "colorscale": [
          [
           0,
           "rgb(235, 236, 240)"
          ],
          [
           1e-05,
           "rgb(255,255,255)"
          ],
          [
           0.1,
           "rgb(255,245,240)"
          ],
          [
           0.2,
           "rgb(252,201,180)"
          ],
          [
           0.4,
           "rgb(251,136,104)"
          ],
          [
           0.6,
           "rgb(242,67,49)"
          ],
          [
           0.8,
           "rgb(187,19,25)"
          ],
          [
           1,
           "rgb(115,2,23)"
          ]
         ],
         "reversescale": false,
         "showscale": true,
         "type": "heatmap",
         "x": [
          "Segunda",
          "Terça",
          "Quarta",
          "Quinta",
          "Sexta",
          "Sabado",
          "Domingo"
         ],
         "y": [
          "Semana 5",
          "Semana 4",
          "Semana 3",
          "Semana 2",
          "Semana 1"
         ],
         "z": [
          [
           24,
           23,
           19,
           19,
           19,
           0,
           1
          ],
          [
           10,
           11,
           18,
           11,
           19,
           7,
           21
          ],
          [
           14,
           18,
           15,
           11,
           7,
           8,
           13
          ],
          [
           10,
           14,
           13,
           12,
           15,
           8,
           9
          ],
          [
           0.024,
           0.024,
           0.024,
           0.024,
           7,
           6,
           15
          ]
         ]
        }
       ],
       "layout": {
        "annotations": [
         {
          "font": {
           "color": "#FFFFFF"
          },
          "showarrow": false,
          "text": "25",
          "x": "Segunda",
          "xref": "x",
          "y": "Semana 5",
          "yref": "y"
         },
         {
          "font": {
           "color": "#FFFFFF"
          },
          "showarrow": false,
          "text": "26",
          "x": "Terça",
          "xref": "x",
          "y": "Semana 5",
          "yref": "y"
         },
         {
          "font": {
           "color": "#FFFFFF"
          },
          "showarrow": false,
          "text": "27",
          "x": "Quarta",
          "xref": "x",
          "y": "Semana 5",
          "yref": "y"
         },
         {
          "font": {
           "color": "#FFFFFF"
          },
          "showarrow": false,
          "text": "28",
          "x": "Quinta",
          "xref": "x",
          "y": "Semana 5",
          "yref": "y"
         },
         {
          "font": {
           "color": "#FFFFFF"
          },
          "showarrow": false,
          "text": "29",
          "x": "Sexta",
          "xref": "x",
          "y": "Semana 5",
          "yref": "y"
         },
         {
          "font": {
           "color": "#000000"
          },
          "showarrow": false,
          "text": "30",
          "x": "Sabado",
          "xref": "x",
          "y": "Semana 5",
          "yref": "y"
         },
         {
          "font": {
           "color": "#000000"
          },
          "showarrow": false,
          "text": "31",
          "x": "Domingo",
          "xref": "x",
          "y": "Semana 5",
          "yref": "y"
         },
         {
          "font": {
           "color": "#000000"
          },
          "showarrow": false,
          "text": "18",
          "x": "Segunda",
          "xref": "x",
          "y": "Semana 4",
          "yref": "y"
         },
         {
          "font": {
           "color": "#000000"
          },
          "showarrow": false,
          "text": "19",
          "x": "Terça",
          "xref": "x",
          "y": "Semana 4",
          "yref": "y"
         },
         {
          "font": {
           "color": "#FFFFFF"
          },
          "showarrow": false,
          "text": "20",
          "x": "Quarta",
          "xref": "x",
          "y": "Semana 4",
          "yref": "y"
         },
         {
          "font": {
           "color": "#000000"
          },
          "showarrow": false,
          "text": "21",
          "x": "Quinta",
          "xref": "x",
          "y": "Semana 4",
          "yref": "y"
         },
         {
          "font": {
           "color": "#FFFFFF"
          },
          "showarrow": false,
          "text": "22",
          "x": "Sexta",
          "xref": "x",
          "y": "Semana 4",
          "yref": "y"
         },
         {
          "font": {
           "color": "#000000"
          },
          "showarrow": false,
          "text": "23",
          "x": "Sabado",
          "xref": "x",
          "y": "Semana 4",
          "yref": "y"
         },
         {
          "font": {
           "color": "#FFFFFF"
          },
          "showarrow": false,
          "text": "24",
          "x": "Domingo",
          "xref": "x",
          "y": "Semana 4",
          "yref": "y"
         },
         {
          "font": {
           "color": "#FFFFFF"
          },
          "showarrow": false,
          "text": "11",
          "x": "Segunda",
          "xref": "x",
          "y": "Semana 3",
          "yref": "y"
         },
         {
          "font": {
           "color": "#FFFFFF"
          },
          "showarrow": false,
          "text": "12",
          "x": "Terça",
          "xref": "x",
          "y": "Semana 3",
          "yref": "y"
         },
         {
          "font": {
           "color": "#FFFFFF"
          },
          "showarrow": false,
          "text": "13",
          "x": "Quarta",
          "xref": "x",
          "y": "Semana 3",
          "yref": "y"
         },
         {
          "font": {
           "color": "#000000"
          },
          "showarrow": false,
          "text": "14",
          "x": "Quinta",
          "xref": "x",
          "y": "Semana 3",
          "yref": "y"
         },
         {
          "font": {
           "color": "#000000"
          },
          "showarrow": false,
          "text": "15",
          "x": "Sexta",
          "xref": "x",
          "y": "Semana 3",
          "yref": "y"
         },
         {
          "font": {
           "color": "#000000"
          },
          "showarrow": false,
          "text": "16",
          "x": "Sabado",
          "xref": "x",
          "y": "Semana 3",
          "yref": "y"
         },
         {
          "font": {
           "color": "#FFFFFF"
          },
          "showarrow": false,
          "text": "17",
          "x": "Domingo",
          "xref": "x",
          "y": "Semana 3",
          "yref": "y"
         },
         {
          "font": {
           "color": "#000000"
          },
          "showarrow": false,
          "text": "4",
          "x": "Segunda",
          "xref": "x",
          "y": "Semana 2",
          "yref": "y"
         },
         {
          "font": {
           "color": "#FFFFFF"
          },
          "showarrow": false,
          "text": "5",
          "x": "Terça",
          "xref": "x",
          "y": "Semana 2",
          "yref": "y"
         },
         {
          "font": {
           "color": "#FFFFFF"
          },
          "showarrow": false,
          "text": "6",
          "x": "Quarta",
          "xref": "x",
          "y": "Semana 2",
          "yref": "y"
         },
         {
          "font": {
           "color": "#FFFFFF"
          },
          "showarrow": false,
          "text": "7",
          "x": "Quinta",
          "xref": "x",
          "y": "Semana 2",
          "yref": "y"
         },
         {
          "font": {
           "color": "#FFFFFF"
          },
          "showarrow": false,
          "text": "8",
          "x": "Sexta",
          "xref": "x",
          "y": "Semana 2",
          "yref": "y"
         },
         {
          "font": {
           "color": "#000000"
          },
          "showarrow": false,
          "text": "9",
          "x": "Sabado",
          "xref": "x",
          "y": "Semana 2",
          "yref": "y"
         },
         {
          "font": {
           "color": "#000000"
          },
          "showarrow": false,
          "text": "10",
          "x": "Domingo",
          "xref": "x",
          "y": "Semana 2",
          "yref": "y"
         },
         {
          "font": {
           "color": "#000000"
          },
          "showarrow": false,
          "text": "28",
          "x": "Segunda",
          "xref": "x",
          "y": "Semana 1",
          "yref": "y"
         },
         {
          "font": {
           "color": "#000000"
          },
          "showarrow": false,
          "text": "29",
          "x": "Terça",
          "xref": "x",
          "y": "Semana 1",
          "yref": "y"
         },
         {
          "font": {
           "color": "#000000"
          },
          "showarrow": false,
          "text": "30",
          "x": "Quarta",
          "xref": "x",
          "y": "Semana 1",
          "yref": "y"
         },
         {
          "font": {
           "color": "#000000"
          },
          "showarrow": false,
          "text": "31",
          "x": "Quinta",
          "xref": "x",
          "y": "Semana 1",
          "yref": "y"
         },
         {
          "font": {
           "color": "#000000"
          },
          "showarrow": false,
          "text": "1",
          "x": "Sexta",
          "xref": "x",
          "y": "Semana 1",
          "yref": "y"
         },
         {
          "font": {
           "color": "#000000"
          },
          "showarrow": false,
          "text": "2",
          "x": "Sabado",
          "xref": "x",
          "y": "Semana 1",
          "yref": "y"
         },
         {
          "font": {
           "color": "#FFFFFF"
          },
          "showarrow": false,
          "text": "3",
          "x": "Domingo",
          "xref": "x",
          "y": "Semana 1",
          "yref": "y"
         }
        ],
        "template": {
         "data": {
          "bar": [
           {
            "error_x": {
             "color": "#2a3f5f"
            },
            "error_y": {
             "color": "#2a3f5f"
            },
            "marker": {
             "line": {
              "color": "#E5ECF6",
              "width": 0.5
             }
            },
            "type": "bar"
           }
          ],
          "barpolar": [
           {
            "marker": {
             "line": {
              "color": "#E5ECF6",
              "width": 0.5
             }
            },
            "type": "barpolar"
           }
          ],
          "carpet": [
           {
            "aaxis": {
             "endlinecolor": "#2a3f5f",
             "gridcolor": "white",
             "linecolor": "white",
             "minorgridcolor": "white",
             "startlinecolor": "#2a3f5f"
            },
            "baxis": {
             "endlinecolor": "#2a3f5f",
             "gridcolor": "white",
             "linecolor": "white",
             "minorgridcolor": "white",
             "startlinecolor": "#2a3f5f"
            },
            "type": "carpet"
           }
          ],
          "choropleth": [
           {
            "colorbar": {
             "outlinewidth": 0,
             "ticks": ""
            },
            "type": "choropleth"
           }
          ],
          "contour": [
           {
            "colorbar": {
             "outlinewidth": 0,
             "ticks": ""
            },
            "colorscale": [
             [
              0,
              "#0d0887"
             ],
             [
              0.1111111111111111,
              "#46039f"
             ],
             [
              0.2222222222222222,
              "#7201a8"
             ],
             [
              0.3333333333333333,
              "#9c179e"
             ],
             [
              0.4444444444444444,
              "#bd3786"
             ],
             [
              0.5555555555555556,
              "#d8576b"
             ],
             [
              0.6666666666666666,
              "#ed7953"
             ],
             [
              0.7777777777777778,
              "#fb9f3a"
             ],
             [
              0.8888888888888888,
              "#fdca26"
             ],
             [
              1,
              "#f0f921"
             ]
            ],
            "type": "contour"
           }
          ],
          "contourcarpet": [
           {
            "colorbar": {
             "outlinewidth": 0,
             "ticks": ""
            },
            "type": "contourcarpet"
           }
          ],
          "heatmap": [
           {
            "colorbar": {
             "outlinewidth": 0,
             "ticks": ""
            },
            "colorscale": [
             [
              0,
              "#0d0887"
             ],
             [
              0.1111111111111111,
              "#46039f"
             ],
             [
              0.2222222222222222,
              "#7201a8"
             ],
             [
              0.3333333333333333,
              "#9c179e"
             ],
             [
              0.4444444444444444,
              "#bd3786"
             ],
             [
              0.5555555555555556,
              "#d8576b"
             ],
             [
              0.6666666666666666,
              "#ed7953"
             ],
             [
              0.7777777777777778,
              "#fb9f3a"
             ],
             [
              0.8888888888888888,
              "#fdca26"
             ],
             [
              1,
              "#f0f921"
             ]
            ],
            "type": "heatmap"
           }
          ],
          "heatmapgl": [
           {
            "colorbar": {
             "outlinewidth": 0,
             "ticks": ""
            },
            "colorscale": [
             [
              0,
              "#0d0887"
             ],
             [
              0.1111111111111111,
              "#46039f"
             ],
             [
              0.2222222222222222,
              "#7201a8"
             ],
             [
              0.3333333333333333,
              "#9c179e"
             ],
             [
              0.4444444444444444,
              "#bd3786"
             ],
             [
              0.5555555555555556,
              "#d8576b"
             ],
             [
              0.6666666666666666,
              "#ed7953"
             ],
             [
              0.7777777777777778,
              "#fb9f3a"
             ],
             [
              0.8888888888888888,
              "#fdca26"
             ],
             [
              1,
              "#f0f921"
             ]
            ],
            "type": "heatmapgl"
           }
          ],
          "histogram": [
           {
            "marker": {
             "colorbar": {
              "outlinewidth": 0,
              "ticks": ""
             }
            },
            "type": "histogram"
           }
          ],
          "histogram2d": [
           {
            "colorbar": {
             "outlinewidth": 0,
             "ticks": ""
            },
            "colorscale": [
             [
              0,
              "#0d0887"
             ],
             [
              0.1111111111111111,
              "#46039f"
             ],
             [
              0.2222222222222222,
              "#7201a8"
             ],
             [
              0.3333333333333333,
              "#9c179e"
             ],
             [
              0.4444444444444444,
              "#bd3786"
             ],
             [
              0.5555555555555556,
              "#d8576b"
             ],
             [
              0.6666666666666666,
              "#ed7953"
             ],
             [
              0.7777777777777778,
              "#fb9f3a"
             ],
             [
              0.8888888888888888,
              "#fdca26"
             ],
             [
              1,
              "#f0f921"
             ]
            ],
            "type": "histogram2d"
           }
          ],
          "histogram2dcontour": [
           {
            "colorbar": {
             "outlinewidth": 0,
             "ticks": ""
            },
            "colorscale": [
             [
              0,
              "#0d0887"
             ],
             [
              0.1111111111111111,
              "#46039f"
             ],
             [
              0.2222222222222222,
              "#7201a8"
             ],
             [
              0.3333333333333333,
              "#9c179e"
             ],
             [
              0.4444444444444444,
              "#bd3786"
             ],
             [
              0.5555555555555556,
              "#d8576b"
             ],
             [
              0.6666666666666666,
              "#ed7953"
             ],
             [
              0.7777777777777778,
              "#fb9f3a"
             ],
             [
              0.8888888888888888,
              "#fdca26"
             ],
             [
              1,
              "#f0f921"
             ]
            ],
            "type": "histogram2dcontour"
           }
          ],
          "mesh3d": [
           {
            "colorbar": {
             "outlinewidth": 0,
             "ticks": ""
            },
            "type": "mesh3d"
           }
          ],
          "parcoords": [
           {
            "line": {
             "colorbar": {
              "outlinewidth": 0,
              "ticks": ""
             }
            },
            "type": "parcoords"
           }
          ],
          "pie": [
           {
            "automargin": true,
            "type": "pie"
           }
          ],
          "scatter": [
           {
            "marker": {
             "colorbar": {
              "outlinewidth": 0,
              "ticks": ""
             }
            },
            "type": "scatter"
           }
          ],
          "scatter3d": [
           {
            "line": {
             "colorbar": {
              "outlinewidth": 0,
              "ticks": ""
             }
            },
            "marker": {
             "colorbar": {
              "outlinewidth": 0,
              "ticks": ""
             }
            },
            "type": "scatter3d"
           }
          ],
          "scattercarpet": [
           {
            "marker": {
             "colorbar": {
              "outlinewidth": 0,
              "ticks": ""
             }
            },
            "type": "scattercarpet"
           }
          ],
          "scattergeo": [
           {
            "marker": {
             "colorbar": {
              "outlinewidth": 0,
              "ticks": ""
             }
            },
            "type": "scattergeo"
           }
          ],
          "scattergl": [
           {
            "marker": {
             "colorbar": {
              "outlinewidth": 0,
              "ticks": ""
             }
            },
            "type": "scattergl"
           }
          ],
          "scattermapbox": [
           {
            "marker": {
             "colorbar": {
              "outlinewidth": 0,
              "ticks": ""
             }
            },
            "type": "scattermapbox"
           }
          ],
          "scatterpolar": [
           {
            "marker": {
             "colorbar": {
              "outlinewidth": 0,
              "ticks": ""
             }
            },
            "type": "scatterpolar"
           }
          ],
          "scatterpolargl": [
           {
            "marker": {
             "colorbar": {
              "outlinewidth": 0,
              "ticks": ""
             }
            },
            "type": "scatterpolargl"
           }
          ],
          "scatterternary": [
           {
            "marker": {
             "colorbar": {
              "outlinewidth": 0,
              "ticks": ""
             }
            },
            "type": "scatterternary"
           }
          ],
          "surface": [
           {
            "colorbar": {
             "outlinewidth": 0,
             "ticks": ""
            },
            "colorscale": [
             [
              0,
              "#0d0887"
             ],
             [
              0.1111111111111111,
              "#46039f"
             ],
             [
              0.2222222222222222,
              "#7201a8"
             ],
             [
              0.3333333333333333,
              "#9c179e"
             ],
             [
              0.4444444444444444,
              "#bd3786"
             ],
             [
              0.5555555555555556,
              "#d8576b"
             ],
             [
              0.6666666666666666,
              "#ed7953"
             ],
             [
              0.7777777777777778,
              "#fb9f3a"
             ],
             [
              0.8888888888888888,
              "#fdca26"
             ],
             [
              1,
              "#f0f921"
             ]
            ],
            "type": "surface"
           }
          ],
          "table": [
           {
            "cells": {
             "fill": {
              "color": "#EBF0F8"
             },
             "line": {
              "color": "white"
             }
            },
            "header": {
             "fill": {
              "color": "#C8D4E3"
             },
             "line": {
              "color": "white"
             }
            },
            "type": "table"
           }
          ]
         },
         "layout": {
          "annotationdefaults": {
           "arrowcolor": "#2a3f5f",
           "arrowhead": 0,
           "arrowwidth": 1
          },
          "autotypenumbers": "strict",
          "coloraxis": {
           "colorbar": {
            "outlinewidth": 0,
            "ticks": ""
           }
          },
          "colorscale": {
           "diverging": [
            [
             0,
             "#8e0152"
            ],
            [
             0.1,
             "#c51b7d"
            ],
            [
             0.2,
             "#de77ae"
            ],
            [
             0.3,
             "#f1b6da"
            ],
            [
             0.4,
             "#fde0ef"
            ],
            [
             0.5,
             "#f7f7f7"
            ],
            [
             0.6,
             "#e6f5d0"
            ],
            [
             0.7,
             "#b8e186"
            ],
            [
             0.8,
             "#7fbc41"
            ],
            [
             0.9,
             "#4d9221"
            ],
            [
             1,
             "#276419"
            ]
           ],
           "sequential": [
            [
             0,
             "#0d0887"
            ],
            [
             0.1111111111111111,
             "#46039f"
            ],
            [
             0.2222222222222222,
             "#7201a8"
            ],
            [
             0.3333333333333333,
             "#9c179e"
            ],
            [
             0.4444444444444444,
             "#bd3786"
            ],
            [
             0.5555555555555556,
             "#d8576b"
            ],
            [
             0.6666666666666666,
             "#ed7953"
            ],
            [
             0.7777777777777778,
             "#fb9f3a"
            ],
            [
             0.8888888888888888,
             "#fdca26"
            ],
            [
             1,
             "#f0f921"
            ]
           ],
           "sequentialminus": [
            [
             0,
             "#0d0887"
            ],
            [
             0.1111111111111111,
             "#46039f"
            ],
            [
             0.2222222222222222,
             "#7201a8"
            ],
            [
             0.3333333333333333,
             "#9c179e"
            ],
            [
             0.4444444444444444,
             "#bd3786"
            ],
            [
             0.5555555555555556,
             "#d8576b"
            ],
            [
             0.6666666666666666,
             "#ed7953"
            ],
            [
             0.7777777777777778,
             "#fb9f3a"
            ],
            [
             0.8888888888888888,
             "#fdca26"
            ],
            [
             1,
             "#f0f921"
            ]
           ]
          },
          "colorway": [
           "#636efa",
           "#EF553B",
           "#00cc96",
           "#ab63fa",
           "#FFA15A",
           "#19d3f3",
           "#FF6692",
           "#B6E880",
           "#FF97FF",
           "#FECB52"
          ],
          "font": {
           "color": "#2a3f5f"
          },
          "geo": {
           "bgcolor": "white",
           "lakecolor": "white",
           "landcolor": "#E5ECF6",
           "showlakes": true,
           "showland": true,
           "subunitcolor": "white"
          },
          "hoverlabel": {
           "align": "left"
          },
          "hovermode": "closest",
          "mapbox": {
           "style": "light"
          },
          "paper_bgcolor": "white",
          "plot_bgcolor": "#E5ECF6",
          "polar": {
           "angularaxis": {
            "gridcolor": "white",
            "linecolor": "white",
            "ticks": ""
           },
           "bgcolor": "#E5ECF6",
           "radialaxis": {
            "gridcolor": "white",
            "linecolor": "white",
            "ticks": ""
           }
          },
          "scene": {
           "xaxis": {
            "backgroundcolor": "#E5ECF6",
            "gridcolor": "white",
            "gridwidth": 2,
            "linecolor": "white",
            "showbackground": true,
            "ticks": "",
            "zerolinecolor": "white"
           },
           "yaxis": {
            "backgroundcolor": "#E5ECF6",
            "gridcolor": "white",
            "gridwidth": 2,
            "linecolor": "white",
            "showbackground": true,
            "ticks": "",
            "zerolinecolor": "white"
           },
           "zaxis": {
            "backgroundcolor": "#E5ECF6",
            "gridcolor": "white",
            "gridwidth": 2,
            "linecolor": "white",
            "showbackground": true,
            "ticks": "",
            "zerolinecolor": "white"
           }
          },
          "shapedefaults": {
           "line": {
            "color": "#2a3f5f"
           }
          },
          "ternary": {
           "aaxis": {
            "gridcolor": "white",
            "linecolor": "white",
            "ticks": ""
           },
           "baxis": {
            "gridcolor": "white",
            "linecolor": "white",
            "ticks": ""
           },
           "bgcolor": "#E5ECF6",
           "caxis": {
            "gridcolor": "white",
            "linecolor": "white",
            "ticks": ""
           }
          },
          "title": {
           "x": 0.05
          },
          "xaxis": {
           "automargin": true,
           "gridcolor": "white",
           "linecolor": "white",
           "ticks": "",
           "title": {
            "standoff": 15
           },
           "zerolinecolor": "white",
           "zerolinewidth": 2
          },
          "yaxis": {
           "automargin": true,
           "gridcolor": "white",
           "linecolor": "white",
           "ticks": "",
           "title": {
            "standoff": 15
           },
           "zerolinecolor": "white",
           "zerolinewidth": 2
          }
         }
        },
        "title": {
         "text": "Casos Novos por dia - Afonso Claudio - Janeiro 2021",
         "x": 0.5
        },
        "xaxis": {
         "dtick": 1,
         "gridcolor": "rgb(0, 0, 0)",
         "side": "top",
         "ticks": ""
        },
        "yaxis": {
         "dtick": 1,
         "ticks": "",
         "ticksuffix": "  "
        }
       }
      },
      "text/html": [
       "<div>                            <div id=\"19ddabaa-793c-4b40-b632-94cacb493694\" class=\"plotly-graph-div\" style=\"height:525px; width:100%;\"></div>            <script type=\"text/javascript\">                require([\"plotly\"], function(Plotly) {                    window.PLOTLYENV=window.PLOTLYENV || {};                                    if (document.getElementById(\"19ddabaa-793c-4b40-b632-94cacb493694\")) {                    Plotly.newPlot(                        \"19ddabaa-793c-4b40-b632-94cacb493694\",                        [{\"colorscale\": [[0.0, \"rgb(235, 236, 240)\"], [1e-05, \"rgb(255,255,255)\"], [0.1, \"rgb(255,245,240)\"], [0.2, \"rgb(252,201,180)\"], [0.4, \"rgb(251,136,104)\"], [0.6, \"rgb(242,67,49)\"], [0.8, \"rgb(187,19,25)\"], [1.0, \"rgb(115,2,23)\"]], \"reversescale\": false, \"showscale\": true, \"type\": \"heatmap\", \"x\": [\"Segunda\", \"Ter\\u00e7a\", \"Quarta\", \"Quinta\", \"Sexta\", \"Sabado\", \"Domingo\"], \"y\": [\"Semana 5\", \"Semana 4\", \"Semana 3\", \"Semana 2\", \"Semana 1\"], \"z\": [[24, 23, 19, 19, 19, 0, 1], [10, 11, 18, 11, 19, 7, 21], [14, 18, 15, 11, 7, 8, 13], [10, 14, 13, 12, 15, 8, 9], [0.024, 0.024, 0.024, 0.024, 7, 6, 15]]}],                        {\"annotations\": [{\"font\": {\"color\": \"#FFFFFF\"}, \"showarrow\": false, \"text\": \"25\", \"x\": \"Segunda\", \"xref\": \"x\", \"y\": \"Semana 5\", \"yref\": \"y\"}, {\"font\": {\"color\": \"#FFFFFF\"}, \"showarrow\": false, \"text\": \"26\", \"x\": \"Ter\\u00e7a\", \"xref\": \"x\", \"y\": \"Semana 5\", \"yref\": \"y\"}, {\"font\": {\"color\": \"#FFFFFF\"}, \"showarrow\": false, \"text\": \"27\", \"x\": \"Quarta\", \"xref\": \"x\", \"y\": \"Semana 5\", \"yref\": \"y\"}, {\"font\": {\"color\": \"#FFFFFF\"}, \"showarrow\": false, \"text\": \"28\", \"x\": \"Quinta\", \"xref\": \"x\", \"y\": \"Semana 5\", \"yref\": \"y\"}, {\"font\": {\"color\": \"#FFFFFF\"}, \"showarrow\": false, \"text\": \"29\", \"x\": \"Sexta\", \"xref\": \"x\", \"y\": \"Semana 5\", \"yref\": \"y\"}, {\"font\": {\"color\": \"#000000\"}, \"showarrow\": false, \"text\": \"30\", \"x\": \"Sabado\", \"xref\": \"x\", \"y\": \"Semana 5\", \"yref\": \"y\"}, {\"font\": {\"color\": \"#000000\"}, \"showarrow\": false, \"text\": \"31\", \"x\": \"Domingo\", \"xref\": \"x\", \"y\": \"Semana 5\", \"yref\": \"y\"}, {\"font\": {\"color\": \"#000000\"}, \"showarrow\": false, \"text\": \"18\", \"x\": \"Segunda\", \"xref\": \"x\", \"y\": \"Semana 4\", \"yref\": \"y\"}, {\"font\": {\"color\": \"#000000\"}, \"showarrow\": false, \"text\": \"19\", \"x\": \"Ter\\u00e7a\", \"xref\": \"x\", \"y\": \"Semana 4\", \"yref\": \"y\"}, {\"font\": {\"color\": \"#FFFFFF\"}, \"showarrow\": false, \"text\": \"20\", \"x\": \"Quarta\", \"xref\": \"x\", \"y\": \"Semana 4\", \"yref\": \"y\"}, {\"font\": {\"color\": \"#000000\"}, \"showarrow\": false, \"text\": \"21\", \"x\": \"Quinta\", \"xref\": \"x\", \"y\": \"Semana 4\", \"yref\": \"y\"}, {\"font\": {\"color\": \"#FFFFFF\"}, \"showarrow\": false, \"text\": \"22\", \"x\": \"Sexta\", \"xref\": \"x\", \"y\": \"Semana 4\", \"yref\": \"y\"}, {\"font\": {\"color\": \"#000000\"}, \"showarrow\": false, \"text\": \"23\", \"x\": \"Sabado\", \"xref\": \"x\", \"y\": \"Semana 4\", \"yref\": \"y\"}, {\"font\": {\"color\": \"#FFFFFF\"}, \"showarrow\": false, \"text\": \"24\", \"x\": \"Domingo\", \"xref\": \"x\", \"y\": \"Semana 4\", \"yref\": \"y\"}, {\"font\": {\"color\": \"#FFFFFF\"}, \"showarrow\": false, \"text\": \"11\", \"x\": \"Segunda\", \"xref\": \"x\", \"y\": \"Semana 3\", \"yref\": \"y\"}, {\"font\": {\"color\": \"#FFFFFF\"}, \"showarrow\": false, \"text\": \"12\", \"x\": \"Ter\\u00e7a\", \"xref\": \"x\", \"y\": \"Semana 3\", \"yref\": \"y\"}, {\"font\": {\"color\": \"#FFFFFF\"}, \"showarrow\": false, \"text\": \"13\", \"x\": \"Quarta\", \"xref\": \"x\", \"y\": \"Semana 3\", \"yref\": \"y\"}, {\"font\": {\"color\": \"#000000\"}, \"showarrow\": false, \"text\": \"14\", \"x\": \"Quinta\", \"xref\": \"x\", \"y\": \"Semana 3\", \"yref\": \"y\"}, {\"font\": {\"color\": \"#000000\"}, \"showarrow\": false, \"text\": \"15\", \"x\": \"Sexta\", \"xref\": \"x\", \"y\": \"Semana 3\", \"yref\": \"y\"}, {\"font\": {\"color\": \"#000000\"}, \"showarrow\": false, \"text\": \"16\", \"x\": \"Sabado\", \"xref\": \"x\", \"y\": \"Semana 3\", \"yref\": \"y\"}, {\"font\": {\"color\": \"#FFFFFF\"}, \"showarrow\": false, \"text\": \"17\", \"x\": \"Domingo\", \"xref\": \"x\", \"y\": \"Semana 3\", \"yref\": \"y\"}, {\"font\": {\"color\": \"#000000\"}, \"showarrow\": false, \"text\": \"4\", \"x\": \"Segunda\", \"xref\": \"x\", \"y\": \"Semana 2\", \"yref\": \"y\"}, {\"font\": {\"color\": \"#FFFFFF\"}, \"showarrow\": false, \"text\": \"5\", \"x\": \"Ter\\u00e7a\", \"xref\": \"x\", \"y\": \"Semana 2\", \"yref\": \"y\"}, {\"font\": {\"color\": \"#FFFFFF\"}, \"showarrow\": false, \"text\": \"6\", \"x\": \"Quarta\", \"xref\": \"x\", \"y\": \"Semana 2\", \"yref\": \"y\"}, {\"font\": {\"color\": \"#FFFFFF\"}, \"showarrow\": false, \"text\": \"7\", \"x\": \"Quinta\", \"xref\": \"x\", \"y\": \"Semana 2\", \"yref\": \"y\"}, {\"font\": {\"color\": \"#FFFFFF\"}, \"showarrow\": false, \"text\": \"8\", \"x\": \"Sexta\", \"xref\": \"x\", \"y\": \"Semana 2\", \"yref\": \"y\"}, {\"font\": {\"color\": \"#000000\"}, \"showarrow\": false, \"text\": \"9\", \"x\": \"Sabado\", \"xref\": \"x\", \"y\": \"Semana 2\", \"yref\": \"y\"}, {\"font\": {\"color\": \"#000000\"}, \"showarrow\": false, \"text\": \"10\", \"x\": \"Domingo\", \"xref\": \"x\", \"y\": \"Semana 2\", \"yref\": \"y\"}, {\"font\": {\"color\": \"#000000\"}, \"showarrow\": false, \"text\": \"28\", \"x\": \"Segunda\", \"xref\": \"x\", \"y\": \"Semana 1\", \"yref\": \"y\"}, {\"font\": {\"color\": \"#000000\"}, \"showarrow\": false, \"text\": \"29\", \"x\": \"Ter\\u00e7a\", \"xref\": \"x\", \"y\": \"Semana 1\", \"yref\": \"y\"}, {\"font\": {\"color\": \"#000000\"}, \"showarrow\": false, \"text\": \"30\", \"x\": \"Quarta\", \"xref\": \"x\", \"y\": \"Semana 1\", \"yref\": \"y\"}, {\"font\": {\"color\": \"#000000\"}, \"showarrow\": false, \"text\": \"31\", \"x\": \"Quinta\", \"xref\": \"x\", \"y\": \"Semana 1\", \"yref\": \"y\"}, {\"font\": {\"color\": \"#000000\"}, \"showarrow\": false, \"text\": \"1\", \"x\": \"Sexta\", \"xref\": \"x\", \"y\": \"Semana 1\", \"yref\": \"y\"}, {\"font\": {\"color\": \"#000000\"}, \"showarrow\": false, \"text\": \"2\", \"x\": \"Sabado\", \"xref\": \"x\", \"y\": \"Semana 1\", \"yref\": \"y\"}, {\"font\": {\"color\": \"#FFFFFF\"}, \"showarrow\": false, \"text\": \"3\", \"x\": \"Domingo\", \"xref\": \"x\", \"y\": \"Semana 1\", \"yref\": \"y\"}], \"template\": {\"data\": {\"bar\": [{\"error_x\": {\"color\": \"#2a3f5f\"}, \"error_y\": {\"color\": \"#2a3f5f\"}, \"marker\": {\"line\": {\"color\": \"#E5ECF6\", \"width\": 0.5}}, \"type\": \"bar\"}], \"barpolar\": [{\"marker\": {\"line\": {\"color\": \"#E5ECF6\", \"width\": 0.5}}, \"type\": \"barpolar\"}], \"carpet\": [{\"aaxis\": {\"endlinecolor\": \"#2a3f5f\", \"gridcolor\": \"white\", \"linecolor\": \"white\", \"minorgridcolor\": \"white\", \"startlinecolor\": \"#2a3f5f\"}, \"baxis\": {\"endlinecolor\": \"#2a3f5f\", \"gridcolor\": \"white\", \"linecolor\": \"white\", \"minorgridcolor\": \"white\", \"startlinecolor\": \"#2a3f5f\"}, \"type\": \"carpet\"}], \"choropleth\": [{\"colorbar\": {\"outlinewidth\": 0, \"ticks\": \"\"}, \"type\": \"choropleth\"}], \"contour\": [{\"colorbar\": {\"outlinewidth\": 0, \"ticks\": \"\"}, \"colorscale\": [[0.0, \"#0d0887\"], [0.1111111111111111, \"#46039f\"], [0.2222222222222222, \"#7201a8\"], [0.3333333333333333, \"#9c179e\"], [0.4444444444444444, \"#bd3786\"], [0.5555555555555556, \"#d8576b\"], [0.6666666666666666, \"#ed7953\"], [0.7777777777777778, \"#fb9f3a\"], [0.8888888888888888, \"#fdca26\"], [1.0, \"#f0f921\"]], \"type\": \"contour\"}], \"contourcarpet\": [{\"colorbar\": {\"outlinewidth\": 0, \"ticks\": \"\"}, \"type\": \"contourcarpet\"}], \"heatmap\": [{\"colorbar\": {\"outlinewidth\": 0, \"ticks\": \"\"}, \"colorscale\": [[0.0, \"#0d0887\"], [0.1111111111111111, \"#46039f\"], [0.2222222222222222, \"#7201a8\"], [0.3333333333333333, \"#9c179e\"], [0.4444444444444444, \"#bd3786\"], [0.5555555555555556, \"#d8576b\"], [0.6666666666666666, \"#ed7953\"], [0.7777777777777778, \"#fb9f3a\"], [0.8888888888888888, \"#fdca26\"], [1.0, \"#f0f921\"]], \"type\": \"heatmap\"}], \"heatmapgl\": [{\"colorbar\": {\"outlinewidth\": 0, \"ticks\": \"\"}, \"colorscale\": [[0.0, \"#0d0887\"], [0.1111111111111111, \"#46039f\"], [0.2222222222222222, \"#7201a8\"], [0.3333333333333333, \"#9c179e\"], [0.4444444444444444, \"#bd3786\"], [0.5555555555555556, \"#d8576b\"], [0.6666666666666666, \"#ed7953\"], [0.7777777777777778, \"#fb9f3a\"], [0.8888888888888888, \"#fdca26\"], [1.0, \"#f0f921\"]], \"type\": \"heatmapgl\"}], \"histogram\": [{\"marker\": {\"colorbar\": {\"outlinewidth\": 0, \"ticks\": \"\"}}, \"type\": \"histogram\"}], \"histogram2d\": [{\"colorbar\": {\"outlinewidth\": 0, \"ticks\": \"\"}, \"colorscale\": [[0.0, \"#0d0887\"], [0.1111111111111111, \"#46039f\"], [0.2222222222222222, \"#7201a8\"], [0.3333333333333333, \"#9c179e\"], [0.4444444444444444, \"#bd3786\"], [0.5555555555555556, \"#d8576b\"], [0.6666666666666666, \"#ed7953\"], [0.7777777777777778, \"#fb9f3a\"], [0.8888888888888888, \"#fdca26\"], [1.0, \"#f0f921\"]], \"type\": \"histogram2d\"}], \"histogram2dcontour\": [{\"colorbar\": {\"outlinewidth\": 0, \"ticks\": \"\"}, \"colorscale\": [[0.0, \"#0d0887\"], [0.1111111111111111, \"#46039f\"], [0.2222222222222222, \"#7201a8\"], [0.3333333333333333, \"#9c179e\"], [0.4444444444444444, \"#bd3786\"], [0.5555555555555556, \"#d8576b\"], [0.6666666666666666, \"#ed7953\"], [0.7777777777777778, \"#fb9f3a\"], [0.8888888888888888, \"#fdca26\"], [1.0, \"#f0f921\"]], \"type\": \"histogram2dcontour\"}], \"mesh3d\": [{\"colorbar\": {\"outlinewidth\": 0, \"ticks\": \"\"}, \"type\": \"mesh3d\"}], \"parcoords\": [{\"line\": {\"colorbar\": {\"outlinewidth\": 0, \"ticks\": \"\"}}, \"type\": \"parcoords\"}], \"pie\": [{\"automargin\": true, \"type\": \"pie\"}], \"scatter\": [{\"marker\": {\"colorbar\": {\"outlinewidth\": 0, \"ticks\": \"\"}}, \"type\": \"scatter\"}], \"scatter3d\": [{\"line\": {\"colorbar\": {\"outlinewidth\": 0, \"ticks\": \"\"}}, \"marker\": {\"colorbar\": {\"outlinewidth\": 0, \"ticks\": \"\"}}, \"type\": \"scatter3d\"}], \"scattercarpet\": [{\"marker\": {\"colorbar\": {\"outlinewidth\": 0, \"ticks\": \"\"}}, \"type\": \"scattercarpet\"}], \"scattergeo\": [{\"marker\": {\"colorbar\": {\"outlinewidth\": 0, \"ticks\": \"\"}}, \"type\": \"scattergeo\"}], \"scattergl\": [{\"marker\": {\"colorbar\": {\"outlinewidth\": 0, \"ticks\": \"\"}}, \"type\": \"scattergl\"}], \"scattermapbox\": [{\"marker\": {\"colorbar\": {\"outlinewidth\": 0, \"ticks\": \"\"}}, \"type\": \"scattermapbox\"}], \"scatterpolar\": [{\"marker\": {\"colorbar\": {\"outlinewidth\": 0, \"ticks\": \"\"}}, \"type\": \"scatterpolar\"}], \"scatterpolargl\": [{\"marker\": {\"colorbar\": {\"outlinewidth\": 0, \"ticks\": \"\"}}, \"type\": \"scatterpolargl\"}], \"scatterternary\": [{\"marker\": {\"colorbar\": {\"outlinewidth\": 0, \"ticks\": \"\"}}, \"type\": \"scatterternary\"}], \"surface\": [{\"colorbar\": {\"outlinewidth\": 0, \"ticks\": \"\"}, \"colorscale\": [[0.0, \"#0d0887\"], [0.1111111111111111, \"#46039f\"], [0.2222222222222222, \"#7201a8\"], [0.3333333333333333, \"#9c179e\"], [0.4444444444444444, \"#bd3786\"], [0.5555555555555556, \"#d8576b\"], [0.6666666666666666, \"#ed7953\"], [0.7777777777777778, \"#fb9f3a\"], [0.8888888888888888, \"#fdca26\"], [1.0, \"#f0f921\"]], \"type\": \"surface\"}], \"table\": [{\"cells\": {\"fill\": {\"color\": \"#EBF0F8\"}, \"line\": {\"color\": \"white\"}}, \"header\": {\"fill\": {\"color\": \"#C8D4E3\"}, \"line\": {\"color\": \"white\"}}, \"type\": \"table\"}]}, \"layout\": {\"annotationdefaults\": {\"arrowcolor\": \"#2a3f5f\", \"arrowhead\": 0, \"arrowwidth\": 1}, \"autotypenumbers\": \"strict\", \"coloraxis\": {\"colorbar\": {\"outlinewidth\": 0, \"ticks\": \"\"}}, \"colorscale\": {\"diverging\": [[0, \"#8e0152\"], [0.1, \"#c51b7d\"], [0.2, \"#de77ae\"], [0.3, \"#f1b6da\"], [0.4, \"#fde0ef\"], [0.5, \"#f7f7f7\"], [0.6, \"#e6f5d0\"], [0.7, \"#b8e186\"], [0.8, \"#7fbc41\"], [0.9, \"#4d9221\"], [1, \"#276419\"]], \"sequential\": [[0.0, \"#0d0887\"], [0.1111111111111111, \"#46039f\"], [0.2222222222222222, \"#7201a8\"], [0.3333333333333333, \"#9c179e\"], [0.4444444444444444, \"#bd3786\"], [0.5555555555555556, \"#d8576b\"], [0.6666666666666666, \"#ed7953\"], [0.7777777777777778, \"#fb9f3a\"], [0.8888888888888888, \"#fdca26\"], [1.0, \"#f0f921\"]], \"sequentialminus\": [[0.0, \"#0d0887\"], [0.1111111111111111, \"#46039f\"], [0.2222222222222222, \"#7201a8\"], [0.3333333333333333, \"#9c179e\"], [0.4444444444444444, \"#bd3786\"], [0.5555555555555556, \"#d8576b\"], [0.6666666666666666, \"#ed7953\"], [0.7777777777777778, \"#fb9f3a\"], [0.8888888888888888, \"#fdca26\"], [1.0, \"#f0f921\"]]}, \"colorway\": [\"#636efa\", \"#EF553B\", \"#00cc96\", \"#ab63fa\", \"#FFA15A\", \"#19d3f3\", \"#FF6692\", \"#B6E880\", \"#FF97FF\", \"#FECB52\"], \"font\": {\"color\": \"#2a3f5f\"}, \"geo\": {\"bgcolor\": \"white\", \"lakecolor\": \"white\", \"landcolor\": \"#E5ECF6\", \"showlakes\": true, \"showland\": true, \"subunitcolor\": \"white\"}, \"hoverlabel\": {\"align\": \"left\"}, \"hovermode\": \"closest\", \"mapbox\": {\"style\": \"light\"}, \"paper_bgcolor\": \"white\", \"plot_bgcolor\": \"#E5ECF6\", \"polar\": {\"angularaxis\": {\"gridcolor\": \"white\", \"linecolor\": \"white\", \"ticks\": \"\"}, \"bgcolor\": \"#E5ECF6\", \"radialaxis\": {\"gridcolor\": \"white\", \"linecolor\": \"white\", \"ticks\": \"\"}}, \"scene\": {\"xaxis\": {\"backgroundcolor\": \"#E5ECF6\", \"gridcolor\": \"white\", \"gridwidth\": 2, \"linecolor\": \"white\", \"showbackground\": true, \"ticks\": \"\", \"zerolinecolor\": \"white\"}, \"yaxis\": {\"backgroundcolor\": \"#E5ECF6\", \"gridcolor\": \"white\", \"gridwidth\": 2, \"linecolor\": \"white\", \"showbackground\": true, \"ticks\": \"\", \"zerolinecolor\": \"white\"}, \"zaxis\": {\"backgroundcolor\": \"#E5ECF6\", \"gridcolor\": \"white\", \"gridwidth\": 2, \"linecolor\": \"white\", \"showbackground\": true, \"ticks\": \"\", \"zerolinecolor\": \"white\"}}, \"shapedefaults\": {\"line\": {\"color\": \"#2a3f5f\"}}, \"ternary\": {\"aaxis\": {\"gridcolor\": \"white\", \"linecolor\": \"white\", \"ticks\": \"\"}, \"baxis\": {\"gridcolor\": \"white\", \"linecolor\": \"white\", \"ticks\": \"\"}, \"bgcolor\": \"#E5ECF6\", \"caxis\": {\"gridcolor\": \"white\", \"linecolor\": \"white\", \"ticks\": \"\"}}, \"title\": {\"x\": 0.05}, \"xaxis\": {\"automargin\": true, \"gridcolor\": \"white\", \"linecolor\": \"white\", \"ticks\": \"\", \"title\": {\"standoff\": 15}, \"zerolinecolor\": \"white\", \"zerolinewidth\": 2}, \"yaxis\": {\"automargin\": true, \"gridcolor\": \"white\", \"linecolor\": \"white\", \"ticks\": \"\", \"title\": {\"standoff\": 15}, \"zerolinecolor\": \"white\", \"zerolinewidth\": 2}}}, \"title\": {\"text\": \"Casos Novos por dia - Afonso Claudio - Janeiro 2021\", \"x\": 0.5}, \"xaxis\": {\"dtick\": 1, \"gridcolor\": \"rgb(0, 0, 0)\", \"side\": \"top\", \"ticks\": \"\"}, \"yaxis\": {\"dtick\": 1, \"ticks\": \"\", \"ticksuffix\": \"  \"}},                        {\"responsive\": true}                    ).then(function(){\n",
       "                            \n",
       "var gd = document.getElementById('19ddabaa-793c-4b40-b632-94cacb493694');\n",
       "var x = new MutationObserver(function (mutations, observer) {{\n",
       "        var display = window.getComputedStyle(gd).display;\n",
       "        if (!display || display === 'none') {{\n",
       "            console.log([gd, 'removed!']);\n",
       "            Plotly.purge(gd);\n",
       "            observer.disconnect();\n",
       "        }}\n",
       "}});\n",
       "\n",
       "// Listen for the removal of the full notebook cells\n",
       "var notebookContainer = gd.closest('#notebook-container');\n",
       "if (notebookContainer) {{\n",
       "    x.observe(notebookContainer, {childList: true});\n",
       "}}\n",
       "\n",
       "// Listen for the clearing of the current output cell\n",
       "var outputEl = gd.closest('.output');\n",
       "if (outputEl) {{\n",
       "    x.observe(outputEl, {childList: true});\n",
       "}}\n",
       "\n",
       "                        })                };                });            </script>        </div>"
      ]
     },
     "metadata": {},
     "output_type": "display_data"
    }
   ],
   "source": [
    "# --------- CALENDAR HEATMAP PLOT ---------\n",
    "\n",
    "#plot do heatmap estilo calendario (com a quantidade de casos por dia)\n",
    "\n",
    "import plotly.figure_factory as ff\n",
    "\n",
    "z = final_casos[::-1]\n",
    "\n",
    "x = ['Segunda', 'Terça', 'Quarta', 'Quinta', 'Sexta', 'Sabado', 'Domingo']\n",
    "y = y_label[::-1]\n",
    "\n",
    "z_text = final_dias[::-1]\n",
    "\n",
    "fig1 = ff.create_annotated_heatmap(z,\n",
    "                                    x=x,\n",
    "                                    y=y,\n",
    "                                    annotation_text=z_text,\n",
    "                                    colorscale=[[0.0, 'rgb(235, 236, 240)'], #troquei as cors das linhas 1 e 2\n",
    "                                                [0.00001, 'rgb(255,255,255)'],\n",
    "                                                [0.1, 'rgb(255,245,240)'],\n",
    "                                                [0.2, 'rgb(252,201,180)'],\n",
    "                                                [0.4, 'rgb(251,136,104)'],\n",
    "                                                [0.6, 'rgb(242,67,49)'],\n",
    "                                                [0.8, 'rgb(187,19,25)'],\n",
    "                                                [1.0, 'rgb(115,2,23)']],\n",
    "                                    showscale=True)\n",
    "\n",
    "#titulo plot\n",
    "meses = ['Janeiro', 'Feveireiro', 'Março', 'Abril', 'Maio', 'Junho', 'Julho', 'Agosto', 'Setembro', 'Outubro', 'Novembro', 'Dezembro']\n",
    "mes_plot = meses[mes_analise - 1]\n",
    "if tipo == 'NOVOS CASOS':\n",
    "    fig1.update_layout(title_text= 'Casos Novos por dia - ' +\n",
    "                        cidade.title() + ' - ' +\n",
    "                        mes_plot + ' ' +\n",
    "                        str(ano_analise), title_x=0.5)\n",
    "else:\n",
    "    fig1.update_layout(title_text= 'Casos Acumulados - ' +\n",
    "                        cidade.title() + ' - ' +\n",
    "                        mes_plot + ' ' +\n",
    "                        str(ano_analise), title_x=0.5)\n",
    "\n",
    "fig1.show()\n"
   ]
  },
  {
   "cell_type": "code",
   "execution_count": null,
   "metadata": {},
   "outputs": [],
   "source": []
  }
 ],
 "metadata": {
  "interpreter": {
   "hash": "e9aa689edf4e3253ce592293dcc69d32d3ef370148852f3558b2d441f5963c91"
  },
  "kernelspec": {
   "display_name": "Python 3",
   "language": "python",
   "name": "python3"
  },
  "language_info": {
   "codemirror_mode": {
    "name": "ipython",
    "version": 3
   },
   "file_extension": ".py",
   "mimetype": "text/x-python",
   "name": "python",
   "nbconvert_exporter": "python",
   "pygments_lexer": "ipython3",
   "version": "3.6.8"
  }
 },
 "nbformat": 4,
 "nbformat_minor": 2
}
